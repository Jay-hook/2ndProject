{
 "cells": [
  {
   "cell_type": "code",
   "execution_count": 15,
   "metadata": {},
   "outputs": [],
   "source": [
    "import pandas as pd\n",
    "import numpy as np"
   ]
  },
  {
   "cell_type": "code",
   "execution_count": 11,
   "metadata": {},
   "outputs": [],
   "source": [
    "flow = pd.read_excel(\"./유동.xlsx\")"
   ]
  },
  {
   "cell_type": "code",
   "execution_count": 13,
   "metadata": {},
   "outputs": [
    {
     "data": {
      "text/plain": [
       "유동부채비율      26\n",
       "유동자산구성비율     2\n",
       "유동비율         1\n",
       "회사명          0\n",
       "거래소코드        0\n",
       "회계년도         0\n",
       "dtype: int64"
      ]
     },
     "execution_count": 13,
     "metadata": {},
     "output_type": "execute_result"
    }
   ],
   "source": [
    "flow.isin([0]).sum().sort_values(ascending=False)"
   ]
  },
  {
   "cell_type": "code",
   "execution_count": 17,
   "metadata": {},
   "outputs": [],
   "source": [
    "flow.replace(0, np.nan, inplace=True)"
   ]
  },
  {
   "cell_type": "code",
   "execution_count": 18,
   "metadata": {},
   "outputs": [
    {
     "data": {
      "text/plain": [
       "유동부채비율      315\n",
       "유동자산구성비율    291\n",
       "유동비율        290\n",
       "회사명           0\n",
       "거래소코드         0\n",
       "회계년도          0\n",
       "dtype: int64"
      ]
     },
     "execution_count": 18,
     "metadata": {},
     "output_type": "execute_result"
    }
   ],
   "source": [
    "flow.isna().sum().sort_values(ascending=False)"
   ]
  },
  {
   "cell_type": "code",
   "execution_count": 19,
   "metadata": {},
   "outputs": [
    {
     "data": {
      "text/plain": [
       "8094"
      ]
     },
     "execution_count": 19,
     "metadata": {},
     "output_type": "execute_result"
    }
   ],
   "source": [
    "len(flow)"
   ]
  },
  {
   "cell_type": "code",
   "execution_count": 28,
   "metadata": {},
   "outputs": [],
   "source": [
    "flow_filtered = flow[flow.notnull().any(axis=1)]"
   ]
  },
  {
   "cell_type": "code",
   "execution_count": 31,
   "metadata": {},
   "outputs": [],
   "source": [
    "flow.dropna(inplace=True)"
   ]
  },
  {
   "cell_type": "code",
   "execution_count": 34,
   "metadata": {},
   "outputs": [
    {
     "data": {
      "text/plain": [
       "Index(['회사명', '거래소코드', '회계년도', '유동비율', '유동자산구성비율', '유동부채비율'], dtype='object')"
      ]
     },
     "execution_count": 34,
     "metadata": {},
     "output_type": "execute_result"
    }
   ],
   "source": [
    "flow.columns"
   ]
  },
  {
   "cell_type": "code",
   "execution_count": 39,
   "metadata": {},
   "outputs": [
    {
     "name": "stdout",
     "output_type": "stream",
     "text": [
      "유동비율\n"
     ]
    },
    {
     "data": {
      "text/plain": [
       "2707    74366.25\n",
       "1026    42687.58\n",
       "2708    29866.52\n",
       "62      26230.41\n",
       "2709    22482.71\n",
       "          ...   \n",
       "6607        6.88\n",
       "587         6.87\n",
       "7690        6.03\n",
       "5363        4.14\n",
       "5362        4.08\n",
       "Name: 유동비율, Length: 7778, dtype: float64"
      ]
     },
     "execution_count": 39,
     "metadata": {},
     "output_type": "execute_result"
    }
   ],
   "source": [
    "i = 3\n",
    "print(flow.columns[i])\n",
    "flow[flow.columns[i]].sort_values(ascending=False)"
   ]
  },
  {
   "cell_type": "code",
   "execution_count": 36,
   "metadata": {},
   "outputs": [
    {
     "name": "stdout",
     "output_type": "stream",
     "text": [
      "유동자산구성비율\n"
     ]
    },
    {
     "data": {
      "text/plain": [
       "7654    99.49\n",
       "3824    99.46\n",
       "4839    99.11\n",
       "3929    98.93\n",
       "3823    98.89\n",
       "        ...  \n",
       "4027     3.11\n",
       "7473     2.85\n",
       "6633     2.72\n",
       "6634     1.47\n",
       "6635     0.75\n",
       "Name: 유동자산구성비율, Length: 7778, dtype: float64"
      ]
     },
     "execution_count": 36,
     "metadata": {},
     "output_type": "execute_result"
    }
   ],
   "source": [
    "i = 4\n",
    "print(flow.columns[i])\n",
    "flow[flow.columns[i]].sort_values(ascending=False)"
   ]
  },
  {
   "cell_type": "code",
   "execution_count": 37,
   "metadata": {},
   "outputs": [
    {
     "name": "stdout",
     "output_type": "stream",
     "text": [
      "유동부채비율\n"
     ]
    },
    {
     "data": {
      "text/plain": [
       "2590    17700.11\n",
       "2422     6221.91\n",
       "5361     3031.76\n",
       "2591     3021.05\n",
       "6309     2330.61\n",
       "          ...   \n",
       "6630        0.13\n",
       "1866        0.11\n",
       "2708        0.08\n",
       "2709        0.06\n",
       "2707        0.03\n",
       "Name: 유동부채비율, Length: 7778, dtype: float64"
      ]
     },
     "execution_count": 37,
     "metadata": {},
     "output_type": "execute_result"
    }
   ],
   "source": [
    "i = 5\n",
    "print(flow.columns[i])\n",
    "flow[flow.columns[i]].sort_values(ascending=False)"
   ]
  },
  {
   "cell_type": "code",
   "execution_count": 51,
   "metadata": {},
   "outputs": [],
   "source": [
    "vol =  2 / (-1 / flow[flow.columns[3]] + 1 / flow[flow.columns[5]])"
   ]
  },
  {
   "cell_type": "code",
   "execution_count": 58,
   "metadata": {},
   "outputs": [
    {
     "data": {
      "text/plain": [
       "2490         inf\n",
       "7328    492131.2\n",
       "6325    297752.7\n",
       "3492    127274.0\n",
       "7347    111487.1\n",
       "5032     57227.1\n",
       "1236     55793.9\n",
       "2266     48870.4\n",
       "5635     44329.4\n",
       "1676     44320.9\n",
       "106      37618.7\n",
       "dtype: float64"
      ]
     },
     "execution_count": 58,
     "metadata": {},
     "output_type": "execute_result"
    }
   ],
   "source": [
    "round(vol.sort_values(ascending=False), 1).head(11)"
   ]
  },
  {
   "cell_type": "code",
   "execution_count": 54,
   "metadata": {},
   "outputs": [
    {
     "data": {
      "text/html": [
       "<div>\n",
       "<style scoped>\n",
       "    .dataframe tbody tr th:only-of-type {\n",
       "        vertical-align: middle;\n",
       "    }\n",
       "\n",
       "    .dataframe tbody tr th {\n",
       "        vertical-align: top;\n",
       "    }\n",
       "\n",
       "    .dataframe thead th {\n",
       "        text-align: right;\n",
       "    }\n",
       "</style>\n",
       "<table border=\"1\" class=\"dataframe\">\n",
       "  <thead>\n",
       "    <tr style=\"text-align: right;\">\n",
       "      <th></th>\n",
       "      <th>회사명</th>\n",
       "      <th>거래소코드</th>\n",
       "      <th>회계년도</th>\n",
       "      <th>유동비율</th>\n",
       "      <th>유동자산구성비율</th>\n",
       "      <th>유동부채비율</th>\n",
       "    </tr>\n",
       "  </thead>\n",
       "  <tbody>\n",
       "    <tr>\n",
       "      <th>2490</th>\n",
       "      <td>(주)알에프세미</td>\n",
       "      <td>96610</td>\n",
       "      <td>2021/12</td>\n",
       "      <td>106.12</td>\n",
       "      <td>44.69</td>\n",
       "      <td>106.12</td>\n",
       "    </tr>\n",
       "  </tbody>\n",
       "</table>\n",
       "</div>"
      ],
      "text/plain": [
       "           회사명  거래소코드     회계년도    유동비율  유동자산구성비율  유동부채비율\n",
       "2490  (주)알에프세미  96610  2021/12  106.12     44.69  106.12"
      ]
     },
     "execution_count": 54,
     "metadata": {},
     "output_type": "execute_result"
    }
   ],
   "source": [
    "flow.loc[flow.index == 2490]"
   ]
  }
 ],
 "metadata": {
  "kernelspec": {
   "display_name": "Python 3",
   "language": "python",
   "name": "python3"
  },
  "language_info": {
   "codemirror_mode": {
    "name": "ipython",
    "version": 3
   },
   "file_extension": ".py",
   "mimetype": "text/x-python",
   "name": "python",
   "nbconvert_exporter": "python",
   "pygments_lexer": "ipython3",
   "version": "3.11.3"
  }
 },
 "nbformat": 4,
 "nbformat_minor": 2
}
