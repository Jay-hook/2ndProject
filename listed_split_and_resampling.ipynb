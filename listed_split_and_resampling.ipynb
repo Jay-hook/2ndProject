{
 "cells": [
  {
   "cell_type": "markdown",
   "metadata": {},
   "source": [
    "목적 : listed data split & Resampling\n",
    "==============\n",
    "목표 : 쌍대표본방식으로 Undersampling\n",
    "-----------------\n",
    "각 수명주기별 부실기업 표본수와 정상기업 표본수를 일치하도록 임의로 추출한다."
   ]
  },
  {
   "cell_type": "markdown",
   "metadata": {},
   "source": [
    "import modules"
   ]
  },
  {
   "cell_type": "code",
   "execution_count": 1,
   "metadata": {},
   "outputs": [],
   "source": [
    "import pandas as pd\n",
    "import numpy as np\n",
    "#워닝 메시지\n",
    "import warnings\n",
    "warnings.filterwarnings('ignore')"
   ]
  },
  {
   "cell_type": "markdown",
   "metadata": {},
   "source": [
    "load files"
   ]
  },
  {
   "cell_type": "code",
   "execution_count": 2,
   "metadata": {},
   "outputs": [],
   "source": [
    "listed = pd.read_csv(\"./상장후보피처+시장지표.csv\")"
   ]
  },
  {
   "cell_type": "markdown",
   "metadata": {},
   "source": [
    "# 데이터 확인"
   ]
  },
  {
   "cell_type": "code",
   "execution_count": 3,
   "metadata": {},
   "outputs": [
    {
     "data": {
      "text/plain": [
       "Index(['회사명', '거래소코드', '회계년도', 'CASH FLOW 대 부채비율', 'CASH FLOW 대 차입금비율',\n",
       "       'CASH FLOW 대 총자본비율', 'CASH FLOW 대 매출액비율', '유동비율', '당좌비율', '부채비율',\n",
       "       '유동부채비율', '차입금의존도', '순운전자본비율', '현금비율', '유동자산구성비율', '자기자본구성비율',\n",
       "       '자기자본순이익률', '경영자본순이익률', '매출액순이익률', '총자본사업이익률', '총자본정상영업이익률',\n",
       "       '매출액정상영업이익률', '금융비용부담률', 'CROE', '총자산증가율', '총자본증가율', '유동자산증가율',\n",
       "       '비유동자산증가율', '매출액증가율', '유형자산증가율', '부가가치(백만원)', '총자본투자효율', '설비투자효율',\n",
       "       '부가가치율', '이윤분배율', '자본분배율', '총자산회전율', '매출채권회전률', '당좌자산회전률', '유형자산회전율',\n",
       "       '경영자본회전률', '총자본회전률', '비유동자산회전률', '유동자산회전률', '영업년수', '상장년수', 'PER',\n",
       "       'PBR', 'PCR', 'PSR', '부실판단', '도입기', '성숙기', '성장기', '쇠퇴기'],\n",
       "      dtype='object')"
      ]
     },
     "execution_count": 3,
     "metadata": {},
     "output_type": "execute_result"
    }
   ],
   "source": [
    "listed.columns"
   ]
  },
  {
   "cell_type": "code",
   "execution_count": 4,
   "metadata": {},
   "outputs": [
    {
     "data": {
      "text/plain": [
       "부실판단\n",
       "1.0    368\n",
       "0.0    363\n",
       "Name: count, dtype: int64"
      ]
     },
     "execution_count": 4,
     "metadata": {},
     "output_type": "execute_result"
    }
   ],
   "source": [
    "listed['부실판단'].value_counts()"
   ]
  },
  {
   "cell_type": "code",
   "execution_count": 5,
   "metadata": {},
   "outputs": [
    {
     "data": {
      "text/plain": [
       "도입기  부실판단\n",
       "0    0.0     314\n",
       "     1.0     210\n",
       "1    1.0     158\n",
       "     0.0      49\n",
       "Name: count, dtype: int64"
      ]
     },
     "execution_count": 5,
     "metadata": {},
     "output_type": "execute_result"
    }
   ],
   "source": [
    "listed[['도입기', '부실판단']].value_counts()"
   ]
  },
  {
   "cell_type": "code",
   "execution_count": 6,
   "metadata": {},
   "outputs": [
    {
     "data": {
      "text/plain": [
       "성장기  부실판단\n",
       "0    1.0     315\n",
       "     0.0     259\n",
       "1    0.0     104\n",
       "     1.0      53\n",
       "Name: count, dtype: int64"
      ]
     },
     "execution_count": 6,
     "metadata": {},
     "output_type": "execute_result"
    }
   ],
   "source": [
    "listed[['성장기', '부실판단']].value_counts()"
   ]
  },
  {
   "cell_type": "code",
   "execution_count": 7,
   "metadata": {},
   "outputs": [
    {
     "data": {
      "text/plain": [
       "성숙기  부실판단\n",
       "0    1.0     319\n",
       "     0.0     190\n",
       "1    0.0     173\n",
       "     1.0      49\n",
       "Name: count, dtype: int64"
      ]
     },
     "execution_count": 7,
     "metadata": {},
     "output_type": "execute_result"
    }
   ],
   "source": [
    "listed[['성숙기', '부실판단']].value_counts()"
   ]
  },
  {
   "cell_type": "code",
   "execution_count": 8,
   "metadata": {},
   "outputs": [
    {
     "data": {
      "text/plain": [
       "쇠퇴기  부실판단\n",
       "0    0.0     326\n",
       "     1.0     260\n",
       "1    1.0     108\n",
       "     0.0      37\n",
       "Name: count, dtype: int64"
      ]
     },
     "execution_count": 8,
     "metadata": {},
     "output_type": "execute_result"
    }
   ],
   "source": [
    "listed[['쇠퇴기', '부실판단']].value_counts()"
   ]
  },
  {
   "cell_type": "markdown",
   "metadata": {},
   "source": [
    "# train_test_split"
   ]
  },
  {
   "cell_type": "code",
   "execution_count": 9,
   "metadata": {},
   "outputs": [
    {
     "data": {
      "text/html": [
       "<div>\n",
       "<style scoped>\n",
       "    .dataframe tbody tr th:only-of-type {\n",
       "        vertical-align: middle;\n",
       "    }\n",
       "\n",
       "    .dataframe tbody tr th {\n",
       "        vertical-align: top;\n",
       "    }\n",
       "\n",
       "    .dataframe thead th {\n",
       "        text-align: right;\n",
       "    }\n",
       "</style>\n",
       "<table border=\"1\" class=\"dataframe\">\n",
       "  <thead>\n",
       "    <tr style=\"text-align: right;\">\n",
       "      <th></th>\n",
       "      <th>회사명</th>\n",
       "      <th>거래소코드</th>\n",
       "      <th>회계년도</th>\n",
       "      <th>CASH FLOW 대 부채비율</th>\n",
       "      <th>CASH FLOW 대 차입금비율</th>\n",
       "      <th>CASH FLOW 대 총자본비율</th>\n",
       "      <th>CASH FLOW 대 매출액비율</th>\n",
       "      <th>유동비율</th>\n",
       "      <th>당좌비율</th>\n",
       "      <th>부채비율</th>\n",
       "      <th>...</th>\n",
       "      <th>상장년수</th>\n",
       "      <th>PER</th>\n",
       "      <th>PBR</th>\n",
       "      <th>PCR</th>\n",
       "      <th>PSR</th>\n",
       "      <th>부실판단</th>\n",
       "      <th>도입기</th>\n",
       "      <th>성숙기</th>\n",
       "      <th>성장기</th>\n",
       "      <th>쇠퇴기</th>\n",
       "    </tr>\n",
       "  </thead>\n",
       "  <tbody>\n",
       "    <tr>\n",
       "      <th>0</th>\n",
       "      <td>(주)CMG제약</td>\n",
       "      <td>58820</td>\n",
       "      <td>2022</td>\n",
       "      <td>19</td>\n",
       "      <td>79</td>\n",
       "      <td>2</td>\n",
       "      <td>6</td>\n",
       "      <td>617</td>\n",
       "      <td>520</td>\n",
       "      <td>15</td>\n",
       "      <td>...</td>\n",
       "      <td>23.0</td>\n",
       "      <td>-716.666667</td>\n",
       "      <td>1.614563e+03</td>\n",
       "      <td>6.047905e+04</td>\n",
       "      <td>3.632941e+03</td>\n",
       "      <td>0.0</td>\n",
       "      <td>0</td>\n",
       "      <td>0</td>\n",
       "      <td>1</td>\n",
       "      <td>0</td>\n",
       "    </tr>\n",
       "    <tr>\n",
       "      <th>1</th>\n",
       "      <td>(주)ES큐브</td>\n",
       "      <td>50120</td>\n",
       "      <td>2020</td>\n",
       "      <td>3</td>\n",
       "      <td>270</td>\n",
       "      <td>3</td>\n",
       "      <td>24</td>\n",
       "      <td>62</td>\n",
       "      <td>60</td>\n",
       "      <td>929</td>\n",
       "      <td>...</td>\n",
       "      <td>22.0</td>\n",
       "      <td>-0.201808</td>\n",
       "      <td>1.089064e+03</td>\n",
       "      <td>-2.022628e+03</td>\n",
       "      <td>9.382091e+02</td>\n",
       "      <td>1.0</td>\n",
       "      <td>0</td>\n",
       "      <td>0</td>\n",
       "      <td>0</td>\n",
       "      <td>1</td>\n",
       "    </tr>\n",
       "    <tr>\n",
       "      <th>2</th>\n",
       "      <td>(주)MH에탄올</td>\n",
       "      <td>23150</td>\n",
       "      <td>2022</td>\n",
       "      <td>6</td>\n",
       "      <td>9</td>\n",
       "      <td>5</td>\n",
       "      <td>19</td>\n",
       "      <td>28</td>\n",
       "      <td>23</td>\n",
       "      <td>369</td>\n",
       "      <td>...</td>\n",
       "      <td>28.0</td>\n",
       "      <td>8.717068</td>\n",
       "      <td>5.885946e+02</td>\n",
       "      <td>3.407741e+03</td>\n",
       "      <td>5.071294e+02</td>\n",
       "      <td>0.0</td>\n",
       "      <td>0</td>\n",
       "      <td>1</td>\n",
       "      <td>0</td>\n",
       "      <td>0</td>\n",
       "    </tr>\n",
       "    <tr>\n",
       "      <th>3</th>\n",
       "      <td>(주)강원에너지</td>\n",
       "      <td>114190</td>\n",
       "      <td>2018</td>\n",
       "      <td>-16</td>\n",
       "      <td>-28</td>\n",
       "      <td>-7</td>\n",
       "      <td>-8</td>\n",
       "      <td>162</td>\n",
       "      <td>161</td>\n",
       "      <td>87</td>\n",
       "      <td>...</td>\n",
       "      <td>15.0</td>\n",
       "      <td>21.076923</td>\n",
       "      <td>8.386890e+02</td>\n",
       "      <td>-4.138892e+03</td>\n",
       "      <td>4.901358e+02</td>\n",
       "      <td>1.0</td>\n",
       "      <td>1</td>\n",
       "      <td>0</td>\n",
       "      <td>0</td>\n",
       "      <td>0</td>\n",
       "    </tr>\n",
       "    <tr>\n",
       "      <th>4</th>\n",
       "      <td>(주)고려시멘트</td>\n",
       "      <td>198440</td>\n",
       "      <td>2022</td>\n",
       "      <td>0</td>\n",
       "      <td>7</td>\n",
       "      <td>0</td>\n",
       "      <td>0</td>\n",
       "      <td>402</td>\n",
       "      <td>335</td>\n",
       "      <td>25</td>\n",
       "      <td>...</td>\n",
       "      <td>10.0</td>\n",
       "      <td>-9.794239</td>\n",
       "      <td>6.961422e+02</td>\n",
       "      <td>-5.781497e+03</td>\n",
       "      <td>1.088800e+03</td>\n",
       "      <td>0.0</td>\n",
       "      <td>0</td>\n",
       "      <td>0</td>\n",
       "      <td>0</td>\n",
       "      <td>1</td>\n",
       "    </tr>\n",
       "    <tr>\n",
       "      <th>...</th>\n",
       "      <td>...</td>\n",
       "      <td>...</td>\n",
       "      <td>...</td>\n",
       "      <td>...</td>\n",
       "      <td>...</td>\n",
       "      <td>...</td>\n",
       "      <td>...</td>\n",
       "      <td>...</td>\n",
       "      <td>...</td>\n",
       "      <td>...</td>\n",
       "      <td>...</td>\n",
       "      <td>...</td>\n",
       "      <td>...</td>\n",
       "      <td>...</td>\n",
       "      <td>...</td>\n",
       "      <td>...</td>\n",
       "      <td>...</td>\n",
       "      <td>...</td>\n",
       "      <td>...</td>\n",
       "      <td>...</td>\n",
       "      <td>...</td>\n",
       "    </tr>\n",
       "    <tr>\n",
       "      <th>726</th>\n",
       "      <td>(주)한중엔시에스</td>\n",
       "      <td>107640</td>\n",
       "      <td>2016</td>\n",
       "      <td>2</td>\n",
       "      <td>2</td>\n",
       "      <td>1</td>\n",
       "      <td>1</td>\n",
       "      <td>83</td>\n",
       "      <td>58</td>\n",
       "      <td>363</td>\n",
       "      <td>...</td>\n",
       "      <td>11.0</td>\n",
       "      <td>-10.445205</td>\n",
       "      <td>1.047754e+06</td>\n",
       "      <td>1.823092e+07</td>\n",
       "      <td>2.688815e+05</td>\n",
       "      <td>1.0</td>\n",
       "      <td>0</td>\n",
       "      <td>0</td>\n",
       "      <td>1</td>\n",
       "      <td>0</td>\n",
       "    </tr>\n",
       "    <tr>\n",
       "      <th>727</th>\n",
       "      <td>도부마스크 (주)</td>\n",
       "      <td>227420</td>\n",
       "      <td>2018</td>\n",
       "      <td>-28</td>\n",
       "      <td>-77</td>\n",
       "      <td>-18</td>\n",
       "      <td>-21</td>\n",
       "      <td>139</td>\n",
       "      <td>139</td>\n",
       "      <td>169</td>\n",
       "      <td>...</td>\n",
       "      <td>8.0</td>\n",
       "      <td>-1.147126</td>\n",
       "      <td>7.961455e+05</td>\n",
       "      <td>-5.380708e+06</td>\n",
       "      <td>3.422919e+05</td>\n",
       "      <td>1.0</td>\n",
       "      <td>0</td>\n",
       "      <td>0</td>\n",
       "      <td>0</td>\n",
       "      <td>1</td>\n",
       "    </tr>\n",
       "    <tr>\n",
       "      <th>728</th>\n",
       "      <td>에이치엔에스하이텍(주)</td>\n",
       "      <td>44990</td>\n",
       "      <td>2021</td>\n",
       "      <td>13</td>\n",
       "      <td>44</td>\n",
       "      <td>6</td>\n",
       "      <td>5</td>\n",
       "      <td>189</td>\n",
       "      <td>150</td>\n",
       "      <td>99</td>\n",
       "      <td>...</td>\n",
       "      <td>9.0</td>\n",
       "      <td>7.601476</td>\n",
       "      <td>2.047153e+06</td>\n",
       "      <td>1.629744e+07</td>\n",
       "      <td>8.857387e+05</td>\n",
       "      <td>1.0</td>\n",
       "      <td>0</td>\n",
       "      <td>0</td>\n",
       "      <td>1</td>\n",
       "      <td>0</td>\n",
       "    </tr>\n",
       "    <tr>\n",
       "      <th>729</th>\n",
       "      <td>에이펙스인텍(주)</td>\n",
       "      <td>207490</td>\n",
       "      <td>2022</td>\n",
       "      <td>3</td>\n",
       "      <td>4</td>\n",
       "      <td>2</td>\n",
       "      <td>2</td>\n",
       "      <td>123</td>\n",
       "      <td>89</td>\n",
       "      <td>219</td>\n",
       "      <td>...</td>\n",
       "      <td>6.0</td>\n",
       "      <td>309.090909</td>\n",
       "      <td>3.549369e+06</td>\n",
       "      <td>5.973646e+06</td>\n",
       "      <td>1.154390e+06</td>\n",
       "      <td>0.0</td>\n",
       "      <td>0</td>\n",
       "      <td>0</td>\n",
       "      <td>1</td>\n",
       "      <td>0</td>\n",
       "    </tr>\n",
       "    <tr>\n",
       "      <th>730</th>\n",
       "      <td>태양기계(주)</td>\n",
       "      <td>116100</td>\n",
       "      <td>2022</td>\n",
       "      <td>27</td>\n",
       "      <td>3</td>\n",
       "      <td>34</td>\n",
       "      <td>90</td>\n",
       "      <td>65</td>\n",
       "      <td>444</td>\n",
       "      <td>43</td>\n",
       "      <td>...</td>\n",
       "      <td>11.0</td>\n",
       "      <td>9.101562</td>\n",
       "      <td>5.246524e+08</td>\n",
       "      <td>2.105905e+06</td>\n",
       "      <td>2.251412e+05</td>\n",
       "      <td>0.0</td>\n",
       "      <td>0</td>\n",
       "      <td>1</td>\n",
       "      <td>0</td>\n",
       "      <td>0</td>\n",
       "    </tr>\n",
       "  </tbody>\n",
       "</table>\n",
       "<p>731 rows × 55 columns</p>\n",
       "</div>"
      ],
      "text/plain": [
       "              회사명   거래소코드  회계년도  CASH FLOW 대 부채비율  CASH FLOW 대 차입금비율  \\\n",
       "0        (주)CMG제약   58820  2022                19                 79   \n",
       "1         (주)ES큐브   50120  2020                 3                270   \n",
       "2        (주)MH에탄올   23150  2022                 6                  9   \n",
       "3        (주)강원에너지  114190  2018               -16                -28   \n",
       "4        (주)고려시멘트  198440  2022                 0                  7   \n",
       "..            ...     ...   ...               ...                ...   \n",
       "726     (주)한중엔시에스  107640  2016                 2                  2   \n",
       "727     도부마스크 (주)  227420  2018               -28                -77   \n",
       "728  에이치엔에스하이텍(주)   44990  2021                13                 44   \n",
       "729     에이펙스인텍(주)  207490  2022                 3                  4   \n",
       "730       태양기계(주)  116100  2022                27                  3   \n",
       "\n",
       "     CASH FLOW 대 총자본비율  CASH FLOW 대 매출액비율  유동비율  당좌비율  부채비율  ...  상장년수  \\\n",
       "0                    2                  6   617   520    15  ...  23.0   \n",
       "1                    3                 24    62    60   929  ...  22.0   \n",
       "2                    5                 19    28    23   369  ...  28.0   \n",
       "3                   -7                 -8   162   161    87  ...  15.0   \n",
       "4                    0                  0   402   335    25  ...  10.0   \n",
       "..                 ...                ...   ...   ...   ...  ...   ...   \n",
       "726                  1                  1    83    58   363  ...  11.0   \n",
       "727                -18                -21   139   139   169  ...   8.0   \n",
       "728                  6                  5   189   150    99  ...   9.0   \n",
       "729                  2                  2   123    89   219  ...   6.0   \n",
       "730                 34                 90    65   444    43  ...  11.0   \n",
       "\n",
       "            PER           PBR           PCR           PSR  부실판단  도입기  성숙기  \\\n",
       "0   -716.666667  1.614563e+03  6.047905e+04  3.632941e+03   0.0    0    0   \n",
       "1     -0.201808  1.089064e+03 -2.022628e+03  9.382091e+02   1.0    0    0   \n",
       "2      8.717068  5.885946e+02  3.407741e+03  5.071294e+02   0.0    0    1   \n",
       "3     21.076923  8.386890e+02 -4.138892e+03  4.901358e+02   1.0    1    0   \n",
       "4     -9.794239  6.961422e+02 -5.781497e+03  1.088800e+03   0.0    0    0   \n",
       "..          ...           ...           ...           ...   ...  ...  ...   \n",
       "726  -10.445205  1.047754e+06  1.823092e+07  2.688815e+05   1.0    0    0   \n",
       "727   -1.147126  7.961455e+05 -5.380708e+06  3.422919e+05   1.0    0    0   \n",
       "728    7.601476  2.047153e+06  1.629744e+07  8.857387e+05   1.0    0    0   \n",
       "729  309.090909  3.549369e+06  5.973646e+06  1.154390e+06   0.0    0    0   \n",
       "730    9.101562  5.246524e+08  2.105905e+06  2.251412e+05   0.0    0    1   \n",
       "\n",
       "     성장기  쇠퇴기  \n",
       "0      1    0  \n",
       "1      0    1  \n",
       "2      0    0  \n",
       "3      0    0  \n",
       "4      0    1  \n",
       "..   ...  ...  \n",
       "726    1    0  \n",
       "727    0    1  \n",
       "728    1    0  \n",
       "729    1    0  \n",
       "730    0    0  \n",
       "\n",
       "[731 rows x 55 columns]"
      ]
     },
     "execution_count": 9,
     "metadata": {},
     "output_type": "execute_result"
    }
   ],
   "source": [
    "listed"
   ]
  },
  {
   "cell_type": "code",
   "execution_count": 10,
   "metadata": {},
   "outputs": [],
   "source": [
    "import pandas as pd\n",
    "from sklearn.model_selection import train_test_split\n",
    "\n",
    "# 예제 데이터프레임 생성\n",
    "# data = {'feature1': range(10), 'feature2': range(10), 'label': range(10)}\n",
    "# df = pd.DataFrame(data)\n",
    "\n",
    "# # 특성과 레이블을 나눔\n",
    "# X = df[['feature1', 'feature2']]\n",
    "# y = df['label']\n",
    "\n",
    "X = listed.drop('부실판단', axis=1)\n",
    "y = listed['부실판단']\n",
    "# 데이터를 학습용과 테스트용으로 나눔\n",
    "X_train, X_test, y_train, y_test = train_test_split(X, y, test_size=(np.exp(1) / 10), random_state=119, stratify=y)"
   ]
  },
  {
   "cell_type": "code",
   "execution_count": 11,
   "metadata": {},
   "outputs": [
    {
     "data": {
      "text/plain": [
       "532"
      ]
     },
     "execution_count": 11,
     "metadata": {},
     "output_type": "execute_result"
    }
   ],
   "source": [
    "len(y_train)"
   ]
  },
  {
   "cell_type": "code",
   "execution_count": 12,
   "metadata": {},
   "outputs": [
    {
     "data": {
      "text/plain": [
       "199"
      ]
     },
     "execution_count": 12,
     "metadata": {},
     "output_type": "execute_result"
    }
   ],
   "source": [
    "len(y_test)"
   ]
  },
  {
   "cell_type": "code",
   "execution_count": 13,
   "metadata": {},
   "outputs": [
    {
     "data": {
      "text/plain": [
       "도입기\n",
       "0    385\n",
       "1    147\n",
       "Name: count, dtype: int64"
      ]
     },
     "execution_count": 13,
     "metadata": {},
     "output_type": "execute_result"
    }
   ],
   "source": [
    "X_train['도입기'].value_counts()"
   ]
  },
  {
   "cell_type": "code",
   "execution_count": 14,
   "metadata": {},
   "outputs": [
    {
     "data": {
      "text/plain": [
       "성장기\n",
       "0    417\n",
       "1    115\n",
       "Name: count, dtype: int64"
      ]
     },
     "execution_count": 14,
     "metadata": {},
     "output_type": "execute_result"
    }
   ],
   "source": [
    "X_train['성장기'].value_counts()"
   ]
  },
  {
   "cell_type": "code",
   "execution_count": 15,
   "metadata": {},
   "outputs": [
    {
     "data": {
      "text/plain": [
       "성숙기\n",
       "0    366\n",
       "1    166\n",
       "Name: count, dtype: int64"
      ]
     },
     "execution_count": 15,
     "metadata": {},
     "output_type": "execute_result"
    }
   ],
   "source": [
    "X_train['성숙기'].value_counts()"
   ]
  },
  {
   "cell_type": "code",
   "execution_count": 16,
   "metadata": {},
   "outputs": [
    {
     "data": {
      "text/plain": [
       "쇠퇴기\n",
       "0    428\n",
       "1    104\n",
       "Name: count, dtype: int64"
      ]
     },
     "execution_count": 16,
     "metadata": {},
     "output_type": "execute_result"
    }
   ],
   "source": [
    "X_train['쇠퇴기'].value_counts()"
   ]
  },
  {
   "cell_type": "code",
   "execution_count": 17,
   "metadata": {},
   "outputs": [],
   "source": [
    "X_train['부실판단'] = y_train"
   ]
  },
  {
   "cell_type": "code",
   "execution_count": 18,
   "metadata": {},
   "outputs": [
    {
     "data": {
      "text/plain": [
       "647    0.0\n",
       "93     0.0\n",
       "166    1.0\n",
       "199    1.0\n",
       "55     1.0\n",
       "      ... \n",
       "476    0.0\n",
       "381    1.0\n",
       "217    1.0\n",
       "391    0.0\n",
       "45     0.0\n",
       "Name: 부실판단, Length: 532, dtype: float64"
      ]
     },
     "execution_count": 18,
     "metadata": {},
     "output_type": "execute_result"
    }
   ],
   "source": [
    "y_train"
   ]
  },
  {
   "cell_type": "code",
   "execution_count": 19,
   "metadata": {},
   "outputs": [
    {
     "data": {
      "text/plain": [
       "647    0.0\n",
       "93     0.0\n",
       "166    1.0\n",
       "199    1.0\n",
       "55     1.0\n",
       "      ... \n",
       "476    0.0\n",
       "381    1.0\n",
       "217    1.0\n",
       "391    0.0\n",
       "45     0.0\n",
       "Name: 부실판단, Length: 532, dtype: float64"
      ]
     },
     "execution_count": 19,
     "metadata": {},
     "output_type": "execute_result"
    }
   ],
   "source": [
    "y_train"
   ]
  },
  {
   "cell_type": "code",
   "execution_count": 20,
   "metadata": {},
   "outputs": [
    {
     "data": {
      "text/html": [
       "<div>\n",
       "<style scoped>\n",
       "    .dataframe tbody tr th:only-of-type {\n",
       "        vertical-align: middle;\n",
       "    }\n",
       "\n",
       "    .dataframe tbody tr th {\n",
       "        vertical-align: top;\n",
       "    }\n",
       "\n",
       "    .dataframe thead th {\n",
       "        text-align: right;\n",
       "    }\n",
       "</style>\n",
       "<table border=\"1\" class=\"dataframe\">\n",
       "  <thead>\n",
       "    <tr style=\"text-align: right;\">\n",
       "      <th></th>\n",
       "      <th>회사명</th>\n",
       "      <th>거래소코드</th>\n",
       "      <th>회계년도</th>\n",
       "      <th>CASH FLOW 대 부채비율</th>\n",
       "      <th>CASH FLOW 대 차입금비율</th>\n",
       "      <th>CASH FLOW 대 총자본비율</th>\n",
       "      <th>CASH FLOW 대 매출액비율</th>\n",
       "      <th>유동비율</th>\n",
       "      <th>당좌비율</th>\n",
       "      <th>부채비율</th>\n",
       "      <th>...</th>\n",
       "      <th>상장년수</th>\n",
       "      <th>PER</th>\n",
       "      <th>PBR</th>\n",
       "      <th>PCR</th>\n",
       "      <th>PSR</th>\n",
       "      <th>도입기</th>\n",
       "      <th>성숙기</th>\n",
       "      <th>성장기</th>\n",
       "      <th>쇠퇴기</th>\n",
       "      <th>부실판단</th>\n",
       "    </tr>\n",
       "  </thead>\n",
       "  <tbody>\n",
       "    <tr>\n",
       "      <th>647</th>\n",
       "      <td>제룡전기(주)</td>\n",
       "      <td>33100</td>\n",
       "      <td>2022</td>\n",
       "      <td>-28</td>\n",
       "      <td>-1970</td>\n",
       "      <td>-5</td>\n",
       "      <td>-6</td>\n",
       "      <td>401</td>\n",
       "      <td>246</td>\n",
       "      <td>24</td>\n",
       "      <td>...</td>\n",
       "      <td>27.0</td>\n",
       "      <td>14.478764</td>\n",
       "      <td>2551.210562</td>\n",
       "      <td>-1.061688e+04</td>\n",
       "      <td>2099.694097</td>\n",
       "      <td>0</td>\n",
       "      <td>0</td>\n",
       "      <td>0</td>\n",
       "      <td>1</td>\n",
       "      <td>0.0</td>\n",
       "    </tr>\n",
       "    <tr>\n",
       "      <th>93</th>\n",
       "      <td>(주)메디아나</td>\n",
       "      <td>41920</td>\n",
       "      <td>2022</td>\n",
       "      <td>82</td>\n",
       "      <td>1973</td>\n",
       "      <td>11</td>\n",
       "      <td>16</td>\n",
       "      <td>655</td>\n",
       "      <td>486</td>\n",
       "      <td>15</td>\n",
       "      <td>...</td>\n",
       "      <td>10.0</td>\n",
       "      <td>8.033033</td>\n",
       "      <td>950.463529</td>\n",
       "      <td>8.825284e+03</td>\n",
       "      <td>1252.437351</td>\n",
       "      <td>0</td>\n",
       "      <td>1</td>\n",
       "      <td>0</td>\n",
       "      <td>0</td>\n",
       "      <td>0.0</td>\n",
       "    </tr>\n",
       "    <tr>\n",
       "      <th>166</th>\n",
       "      <td>(주)손오공</td>\n",
       "      <td>66910</td>\n",
       "      <td>2014</td>\n",
       "      <td>5</td>\n",
       "      <td>7</td>\n",
       "      <td>3</td>\n",
       "      <td>3</td>\n",
       "      <td>143</td>\n",
       "      <td>78</td>\n",
       "      <td>167</td>\n",
       "      <td>...</td>\n",
       "      <td>19.0</td>\n",
       "      <td>-22.137405</td>\n",
       "      <td>3127.570966</td>\n",
       "      <td>-6.211312e+04</td>\n",
       "      <td>1196.847919</td>\n",
       "      <td>0</td>\n",
       "      <td>0</td>\n",
       "      <td>0</td>\n",
       "      <td>1</td>\n",
       "      <td>1.0</td>\n",
       "    </tr>\n",
       "    <tr>\n",
       "      <th>199</th>\n",
       "      <td>(주)아나패스</td>\n",
       "      <td>123860</td>\n",
       "      <td>2020</td>\n",
       "      <td>-11</td>\n",
       "      <td>-36</td>\n",
       "      <td>-9</td>\n",
       "      <td>-8</td>\n",
       "      <td>114</td>\n",
       "      <td>108</td>\n",
       "      <td>397</td>\n",
       "      <td>...</td>\n",
       "      <td>14.0</td>\n",
       "      <td>-5.545267</td>\n",
       "      <td>15672.502903</td>\n",
       "      <td>-1.381579e+06</td>\n",
       "      <td>2900.170563</td>\n",
       "      <td>0</td>\n",
       "      <td>0</td>\n",
       "      <td>0</td>\n",
       "      <td>1</td>\n",
       "      <td>1.0</td>\n",
       "    </tr>\n",
       "    <tr>\n",
       "      <th>55</th>\n",
       "      <td>(주)듀오백</td>\n",
       "      <td>73190</td>\n",
       "      <td>2015</td>\n",
       "      <td>-19</td>\n",
       "      <td>-250</td>\n",
       "      <td>-3</td>\n",
       "      <td>-3</td>\n",
       "      <td>345</td>\n",
       "      <td>286</td>\n",
       "      <td>17</td>\n",
       "      <td>...</td>\n",
       "      <td>20.0</td>\n",
       "      <td>-8.218750</td>\n",
       "      <td>850.758176</td>\n",
       "      <td>-1.683121e+04</td>\n",
       "      <td>903.312484</td>\n",
       "      <td>0</td>\n",
       "      <td>0</td>\n",
       "      <td>0</td>\n",
       "      <td>1</td>\n",
       "      <td>1.0</td>\n",
       "    </tr>\n",
       "    <tr>\n",
       "      <th>...</th>\n",
       "      <td>...</td>\n",
       "      <td>...</td>\n",
       "      <td>...</td>\n",
       "      <td>...</td>\n",
       "      <td>...</td>\n",
       "      <td>...</td>\n",
       "      <td>...</td>\n",
       "      <td>...</td>\n",
       "      <td>...</td>\n",
       "      <td>...</td>\n",
       "      <td>...</td>\n",
       "      <td>...</td>\n",
       "      <td>...</td>\n",
       "      <td>...</td>\n",
       "      <td>...</td>\n",
       "      <td>...</td>\n",
       "      <td>...</td>\n",
       "      <td>...</td>\n",
       "      <td>...</td>\n",
       "      <td>...</td>\n",
       "      <td>...</td>\n",
       "    </tr>\n",
       "    <tr>\n",
       "      <th>476</th>\n",
       "      <td>(주)핌스</td>\n",
       "      <td>347770</td>\n",
       "      <td>2022</td>\n",
       "      <td>14</td>\n",
       "      <td>29</td>\n",
       "      <td>6</td>\n",
       "      <td>6</td>\n",
       "      <td>119</td>\n",
       "      <td>104</td>\n",
       "      <td>66</td>\n",
       "      <td>...</td>\n",
       "      <td>4.0</td>\n",
       "      <td>20.220588</td>\n",
       "      <td>1138.129279</td>\n",
       "      <td>1.267758e+04</td>\n",
       "      <td>769.659343</td>\n",
       "      <td>0</td>\n",
       "      <td>1</td>\n",
       "      <td>0</td>\n",
       "      <td>0</td>\n",
       "      <td>0.0</td>\n",
       "    </tr>\n",
       "    <tr>\n",
       "      <th>381</th>\n",
       "      <td>(주)초록뱀미디어</td>\n",
       "      <td>47820</td>\n",
       "      <td>2014</td>\n",
       "      <td>-41</td>\n",
       "      <td>-74</td>\n",
       "      <td>-8</td>\n",
       "      <td>-8</td>\n",
       "      <td>241</td>\n",
       "      <td>241</td>\n",
       "      <td>24</td>\n",
       "      <td>...</td>\n",
       "      <td>22.0</td>\n",
       "      <td>-31.866667</td>\n",
       "      <td>2831.659621</td>\n",
       "      <td>-1.407871e+04</td>\n",
       "      <td>2393.369589</td>\n",
       "      <td>0</td>\n",
       "      <td>0</td>\n",
       "      <td>0</td>\n",
       "      <td>1</td>\n",
       "      <td>1.0</td>\n",
       "    </tr>\n",
       "    <tr>\n",
       "      <th>217</th>\n",
       "      <td>(주)알톤스포츠</td>\n",
       "      <td>123750</td>\n",
       "      <td>2017</td>\n",
       "      <td>-45</td>\n",
       "      <td>-56</td>\n",
       "      <td>-22</td>\n",
       "      <td>-30</td>\n",
       "      <td>139</td>\n",
       "      <td>76</td>\n",
       "      <td>95</td>\n",
       "      <td>...</td>\n",
       "      <td>14.0</td>\n",
       "      <td>-2.188320</td>\n",
       "      <td>1398.561497</td>\n",
       "      <td>-6.378887e+05</td>\n",
       "      <td>978.426068</td>\n",
       "      <td>0</td>\n",
       "      <td>0</td>\n",
       "      <td>0</td>\n",
       "      <td>1</td>\n",
       "      <td>1.0</td>\n",
       "    </tr>\n",
       "    <tr>\n",
       "      <th>391</th>\n",
       "      <td>(주)케이아이엔엑스</td>\n",
       "      <td>93320</td>\n",
       "      <td>2022</td>\n",
       "      <td>77</td>\n",
       "      <td>151</td>\n",
       "      <td>15</td>\n",
       "      <td>26</td>\n",
       "      <td>441</td>\n",
       "      <td>441</td>\n",
       "      <td>24</td>\n",
       "      <td>...</td>\n",
       "      <td>13.0</td>\n",
       "      <td>14.108527</td>\n",
       "      <td>1669.033900</td>\n",
       "      <td>7.708489e+03</td>\n",
       "      <td>2401.980173</td>\n",
       "      <td>0</td>\n",
       "      <td>1</td>\n",
       "      <td>0</td>\n",
       "      <td>0</td>\n",
       "      <td>0.0</td>\n",
       "    </tr>\n",
       "    <tr>\n",
       "      <th>45</th>\n",
       "      <td>(주)더 미동</td>\n",
       "      <td>161570</td>\n",
       "      <td>2022</td>\n",
       "      <td>-14</td>\n",
       "      <td>-21</td>\n",
       "      <td>-5</td>\n",
       "      <td>-22</td>\n",
       "      <td>48</td>\n",
       "      <td>41</td>\n",
       "      <td>60</td>\n",
       "      <td>...</td>\n",
       "      <td>11.0</td>\n",
       "      <td>-6.169591</td>\n",
       "      <td>853.690664</td>\n",
       "      <td>-7.909248e+03</td>\n",
       "      <td>2180.244283</td>\n",
       "      <td>1</td>\n",
       "      <td>0</td>\n",
       "      <td>0</td>\n",
       "      <td>0</td>\n",
       "      <td>0.0</td>\n",
       "    </tr>\n",
       "  </tbody>\n",
       "</table>\n",
       "<p>532 rows × 55 columns</p>\n",
       "</div>"
      ],
      "text/plain": [
       "            회사명   거래소코드  회계년도  CASH FLOW 대 부채비율  CASH FLOW 대 차입금비율  \\\n",
       "647     제룡전기(주)   33100  2022               -28              -1970   \n",
       "93      (주)메디아나   41920  2022                82               1973   \n",
       "166      (주)손오공   66910  2014                 5                  7   \n",
       "199     (주)아나패스  123860  2020               -11                -36   \n",
       "55       (주)듀오백   73190  2015               -19               -250   \n",
       "..          ...     ...   ...               ...                ...   \n",
       "476       (주)핌스  347770  2022                14                 29   \n",
       "381   (주)초록뱀미디어   47820  2014               -41                -74   \n",
       "217    (주)알톤스포츠  123750  2017               -45                -56   \n",
       "391  (주)케이아이엔엑스   93320  2022                77                151   \n",
       "45      (주)더 미동  161570  2022               -14                -21   \n",
       "\n",
       "     CASH FLOW 대 총자본비율  CASH FLOW 대 매출액비율  유동비율  당좌비율  부채비율  ...  상장년수  \\\n",
       "647                 -5                 -6   401   246    24  ...  27.0   \n",
       "93                  11                 16   655   486    15  ...  10.0   \n",
       "166                  3                  3   143    78   167  ...  19.0   \n",
       "199                 -9                 -8   114   108   397  ...  14.0   \n",
       "55                  -3                 -3   345   286    17  ...  20.0   \n",
       "..                 ...                ...   ...   ...   ...  ...   ...   \n",
       "476                  6                  6   119   104    66  ...   4.0   \n",
       "381                 -8                 -8   241   241    24  ...  22.0   \n",
       "217                -22                -30   139    76    95  ...  14.0   \n",
       "391                 15                 26   441   441    24  ...  13.0   \n",
       "45                  -5                -22    48    41    60  ...  11.0   \n",
       "\n",
       "           PER           PBR           PCR          PSR  도입기  성숙기  성장기  쇠퇴기  \\\n",
       "647  14.478764   2551.210562 -1.061688e+04  2099.694097    0    0    0    1   \n",
       "93    8.033033    950.463529  8.825284e+03  1252.437351    0    1    0    0   \n",
       "166 -22.137405   3127.570966 -6.211312e+04  1196.847919    0    0    0    1   \n",
       "199  -5.545267  15672.502903 -1.381579e+06  2900.170563    0    0    0    1   \n",
       "55   -8.218750    850.758176 -1.683121e+04   903.312484    0    0    0    1   \n",
       "..         ...           ...           ...          ...  ...  ...  ...  ...   \n",
       "476  20.220588   1138.129279  1.267758e+04   769.659343    0    1    0    0   \n",
       "381 -31.866667   2831.659621 -1.407871e+04  2393.369589    0    0    0    1   \n",
       "217  -2.188320   1398.561497 -6.378887e+05   978.426068    0    0    0    1   \n",
       "391  14.108527   1669.033900  7.708489e+03  2401.980173    0    1    0    0   \n",
       "45   -6.169591    853.690664 -7.909248e+03  2180.244283    1    0    0    0   \n",
       "\n",
       "     부실판단  \n",
       "647   0.0  \n",
       "93    0.0  \n",
       "166   1.0  \n",
       "199   1.0  \n",
       "55    1.0  \n",
       "..    ...  \n",
       "476   0.0  \n",
       "381   1.0  \n",
       "217   1.0  \n",
       "391   0.0  \n",
       "45    0.0  \n",
       "\n",
       "[532 rows x 55 columns]"
      ]
     },
     "execution_count": 20,
     "metadata": {},
     "output_type": "execute_result"
    }
   ],
   "source": [
    "X_train"
   ]
  },
  {
   "cell_type": "markdown",
   "metadata": {},
   "source": [
    "# Undersampling 표본추출"
   ]
  },
  {
   "cell_type": "code",
   "execution_count": 21,
   "metadata": {},
   "outputs": [],
   "source": [
    "import pandas as pd\n",
    "from imblearn.under_sampling import RandomUnderSampler\n",
    "# 쌍대표본 방식의 언더샘플링 수행\n",
    "sampler = RandomUnderSampler(sampling_strategy='auto', random_state=42)\n",
    "\n",
    "# feature와 label을 하나의 csv 파일로 만들예정"
   ]
  },
  {
   "cell_type": "markdown",
   "metadata": {},
   "source": [
    "도입기 intro"
   ]
  },
  {
   "cell_type": "code",
   "execution_count": 22,
   "metadata": {},
   "outputs": [],
   "source": [
    "intro_X_train = X_train.loc[X_train['도입기'] == 1]\n",
    "intro_y_train = X_train.loc[X_train['도입기'] == 1]['부실판단']\n",
    "intro_X_resampled_train, intro_y_resampled_train = sampler.fit_resample(intro_X_train, intro_y_train)"
   ]
  },
  {
   "cell_type": "code",
   "execution_count": 23,
   "metadata": {},
   "outputs": [
    {
     "data": {
      "text/plain": [
       "도입기  부실판단\n",
       "1    0.0     36\n",
       "     1.0     36\n",
       "Name: count, dtype: int64"
      ]
     },
     "execution_count": 23,
     "metadata": {},
     "output_type": "execute_result"
    }
   ],
   "source": [
    "intro_X_resampled_train[['도입기', '부실판단']].value_counts()"
   ]
  },
  {
   "cell_type": "markdown",
   "metadata": {},
   "source": [
    "성장기 growth"
   ]
  },
  {
   "cell_type": "code",
   "execution_count": 24,
   "metadata": {},
   "outputs": [],
   "source": [
    "growth_X_train = X_train.loc[X_train['성장기'] == 1]\n",
    "growth_y_train = X_train.loc[X_train['성장기'] == 1]['부실판단']\n",
    "growth_X_resampled_train, growth_y_resampled_train = sampler.fit_resample(growth_X_train, growth_y_train)"
   ]
  },
  {
   "cell_type": "code",
   "execution_count": 25,
   "metadata": {},
   "outputs": [
    {
     "data": {
      "text/plain": [
       "성장기  부실판단\n",
       "1    0.0     43\n",
       "     1.0     43\n",
       "Name: count, dtype: int64"
      ]
     },
     "execution_count": 25,
     "metadata": {},
     "output_type": "execute_result"
    }
   ],
   "source": [
    "growth_X_resampled_train[['성장기', '부실판단']].value_counts()"
   ]
  },
  {
   "cell_type": "markdown",
   "metadata": {},
   "source": [
    "성숙기 maturity"
   ]
  },
  {
   "cell_type": "code",
   "execution_count": 26,
   "metadata": {},
   "outputs": [],
   "source": [
    "maturity_X_train = X_train.loc[X_train['성숙기'] == 1]\n",
    "maturity_y_train = X_train.loc[X_train['성숙기'] == 1]['부실판단']\n",
    "maturity_X_resampled_train, maturity_y_resampled_train = sampler.fit_resample(maturity_X_train, maturity_y_train)"
   ]
  },
  {
   "cell_type": "code",
   "execution_count": 27,
   "metadata": {},
   "outputs": [
    {
     "data": {
      "text/plain": [
       "성숙기  부실판단\n",
       "1    0.0     37\n",
       "     1.0     37\n",
       "Name: count, dtype: int64"
      ]
     },
     "execution_count": 27,
     "metadata": {},
     "output_type": "execute_result"
    }
   ],
   "source": [
    "maturity_X_resampled_train[['성숙기', '부실판단']].value_counts()"
   ]
  },
  {
   "cell_type": "markdown",
   "metadata": {},
   "source": [
    "쇠퇴기 decline"
   ]
  },
  {
   "cell_type": "code",
   "execution_count": 28,
   "metadata": {},
   "outputs": [],
   "source": [
    "decline_X_train = X_train.loc[X_train['쇠퇴기'] == 1]\n",
    "decline_y_train = X_train.loc[X_train['쇠퇴기'] == 1]['부실판단']\n",
    "decline_X_resampled_train, decline_y_resampled_train = sampler.fit_resample(decline_X_train, decline_y_train)"
   ]
  },
  {
   "cell_type": "code",
   "execution_count": 29,
   "metadata": {},
   "outputs": [
    {
     "data": {
      "text/plain": [
       "쇠퇴기  부실판단\n",
       "1    0.0     27\n",
       "     1.0     27\n",
       "Name: count, dtype: int64"
      ]
     },
     "execution_count": 29,
     "metadata": {},
     "output_type": "execute_result"
    }
   ],
   "source": [
    "decline_X_resampled_train[['쇠퇴기', '부실판단']].value_counts()"
   ]
  },
  {
   "cell_type": "markdown",
   "metadata": {},
   "source": [
    "# make csv file"
   ]
  },
  {
   "cell_type": "markdown",
   "metadata": {},
   "source": [
    "concat"
   ]
  },
  {
   "cell_type": "code",
   "execution_count": 30,
   "metadata": {},
   "outputs": [],
   "source": [
    "train_data = pd.concat([intro_X_resampled_train, growth_X_resampled_train, maturity_X_resampled_train, decline_X_resampled_train], axis=0, ignore_index=True)"
   ]
  },
  {
   "cell_type": "code",
   "execution_count": 31,
   "metadata": {},
   "outputs": [
    {
     "data": {
      "text/plain": [
       "쇠퇴기  부실판단\n",
       "0    0.0     116\n",
       "     1.0     116\n",
       "1    0.0      27\n",
       "     1.0      27\n",
       "Name: count, dtype: int64"
      ]
     },
     "execution_count": 31,
     "metadata": {},
     "output_type": "execute_result"
    }
   ],
   "source": [
    "train_data[['쇠퇴기', '부실판단']].value_counts()"
   ]
  },
  {
   "cell_type": "code",
   "execution_count": 32,
   "metadata": {},
   "outputs": [],
   "source": [
    "X_test['부실판단'] = y_test"
   ]
  },
  {
   "cell_type": "markdown",
   "metadata": {},
   "source": [
    "to_csv"
   ]
  },
  {
   "cell_type": "code",
   "execution_count": 33,
   "metadata": {},
   "outputs": [],
   "source": [
    "train_data.to_csv(\"./listed_resampled_train_data.csv\", index=False)"
   ]
  },
  {
   "cell_type": "code",
   "execution_count": 34,
   "metadata": {},
   "outputs": [],
   "source": [
    "X_test.to_csv(\"./listed_test_data.csv\", index=False)"
   ]
  }
 ],
 "metadata": {
  "kernelspec": {
   "display_name": "Python 3",
   "language": "python",
   "name": "python3"
  },
  "language_info": {
   "codemirror_mode": {
    "name": "ipython",
    "version": 3
   },
   "file_extension": ".py",
   "mimetype": "text/x-python",
   "name": "python",
   "nbconvert_exporter": "python",
   "pygments_lexer": "ipython3",
   "version": "3.11.5"
  }
 },
 "nbformat": 4,
 "nbformat_minor": 2
}
