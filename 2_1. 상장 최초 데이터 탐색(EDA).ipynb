{
 "cells": [
  {
   "cell_type": "markdown",
   "metadata": {},
   "source": [
    "목표 : 기초통계량, 상관분석(+유의성 검정),Q-Qplot\n",
    "====================="
   ]
  },
  {
   "cell_type": "markdown",
   "metadata": {},
   "source": [
    "import modules"
   ]
  },
  {
   "cell_type": "code",
   "execution_count": null,
   "metadata": {},
   "outputs": [],
   "source": [
    "import pandas as pd\n",
    "import numpy as np\n",
    "\n",
    "\n",
    "%matplotlib inline\n",
    "import matplotlib.pyplot as plt \n",
    "import seaborn as sns\n",
    "\n",
    "import platform\n",
    "if platform.system() == \"Darwin\":           # MAC인 경우\n",
    "    plt.rc('font', family =\"AppleGothic\")\n",
    "else:\n",
    "    plt.rc('font',family='Malgun Gothic')\n",
    "\n",
    "#멧플로립에서 음수를 표시\n",
    "plt.rc('axes',unicode_minus=False)\n",
    "\n",
    "#워닝 메시지\n",
    "import warnings\n",
    "warnings.filterwarnings('ignore')\n",
    "\n",
    "\n",
    "import scipy.stats as stats\n",
    "from scipy.stats import shapiro, pearsonr\n",
    "from itertools import combinations"
   ]
  },
  {
   "cell_type": "markdown",
   "metadata": {},
   "source": [
    "환경설정"
   ]
  },
  {
   "cell_type": "code",
   "execution_count": null,
   "metadata": {},
   "outputs": [],
   "source": [
    "# pd.set_option('display.max_rows', None)\n",
    "pd.reset_option('display.max_rows')\n",
    "\n",
    "# pd.set_option('display.max_columns', None)\n",
    "pd.reset_option('display.max_columns')\n",
    "\n",
    "pd.set_option('display.max_seq_items', None)\n",
    "\n",
    "pd.set_option('float_format', '{:.3f}'.format) # 소수점 3개까지 출력"
   ]
  },
  {
   "cell_type": "markdown",
   "metadata": {},
   "source": [
    "load file"
   ]
  },
  {
   "cell_type": "code",
   "execution_count": null,
   "metadata": {},
   "outputs": [],
   "source": [
    "listed = pd.read_csv(\"./상장후보피처+시장지표.csv\")\n",
    "# 영업년수와 상장년수가 있더라"
   ]
  },
  {
   "cell_type": "markdown",
   "metadata": {},
   "source": [
    "# describe"
   ]
  },
  {
   "cell_type": "code",
   "execution_count": null,
   "metadata": {},
   "outputs": [],
   "source": [
    "listed"
   ]
  },
  {
   "cell_type": "code",
   "execution_count": null,
   "metadata": {},
   "outputs": [],
   "source": [
    "listed.describe()"
   ]
  },
  {
   "cell_type": "code",
   "execution_count": null,
   "metadata": {},
   "outputs": [],
   "source": [
    "listed.info()"
   ]
  },
  {
   "cell_type": "code",
   "execution_count": null,
   "metadata": {},
   "outputs": [],
   "source": [
    "listed.columns"
   ]
  },
  {
   "cell_type": "code",
   "execution_count": null,
   "metadata": {},
   "outputs": [],
   "source": [
    "listed.isna().sum().sort_values(ascending=False)"
   ]
  },
  {
   "cell_type": "code",
   "execution_count": null,
   "metadata": {},
   "outputs": [],
   "source": [
    "listed.isin([0]).sum().sort_values(ascending=False)"
   ]
  },
  {
   "cell_type": "code",
   "execution_count": null,
   "metadata": {},
   "outputs": [],
   "source": [
    "listed.isin([np.inf]).value_counts()"
   ]
  },
  {
   "cell_type": "markdown",
   "metadata": {},
   "source": [
    "범주 분할 1현금흐름 / 2안정성 / 2수익성 / 3유동성 / 4성장성 / 5생산성 / 6활동성 / 7시장지표 및 기타"
   ]
  },
  {
   "cell_type": "code",
   "execution_count": null,
   "metadata": {},
   "outputs": [],
   "source": [
    "# 상장 all data는 df1\n",
    "# 상장 label들\n",
    "\n",
    "labels = listed[\n",
    "    [\n",
    "        '거래소코드',\n",
    "        '회계년도',\n",
    "        '부실판단',\n",
    "        '도입기',\n",
    "        '성숙기',\n",
    "        '성장기',\n",
    "        '쇠퇴기'\n",
    "    ]\n",
    "]\n",
    "\n",
    "# 상장 피처\n",
    "features = listed.drop(\n",
    "    labels=[\n",
    "        '회사명',\n",
    "        '거래소코드',\n",
    "        '회계년도'        \n",
    "    ],\n",
    "    axis=1,    \n",
    ")\n",
    "\n",
    "# 현금흐름 4개\n",
    "cash_ft1 = listed[\n",
    "    [\n",
    "        'CASH FLOW 대 부채비율',\n",
    "        'CASH FLOW 대 차입금비율',\n",
    "        'CASH FLOW 대 총자본비율',\n",
    "        'CASH FLOW 대 매출액비율',\n",
    "        '부실판단'\n",
    "    ]\n",
    "]\n",
    "\n",
    "# 안정성 10개\n",
    "stability_ft1 = listed[\n",
    "    [\n",
    "        '유동비율',\n",
    "        '당좌비율',\n",
    "        '부채비율',\n",
    "        '유동부채비율',\n",
    "        '차입금의존도',\n",
    "        '순운전자본비율',\n",
    "        '현금비율',\n",
    "        '유동자산구성비율',\n",
    "        '자기자본구성비율',\n",
    "        '부실판단'\n",
    "    ]\n",
    "]\n",
    "\n",
    "# 수익성 10개\n",
    "profitability_ft1 = listed[\n",
    "    [\n",
    "        '자기자본순이익률',\n",
    "        '경영자본순이익률',\n",
    "        '매출액순이익률',\n",
    "        '총자본사업이익률',\n",
    "        '총자본정상영업이익률',\n",
    "        '매출액정상영업이익률',\n",
    "        '금융비용부담률',\n",
    "        'CROE',\n",
    "        '부실판단'\n",
    "    ]\n",
    "]\n",
    "\n",
    "# 성장성 8개\n",
    "growth_ft1 = listed[\n",
    "    [\n",
    "        '총자산증가율',\n",
    "        '총자본증가율',\n",
    "        '유동자산증가율',\n",
    "        '비유동자산증가율',\n",
    "        '매출액증가율',\n",
    "        '유형자산증가율',\n",
    "        '부실판단'\n",
    "    ]\n",
    "]\n",
    "\n",
    "# 생산성 5개\n",
    "productivity_ft1 = listed[\n",
    "    [\n",
    "        '부가가치(백만원)',\n",
    "        '총자본투자효율',\n",
    "        '설비투자효율',\n",
    "        '부가가치율',\n",
    "        '이윤분배율',\n",
    "        '자본분배율',\n",
    "        '부실판단'\n",
    "    ]\n",
    "]\n",
    "\n",
    "# 활동성 10개\n",
    "activity_ft1 = listed[\n",
    "    [\n",
    "        '총자산회전율',\n",
    "        '매출채권회전률',\n",
    "        '당좌자산회전률',\n",
    "        '유형자산회전율',\n",
    "        '경영자본회전률',\n",
    "        '총자본회전률',\n",
    "        '비유동자산회전률',\n",
    "        '유동자산회전률',\n",
    "        '부실판단'\n",
    "    ]\n",
    "]\n",
    "\n",
    "# 시장지표 및 기타\n",
    "etc_ft1 = listed[\n",
    "    [\n",
    "        '영업년수',\n",
    "        '상장년수',\n",
    "        'PER',\n",
    "        'PBR',\n",
    "        'PCR',\n",
    "        'PSR',      \n",
    "        '도입기',\n",
    "        '성숙기',\n",
    "        '성장기',\n",
    "        '쇠퇴기',\n",
    "        '부실판단'\n",
    "    ]\n",
    "]"
   ]
  },
  {
   "cell_type": "code",
   "execution_count": null,
   "metadata": {},
   "outputs": [],
   "source": [
    "listed_ft = [cash_ft1, stability_ft1, profitability_ft1, growth_ft1, productivity_ft1, activity_ft1]"
   ]
  },
  {
   "cell_type": "markdown",
   "metadata": {},
   "source": [
    "# Q-Qplot"
   ]
  },
  {
   "cell_type": "code",
   "execution_count": null,
   "metadata": {},
   "outputs": [],
   "source": [
    "def qq_plot(df):\n",
    "    fig, axes = plt.subplots(13, 5, figsize=(15, 25))\n",
    "    fig.subplots_adjust(wspace=0.5, hspace=0.5)  # 서브플롯 간 간격 조정\n",
    "    \n",
    "    for i in range(13):\n",
    "        for j in range(5):\n",
    "            col_index = i * 5 + j\n",
    "            if col_index < len(df.columns):\n",
    "                # Q-Q plot 그리기\n",
    "                stats.probplot(df[df.columns[col_index]], dist=\"norm\", plot=axes[i, j])\n",
    "                axes[i, j].set_title(f\"{df.columns[col_index]}\")\n",
    "            else:\n",
    "                # 데이터프레임 칼럼 수보다 많은 서브플롯은 숨김\n",
    "                axes[i, j].axis('off')\n",
    "\n",
    "    plt.tight_layout()\n",
    "    plt.show()"
   ]
  },
  {
   "cell_type": "code",
   "execution_count": null,
   "metadata": {},
   "outputs": [],
   "source": [
    "qq_plot(features)"
   ]
  },
  {
   "cell_type": "markdown",
   "metadata": {},
   "source": [
    "# 상관계수와 유의성 검정"
   ]
  },
  {
   "cell_type": "code",
   "execution_count": null,
   "metadata": {},
   "outputs": [],
   "source": [
    "# 상관 계수와 p-value 계산하는 함수\n",
    "def correlation_and_pval(df):\n",
    "    columns = df.columns\n",
    "    corr_dict = {}\n",
    "    pval_dict = {}\n",
    "    \n",
    "    # 모든 특성 쌍에 대한 상관 계수와 p-value 계산\n",
    "    for col1, col2 in combinations(columns, 2):\n",
    "        corr, pval = pearsonr(df[col1], df[col2])\n",
    "        corr_dict[f\"{col1}-{col2}\"] = corr\n",
    "        pval_dict[f\"{col1}-{col2}\"] = pval\n",
    "    \n",
    "    return corr_dict, pval_dict"
   ]
  },
  {
   "cell_type": "markdown",
   "metadata": {},
   "source": [
    "1현금흐름"
   ]
  },
  {
   "cell_type": "code",
   "execution_count": null,
   "metadata": {},
   "outputs": [],
   "source": [
    "plt.figure(figsize=(5,3))\n",
    "mask = np.triu(np.ones_like(cash_ft1.corr(), dtype=bool))\n",
    "sns.heatmap(cash_ft1.corr(),\n",
    "            vmax=1,\n",
    "            vmin=-1,\n",
    "            # center=0,\n",
    "            annot=True,\n",
    "            annot_kws={'size' : 10}, # 숫자 출력 시 숫자 크기 조절\n",
    "            fmt = '.3f', # 숫자의 출력 소수점자리 개수 조절\n",
    "            square = True, # 차트를 정사각형으로 할 것인지\n",
    "            cmap='bwr', \n",
    "            linewidths=.5, \n",
    "            mask = mask) # 좌하방만 표시"
   ]
  },
  {
   "cell_type": "code",
   "execution_count": null,
   "metadata": {},
   "outputs": [],
   "source": [
    "# 안정성 피처 상관계수 및 p-value\n",
    "# 상관 계수와 p-value 확인\n",
    "correlations, p_values = correlation_and_pval(cash_ft1)\n",
    "\n",
    "print(\"상관 계수======================\")\n",
    "# 결과 출력 (상관 계수)\n",
    "for key, value in correlations.items():\n",
    "    print(f\"{key}: {value:.3f}\")\n",
    "\n",
    "print(\"p-value======================\")\n",
    "# 결과 출력 (p-value)\n",
    "for key, value in p_values.items():\n",
    "    print(f\"{key}: {value:.3f}\")"
   ]
  },
  {
   "cell_type": "code",
   "execution_count": null,
   "metadata": {},
   "outputs": [],
   "source": [
    "np.abs(cash_ft1.corr()['부실판단']).sort_values(ascending=False)"
   ]
  },
  {
   "cell_type": "markdown",
   "metadata": {},
   "source": [
    "2안정성"
   ]
  },
  {
   "cell_type": "code",
   "execution_count": null,
   "metadata": {},
   "outputs": [],
   "source": [
    "plt.figure(figsize=(10,8))\n",
    "mask = np.triu(np.ones_like(stability_ft1.corr(), dtype=bool))\n",
    "sns.heatmap(stability_ft1.corr(), \n",
    "            vmax=1,\n",
    "            vmin=-1,\n",
    "            annot=True,\n",
    "            annot_kws={'size' : 10}, # 숫자 출력 시 숫자 크기 조절\n",
    "            fmt = '.3f', # 숫자의 출력 소수점자리 개수 조절\n",
    "            square = True, # 차트를 정사각형으로 할 것인지\n",
    "            cmap='coolwarm', \n",
    "            linewidths=.5, \n",
    "            mask = mask)"
   ]
  },
  {
   "cell_type": "code",
   "execution_count": null,
   "metadata": {},
   "outputs": [],
   "source": [
    "plt.figure(figsize=(10,8))\n",
    "mask = np.triu(np.ones_like(stability_ft1.corr(), dtype=bool))\n",
    "sns.heatmap(stability_ft1.corr(), \n",
    "            vmax=1,\n",
    "            vmin=-1,\n",
    "            annot=True,\n",
    "            annot_kws={'size' : 10}, # 숫자 출력 시 숫자 크기 조절\n",
    "            fmt = '.3f', # 숫자의 출력 소수점자리 개수 조절\n",
    "            square = True, # 차트를 정사각형으로 할 것인지\n",
    "            cmap='seismic', \n",
    "            linewidths=.5, \n",
    "            mask = mask)"
   ]
  },
  {
   "cell_type": "code",
   "execution_count": null,
   "metadata": {},
   "outputs": [],
   "source": [
    "plt.figure(figsize=(10,8))\n",
    "mask = np.triu(np.ones_like(stability_ft1.corr(), dtype=bool))\n",
    "sns.heatmap(stability_ft1.corr(), \n",
    "            vmax=1,\n",
    "            vmin=-1,\n",
    "            annot=True,\n",
    "            annot_kws={'size' : 10}, # 숫자 출력 시 숫자 크기 조절\n",
    "            fmt = '.3f', # 숫자의 출력 소수점자리 개수 조절\n",
    "            square = True, # 차트를 정사각형으로 할 것인지\n",
    "            cmap='bwr', \n",
    "            linewidths=.5, \n",
    "            mask = mask)"
   ]
  },
  {
   "cell_type": "code",
   "execution_count": null,
   "metadata": {},
   "outputs": [],
   "source": [
    "# 안정성 피처 상관계수 및 p-value\n",
    "# 상관 계수와 p-value 확인\n",
    "correlations, p_values = correlation_and_pval(stability_ft1)\n",
    "\n",
    "print(\"상관 계수======================\")\n",
    "# 결과 출력 (상관 계수)\n",
    "for key, value in correlations.items():\n",
    "    print(f\"{key}: {value:.3f}\")\n",
    "\n",
    "print(\"p-value======================\")\n",
    "# 결과 출력 (p-value)\n",
    "for key, value in p_values.items():\n",
    "    print(f\"{key}: {value:.3f}\")"
   ]
  },
  {
   "cell_type": "code",
   "execution_count": null,
   "metadata": {},
   "outputs": [],
   "source": [
    "np.abs(stability_ft1.corr()['부실판단']).sort_values(ascending=False)"
   ]
  },
  {
   "cell_type": "markdown",
   "metadata": {},
   "source": [
    "3수익성"
   ]
  },
  {
   "cell_type": "code",
   "execution_count": null,
   "metadata": {},
   "outputs": [],
   "source": [
    "plt.figure(figsize=(10,8))\n",
    "mask = np.triu(np.ones_like(profitability_ft1.corr(), dtype=bool))\n",
    "sns.heatmap(profitability_ft1.corr(),\n",
    "            vmax=1,\n",
    "            vmin=-1,\n",
    "            annot=True,\n",
    "            annot_kws={'size' : 10}, # 숫자 출력 시 숫자 크기 조절\n",
    "            fmt = '.3f', # 숫자의 출력 소수점자리 개수 조절\n",
    "            square = True, # 차트를 정사각형으로 할 것인지\n",
    "            cmap='coolwarm', \n",
    "            linewidths=.5, \n",
    "            mask = mask)"
   ]
  },
  {
   "cell_type": "code",
   "execution_count": null,
   "metadata": {},
   "outputs": [],
   "source": [
    "# 안정성 피처 상관계수 및 p-value\n",
    "# 상관 계수와 p-value 확인\n",
    "correlations, p_values = correlation_and_pval(profitability_ft1)\n",
    "\n",
    "print(\"상관 계수======================\")\n",
    "# 결과 출력 (상관 계수)\n",
    "for key, value in correlations.items():\n",
    "    print(f\"{key}: {value:.3f}\")\n",
    "\n",
    "print(\"p-value======================\")\n",
    "# 결과 출력 (p-value)\n",
    "for key, value in p_values.items():\n",
    "    print(f\"{key}: {value:.3f}\")"
   ]
  },
  {
   "cell_type": "code",
   "execution_count": null,
   "metadata": {},
   "outputs": [],
   "source": [
    "np.abs(profitability_ft1.corr()['부실판단']).sort_values(ascending=False)"
   ]
  },
  {
   "cell_type": "markdown",
   "metadata": {},
   "source": [
    "4유동성"
   ]
  },
  {
   "cell_type": "code",
   "execution_count": null,
   "metadata": {},
   "outputs": [],
   "source": [
    "plt.figure(figsize=(10,8))\n",
    "mask = np.triu(np.ones_like(growth_ft1.corr(), dtype=bool))\n",
    "sns.heatmap(growth_ft1.corr(),\n",
    "            vmax=1,\n",
    "            vmin=-1,\n",
    "            annot=True,\n",
    "            annot_kws={'size' : 10}, # 숫자 출력 시 숫자 크기 조절\n",
    "            fmt = '.3f', # 숫자의 출력 소수점자리 개수 조절\n",
    "            square = True, # 차트를 정사각형으로 할 것인지\n",
    "            cmap='coolwarm', \n",
    "            linewidths=.5, \n",
    "            mask = mask)"
   ]
  },
  {
   "cell_type": "code",
   "execution_count": null,
   "metadata": {},
   "outputs": [],
   "source": [
    "growth_ft1.loc[growth_ft1[growth_ft1['총자산증가율'] == np.inf].index]"
   ]
  },
  {
   "cell_type": "code",
   "execution_count": null,
   "metadata": {},
   "outputs": [],
   "source": [
    "# 안정성 피처 상관계수 및 p-value\n",
    "# 상관 계수와 p-value 확인\n",
    "correlations, p_values = correlation_and_pval(growth_ft1)\n",
    "\n",
    "print(\"상관 계수======================\")\n",
    "# 결과 출력 (상관 계수)\n",
    "for key, value in correlations.items():\n",
    "    print(f\"{key}: {value:.3f}\")\n",
    "\n",
    "print(\"p-value======================\")\n",
    "# 결과 출력 (p-value)\n",
    "for key, value in p_values.items():\n",
    "    print(f\"{key}: {value:.3f}\")"
   ]
  },
  {
   "cell_type": "code",
   "execution_count": null,
   "metadata": {},
   "outputs": [],
   "source": [
    "np.abs(growth_ft1.corr()['부실판단']).sort_values(ascending=False)"
   ]
  },
  {
   "cell_type": "markdown",
   "metadata": {},
   "source": [
    "5생산성"
   ]
  },
  {
   "cell_type": "code",
   "execution_count": null,
   "metadata": {},
   "outputs": [],
   "source": [
    "plt.figure(figsize=(10,8))\n",
    "mask = np.triu(np.ones_like(productivity_ft1.corr(), dtype=bool))\n",
    "sns.heatmap(productivity_ft1.corr(), \n",
    "            vmax=1,\n",
    "            vmin=-1,\n",
    "            annot=True,\n",
    "            annot_kws={'size' : 10}, # 숫자 출력 시 숫자 크기 조절\n",
    "            fmt = '.3f', # 숫자의 출력 소수점자리 개수 조절\n",
    "            square = True, # 차트를 정사각형으로 할 것인지\n",
    "            cmap='coolwarm', \n",
    "            linewidths=.5, \n",
    "            mask = mask)"
   ]
  },
  {
   "cell_type": "code",
   "execution_count": null,
   "metadata": {},
   "outputs": [],
   "source": [
    "# 안정성 피처 상관계수 및 p-value\n",
    "# 상관 계수와 p-value 확인\n",
    "correlations, p_values = correlation_and_pval(productivity_ft1)\n",
    "\n",
    "print(\"상관 계수======================\")\n",
    "# 결과 출력 (상관 계수)\n",
    "for key, value in correlations.items():\n",
    "    print(f\"{key}: {value:.3f}\")\n",
    "\n",
    "print(\"p-value======================\")\n",
    "# 결과 출력 (p-value)\n",
    "for key, value in p_values.items():\n",
    "    print(f\"{key}: {value:.3f}\")"
   ]
  },
  {
   "cell_type": "code",
   "execution_count": null,
   "metadata": {},
   "outputs": [],
   "source": [
    "np.abs(productivity_ft1.corr()['부실판단']).sort_values(ascending=False)"
   ]
  },
  {
   "cell_type": "markdown",
   "metadata": {},
   "source": [
    "6활동성"
   ]
  },
  {
   "cell_type": "code",
   "execution_count": null,
   "metadata": {},
   "outputs": [],
   "source": [
    "plt.figure(figsize=(10,8))\n",
    "mask = np.triu(np.ones_like(activity_ft1.corr(), dtype=bool))\n",
    "sns.heatmap(activity_ft1.corr(), \n",
    "            vmax=1,\n",
    "            vmin=-1,\n",
    "            annot=True,\n",
    "            annot_kws={'size' : 8}, # 숫자 출력 시 숫자 크기 조절\n",
    "            fmt = '.3f', # 숫자의 출력 소수점자리 개수 조절\n",
    "            square = True, # 차트를 정사각형으로 할 것인지\n",
    "            cmap='coolwarm', \n",
    "            linewidths=.5, \n",
    "            mask = mask)"
   ]
  },
  {
   "cell_type": "code",
   "execution_count": null,
   "metadata": {},
   "outputs": [],
   "source": [
    "# 안정성 피처 상관계수 및 p-value\n",
    "# 상관 계수와 p-value 확인\n",
    "correlations, p_values = correlation_and_pval(activity_ft1)\n",
    "\n",
    "print(\"상관 계수======================\")\n",
    "# 결과 출력 (상관 계수)\n",
    "for key, value in correlations.items():\n",
    "    print(f\"{key}: {value:.3f}\")\n",
    "\n",
    "print(\"p-value======================\")\n",
    "# 결과 출력 (p-value)\n",
    "for key, value in p_values.items():\n",
    "    print(f\"{key}: {value:.3f}\")"
   ]
  },
  {
   "cell_type": "code",
   "execution_count": null,
   "metadata": {},
   "outputs": [],
   "source": [
    "np.abs(activity_ft1.corr()['부실판단']).sort_values(ascending=False)"
   ]
  },
  {
   "cell_type": "markdown",
   "metadata": {},
   "source": [
    "7시장지표 및 기타"
   ]
  },
  {
   "cell_type": "code",
   "execution_count": null,
   "metadata": {},
   "outputs": [],
   "source": [
    "plt.figure(figsize=(10,8))\n",
    "mask = np.triu(np.ones_like(etc_ft1.corr(), dtype=bool))\n",
    "sns.heatmap(etc_ft1.corr(), \n",
    "            vmax=1,\n",
    "            vmin=-1,\n",
    "            annot=True,\n",
    "            annot_kws={'size' : 8}, # 숫자 출력 시 숫자 크기 조절\n",
    "            fmt = '.3f', # 숫자의 출력 소수점자리 개수 조절\n",
    "            square = True, # 차트를 정사각형으로 할 것인지\n",
    "            cmap='coolwarm', \n",
    "            linewidths=.5, \n",
    "            mask = mask\n",
    ")"
   ]
  },
  {
   "cell_type": "code",
   "execution_count": null,
   "metadata": {},
   "outputs": [],
   "source": [
    "# 안정성 피처 상관계수 및 p-value\n",
    "# 상관 계수와 p-value 확인\n",
    "correlations, p_values = correlation_and_pval(etc_ft1)\n",
    "\n",
    "print(\"상관 계수======================\")\n",
    "# 결과 출력 (상관 계수)\n",
    "for key, value in correlations.items():\n",
    "    print(f\"{key}: {value:.3f}\")\n",
    "\n",
    "print(\"p-value======================\")\n",
    "# 결과 출력 (p-value)\n",
    "for key, value in p_values.items():\n",
    "    print(f\"{key}: {value:.3f}\")"
   ]
  },
  {
   "cell_type": "code",
   "execution_count": null,
   "metadata": {},
   "outputs": [],
   "source": [
    "np.abs(etc_ft1.corr()['부실판단']).sort_values(ascending=False)"
   ]
  },
  {
   "cell_type": "markdown",
   "metadata": {},
   "source": [
    "전체"
   ]
  },
  {
   "cell_type": "code",
   "execution_count": null,
   "metadata": {},
   "outputs": [],
   "source": [
    "plt.figure(figsize=(10,8))\n",
    "mask = np.triu(np.ones_like(features.corr(), dtype=bool))\n",
    "sns.heatmap(features.corr(), \n",
    "            vmax=1,\n",
    "            vmin=-1,\n",
    "            annot=True,\n",
    "            annot_kws={'size' : 8}, # 숫자 출력 시 숫자 크기 조절\n",
    "            fmt = '.3f', # 숫자의 출력 소수점자리 개수 조절\n",
    "            square = True, # 차트를 정사각형으로 할 것인지\n",
    "            cmap='coolwarm', \n",
    "            linewidths=.5, \n",
    "            mask = mask\n",
    ")"
   ]
  },
  {
   "cell_type": "code",
   "execution_count": null,
   "metadata": {},
   "outputs": [],
   "source": [
    "# 안정성 피처 상관계수 및 p-value\n",
    "# 상관 계수와 p-value 확인\n",
    "correlations, p_values = correlation_and_pval(features)\n",
    "\n",
    "print(\"상관 계수======================\")\n",
    "# 결과 출력 (상관 계수)\n",
    "for key, value in correlations.items():\n",
    "    print(f\"{key}: {value:.3f}\")\n",
    "\n",
    "print(\"p-value======================\")\n",
    "# 결과 출력 (p-value)\n",
    "for key, value in p_values.items():\n",
    "    print(f\"{key}: {value:.3f}\")"
   ]
  },
  {
   "cell_type": "code",
   "execution_count": null,
   "metadata": {},
   "outputs": [],
   "source": [
    "np.abs(features.corr()['부실판단']).sort_values(ascending=False)"
   ]
  },
  {
   "cell_type": "code",
   "execution_count": null,
   "metadata": {},
   "outputs": [],
   "source": []
  },
  {
   "cell_type": "code",
   "execution_count": null,
   "metadata": {},
   "outputs": [],
   "source": []
  }
 ],
 "metadata": {
  "kernelspec": {
   "display_name": "Python 3",
   "language": "python",
   "name": "python3"
  },
  "language_info": {
   "codemirror_mode": {
    "name": "ipython",
    "version": 3
   },
   "file_extension": ".py",
   "mimetype": "text/x-python",
   "name": "python",
   "nbconvert_exporter": "python",
   "pygments_lexer": "ipython3",
   "version": "3.11.5"
  }
 },
 "nbformat": 4,
 "nbformat_minor": 2
}
