{
 "cells": [
  {
   "cell_type": "markdown",
   "metadata": {},
   "source": [
    "목표 : 현금흐름 파생변수 Cash Flow Derived Variable 만들기\n",
    "========\n",
    "- OMI-CF : 영업현금흐름 - 투자현금흐름\n",
    "- OMS-CF : 영업현금흐름 - 재무현금흐름\n",
    "- ODI-CF : 영업현금흐름 / 투자현금흐름\n",
    "- ODS-CF : 영업현금흐름 / 재무현금흐름"
   ]
  },
  {
   "cell_type": "markdown",
   "metadata": {},
   "source": [
    "load modules"
   ]
  },
  {
   "cell_type": "code",
   "execution_count": 2,
   "metadata": {},
   "outputs": [
    {
     "name": "stdout",
     "output_type": "stream",
     "text": [
      "현재 디렉토리: c:\\Users\\LG\\2ndProject\\1_데이터 수집 및 전처리\n"
     ]
    }
   ],
   "source": [
    "import pandas as pd\n",
    "import numpy as np\n",
    "import platform\n",
    "\n",
    "#워닝 메시지\n",
    "import warnings\n",
    "warnings.filterwarnings('ignore')\n",
    "\n",
    "import os\n",
    "current_directory = os.getcwd()\n",
    "print(\"현재 디렉토리:\", current_directory)"
   ]
  },
  {
   "cell_type": "markdown",
   "metadata": {},
   "source": [
    "환경설정"
   ]
  },
  {
   "cell_type": "code",
   "execution_count": 3,
   "metadata": {},
   "outputs": [],
   "source": [
    "# pd.set_option('display.max_rows', None)\n",
    "pd.reset_option('display.max_rows')\n",
    "\n",
    "# pd.set_option('display.max_columns', None)\n",
    "pd.reset_option('display.max_columns')\n",
    "\n",
    "pd.set_option('display.max_seq_items', None)\n",
    "\n",
    "pd.set_option('float_format', '{:.3f}'.format) # 소수점 3개까지 출력"
   ]
  },
  {
   "cell_type": "markdown",
   "metadata": {},
   "source": [
    "read csv files"
   ]
  },
  {
   "cell_type": "code",
   "execution_count": 4,
   "metadata": {},
   "outputs": [],
   "source": [
    "uncash = pd.read_csv(\"../data/datasets/외감_현금흐름.csv\", index_col=0)"
   ]
  },
  {
   "cell_type": "markdown",
   "metadata": {},
   "source": [
    "# 비상장 현금흐름 uncash"
   ]
  },
  {
   "cell_type": "markdown",
   "metadata": {},
   "source": [
    "## describe"
   ]
  },
  {
   "cell_type": "code",
   "execution_count": 5,
   "metadata": {},
   "outputs": [
    {
     "data": {
      "text/html": [
       "<div>\n",
       "<style scoped>\n",
       "    .dataframe tbody tr th:only-of-type {\n",
       "        vertical-align: middle;\n",
       "    }\n",
       "\n",
       "    .dataframe tbody tr th {\n",
       "        vertical-align: top;\n",
       "    }\n",
       "\n",
       "    .dataframe thead th {\n",
       "        text-align: right;\n",
       "    }\n",
       "</style>\n",
       "<table border=\"1\" class=\"dataframe\">\n",
       "  <thead>\n",
       "    <tr style=\"text-align: right;\">\n",
       "      <th></th>\n",
       "      <th>회사명</th>\n",
       "      <th>거래소코드</th>\n",
       "      <th>회계년도</th>\n",
       "      <th>[U01410000]영업활동으로 인한 현금흐름(*)(천원)</th>\n",
       "      <th>[U01440000]투자활동으로 인한 현금흐름(*)(천원)</th>\n",
       "      <th>[U01450000]재무활동으로 인한 현금흐름(*)(천원)</th>\n",
       "      <th>[U01D100000000]영업활동으로 인한 현금흐름(간접법)(*)(IFRS)(천원)</th>\n",
       "      <th>[U01D200000000]투자활동으로 인한 현금흐름(*)(IFRS)(천원)</th>\n",
       "      <th>[U01D300000000]재무활동으로 인한 현금흐름(*)(IFRS)(천원)</th>\n",
       "      <th>[U01D100000000]영업활동으로 인한 현금흐름(간접법)(*)(IFRS연결)(천원)</th>\n",
       "      <th>[U01D200000000]투자활동으로 인한 현금흐름(*)(IFRS연결)(천원)</th>\n",
       "      <th>[U01D300000000]재무활동으로 인한 현금흐름(*)(IFRS연결)(천원)</th>\n",
       "    </tr>\n",
       "  </thead>\n",
       "  <tbody>\n",
       "    <tr>\n",
       "      <th>0</th>\n",
       "      <td>주식회사삼성산업개발</td>\n",
       "      <td>78238</td>\n",
       "      <td>2015/12</td>\n",
       "      <td>-2430155.000</td>\n",
       "      <td>-41822.000</td>\n",
       "      <td>3070000.000</td>\n",
       "      <td>NaN</td>\n",
       "      <td>NaN</td>\n",
       "      <td>NaN</td>\n",
       "      <td>NaN</td>\n",
       "      <td>NaN</td>\n",
       "      <td>NaN</td>\n",
       "    </tr>\n",
       "    <tr>\n",
       "      <th>1</th>\n",
       "      <td>주식회사삼성산업개발</td>\n",
       "      <td>78238</td>\n",
       "      <td>2016/12</td>\n",
       "      <td>-20880.000</td>\n",
       "      <td>0.000</td>\n",
       "      <td>30000.000</td>\n",
       "      <td>NaN</td>\n",
       "      <td>NaN</td>\n",
       "      <td>NaN</td>\n",
       "      <td>NaN</td>\n",
       "      <td>NaN</td>\n",
       "      <td>NaN</td>\n",
       "    </tr>\n",
       "    <tr>\n",
       "      <th>2</th>\n",
       "      <td>주식회사삼성산업개발</td>\n",
       "      <td>78238</td>\n",
       "      <td>2017/12</td>\n",
       "      <td>4091365.000</td>\n",
       "      <td>14462.000</td>\n",
       "      <td>-1290000.000</td>\n",
       "      <td>NaN</td>\n",
       "      <td>NaN</td>\n",
       "      <td>NaN</td>\n",
       "      <td>NaN</td>\n",
       "      <td>NaN</td>\n",
       "      <td>NaN</td>\n",
       "    </tr>\n",
       "    <tr>\n",
       "      <th>3</th>\n",
       "      <td>주식회사삼성씨에스</td>\n",
       "      <td>95243</td>\n",
       "      <td>2019/12</td>\n",
       "      <td>58675.000</td>\n",
       "      <td>52784.000</td>\n",
       "      <td>-40000.000</td>\n",
       "      <td>NaN</td>\n",
       "      <td>NaN</td>\n",
       "      <td>NaN</td>\n",
       "      <td>NaN</td>\n",
       "      <td>NaN</td>\n",
       "      <td>NaN</td>\n",
       "    </tr>\n",
       "    <tr>\n",
       "      <th>4</th>\n",
       "      <td>주식회사삼성씨에스</td>\n",
       "      <td>95243</td>\n",
       "      <td>2020/12</td>\n",
       "      <td>194322.000</td>\n",
       "      <td>-71662.000</td>\n",
       "      <td>0.000</td>\n",
       "      <td>NaN</td>\n",
       "      <td>NaN</td>\n",
       "      <td>NaN</td>\n",
       "      <td>NaN</td>\n",
       "      <td>NaN</td>\n",
       "      <td>NaN</td>\n",
       "    </tr>\n",
       "    <tr>\n",
       "      <th>...</th>\n",
       "      <td>...</td>\n",
       "      <td>...</td>\n",
       "      <td>...</td>\n",
       "      <td>...</td>\n",
       "      <td>...</td>\n",
       "      <td>...</td>\n",
       "      <td>...</td>\n",
       "      <td>...</td>\n",
       "      <td>...</td>\n",
       "      <td>...</td>\n",
       "      <td>...</td>\n",
       "      <td>...</td>\n",
       "    </tr>\n",
       "    <tr>\n",
       "      <th>248319</th>\n",
       "      <td>주식회사경안파이프</td>\n",
       "      <td>40699</td>\n",
       "      <td>2021/12</td>\n",
       "      <td>1160329.000</td>\n",
       "      <td>1985385.000</td>\n",
       "      <td>-2884372.000</td>\n",
       "      <td>NaN</td>\n",
       "      <td>NaN</td>\n",
       "      <td>NaN</td>\n",
       "      <td>NaN</td>\n",
       "      <td>NaN</td>\n",
       "      <td>NaN</td>\n",
       "    </tr>\n",
       "    <tr>\n",
       "      <th>248320</th>\n",
       "      <td>주식회사경안파이프</td>\n",
       "      <td>40699</td>\n",
       "      <td>2022/12</td>\n",
       "      <td>1067461.000</td>\n",
       "      <td>-652665.000</td>\n",
       "      <td>-160338.000</td>\n",
       "      <td>NaN</td>\n",
       "      <td>NaN</td>\n",
       "      <td>NaN</td>\n",
       "      <td>NaN</td>\n",
       "      <td>NaN</td>\n",
       "      <td>NaN</td>\n",
       "    </tr>\n",
       "    <tr>\n",
       "      <th>248321</th>\n",
       "      <td>주식회사경암</td>\n",
       "      <td>99966</td>\n",
       "      <td>2020/12</td>\n",
       "      <td>-13976699.000</td>\n",
       "      <td>3079994.000</td>\n",
       "      <td>15535665.000</td>\n",
       "      <td>NaN</td>\n",
       "      <td>NaN</td>\n",
       "      <td>NaN</td>\n",
       "      <td>NaN</td>\n",
       "      <td>NaN</td>\n",
       "      <td>NaN</td>\n",
       "    </tr>\n",
       "    <tr>\n",
       "      <th>248322</th>\n",
       "      <td>주식회사경암</td>\n",
       "      <td>99966</td>\n",
       "      <td>2021/12</td>\n",
       "      <td>16042987.000</td>\n",
       "      <td>-94727422.000</td>\n",
       "      <td>72957902.000</td>\n",
       "      <td>NaN</td>\n",
       "      <td>NaN</td>\n",
       "      <td>NaN</td>\n",
       "      <td>NaN</td>\n",
       "      <td>NaN</td>\n",
       "      <td>NaN</td>\n",
       "    </tr>\n",
       "    <tr>\n",
       "      <th>248323</th>\n",
       "      <td>주식회사경암</td>\n",
       "      <td>99966</td>\n",
       "      <td>2022/12</td>\n",
       "      <td>2167307.000</td>\n",
       "      <td>-33372657.000</td>\n",
       "      <td>32357263.000</td>\n",
       "      <td>NaN</td>\n",
       "      <td>NaN</td>\n",
       "      <td>NaN</td>\n",
       "      <td>NaN</td>\n",
       "      <td>NaN</td>\n",
       "      <td>NaN</td>\n",
       "    </tr>\n",
       "  </tbody>\n",
       "</table>\n",
       "<p>248324 rows × 12 columns</p>\n",
       "</div>"
      ],
      "text/plain": [
       "               회사명  거래소코드     회계년도  [U01410000]영업활동으로 인한 현금흐름(*)(천원)  \\\n",
       "0       주식회사삼성산업개발  78238  2015/12                      -2430155.000   \n",
       "1       주식회사삼성산업개발  78238  2016/12                        -20880.000   \n",
       "2       주식회사삼성산업개발  78238  2017/12                       4091365.000   \n",
       "3        주식회사삼성씨에스  95243  2019/12                         58675.000   \n",
       "4        주식회사삼성씨에스  95243  2020/12                        194322.000   \n",
       "...            ...    ...      ...                               ...   \n",
       "248319   주식회사경안파이프  40699  2021/12                       1160329.000   \n",
       "248320   주식회사경안파이프  40699  2022/12                       1067461.000   \n",
       "248321      주식회사경암  99966  2020/12                     -13976699.000   \n",
       "248322      주식회사경암  99966  2021/12                      16042987.000   \n",
       "248323      주식회사경암  99966  2022/12                       2167307.000   \n",
       "\n",
       "        [U01440000]투자활동으로 인한 현금흐름(*)(천원)  [U01450000]재무활동으로 인한 현금흐름(*)(천원)  \\\n",
       "0                             -41822.000                       3070000.000   \n",
       "1                                  0.000                         30000.000   \n",
       "2                              14462.000                      -1290000.000   \n",
       "3                              52784.000                        -40000.000   \n",
       "4                             -71662.000                             0.000   \n",
       "...                                  ...                               ...   \n",
       "248319                       1985385.000                      -2884372.000   \n",
       "248320                       -652665.000                       -160338.000   \n",
       "248321                       3079994.000                      15535665.000   \n",
       "248322                     -94727422.000                      72957902.000   \n",
       "248323                     -33372657.000                      32357263.000   \n",
       "\n",
       "        [U01D100000000]영업활동으로 인한 현금흐름(간접법)(*)(IFRS)(천원)  \\\n",
       "0                                                   NaN   \n",
       "1                                                   NaN   \n",
       "2                                                   NaN   \n",
       "3                                                   NaN   \n",
       "4                                                   NaN   \n",
       "...                                                 ...   \n",
       "248319                                              NaN   \n",
       "248320                                              NaN   \n",
       "248321                                              NaN   \n",
       "248322                                              NaN   \n",
       "248323                                              NaN   \n",
       "\n",
       "        [U01D200000000]투자활동으로 인한 현금흐름(*)(IFRS)(천원)  \\\n",
       "0                                              NaN   \n",
       "1                                              NaN   \n",
       "2                                              NaN   \n",
       "3                                              NaN   \n",
       "4                                              NaN   \n",
       "...                                            ...   \n",
       "248319                                         NaN   \n",
       "248320                                         NaN   \n",
       "248321                                         NaN   \n",
       "248322                                         NaN   \n",
       "248323                                         NaN   \n",
       "\n",
       "        [U01D300000000]재무활동으로 인한 현금흐름(*)(IFRS)(천원)  \\\n",
       "0                                              NaN   \n",
       "1                                              NaN   \n",
       "2                                              NaN   \n",
       "3                                              NaN   \n",
       "4                                              NaN   \n",
       "...                                            ...   \n",
       "248319                                         NaN   \n",
       "248320                                         NaN   \n",
       "248321                                         NaN   \n",
       "248322                                         NaN   \n",
       "248323                                         NaN   \n",
       "\n",
       "        [U01D100000000]영업활동으로 인한 현금흐름(간접법)(*)(IFRS연결)(천원)  \\\n",
       "0                                                     NaN   \n",
       "1                                                     NaN   \n",
       "2                                                     NaN   \n",
       "3                                                     NaN   \n",
       "4                                                     NaN   \n",
       "...                                                   ...   \n",
       "248319                                                NaN   \n",
       "248320                                                NaN   \n",
       "248321                                                NaN   \n",
       "248322                                                NaN   \n",
       "248323                                                NaN   \n",
       "\n",
       "        [U01D200000000]투자활동으로 인한 현금흐름(*)(IFRS연결)(천원)  \\\n",
       "0                                                NaN   \n",
       "1                                                NaN   \n",
       "2                                                NaN   \n",
       "3                                                NaN   \n",
       "4                                                NaN   \n",
       "...                                              ...   \n",
       "248319                                           NaN   \n",
       "248320                                           NaN   \n",
       "248321                                           NaN   \n",
       "248322                                           NaN   \n",
       "248323                                           NaN   \n",
       "\n",
       "        [U01D300000000]재무활동으로 인한 현금흐름(*)(IFRS연결)(천원)  \n",
       "0                                                NaN  \n",
       "1                                                NaN  \n",
       "2                                                NaN  \n",
       "3                                                NaN  \n",
       "4                                                NaN  \n",
       "...                                              ...  \n",
       "248319                                           NaN  \n",
       "248320                                           NaN  \n",
       "248321                                           NaN  \n",
       "248322                                           NaN  \n",
       "248323                                           NaN  \n",
       "\n",
       "[248324 rows x 12 columns]"
      ]
     },
     "execution_count": 5,
     "metadata": {},
     "output_type": "execute_result"
    }
   ],
   "source": [
    "uncash"
   ]
  },
  {
   "cell_type": "code",
   "execution_count": 6,
   "metadata": {},
   "outputs": [
    {
     "data": {
      "text/html": [
       "<div>\n",
       "<style scoped>\n",
       "    .dataframe tbody tr th:only-of-type {\n",
       "        vertical-align: middle;\n",
       "    }\n",
       "\n",
       "    .dataframe tbody tr th {\n",
       "        vertical-align: top;\n",
       "    }\n",
       "\n",
       "    .dataframe thead th {\n",
       "        text-align: right;\n",
       "    }\n",
       "</style>\n",
       "<table border=\"1\" class=\"dataframe\">\n",
       "  <thead>\n",
       "    <tr style=\"text-align: right;\">\n",
       "      <th></th>\n",
       "      <th>거래소코드</th>\n",
       "      <th>[U01410000]영업활동으로 인한 현금흐름(*)(천원)</th>\n",
       "      <th>[U01440000]투자활동으로 인한 현금흐름(*)(천원)</th>\n",
       "      <th>[U01450000]재무활동으로 인한 현금흐름(*)(천원)</th>\n",
       "      <th>[U01D100000000]영업활동으로 인한 현금흐름(간접법)(*)(IFRS)(천원)</th>\n",
       "      <th>[U01D200000000]투자활동으로 인한 현금흐름(*)(IFRS)(천원)</th>\n",
       "      <th>[U01D300000000]재무활동으로 인한 현금흐름(*)(IFRS)(천원)</th>\n",
       "      <th>[U01D100000000]영업활동으로 인한 현금흐름(간접법)(*)(IFRS연결)(천원)</th>\n",
       "      <th>[U01D200000000]투자활동으로 인한 현금흐름(*)(IFRS연결)(천원)</th>\n",
       "      <th>[U01D300000000]재무활동으로 인한 현금흐름(*)(IFRS연결)(천원)</th>\n",
       "    </tr>\n",
       "  </thead>\n",
       "  <tbody>\n",
       "    <tr>\n",
       "      <th>count</th>\n",
       "      <td>248324.000</td>\n",
       "      <td>248275.000</td>\n",
       "      <td>248275.000</td>\n",
       "      <td>248275.000</td>\n",
       "      <td>10365.000</td>\n",
       "      <td>10365.000</td>\n",
       "      <td>10365.000</td>\n",
       "      <td>2804.000</td>\n",
       "      <td>2804.000</td>\n",
       "      <td>2804.000</td>\n",
       "    </tr>\n",
       "    <tr>\n",
       "      <th>mean</th>\n",
       "      <td>64229.552</td>\n",
       "      <td>570347.307</td>\n",
       "      <td>-1824135.884</td>\n",
       "      <td>1433918.584</td>\n",
       "      <td>1382218.976</td>\n",
       "      <td>-3511000.438</td>\n",
       "      <td>2514727.396</td>\n",
       "      <td>2168844.264</td>\n",
       "      <td>-4891739.403</td>\n",
       "      <td>3510304.080</td>\n",
       "    </tr>\n",
       "    <tr>\n",
       "      <th>std</th>\n",
       "      <td>24215.060</td>\n",
       "      <td>9382224.817</td>\n",
       "      <td>9240166.366</td>\n",
       "      <td>12605239.674</td>\n",
       "      <td>11150553.964</td>\n",
       "      <td>17483516.308</td>\n",
       "      <td>21455158.857</td>\n",
       "      <td>11355493.579</td>\n",
       "      <td>18361407.266</td>\n",
       "      <td>20994661.337</td>\n",
       "    </tr>\n",
       "    <tr>\n",
       "      <th>min</th>\n",
       "      <td>10032.000</td>\n",
       "      <td>-1237508056.000</td>\n",
       "      <td>-1017484544.000</td>\n",
       "      <td>-675478520.000</td>\n",
       "      <td>-660573952.000</td>\n",
       "      <td>-1017484544.000</td>\n",
       "      <td>-101067185.000</td>\n",
       "      <td>-84739870.000</td>\n",
       "      <td>-590012984.000</td>\n",
       "      <td>-247607030.000</td>\n",
       "    </tr>\n",
       "    <tr>\n",
       "      <th>25%</th>\n",
       "      <td>48902.000</td>\n",
       "      <td>-448745.500</td>\n",
       "      <td>-2133809.000</td>\n",
       "      <td>-825033.000</td>\n",
       "      <td>-1100950.000</td>\n",
       "      <td>-3784347.000</td>\n",
       "      <td>-1266200.000</td>\n",
       "      <td>-1828674.500</td>\n",
       "      <td>-6209888.500</td>\n",
       "      <td>-1732878.000</td>\n",
       "    </tr>\n",
       "    <tr>\n",
       "      <th>50%</th>\n",
       "      <td>66455.000</td>\n",
       "      <td>506367.000</td>\n",
       "      <td>-430570.000</td>\n",
       "      <td>0.000</td>\n",
       "      <td>965852.000</td>\n",
       "      <td>-902225.000</td>\n",
       "      <td>-6300.000</td>\n",
       "      <td>1445482.500</td>\n",
       "      <td>-1717141.000</td>\n",
       "      <td>20602.500</td>\n",
       "    </tr>\n",
       "    <tr>\n",
       "      <th>75%</th>\n",
       "      <td>82342.000</td>\n",
       "      <td>2051158.500</td>\n",
       "      <td>0.000</td>\n",
       "      <td>1601782.500</td>\n",
       "      <td>3766808.000</td>\n",
       "      <td>0.000</td>\n",
       "      <td>2627811.000</td>\n",
       "      <td>5479257.250</td>\n",
       "      <td>0.000</td>\n",
       "      <td>4866744.500</td>\n",
       "    </tr>\n",
       "    <tr>\n",
       "      <th>max</th>\n",
       "      <td>107198.000</td>\n",
       "      <td>480599214.000</td>\n",
       "      <td>655723000.000</td>\n",
       "      <td>1293000000.000</td>\n",
       "      <td>149077309.000</td>\n",
       "      <td>134337648.000</td>\n",
       "      <td>931326238.000</td>\n",
       "      <td>183111052.000</td>\n",
       "      <td>97775337.000</td>\n",
       "      <td>597817721.000</td>\n",
       "    </tr>\n",
       "  </tbody>\n",
       "</table>\n",
       "</div>"
      ],
      "text/plain": [
       "           거래소코드  [U01410000]영업활동으로 인한 현금흐름(*)(천원)  \\\n",
       "count 248324.000                        248275.000   \n",
       "mean   64229.552                        570347.307   \n",
       "std    24215.060                       9382224.817   \n",
       "min    10032.000                   -1237508056.000   \n",
       "25%    48902.000                       -448745.500   \n",
       "50%    66455.000                        506367.000   \n",
       "75%    82342.000                       2051158.500   \n",
       "max   107198.000                     480599214.000   \n",
       "\n",
       "       [U01440000]투자활동으로 인한 현금흐름(*)(천원)  [U01450000]재무활동으로 인한 현금흐름(*)(천원)  \\\n",
       "count                        248275.000                        248275.000   \n",
       "mean                       -1824135.884                       1433918.584   \n",
       "std                         9240166.366                      12605239.674   \n",
       "min                     -1017484544.000                    -675478520.000   \n",
       "25%                        -2133809.000                       -825033.000   \n",
       "50%                         -430570.000                             0.000   \n",
       "75%                               0.000                       1601782.500   \n",
       "max                       655723000.000                    1293000000.000   \n",
       "\n",
       "       [U01D100000000]영업활동으로 인한 현금흐름(간접법)(*)(IFRS)(천원)  \\\n",
       "count                                        10365.000   \n",
       "mean                                       1382218.976   \n",
       "std                                       11150553.964   \n",
       "min                                     -660573952.000   \n",
       "25%                                       -1100950.000   \n",
       "50%                                         965852.000   \n",
       "75%                                        3766808.000   \n",
       "max                                      149077309.000   \n",
       "\n",
       "       [U01D200000000]투자활동으로 인한 현금흐름(*)(IFRS)(천원)  \\\n",
       "count                                   10365.000   \n",
       "mean                                 -3511000.438   \n",
       "std                                  17483516.308   \n",
       "min                               -1017484544.000   \n",
       "25%                                  -3784347.000   \n",
       "50%                                   -902225.000   \n",
       "75%                                         0.000   \n",
       "max                                 134337648.000   \n",
       "\n",
       "       [U01D300000000]재무활동으로 인한 현금흐름(*)(IFRS)(천원)  \\\n",
       "count                                   10365.000   \n",
       "mean                                  2514727.396   \n",
       "std                                  21455158.857   \n",
       "min                                -101067185.000   \n",
       "25%                                  -1266200.000   \n",
       "50%                                     -6300.000   \n",
       "75%                                   2627811.000   \n",
       "max                                 931326238.000   \n",
       "\n",
       "       [U01D100000000]영업활동으로 인한 현금흐름(간접법)(*)(IFRS연결)(천원)  \\\n",
       "count                                           2804.000   \n",
       "mean                                         2168844.264   \n",
       "std                                         11355493.579   \n",
       "min                                        -84739870.000   \n",
       "25%                                         -1828674.500   \n",
       "50%                                          1445482.500   \n",
       "75%                                          5479257.250   \n",
       "max                                        183111052.000   \n",
       "\n",
       "       [U01D200000000]투자활동으로 인한 현금흐름(*)(IFRS연결)(천원)  \\\n",
       "count                                      2804.000   \n",
       "mean                                   -4891739.403   \n",
       "std                                    18361407.266   \n",
       "min                                  -590012984.000   \n",
       "25%                                    -6209888.500   \n",
       "50%                                    -1717141.000   \n",
       "75%                                           0.000   \n",
       "max                                    97775337.000   \n",
       "\n",
       "       [U01D300000000]재무활동으로 인한 현금흐름(*)(IFRS연결)(천원)  \n",
       "count                                      2804.000  \n",
       "mean                                    3510304.080  \n",
       "std                                    20994661.337  \n",
       "min                                  -247607030.000  \n",
       "25%                                    -1732878.000  \n",
       "50%                                       20602.500  \n",
       "75%                                     4866744.500  \n",
       "max                                   597817721.000  "
      ]
     },
     "execution_count": 6,
     "metadata": {},
     "output_type": "execute_result"
    }
   ],
   "source": [
    "uncash.describe()"
   ]
  },
  {
   "cell_type": "code",
   "execution_count": 7,
   "metadata": {},
   "outputs": [
    {
     "data": {
      "text/plain": [
       "Index(['회사명', '거래소코드', '회계년도', '[U01410000]영업활동으로 인한 현금흐름(*)(천원)',\n",
       "       '[U01440000]투자활동으로 인한 현금흐름(*)(천원)', '[U01450000]재무활동으로 인한 현금흐름(*)(천원)',\n",
       "       '[U01D100000000]영업활동으로 인한 현금흐름(간접법)(*)(IFRS)(천원)',\n",
       "       '[U01D200000000]투자활동으로 인한 현금흐름(*)(IFRS)(천원)',\n",
       "       '[U01D300000000]재무활동으로 인한 현금흐름(*)(IFRS)(천원)',\n",
       "       '[U01D100000000]영업활동으로 인한 현금흐름(간접법)(*)(IFRS연결)(천원)',\n",
       "       '[U01D200000000]투자활동으로 인한 현금흐름(*)(IFRS연결)(천원)',\n",
       "       '[U01D300000000]재무활동으로 인한 현금흐름(*)(IFRS연결)(천원)'],\n",
       "      dtype='object')"
      ]
     },
     "execution_count": 7,
     "metadata": {},
     "output_type": "execute_result"
    }
   ],
   "source": [
    "uncash.columns"
   ]
  },
  {
   "cell_type": "code",
   "execution_count": 8,
   "metadata": {},
   "outputs": [
    {
     "data": {
      "text/plain": [
       "12"
      ]
     },
     "execution_count": 8,
     "metadata": {},
     "output_type": "execute_result"
    }
   ],
   "source": [
    "len(uncash.columns)"
   ]
  },
  {
   "cell_type": "code",
   "execution_count": 9,
   "metadata": {},
   "outputs": [
    {
     "data": {
      "text/plain": [
       "[U01D100000000]영업활동으로 인한 현금흐름(간접법)(*)(IFRS연결)(천원)   98.871\n",
       "[U01D200000000]투자활동으로 인한 현금흐름(*)(IFRS연결)(천원)        98.871\n",
       "[U01D300000000]재무활동으로 인한 현금흐름(*)(IFRS연결)(천원)        98.871\n",
       "[U01D100000000]영업활동으로 인한 현금흐름(간접법)(*)(IFRS)(천원)     95.826\n",
       "[U01D200000000]투자활동으로 인한 현금흐름(*)(IFRS)(천원)          95.826\n",
       "[U01D300000000]재무활동으로 인한 현금흐름(*)(IFRS)(천원)          95.826\n",
       "[U01410000]영업활동으로 인한 현금흐름(*)(천원)                     0.020\n",
       "[U01440000]투자활동으로 인한 현금흐름(*)(천원)                     0.020\n",
       "[U01450000]재무활동으로 인한 현금흐름(*)(천원)                     0.020\n",
       "회사명                                                  0.000\n",
       "거래소코드                                                0.000\n",
       "회계년도                                                 0.000\n",
       "dtype: float64"
      ]
     },
     "execution_count": 9,
     "metadata": {},
     "output_type": "execute_result"
    }
   ],
   "source": [
    "uncash.isnull().sum().sort_values(ascending=False) / len(uncash) * 100"
   ]
  },
  {
   "cell_type": "code",
   "execution_count": 10,
   "metadata": {},
   "outputs": [
    {
     "data": {
      "text/plain": [
       "[U01450000]재무활동으로 인한 현금흐름(*)(천원)                     17621\n",
       "[U01440000]투자활동으로 인한 현금흐름(*)(천원)                     10474\n",
       "[U01410000]영업활동으로 인한 현금흐름(*)(천원)                      3013\n",
       "[U01D300000000]재무활동으로 인한 현금흐름(*)(IFRS)(천원)             640\n",
       "[U01D200000000]투자활동으로 인한 현금흐름(*)(IFRS)(천원)             383\n",
       "[U01D300000000]재무활동으로 인한 현금흐름(*)(IFRS연결)(천원)            58\n",
       "[U01D200000000]투자활동으로 인한 현금흐름(*)(IFRS연결)(천원)            55\n",
       "[U01D100000000]영업활동으로 인한 현금흐름(간접법)(*)(IFRS)(천원)         29\n",
       "[U01D100000000]영업활동으로 인한 현금흐름(간접법)(*)(IFRS연결)(천원)        3\n",
       "회사명                                                      0\n",
       "거래소코드                                                    0\n",
       "회계년도                                                     0\n",
       "dtype: int64"
      ]
     },
     "execution_count": 10,
     "metadata": {},
     "output_type": "execute_result"
    }
   ],
   "source": [
    "uncash.isin([0]).sum().sort_values(ascending=False)"
   ]
  },
  {
   "cell_type": "code",
   "execution_count": 11,
   "metadata": {},
   "outputs": [
    {
     "data": {
      "text/plain": [
       "회사명                                                  0\n",
       "거래소코드                                                0\n",
       "회계년도                                                 0\n",
       "[U01410000]영업활동으로 인한 현금흐름(*)(천원)                     0\n",
       "[U01440000]투자활동으로 인한 현금흐름(*)(천원)                     0\n",
       "[U01450000]재무활동으로 인한 현금흐름(*)(천원)                     0\n",
       "[U01D100000000]영업활동으로 인한 현금흐름(간접법)(*)(IFRS)(천원)      0\n",
       "[U01D200000000]투자활동으로 인한 현금흐름(*)(IFRS)(천원)           0\n",
       "[U01D300000000]재무활동으로 인한 현금흐름(*)(IFRS)(천원)           0\n",
       "[U01D100000000]영업활동으로 인한 현금흐름(간접법)(*)(IFRS연결)(천원)    0\n",
       "[U01D200000000]투자활동으로 인한 현금흐름(*)(IFRS연결)(천원)         0\n",
       "[U01D300000000]재무활동으로 인한 현금흐름(*)(IFRS연결)(천원)         0\n",
       "dtype: int64"
      ]
     },
     "execution_count": 11,
     "metadata": {},
     "output_type": "execute_result"
    }
   ],
   "source": [
    "uncash.isin([np.inf]).sum().sort_values(ascending=False)"
   ]
  },
  {
   "cell_type": "code",
   "execution_count": 12,
   "metadata": {},
   "outputs": [
    {
     "data": {
      "text/plain": [
       "248324"
      ]
     },
     "execution_count": 12,
     "metadata": {},
     "output_type": "execute_result"
    }
   ],
   "source": [
    "len(uncash)"
   ]
  },
  {
   "cell_type": "markdown",
   "metadata": {},
   "source": [
    "전처리?"
   ]
  },
  {
   "cell_type": "code",
   "execution_count": 13,
   "metadata": {},
   "outputs": [],
   "source": [
    "uncash.replace(0, None, inplace=True)"
   ]
  },
  {
   "cell_type": "markdown",
   "metadata": {},
   "source": [
    "## 현금흐름 항목 우선순위로 채우기\n",
    "- 국제회계기준 연결, 국제회계기준 개별, 일반회계기준 개별 순\n",
    "- 일반회계기준 연결은 없다"
   ]
  },
  {
   "cell_type": "markdown",
   "metadata": {},
   "source": [
    "외감영업현금흐름"
   ]
  },
  {
   "cell_type": "code",
   "execution_count": 14,
   "metadata": {},
   "outputs": [],
   "source": [
    "외감영업현금흐름 = uncash['[U01D100000000]영업활동으로 인한 현금흐름(간접법)(*)(IFRS연결)(천원)'].fillna(uncash['[U01D100000000]영업활동으로 인한 현금흐름(간접법)(*)(IFRS)(천원)'])\n",
    "외감영업현금흐름 = 외감영업현금흐름.fillna(uncash['[U01410000]영업활동으로 인한 현금흐름(*)(천원)'])"
   ]
  },
  {
   "cell_type": "code",
   "execution_count": 15,
   "metadata": {},
   "outputs": [],
   "source": [
    "uncash['외감영업현금흐름'] = 외감영업현금흐름"
   ]
  },
  {
   "cell_type": "code",
   "execution_count": 16,
   "metadata": {},
   "outputs": [],
   "source": [
    "uncash.drop(\n",
    "    labels=[\n",
    "        '[U01D100000000]영업활동으로 인한 현금흐름(간접법)(*)(IFRS연결)(천원)',\n",
    "        '[U01D100000000]영업활동으로 인한 현금흐름(간접법)(*)(IFRS)(천원)',\n",
    "        '[U01410000]영업활동으로 인한 현금흐름(*)(천원)'\n",
    "    ],\n",
    "    axis=1,\n",
    "    inplace=True\n",
    ")"
   ]
  },
  {
   "cell_type": "markdown",
   "metadata": {},
   "source": [
    "외감재무현금흐름"
   ]
  },
  {
   "cell_type": "code",
   "execution_count": 17,
   "metadata": {},
   "outputs": [],
   "source": [
    "외감재무현금흐름 = uncash['[U01D300000000]재무활동으로 인한 현금흐름(*)(IFRS연결)(천원)'].fillna(uncash['[U01D300000000]재무활동으로 인한 현금흐름(*)(IFRS)(천원)'])\n",
    "외감재무현금흐름 = 외감재무현금흐름.fillna(uncash['[U01450000]재무활동으로 인한 현금흐름(*)(천원)'])\n",
    "uncash['외감재무현금흐름'] = 외감재무현금흐름\n",
    "uncash.drop(\n",
    "    labels=[\n",
    "        '[U01D300000000]재무활동으로 인한 현금흐름(*)(IFRS연결)(천원)',\n",
    "        '[U01D300000000]재무활동으로 인한 현금흐름(*)(IFRS)(천원)',\n",
    "        '[U01450000]재무활동으로 인한 현금흐름(*)(천원)'\n",
    "    ],\n",
    "    axis=1,\n",
    "    inplace=True\n",
    ")"
   ]
  },
  {
   "cell_type": "markdown",
   "metadata": {},
   "source": [
    "외감투자현금흐름"
   ]
  },
  {
   "cell_type": "code",
   "execution_count": 18,
   "metadata": {},
   "outputs": [],
   "source": [
    "외감투자현금흐름 = uncash['[U01D200000000]투자활동으로 인한 현금흐름(*)(IFRS연결)(천원)'].fillna(uncash['[U01D200000000]투자활동으로 인한 현금흐름(*)(IFRS)(천원)'])\n",
    "외감투자현금흐름 = 외감투자현금흐름.fillna(uncash['[U01440000]투자활동으로 인한 현금흐름(*)(천원)'])\n",
    "uncash['외감투자현금흐름'] = 외감투자현금흐름\n",
    "uncash.drop(\n",
    "    labels=[\n",
    "        '[U01D200000000]투자활동으로 인한 현금흐름(*)(IFRS연결)(천원)',\n",
    "        '[U01D200000000]투자활동으로 인한 현금흐름(*)(IFRS)(천원)',\n",
    "        '[U01440000]투자활동으로 인한 현금흐름(*)(천원)'\n",
    "    ],\n",
    "    axis=1,\n",
    "    inplace=True\n",
    ")"
   ]
  },
  {
   "cell_type": "markdown",
   "metadata": {},
   "source": [
    "## 파생변수"
   ]
  },
  {
   "cell_type": "markdown",
   "metadata": {},
   "source": [
    "- OMI-CF : 영업현금흐름 - 투자현금흐름"
   ]
  },
  {
   "cell_type": "code",
   "execution_count": 19,
   "metadata": {},
   "outputs": [
    {
     "data": {
      "text/plain": [
       "Index(['회사명', '거래소코드', '회계년도', '외감영업현금흐름', '외감재무현금흐름', '외감투자현금흐름'], dtype='object')"
      ]
     },
     "execution_count": 19,
     "metadata": {},
     "output_type": "execute_result"
    }
   ],
   "source": [
    "uncash.columns"
   ]
  },
  {
   "cell_type": "code",
   "execution_count": 20,
   "metadata": {},
   "outputs": [],
   "source": [
    "# uncash['OMI(천원)'] = uncash['외감영업현금흐름'] - uncash['외감투자현금흐름']"
   ]
  },
  {
   "cell_type": "markdown",
   "metadata": {},
   "source": [
    "- OMS-CF : 영업현금흐름 - 재무현금흐름"
   ]
  },
  {
   "cell_type": "code",
   "execution_count": 21,
   "metadata": {},
   "outputs": [],
   "source": [
    "# uncash['OMS(천원)'] = uncash['외감영업현금흐름'] - uncash['외감재무현금흐름']"
   ]
  },
  {
   "cell_type": "markdown",
   "metadata": {},
   "source": [
    "- ODI-CF : 영업현금흐름 / 투자현금흐름"
   ]
  },
  {
   "cell_type": "code",
   "execution_count": 22,
   "metadata": {},
   "outputs": [],
   "source": [
    "uncash['영업투자현금비율'] = uncash['외감영업현금흐름'] / uncash['외감투자현금흐름']"
   ]
  },
  {
   "cell_type": "markdown",
   "metadata": {},
   "source": [
    "- ODS-CF : 영업현금흐름 / 재무현금흐름"
   ]
  },
  {
   "cell_type": "code",
   "execution_count": 23,
   "metadata": {},
   "outputs": [],
   "source": [
    "uncash['영업재무현금비율'] = uncash['외감영업현금흐름'] / uncash['외감재무현금흐름']"
   ]
  },
  {
   "cell_type": "markdown",
   "metadata": {},
   "source": [
    "describe"
   ]
  },
  {
   "cell_type": "code",
   "execution_count": 24,
   "metadata": {},
   "outputs": [
    {
     "data": {
      "text/plain": [
       "count     237822.000\n",
       "mean          78.785\n",
       "std        28201.163\n",
       "min     -5422131.857\n",
       "25%           -1.853\n",
       "50%           -0.456\n",
       "75%            0.412\n",
       "max      7569758.000\n",
       "Name: 영업투자현금비율, dtype: float64"
      ]
     },
     "execution_count": 24,
     "metadata": {},
     "output_type": "execute_result"
    }
   ],
   "source": [
    "uncash[['영업투자현금비율', '영업재무현금흐름']].describe()"
   ]
  },
  {
   "cell_type": "code",
   "execution_count": null,
   "metadata": {},
   "outputs": [],
   "source": [
    "uncash[['영업투자현금비율', '영업재무현금흐름']].isna().sum()"
   ]
  },
  {
   "cell_type": "code",
   "execution_count": null,
   "metadata": {},
   "outputs": [],
   "source": [
    "uncash[['영업투자현금비율', '영업재무현금흐름']].isin([np.inf]).sum()"
   ]
  },
  {
   "cell_type": "code",
   "execution_count": null,
   "metadata": {},
   "outputs": [],
   "source": [
    "uncash[['영업투자현금비율', '영업재무현금흐름']].isin([-np.inf]).sum()"
   ]
  },
  {
   "cell_type": "markdown",
   "metadata": {},
   "source": [
    "# to_csv"
   ]
  },
  {
   "cell_type": "code",
   "execution_count": 24,
   "metadata": {},
   "outputs": [
    {
     "data": {
      "text/plain": [
       "Index(['회사명', '거래소코드', '회계년도', '외감영업현금흐름', '외감재무현금흐름', '외감투자현금흐름', '영업투자현금비율',\n",
       "       '영업재무현금비율'],\n",
       "      dtype='object')"
      ]
     },
     "execution_count": 24,
     "metadata": {},
     "output_type": "execute_result"
    }
   ],
   "source": [
    "uncash.columns"
   ]
  },
  {
   "cell_type": "code",
   "execution_count": 25,
   "metadata": {},
   "outputs": [],
   "source": [
    "비상장현금흐름파생변수 = uncash.drop(\n",
    "    labels=[\n",
    "        '외감영업현금흐름', '외감재무현금흐름', '외감투자현금흐름'\n",
    "    ],\n",
    "    axis=1\n",
    ")"
   ]
  },
  {
   "cell_type": "code",
   "execution_count": 26,
   "metadata": {},
   "outputs": [],
   "source": [
    "비상장현금흐름파생변수.to_csv(\"../data/derived_variable/비상장현금흐름파생변수.csv\")"
   ]
  }
 ],
 "metadata": {
  "kernelspec": {
   "display_name": "Python 3",
   "language": "python",
   "name": "python3"
  },
  "language_info": {
   "codemirror_mode": {
    "name": "ipython",
    "version": 3
   },
   "file_extension": ".py",
   "mimetype": "text/x-python",
   "name": "python",
   "nbconvert_exporter": "python",
   "pygments_lexer": "ipython3",
   "version": "3.11.3"
  }
 },
 "nbformat": 4,
 "nbformat_minor": 2
}
