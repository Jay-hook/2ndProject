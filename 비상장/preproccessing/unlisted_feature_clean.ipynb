{
 "cells": [
  {
   "cell_type": "code",
   "execution_count": 1,
   "metadata": {},
   "outputs": [],
   "source": [
    "import pandas as pd"
   ]
  },
  {
   "cell_type": "code",
   "execution_count": 2,
   "metadata": {},
   "outputs": [
    {
     "data": {
      "text/plain": [
       "Index(['회사명', '거래소코드', '회계년도', '총자본증가율', '유동자산증가율', '비유동자산증가율', '매출액증가율',\n",
       "       '자기자본증가율', '순이익증가율', '유형자산증가율', '재고자산증가율', 'R & D 투자효율', '종업원수증가율',\n",
       "       '부가가치(백만원)', '총자본투자효율', '설비투자효율', '기계투자효율', '부가가치율', '노동소득분배율', '자본분배율',\n",
       "       '이윤분배율', '매출채권회전률', '당좌자산회전률', '재고자산회전률', '유형자산회전율', '매입채무회전률',\n",
       "       '자기자본회전률', '경영자본회전률', '총자본회전률', '비유동자산회전률', '매입채무회전기간', '재고자산회전기간',\n",
       "       '1회전기간', '순운전자본회전률', '운전자본회전률', '유동자산회전률', 'CASH FLOW 대 부채비율',\n",
       "       'CASH FLOW 대 차입금비율', 'CASH FLOW 대 총자본비율', 'CASH FLOW 대 매출액비율', '유동비율',\n",
       "       '당좌비율', '비유동비율', '부채비율', '유동부채비율', '차입금의존도', '순운전자본비율', '현금비율',\n",
       "       '유동자산구성비율', '자기자본구성비율', '자기자본순이익률', '경영자본순이익률', '매출액순이익률', '매출액총이익률',\n",
       "       '총자본사업이익률', '총자본영업이익률', '자기자본영업이익률', '매출액영업이익률', '금융비용부담률', '설립일',\n",
       "       '상장일', '상장폐지일', '부실판단', '기업수명주기', 'CROE', '총자산증가율', '총자산회전율'],\n",
       "      dtype='object')"
      ]
     },
     "execution_count": 2,
     "metadata": {},
     "output_type": "execute_result"
    }
   ],
   "source": [
    "audit = pd.read_csv('../1.데이터셋/Feature/비상장피처ver1.csv')\n",
    "audit.columns"
   ]
  },
  {
   "cell_type": "code",
   "execution_count": 3,
   "metadata": {},
   "outputs": [],
   "source": [
    "audit.drop(\n",
    "    labels=[\n",
    "        \"1회전기간\",\n",
    "        \"R & D 투자효율\",\n",
    "        \"기계투자효율\",\n",
    "        \"노동소득분배율\",\n",
    "        \"매입채무회전기간\",\n",
    "        \"매입채무회전률\",\n",
    "        \"순이익증가율\",\n",
    "        \"운전자본회전률\",\n",
    "        \"재고자산회전기간\",\n",
    "        \"재고자산회전률\",\n",
    "        \"종업원수증가율\",\n",
    "        \"상장일\",\n",
    "        \"상장폐지일\",\n",
    "    ],\n",
    "    axis=1,\n",
    "    inplace=True,\n",
    ")"
   ]
  },
  {
   "cell_type": "code",
   "execution_count": 4,
   "metadata": {},
   "outputs": [],
   "source": [
    "col_list = [\n",
    "    \"회사명\",\n",
    "    \"거래소코드\",\n",
    "    \"회계년도\",\n",
    "    ###### 현금흐름(4) ########\n",
    "    \"CASH FLOW 대 부채비율\",\n",
    "    \"CASH FLOW 대 차입금비율\",\n",
    "    \"CASH FLOW 대 총자본비율\",\n",
    "    \"CASH FLOW 대 매출액비율\",\n",
    "    ###### 안정성(10) ########\n",
    "    \"유동비율\",\n",
    "    \"당좌비율\",\n",
    "    #\"비유동비율\",\n",
    "    \"부채비율\",\n",
    "    \"유동부채비율\",\n",
    "    \"차입금의존도\",\n",
    "    \"순운전자본비율\",\n",
    "    \"현금비율\",\n",
    "    \"유동자산구성비율\",\n",
    "    \"자기자본구성비율\",\n",
    "    ###### 수익성(10) ########\n",
    "    \"자기자본순이익률\",\n",
    "    \"경영자본순이익률\",\n",
    "    \"매출액순이익률\",\n",
    "    #\"매출액총이익률\",\n",
    "    \"총자본사업이익률\",\n",
    "    \"총자본영업이익률\",\n",
    "    #\"자기자본영업이익률\",\n",
    "    \"매출액영업이익률\",\n",
    "    \"금융비용부담률\",\n",
    "    \"CROE\",\n",
    "    ###### 성장성(8) ########\n",
    "    \"총자산증가율\",\n",
    "    \"총자본증가율\",\n",
    "    \"유동자산증가율\",\n",
    "    \"비유동자산증가율\",\n",
    "    \"매출액증가율\",\n",
    "    #\"자기자본증가율\",\n",
    "    \"유형자산증가율\",\n",
    "    #\"재고자산증가율\",\n",
    "    ###### 생산성(5) ########\n",
    "    \"부가가치(백만원)\",\n",
    "    \"총자본투자효율\",\n",
    "    \"설비투자효율\",\n",
    "    \"부가가치율\",\n",
    "    \"이윤분배율\",\n",
    "\t\"자본분배율\",\n",
    "    ###### 활동성(10) ########\n",
    "    \"총자산회전율\",\n",
    "    \"매출채권회전률\",\n",
    "    \"당좌자산회전률\",\n",
    "    \"유형자산회전율\",\n",
    "    #\"자기자본회전률\",\n",
    "    \"경영자본회전률\",\n",
    "    \"총자본회전률\",\n",
    "    \"비유동자산회전률\",\n",
    "    #\"순운전자본회전률\",\n",
    "    \"유동자산회전률\",\n",
    "    ###### 기타 ########\n",
    "    '설립일',\n",
    "    \"기업수명주기\",\n",
    "    \"부실판단\",\n",
    "]"
   ]
  },
  {
   "cell_type": "code",
   "execution_count": 5,
   "metadata": {},
   "outputs": [],
   "source": [
    "audit = audit[col_list]"
   ]
  },
  {
   "cell_type": "code",
   "execution_count": 6,
   "metadata": {},
   "outputs": [
    {
     "data": {
      "text/plain": [
       "342"
      ]
     },
     "execution_count": 6,
     "metadata": {},
     "output_type": "execute_result"
    }
   ],
   "source": [
    "audit[\"부실판단\"].isna().sum()"
   ]
  },
  {
   "cell_type": "code",
   "execution_count": 7,
   "metadata": {},
   "outputs": [],
   "source": [
    "audit = audit.dropna(subset=['부실판단'], axis=0)"
   ]
  },
  {
   "cell_type": "code",
   "execution_count": 8,
   "metadata": {},
   "outputs": [
    {
     "data": {
      "text/plain": [
       "0"
      ]
     },
     "execution_count": 8,
     "metadata": {},
     "output_type": "execute_result"
    }
   ],
   "source": [
    "audit[\"기업수명주기\"].isna().sum()"
   ]
  },
  {
   "cell_type": "code",
   "execution_count": 9,
   "metadata": {},
   "outputs": [],
   "source": [
    "audit = audit.dropna(subset=[\"기업수명주기\"], axis=0)"
   ]
  },
  {
   "cell_type": "code",
   "execution_count": 10,
   "metadata": {},
   "outputs": [],
   "source": [
    "audit[\"설립일\"] = pd.to_datetime(audit[\"설립일\"]).dt.year\n",
    "audit[\"영업년수\"] = 2024 - audit[\"설립일\"]"
   ]
  },
  {
   "cell_type": "code",
   "execution_count": 20,
   "metadata": {},
   "outputs": [],
   "source": [
    "audit.reset_index(drop=True).to_csv('../1.데이터셋/Feature/비상장피처clean1.csv', index=False)"
   ]
  },
  {
   "cell_type": "code",
   "execution_count": null,
   "metadata": {},
   "outputs": [],
   "source": []
  }
 ],
 "metadata": {
  "kernelspec": {
   "display_name": "Python 3",
   "language": "python",
   "name": "python3"
  },
  "language_info": {
   "codemirror_mode": {
    "name": "ipython",
    "version": 3
   },
   "file_extension": ".py",
   "mimetype": "text/x-python",
   "name": "python",
   "nbconvert_exporter": "python",
   "pygments_lexer": "ipython3",
   "version": "3.11.4"
  }
 },
 "nbformat": 4,
 "nbformat_minor": 2
}
