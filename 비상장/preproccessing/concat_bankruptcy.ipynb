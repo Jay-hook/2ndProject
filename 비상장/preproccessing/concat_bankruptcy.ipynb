{
 "cells": [
  {
   "cell_type": "code",
   "execution_count": 6,
   "metadata": {},
   "outputs": [
    {
     "data": {
      "text/plain": [
       "['코넥스_이보배.csv', '상장_코스닥_이보배.csv']"
      ]
     },
     "execution_count": 6,
     "metadata": {},
     "output_type": "execute_result"
    }
   ],
   "source": [
    "import pandas as pd\n",
    "import os\n",
    "\n",
    "pd.options.display.float_format = \"{:.5f}\".format\n",
    "\n",
    "listed_directory = \"../1.데이터셋/부실/상장_영업이익\"\n",
    "os.listdir(listed_directory)"
   ]
  },
  {
   "cell_type": "code",
   "execution_count": 7,
   "metadata": {},
   "outputs": [
    {
     "name": "stdout",
     "output_type": "stream",
     "text": [
      "          회사명   거래소코드     회계년도  이자보상배율(이자비용)  [U01250010]   이자비용(천원)  \\\n",
      "0       (주)굿센  243870  2016/12     105.29000              9090.00000   \n",
      "1       (주)굿센  243870  2017/12   -1173.74000               421.00000   \n",
      "2       (주)굿센  243870  2018/12     -25.61000            130536.00000   \n",
      "3       (주)굿센  243870  2019/12      -3.27000            331212.00000   \n",
      "4       (주)굿센  243870  2020/12       1.04000            345418.00000   \n",
      "...       ...     ...      ...           ...                     ...   \n",
      "8089  휴마시스(주)  205470  2018/12      -3.93000            262499.00000   \n",
      "8090  휴마시스(주)  205470  2019/12      -1.10000            799177.00000   \n",
      "8091  휴마시스(주)  205470  2020/12      95.96000            265782.00000   \n",
      "8092  휴마시스(주)  205470  2021/12    1589.45000            116350.00000   \n",
      "8093  휴마시스(주)  205470  2022/12    2540.87000             83855.00000   \n",
      "\n",
      "      [U01230000]영업이익(손실)(천원)   이자보상배율(순금융비용)  \n",
      "0                957115.00000             NaN  \n",
      "1               -494143.00000             NaN  \n",
      "2              -3343162.00000             NaN  \n",
      "3              -1082478.00000             NaN  \n",
      "4                359907.00000             NaN  \n",
      "...                       ...             ...  \n",
      "8089           -1031945.00000       -33.84000  \n",
      "8090            -875264.00000        -0.80000  \n",
      "8091           25505614.00000       114.07000  \n",
      "8092          184932145.00000     23967.55000  \n",
      "8093          213065177.00000 999999999.00000  \n",
      "\n",
      "[8662 rows x 7 columns]\n"
     ]
    }
   ],
   "source": [
    "result = pd.DataFrame()\n",
    "\n",
    "for filename in os.listdir(listed_directory):\n",
    "    df = pd.read_csv(f\"../1.데이터셋/부실/상장_영업이익/{filename}\", encoding=\"cp949\")\n",
    "    result = pd.concat([result, df])\n",
    "print(result)"
   ]
  },
  {
   "cell_type": "code",
   "execution_count": 9,
   "metadata": {},
   "outputs": [],
   "source": [
    "result.reset_index(drop=True).to_csv(\"../1.데이터셋/부실/상장_영업이익/상장_영업이익.csv\")"
   ]
  },
  {
   "cell_type": "code",
   "execution_count": 10,
   "metadata": {},
   "outputs": [
    {
     "data": {
      "text/plain": [
       "['외감_이보배_6.csv',\n",
       " '외감_이보배_7.csv',\n",
       " '외감_이보배_5.csv',\n",
       " '외감_이보배_4.csv',\n",
       " '외감_이보배_1.csv',\n",
       " '외감_이보배_3.csv',\n",
       " '외감_이보배_2.csv',\n",
       " '외감_이보배_9.csv',\n",
       " '외감_이보배_8.csv',\n",
       " '외감_이보배_11.csv',\n",
       " '외감_이보배_10.csv']"
      ]
     },
     "execution_count": 10,
     "metadata": {},
     "output_type": "execute_result"
    }
   ],
   "source": [
    "import pandas as pd\n",
    "import os\n",
    "\n",
    "pd.options.display.float_format = \"{:.5f}\".format\n",
    "\n",
    "unlisted_directory = \"../1.데이터셋/부실/외감_영업이익\"\n",
    "os.listdir(unlisted_directory)"
   ]
  },
  {
   "cell_type": "code",
   "execution_count": 11,
   "metadata": {},
   "outputs": [
    {
     "name": "stdout",
     "output_type": "stream",
     "text": [
      "              회사명  거래소코드     회계년도  이자보상배율(이자비용)  [U01250010]   이자비용(천원)  \\\n",
      "0       (유)유맥에프앤알  14534  2012/12       4.84000            222557.00000   \n",
      "1       (유)유맥에프앤알  14534  2013/12       8.28000            176881.00000   \n",
      "2       (유)유맥에프앤알  14534  2014/12       9.58000            159353.00000   \n",
      "3       (유)유맥에프앤알  14534  2015/12       6.68000            133414.00000   \n",
      "4       (유)유맥에프앤알  14534  2016/12      10.63000            183594.00000   \n",
      "...           ...    ...      ...           ...                     ...   \n",
      "22315  파라뷰플러스주식회사  73160  2018/12      -5.83000            685240.00000   \n",
      "22316  파라뷰플러스주식회사  73160  2019/12      -1.30000            881290.00000   \n",
      "22317  파라뷰플러스주식회사  73160  2020/12      -7.36000            382417.00000   \n",
      "22318  파라뷰플러스주식회사  73160  2021/12      -0.82000           1325927.00000   \n",
      "22319  파라뷰플러스주식회사  73160  2022/12      -0.86000           1370027.00000   \n",
      "\n",
      "       [U01230000]영업이익(손실)(천원)  \n",
      "0                1078114.00000  \n",
      "1                1464673.00000  \n",
      "2                1526416.00000  \n",
      "3                 890788.00000  \n",
      "4                1951647.00000  \n",
      "...                        ...  \n",
      "22315           -3994193.00000  \n",
      "22316           -1144716.00000  \n",
      "22317           -2815894.00000  \n",
      "22318           -1083558.00000  \n",
      "22319           -1176839.00000  \n",
      "\n",
      "[243684 rows x 6 columns]\n"
     ]
    }
   ],
   "source": [
    "result = pd.DataFrame()\n",
    "\n",
    "for filename in os.listdir(unlisted_directory):\n",
    "    df = pd.read_csv(f\"../1.데이터셋/부실/외감_영업이익/{filename}\", encoding=\"cp949\")\n",
    "    result = pd.concat([result, df])\n",
    "print(result)"
   ]
  },
  {
   "cell_type": "code",
   "execution_count": 12,
   "metadata": {},
   "outputs": [],
   "source": [
    "result.reset_index(drop=True).to_csv(\"../1.데이터셋/부실/상장_영업이익/외감_영업이익.csv\")"
   ]
  },
  {
   "cell_type": "code",
   "execution_count": null,
   "metadata": {},
   "outputs": [],
   "source": []
  }
 ],
 "metadata": {
  "kernelspec": {
   "display_name": "Python 3",
   "language": "python",
   "name": "python3"
  },
  "language_info": {
   "codemirror_mode": {
    "name": "ipython",
    "version": 3
   },
   "file_extension": ".py",
   "mimetype": "text/x-python",
   "name": "python",
   "nbconvert_exporter": "python",
   "pygments_lexer": "ipython3",
   "version": "3.11.4"
  }
 },
 "nbformat": 4,
 "nbformat_minor": 2
}
