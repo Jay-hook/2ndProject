{
 "cells": [
  {
   "cell_type": "code",
   "execution_count": 1,
   "metadata": {},
   "outputs": [],
   "source": [
    "import pandas as pd"
   ]
  },
  {
   "cell_type": "code",
   "execution_count": 2,
   "metadata": {},
   "outputs": [
    {
     "data": {
      "text/html": [
       "<div>\n",
       "<style scoped>\n",
       "    .dataframe tbody tr th:only-of-type {\n",
       "        vertical-align: middle;\n",
       "    }\n",
       "\n",
       "    .dataframe tbody tr th {\n",
       "        vertical-align: top;\n",
       "    }\n",
       "\n",
       "    .dataframe thead th {\n",
       "        text-align: right;\n",
       "    }\n",
       "</style>\n",
       "<table border=\"1\" class=\"dataframe\">\n",
       "  <thead>\n",
       "    <tr style=\"text-align: right;\">\n",
       "      <th></th>\n",
       "      <th>회사명</th>\n",
       "      <th>거래소코드</th>\n",
       "      <th>회계년도</th>\n",
       "      <th>감사의견코드</th>\n",
       "      <th>[U01410000]영업활동으로 인한 현금흐름(*)(천원)</th>\n",
       "      <th>이자보상배율(이자비용)</th>\n",
       "      <th>감사부실</th>\n",
       "      <th>이보배부실</th>\n",
       "      <th>현금흐름부실</th>\n",
       "    </tr>\n",
       "  </thead>\n",
       "  <tbody>\n",
       "    <tr>\n",
       "      <th>3</th>\n",
       "      <td>(유)가든주류</td>\n",
       "      <td>97082</td>\n",
       "      <td>2022</td>\n",
       "      <td>DU</td>\n",
       "      <td>-26425950.0</td>\n",
       "      <td>-1.44</td>\n",
       "      <td>1.0</td>\n",
       "      <td>NaN</td>\n",
       "      <td>NaN</td>\n",
       "    </tr>\n",
       "    <tr>\n",
       "      <th>37</th>\n",
       "      <td>(주)ATS엔지니어링</td>\n",
       "      <td>61907</td>\n",
       "      <td>2016</td>\n",
       "      <td>DU</td>\n",
       "      <td>1286292.0</td>\n",
       "      <td>-16.37</td>\n",
       "      <td>1.0</td>\n",
       "      <td>NaN</td>\n",
       "      <td>NaN</td>\n",
       "    </tr>\n",
       "    <tr>\n",
       "      <th>123</th>\n",
       "      <td>(주)HM금속</td>\n",
       "      <td>43596</td>\n",
       "      <td>2015</td>\n",
       "      <td>DU</td>\n",
       "      <td>-518828.0</td>\n",
       "      <td>-1.65</td>\n",
       "      <td>1.0</td>\n",
       "      <td>NaN</td>\n",
       "      <td>NaN</td>\n",
       "    </tr>\n",
       "  </tbody>\n",
       "</table>\n",
       "</div>"
      ],
      "text/plain": [
       "             회사명  거래소코드  회계년도 감사의견코드  [U01410000]영업활동으로 인한 현금흐름(*)(천원)  \\\n",
       "3        (유)가든주류  97082  2022     DU                       -26425950.0   \n",
       "37   (주)ATS엔지니어링  61907  2016     DU                         1286292.0   \n",
       "123      (주)HM금속  43596  2015     DU                         -518828.0   \n",
       "\n",
       "     이자보상배율(이자비용)  감사부실  이보배부실  현금흐름부실  \n",
       "3           -1.44   1.0    NaN     NaN  \n",
       "37         -16.37   1.0    NaN     NaN  \n",
       "123         -1.65   1.0    NaN     NaN  "
      ]
     },
     "execution_count": 2,
     "metadata": {},
     "output_type": "execute_result"
    }
   ],
   "source": [
    "kskqkn = pd.read_csv(\"../1.데이터셋/부실/상장_부실_라벨링하기전.csv\", index_col=0)\n",
    "audit = pd.read_csv(\"../1.데이터셋/부실/비상장_부실_라벨링하기전.csv\", index_col=0)\n",
    "audit.head(3)"
   ]
  },
  {
   "cell_type": "code",
   "execution_count": 3,
   "metadata": {},
   "outputs": [],
   "source": [
    "kskqkn = kskqkn.sort_values(by=[\"거래소코드\", \"회계년도\"], ascending=True)\n",
    "audit = audit.sort_values(by=[\"거래소코드\", \"회계년도\"], ascending=True)"
   ]
  },
  {
   "cell_type": "code",
   "execution_count": 4,
   "metadata": {},
   "outputs": [],
   "source": [
    "# 상장 부실판단\n",
    "kskqkn[\"부실판단\"] = None\n",
    "cond1 = (kskqkn[\"감사부실\"] == 1) | (kskqkn[\"이보배부실\"] == 1) | (kskqkn[\"현금흐름부실\"] == 1)\n",
    "cond2 = (~cond1) & (kskqkn[\"감사부실\"] == 0) | (kskqkn[\"이보배부실\"] == 0) | (kskqkn[\"현금흐름부실\"] == 0)\n",
    "\n",
    "kskqkn.loc[cond1, \"부실판단\"] = 1\n",
    "kskqkn.loc[cond2, \"부실판단\"] = 0"
   ]
  },
  {
   "cell_type": "code",
   "execution_count": 5,
   "metadata": {},
   "outputs": [
    {
     "name": "stderr",
     "output_type": "stream",
     "text": [
      "/var/folders/y7/kjtd2q_j0c13ld5lwg5kd25r0000gn/T/ipykernel_35991/919437452.py:4: SettingWithCopyWarning: \n",
      "A value is trying to be set on a copy of a slice from a DataFrame\n",
      "\n",
      "See the caveats in the documentation: https://pandas.pydata.org/pandas-docs/stable/user_guide/indexing.html#returning-a-view-versus-a-copy\n",
      "  bank1.drop_duplicates(subset=\"거래소코드\", keep=\"first\", inplace=True)\n",
      "/var/folders/y7/kjtd2q_j0c13ld5lwg5kd25r0000gn/T/ipykernel_35991/919437452.py:9: SettingWithCopyWarning: \n",
      "A value is trying to be set on a copy of a slice from a DataFrame\n",
      "\n",
      "See the caveats in the documentation: https://pandas.pydata.org/pandas-docs/stable/user_guide/indexing.html#returning-a-view-versus-a-copy\n",
      "  non_bank1.drop_duplicates(subset=\"거래소코드\", keep=\"last\", inplace=True)\n"
     ]
    }
   ],
   "source": [
    "## 상장기업\n",
    "# 부실기업 데이터만 출력\n",
    "bank1 = kskqkn[kskqkn[\"부실판단\"] == 1]\n",
    "bank1.drop_duplicates(subset=\"거래소코드\", keep=\"first\", inplace=True)\n",
    "\n",
    "# 정상기업 데이터만 남기기\n",
    "bank1_code = bank1[\"거래소코드\"].unique()  # 부실로 선정된 기업의 거래소코드\n",
    "non_bank1 = kskqkn[~kskqkn[\"거래소코드\"].isin(bank1_code)]  # 부실선정 기업 제거\n",
    "non_bank1.drop_duplicates(subset=\"거래소코드\", keep=\"last\", inplace=True)\n",
    "\n",
    "# 부실기업과 정상기업 데이터프레임 합치기\n",
    "final1 = pd.concat([bank1, non_bank1])\n",
    "final1.reset_index(drop=True, inplace=True)"
   ]
  },
  {
   "cell_type": "code",
   "execution_count": 6,
   "metadata": {},
   "outputs": [],
   "source": [
    "# 비상장 부실판단\n",
    "audit[\"부실판단\"] = None\n",
    "cond1 = (audit[\"감사부실\"] == 1) | (audit[\"이보배부실\"] == 1) | (audit[\"현금흐름부실\"] == 1)\n",
    "cond2 = (~cond1) & (audit[\"감사부실\"] == 0) | (audit[\"이보배부실\"] == 0) | (audit[\"현금흐름부실\"] == 0)\n",
    "\n",
    "audit.loc[cond1, \"부실판단\"] = 1\n",
    "audit.loc[cond2, \"부실판단\"] = 0"
   ]
  },
  {
   "cell_type": "code",
   "execution_count": 7,
   "metadata": {},
   "outputs": [
    {
     "name": "stderr",
     "output_type": "stream",
     "text": [
      "/var/folders/y7/kjtd2q_j0c13ld5lwg5kd25r0000gn/T/ipykernel_35991/3228439298.py:4: SettingWithCopyWarning: \n",
      "A value is trying to be set on a copy of a slice from a DataFrame\n",
      "\n",
      "See the caveats in the documentation: https://pandas.pydata.org/pandas-docs/stable/user_guide/indexing.html#returning-a-view-versus-a-copy\n",
      "  bank2.drop_duplicates(subset=\"거래소코드\", keep=\"first\", inplace=True)\n",
      "/var/folders/y7/kjtd2q_j0c13ld5lwg5kd25r0000gn/T/ipykernel_35991/3228439298.py:9: SettingWithCopyWarning: \n",
      "A value is trying to be set on a copy of a slice from a DataFrame\n",
      "\n",
      "See the caveats in the documentation: https://pandas.pydata.org/pandas-docs/stable/user_guide/indexing.html#returning-a-view-versus-a-copy\n",
      "  non_bank2.drop_duplicates(subset=\"거래소코드\", keep=\"last\", inplace=True)\n"
     ]
    }
   ],
   "source": [
    "### 비상장 기업\n",
    "# 부실기업 데이터만 출력\n",
    "bank2 = audit[audit[\"부실판단\"] == 1]\n",
    "bank2.drop_duplicates(subset=\"거래소코드\", keep=\"first\", inplace=True)\n",
    "\n",
    "# 정상기업 데이터만 남기기\n",
    "bank2_code = bank2[\"거래소코드\"].unique()  # 부실로 선정된 기업의 거래소코드\n",
    "non_bank2 = audit[~audit[\"거래소코드\"].isin(bank2_code)]  # 부실선정 기업 제거\n",
    "non_bank2.drop_duplicates(subset=\"거래소코드\", keep=\"last\", inplace=True)\n",
    "\n",
    "# 부실기업과 정상기업 데이터프레임 합치기\n",
    "final2 = pd.concat([bank2, non_bank2])\n",
    "final2.reset_index(drop=True, inplace=True)"
   ]
  },
  {
   "cell_type": "code",
   "execution_count": 8,
   "metadata": {},
   "outputs": [],
   "source": [
    "final1 = final1[[\"회사명\", \"거래소코드\", \"회계년도\", \"부실판단\"]]\n",
    "final2 = final2[[\"회사명\", \"거래소코드\", \"회계년도\", \"부실판단\"]]"
   ]
  },
  {
   "cell_type": "code",
   "execution_count": 9,
   "metadata": {},
   "outputs": [
    {
     "data": {
      "text/plain": [
       "회사명       0\n",
       "거래소코드     0\n",
       "회계년도      0\n",
       "부실판단     23\n",
       "dtype: int64"
      ]
     },
     "execution_count": 9,
     "metadata": {},
     "output_type": "execute_result"
    }
   ],
   "source": [
    "final1.isna().sum()"
   ]
  },
  {
   "cell_type": "code",
   "execution_count": 10,
   "metadata": {},
   "outputs": [
    {
     "data": {
      "text/plain": [
       "회사명        0\n",
       "거래소코드      0\n",
       "회계년도       0\n",
       "부실판단     428\n",
       "dtype: int64"
      ]
     },
     "execution_count": 10,
     "metadata": {},
     "output_type": "execute_result"
    }
   ],
   "source": [
    "final2.isna().sum()"
   ]
  },
  {
   "cell_type": "code",
   "execution_count": 11,
   "metadata": {},
   "outputs": [
    {
     "data": {
      "text/plain": [
       "988"
      ]
     },
     "execution_count": 11,
     "metadata": {},
     "output_type": "execute_result"
    }
   ],
   "source": [
    "len(final1)"
   ]
  },
  {
   "cell_type": "code",
   "execution_count": 18,
   "metadata": {},
   "outputs": [
    {
     "data": {
      "text/plain": [
       "988"
      ]
     },
     "execution_count": 18,
     "metadata": {},
     "output_type": "execute_result"
    }
   ],
   "source": [
    "len(final1['거래소코드'].unique())"
   ]
  },
  {
   "cell_type": "code",
   "execution_count": 20,
   "metadata": {},
   "outputs": [
    {
     "data": {
      "text/plain": [
       "33116"
      ]
     },
     "execution_count": 20,
     "metadata": {},
     "output_type": "execute_result"
    }
   ],
   "source": [
    "len(final2)"
   ]
  },
  {
   "cell_type": "code",
   "execution_count": 22,
   "metadata": {},
   "outputs": [
    {
     "data": {
      "text/plain": [
       "부실판단\n",
       "1    529\n",
       "0    436\n",
       "Name: count, dtype: int64"
      ]
     },
     "execution_count": 22,
     "metadata": {},
     "output_type": "execute_result"
    }
   ],
   "source": [
    "final1[\"부실판단\"].value_counts()"
   ]
  },
  {
   "cell_type": "code",
   "execution_count": 21,
   "metadata": {},
   "outputs": [
    {
     "data": {
      "text/plain": [
       "부실판단\n",
       "0    19596\n",
       "1    13092\n",
       "Name: count, dtype: int64"
      ]
     },
     "execution_count": 21,
     "metadata": {},
     "output_type": "execute_result"
    }
   ],
   "source": [
    "final2['부실판단'].value_counts()"
   ]
  },
  {
   "cell_type": "code",
   "execution_count": 13,
   "metadata": {},
   "outputs": [],
   "source": [
    "final1.to_csv(\"../1.데이터셋/Bankruptcy_Label/상장_부실판단.csv\")\n",
    "final2.to_csv(\"../1.데이터셋/Bankruptcy_Label/비상장_부실판단.csv\")"
   ]
  }
 ],
 "metadata": {
  "kernelspec": {
   "display_name": "Python 3",
   "language": "python",
   "name": "python3"
  },
  "language_info": {
   "codemirror_mode": {
    "name": "ipython",
    "version": 3
   },
   "file_extension": ".py",
   "mimetype": "text/x-python",
   "name": "python",
   "nbconvert_exporter": "python",
   "pygments_lexer": "ipython3",
   "version": "3.11.4"
  }
 },
 "nbformat": 4,
 "nbformat_minor": 2
}
