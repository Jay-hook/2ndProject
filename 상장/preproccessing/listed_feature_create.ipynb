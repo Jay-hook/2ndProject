{
 "cells": [
  {
   "cell_type": "code",
   "execution_count": null,
   "metadata": {},
   "outputs": [],
   "source": [
    "import pandas as pd\n",
    "import os\n",
    "\n",
    "pd.options.display.float_format = \"{:.2f}\".format\n",
    "\n",
    "listed_directory = \"../1.데이터셋/피처생성/상장CROE\"\n",
    "os.listdir(listed_directory)"
   ]
  },
  {
   "cell_type": "code",
   "execution_count": null,
   "metadata": {},
   "outputs": [],
   "source": [
    "result = pd.DataFrame()\n",
    "\n",
    "for filename in os.listdir(listed_directory):\n",
    "    df = pd.read_csv(f\"../1.데이터셋/피처생성/상장CROE/{filename}\", encoding=\"cp949\")\n",
    "    result = pd.concat([result, df])"
   ]
  },
  {
   "cell_type": "code",
   "execution_count": null,
   "metadata": {},
   "outputs": [],
   "source": [
    "result"
   ]
  },
  {
   "cell_type": "code",
   "execution_count": null,
   "metadata": {},
   "outputs": [],
   "source": [
    "result[\"회계년도\"] = pd.to_datetime(result[\"회계년도\"])\n",
    "result = result[result[\"회계년도\"].dt.month == 12].reset_index(drop=True)\n",
    "result[\"회계년도\"] = result[\"회계년도\"].dt.year"
   ]
  },
  {
   "cell_type": "code",
   "execution_count": null,
   "metadata": {},
   "outputs": [],
   "source": [
    "result.head(3)"
   ]
  },
  {
   "cell_type": "code",
   "execution_count": null,
   "metadata": {},
   "outputs": [],
   "source": [
    "len(result['거래소코드'].unique())"
   ]
  },
  {
   "cell_type": "markdown",
   "metadata": {},
   "source": [
    "#### IFRS(연결) -> IFRS(개별) -> GAAP(연결) -> GAAP(개별)"
   ]
  },
  {
   "cell_type": "code",
   "execution_count": null,
   "metadata": {},
   "outputs": [],
   "source": [
    "print(result.isnull().sum())"
   ]
  },
  {
   "cell_type": "code",
   "execution_count": null,
   "metadata": {},
   "outputs": [],
   "source": [
    "## 자산\n",
    "result[\"[U01A100000000]자산(*)(IFRS연결)(천원)\"] = result[\n",
    "    \"[U01A100000000]자산(*)(IFRS연결)(천원)\"\n",
    "].fillna(result[\"[U01A100000000]자산(*)(IFRS)(천원)\"])\n",
    "\n",
    "## 매출액\n",
    "result[\"[U01B100000000]매출액(수익)(*)(IFRS연결)(천원)\"] = result[\n",
    "    \"[U01B100000000]매출액(수익)(*)(IFRS연결)(천원)\"\n",
    "].fillna(result[\"[U01B100000000]매출액(수익)(*)(IFRS)(천원)\"])\n",
    "\n",
    "## 자기자본순이익률\n",
    "result[\"자기자본순이익률(IFRS연결)\"] = result[\"자기자본순이익률(IFRS연결)\"].fillna(result[\"자기자본순이익률(IFRS)\"])\n",
    "\n",
    "## 종업원수증가율\n",
    "result[\"종업원수증가율(IFRS연결)\"] = result[\"종업원수증가율(IFRS연결)\"].fillna(result[\"종업원수증가율(IFRS)\"])\n",
    "\n",
    "## 매출채권회전율\n",
    "result[\"매출채권회전률(IFRS연결)\"] = result[\"매출채권회전률(IFRS연결)\"].fillna(result[\"매출채권회전률(IFRS)\"])\n",
    "\n",
    "print(result.isnull().sum())"
   ]
  },
  {
   "cell_type": "code",
   "execution_count": null,
   "metadata": {},
   "outputs": [],
   "source": [
    "## 자산\n",
    "result[\"[U01A100000000]자산(*)(IFRS연결)(천원)\"] = result[\n",
    "    \"[U01A100000000]자산(*)(IFRS연결)(천원)\"\n",
    "].fillna(result[\"[U01110000]자산(*)(연결)(천원)\"])\n",
    "\n",
    "## 매출액\n",
    "result[\"[U01B100000000]매출액(수익)(*)(IFRS연결)(천원)\"] = result[\n",
    "    \"[U01B100000000]매출액(수익)(*)(IFRS연결)(천원)\"\n",
    "].fillna(result[\"[U01210000]매출액(영업수익)(*)(연결)(천원)\"])\n",
    "\n",
    "## 자기자본순이익률\n",
    "result[\"자기자본순이익률(IFRS연결)\"] = result[\"자기자본순이익률(IFRS연결)\"].fillna(result[\"자기자본순이익률\"])\n",
    "\n",
    "## 종업원수증가율\n",
    "result[\"종업원수증가율(IFRS연결)\"] = result[\"종업원수증가율(IFRS연결)\"].fillna(result[\"종업원수증가율\"])\n",
    "\n",
    "## 매출채권회전율\n",
    "result[\"매출채권회전률(IFRS연결)\"] = result[\"매출채권회전률(IFRS연결)\"].fillna(result[\"매출채권회전률\"])\n",
    "\n",
    "print(result.isnull().sum())"
   ]
  },
  {
   "cell_type": "code",
   "execution_count": null,
   "metadata": {},
   "outputs": [],
   "source": [
    "## 자산\n",
    "result[\"[U01A100000000]자산(*)(IFRS연결)(천원)\"] = result[\n",
    "    \"[U01A100000000]자산(*)(IFRS연결)(천원)\"\n",
    "].fillna(result[\"[U01110000]자산(*)(천원)\"])\n",
    "\n",
    "## 매출액\n",
    "result[\"[U01B100000000]매출액(수익)(*)(IFRS연결)(천원)\"] = result[\n",
    "    \"[U01B100000000]매출액(수익)(*)(IFRS연결)(천원)\"\n",
    "].fillna(result[\"[U01210000]매출액(영업수익)(*)(천원)\"])\n",
    "\n",
    "print(result.isnull().sum())"
   ]
  },
  {
   "cell_type": "code",
   "execution_count": null,
   "metadata": {},
   "outputs": [],
   "source": [
    "result = result[\n",
    "    [\n",
    "        \"회사명\",\n",
    "        \"거래소코드\",\n",
    "        \"회계년도\",\n",
    "        \"[U01B100000000]매출액(수익)(*)(IFRS연결)(천원)\",\n",
    "        \"[U01A100000000]자산(*)(IFRS연결)(천원)\",\n",
    "        \"자기자본순이익률(IFRS연결)\",\n",
    "        \"매출채권회전률(IFRS연결)\",\n",
    "        \"종업원수증가율(IFRS연결)\",\n",
    "\t\t\"설립일\",\n",
    "\t\t\"상장일\"\n",
    "    ]\n",
    "]"
   ]
  },
  {
   "cell_type": "code",
   "execution_count": null,
   "metadata": {},
   "outputs": [],
   "source": [
    "result.columns = ['회사명', '거래소코드', '회계년도', '매출액', '총자산', '자기자본순이익률', '매출채권회전률', '종업원수증가율', '설립일', '상장일']"
   ]
  },
  {
   "cell_type": "code",
   "execution_count": null,
   "metadata": {},
   "outputs": [],
   "source": [
    "result"
   ]
  },
  {
   "cell_type": "code",
   "execution_count": null,
   "metadata": {},
   "outputs": [],
   "source": [
    "grouped = result.groupby(\"거래소코드\")"
   ]
  },
  {
   "cell_type": "code",
   "execution_count": null,
   "metadata": {},
   "outputs": [],
   "source": [
    "new_df = pd.DataFrame()"
   ]
  },
  {
   "cell_type": "code",
   "execution_count": null,
   "metadata": {},
   "outputs": [],
   "source": [
    "for code, group in grouped:\n",
    "    # print(code, group)\n",
    "    group[\"CROE\"] = group[\"자기자본순이익률\"].diff(1)\n",
    "    group[\"총자산변화량\"] = group[\"총자산\"].diff(1)\n",
    "    group[\"총자산증가율\"] = group[\"총자산변화량\"] / group[\"총자산\"].shift(1) * 100\n",
    "    group[\"총자산회전율\"] = group[\"매출액\"] / group[\"총자산\"]\n",
    "\n",
    "    new_df = pd.concat([new_df, group], ignore_index=True)"
   ]
  },
  {
   "cell_type": "code",
   "execution_count": null,
   "metadata": {},
   "outputs": [],
   "source": [
    "result.columns"
   ]
  },
  {
   "cell_type": "code",
   "execution_count": null,
   "metadata": {},
   "outputs": [],
   "source": [
    "new_df"
   ]
  },
  {
   "cell_type": "code",
   "execution_count": null,
   "metadata": {},
   "outputs": [],
   "source": [
    "new_df[\"설립일\"] = pd.to_datetime(new_df[\"설립일\"]).dt.year\n",
    "new_df[\"영업년수\"] = 2024 - new_df[\"설립일\"]\n",
    "new_df[\"상장일\"] = pd.to_datetime(new_df[\"상장일\"]).dt.year\n",
    "new_df[\"상장년수\"] = 2024 - new_df[\"상장일\"]"
   ]
  },
  {
   "cell_type": "code",
   "execution_count": null,
   "metadata": {},
   "outputs": [],
   "source": [
    "new_df[[\"회사명\", \"거래소코드\", \"회계년도\", '매출채권회전률', '종업원수증가율', \"CROE\", \"총자산증가율\", \"총자산회전율\", '영업년수', '상장년수']].to_csv(\n",
    "    \"../1.데이터셋/피처생성/상장추가피처.csv\"\n",
    ")"
   ]
  },
  {
   "cell_type": "code",
   "execution_count": null,
   "metadata": {},
   "outputs": [],
   "source": [
    "new_df.columns"
   ]
  },
  {
   "cell_type": "code",
   "execution_count": null,
   "metadata": {},
   "outputs": [],
   "source": [
    "new_df.isnull().sum()"
   ]
  },
  {
   "cell_type": "code",
   "execution_count": null,
   "metadata": {},
   "outputs": [],
   "source": []
  }
 ],
 "metadata": {
  "kernelspec": {
   "display_name": "Python 3",
   "language": "python",
   "name": "python3"
  },
  "language_info": {
   "codemirror_mode": {
    "name": "ipython",
    "version": 3
   },
   "file_extension": ".py",
   "mimetype": "text/x-python",
   "name": "python",
   "nbconvert_exporter": "python",
   "pygments_lexer": "ipython3",
   "version": "3.11.4"
  }
 },
 "nbformat": 4,
 "nbformat_minor": 2
}
