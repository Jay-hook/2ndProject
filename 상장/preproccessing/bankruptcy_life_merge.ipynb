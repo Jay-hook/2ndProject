{
 "cells": [
  {
   "cell_type": "code",
   "execution_count": 18,
   "metadata": {},
   "outputs": [],
   "source": [
    "import pandas as pd"
   ]
  },
  {
   "cell_type": "code",
   "execution_count": 19,
   "metadata": {},
   "outputs": [],
   "source": [
    "audit_bk = pd.read_csv(\n",
    "    \"../1.데이터셋/Bankruptcy_Label/비상장_부실판단.csv\", index_col=0\n",
    ")\n",
    "kskqkn_bk = pd.read_csv(\n",
    "    \"../1.데이터셋/Bankruptcy_Label/상장_부실판단.csv\", index_col=0\n",
    ")\n",
    "audit_lc = pd.read_csv(\"../1.데이터셋/Life_Cycle_Label/비상장_수명주기.csv\", index_col=0)\n",
    "kskqkn_lc = pd.read_csv(\"../1.데이터셋/Life_Cycle_Label/상장_수명주기.csv\", index_col=0)"
   ]
  },
  {
   "cell_type": "code",
   "execution_count": 20,
   "metadata": {},
   "outputs": [
    {
     "data": {
      "text/html": [
       "<div>\n",
       "<style scoped>\n",
       "    .dataframe tbody tr th:only-of-type {\n",
       "        vertical-align: middle;\n",
       "    }\n",
       "\n",
       "    .dataframe tbody tr th {\n",
       "        vertical-align: top;\n",
       "    }\n",
       "\n",
       "    .dataframe thead th {\n",
       "        text-align: right;\n",
       "    }\n",
       "</style>\n",
       "<table border=\"1\" class=\"dataframe\">\n",
       "  <thead>\n",
       "    <tr style=\"text-align: right;\">\n",
       "      <th></th>\n",
       "      <th>회사명</th>\n",
       "      <th>거래소코드</th>\n",
       "      <th>회계년도</th>\n",
       "      <th>부실판단</th>\n",
       "    </tr>\n",
       "  </thead>\n",
       "  <tbody>\n",
       "    <tr>\n",
       "      <th>0</th>\n",
       "      <td>주식회사형지에스콰이아</td>\n",
       "      <td>10032</td>\n",
       "      <td>2014</td>\n",
       "      <td>1.0</td>\n",
       "    </tr>\n",
       "    <tr>\n",
       "      <th>1</th>\n",
       "      <td>글로웨이(주)</td>\n",
       "      <td>10037</td>\n",
       "      <td>2014</td>\n",
       "      <td>1.0</td>\n",
       "    </tr>\n",
       "    <tr>\n",
       "      <th>2</th>\n",
       "      <td>청화산업(주)</td>\n",
       "      <td>10042</td>\n",
       "      <td>2015</td>\n",
       "      <td>1.0</td>\n",
       "    </tr>\n",
       "    <tr>\n",
       "      <th>3</th>\n",
       "      <td>홍원제지(주)</td>\n",
       "      <td>10062</td>\n",
       "      <td>2014</td>\n",
       "      <td>1.0</td>\n",
       "    </tr>\n",
       "    <tr>\n",
       "      <th>4</th>\n",
       "      <td>주식회사전주원파워</td>\n",
       "      <td>10128</td>\n",
       "      <td>2016</td>\n",
       "      <td>1.0</td>\n",
       "    </tr>\n",
       "    <tr>\n",
       "      <th>...</th>\n",
       "      <td>...</td>\n",
       "      <td>...</td>\n",
       "      <td>...</td>\n",
       "      <td>...</td>\n",
       "    </tr>\n",
       "    <tr>\n",
       "      <th>33111</th>\n",
       "      <td>주식회사우먼패키지</td>\n",
       "      <td>106543</td>\n",
       "      <td>2022</td>\n",
       "      <td>NaN</td>\n",
       "    </tr>\n",
       "    <tr>\n",
       "      <th>33112</th>\n",
       "      <td>우진기업(주)</td>\n",
       "      <td>106612</td>\n",
       "      <td>2022</td>\n",
       "      <td>NaN</td>\n",
       "    </tr>\n",
       "    <tr>\n",
       "      <th>33113</th>\n",
       "      <td>(주)에코매스</td>\n",
       "      <td>106852</td>\n",
       "      <td>2022</td>\n",
       "      <td>NaN</td>\n",
       "    </tr>\n",
       "    <tr>\n",
       "      <th>33114</th>\n",
       "      <td>(주)톱스톡케미칼</td>\n",
       "      <td>106986</td>\n",
       "      <td>2022</td>\n",
       "      <td>NaN</td>\n",
       "    </tr>\n",
       "    <tr>\n",
       "      <th>33115</th>\n",
       "      <td>협성화학섬유(주)</td>\n",
       "      <td>107069</td>\n",
       "      <td>2022</td>\n",
       "      <td>NaN</td>\n",
       "    </tr>\n",
       "  </tbody>\n",
       "</table>\n",
       "<p>33116 rows × 4 columns</p>\n",
       "</div>"
      ],
      "text/plain": [
       "               회사명   거래소코드  회계년도  부실판단\n",
       "0      주식회사형지에스콰이아   10032  2014   1.0\n",
       "1          글로웨이(주)   10037  2014   1.0\n",
       "2          청화산업(주)   10042  2015   1.0\n",
       "3          홍원제지(주)   10062  2014   1.0\n",
       "4        주식회사전주원파워   10128  2016   1.0\n",
       "...            ...     ...   ...   ...\n",
       "33111    주식회사우먼패키지  106543  2022   NaN\n",
       "33112      우진기업(주)  106612  2022   NaN\n",
       "33113      (주)에코매스  106852  2022   NaN\n",
       "33114    (주)톱스톡케미칼  106986  2022   NaN\n",
       "33115    협성화학섬유(주)  107069  2022   NaN\n",
       "\n",
       "[33116 rows x 4 columns]"
      ]
     },
     "execution_count": 20,
     "metadata": {},
     "output_type": "execute_result"
    }
   ],
   "source": [
    "audit_bk"
   ]
  },
  {
   "cell_type": "code",
   "execution_count": 21,
   "metadata": {},
   "outputs": [
    {
     "data": {
      "text/html": [
       "<div>\n",
       "<style scoped>\n",
       "    .dataframe tbody tr th:only-of-type {\n",
       "        vertical-align: middle;\n",
       "    }\n",
       "\n",
       "    .dataframe tbody tr th {\n",
       "        vertical-align: top;\n",
       "    }\n",
       "\n",
       "    .dataframe thead th {\n",
       "        text-align: right;\n",
       "    }\n",
       "</style>\n",
       "<table border=\"1\" class=\"dataframe\">\n",
       "  <thead>\n",
       "    <tr style=\"text-align: right;\">\n",
       "      <th></th>\n",
       "      <th>회사명</th>\n",
       "      <th>거래소코드</th>\n",
       "      <th>회계년도</th>\n",
       "      <th>기업수명주기</th>\n",
       "    </tr>\n",
       "  </thead>\n",
       "  <tbody>\n",
       "    <tr>\n",
       "      <th>0</th>\n",
       "      <td>주식회사삼성산업개발</td>\n",
       "      <td>78238</td>\n",
       "      <td>2015</td>\n",
       "      <td>도입기</td>\n",
       "    </tr>\n",
       "    <tr>\n",
       "      <th>1</th>\n",
       "      <td>주식회사삼성씨에스</td>\n",
       "      <td>95243</td>\n",
       "      <td>2021</td>\n",
       "      <td>성장기</td>\n",
       "    </tr>\n",
       "    <tr>\n",
       "      <th>2</th>\n",
       "      <td>주식회사삼성씨에스</td>\n",
       "      <td>95243</td>\n",
       "      <td>2022</td>\n",
       "      <td>성숙기</td>\n",
       "    </tr>\n",
       "    <tr>\n",
       "      <th>3</th>\n",
       "      <td>주식회사삼성에이치제이에스</td>\n",
       "      <td>46726</td>\n",
       "      <td>2012</td>\n",
       "      <td>성장기</td>\n",
       "    </tr>\n",
       "    <tr>\n",
       "      <th>4</th>\n",
       "      <td>주식회사삼성에이치제이에스</td>\n",
       "      <td>46726</td>\n",
       "      <td>2013</td>\n",
       "      <td>성장기</td>\n",
       "    </tr>\n",
       "    <tr>\n",
       "      <th>...</th>\n",
       "      <td>...</td>\n",
       "      <td>...</td>\n",
       "      <td>...</td>\n",
       "      <td>...</td>\n",
       "    </tr>\n",
       "    <tr>\n",
       "      <th>194310</th>\n",
       "      <td>주식회사경안파이프</td>\n",
       "      <td>40699</td>\n",
       "      <td>2020</td>\n",
       "      <td>성숙기</td>\n",
       "    </tr>\n",
       "    <tr>\n",
       "      <th>194311</th>\n",
       "      <td>주식회사경안파이프</td>\n",
       "      <td>40699</td>\n",
       "      <td>2022</td>\n",
       "      <td>성숙기</td>\n",
       "    </tr>\n",
       "    <tr>\n",
       "      <th>194312</th>\n",
       "      <td>주식회사경암</td>\n",
       "      <td>99966</td>\n",
       "      <td>2020</td>\n",
       "      <td>쇠퇴기</td>\n",
       "    </tr>\n",
       "    <tr>\n",
       "      <th>194313</th>\n",
       "      <td>주식회사경암</td>\n",
       "      <td>99966</td>\n",
       "      <td>2021</td>\n",
       "      <td>성장기</td>\n",
       "    </tr>\n",
       "    <tr>\n",
       "      <th>194314</th>\n",
       "      <td>주식회사경암</td>\n",
       "      <td>99966</td>\n",
       "      <td>2022</td>\n",
       "      <td>성장기</td>\n",
       "    </tr>\n",
       "  </tbody>\n",
       "</table>\n",
       "<p>194315 rows × 4 columns</p>\n",
       "</div>"
      ],
      "text/plain": [
       "                  회사명  거래소코드  회계년도 기업수명주기\n",
       "0          주식회사삼성산업개발  78238  2015    도입기\n",
       "1           주식회사삼성씨에스  95243  2021    성장기\n",
       "2           주식회사삼성씨에스  95243  2022    성숙기\n",
       "3       주식회사삼성에이치제이에스  46726  2012    성장기\n",
       "4       주식회사삼성에이치제이에스  46726  2013    성장기\n",
       "...               ...    ...   ...    ...\n",
       "194310      주식회사경안파이프  40699  2020    성숙기\n",
       "194311      주식회사경안파이프  40699  2022    성숙기\n",
       "194312         주식회사경암  99966  2020    쇠퇴기\n",
       "194313         주식회사경암  99966  2021    성장기\n",
       "194314         주식회사경암  99966  2022    성장기\n",
       "\n",
       "[194315 rows x 4 columns]"
      ]
     },
     "execution_count": 21,
     "metadata": {},
     "output_type": "execute_result"
    }
   ],
   "source": [
    "audit_lc"
   ]
  },
  {
   "cell_type": "code",
   "execution_count": 22,
   "metadata": {},
   "outputs": [
    {
     "data": {
      "text/html": [
       "<div>\n",
       "<style scoped>\n",
       "    .dataframe tbody tr th:only-of-type {\n",
       "        vertical-align: middle;\n",
       "    }\n",
       "\n",
       "    .dataframe tbody tr th {\n",
       "        vertical-align: top;\n",
       "    }\n",
       "\n",
       "    .dataframe thead th {\n",
       "        text-align: right;\n",
       "    }\n",
       "</style>\n",
       "<table border=\"1\" class=\"dataframe\">\n",
       "  <thead>\n",
       "    <tr style=\"text-align: right;\">\n",
       "      <th></th>\n",
       "      <th>회사명</th>\n",
       "      <th>거래소코드</th>\n",
       "      <th>회계년도</th>\n",
       "      <th>부실판단</th>\n",
       "      <th>기업수명주기</th>\n",
       "    </tr>\n",
       "  </thead>\n",
       "  <tbody>\n",
       "    <tr>\n",
       "      <th>0</th>\n",
       "      <td>주식회사형지에스콰이아</td>\n",
       "      <td>10032</td>\n",
       "      <td>2014</td>\n",
       "      <td>1.0</td>\n",
       "      <td>성장기</td>\n",
       "    </tr>\n",
       "    <tr>\n",
       "      <th>1</th>\n",
       "      <td>글로웨이(주)</td>\n",
       "      <td>10037</td>\n",
       "      <td>2014</td>\n",
       "      <td>1.0</td>\n",
       "      <td>쇠퇴기</td>\n",
       "    </tr>\n",
       "    <tr>\n",
       "      <th>2</th>\n",
       "      <td>청화산업(주)</td>\n",
       "      <td>10042</td>\n",
       "      <td>2015</td>\n",
       "      <td>1.0</td>\n",
       "      <td>성장기</td>\n",
       "    </tr>\n",
       "    <tr>\n",
       "      <th>3</th>\n",
       "      <td>홍원제지(주)</td>\n",
       "      <td>10062</td>\n",
       "      <td>2014</td>\n",
       "      <td>1.0</td>\n",
       "      <td>도입기</td>\n",
       "    </tr>\n",
       "    <tr>\n",
       "      <th>4</th>\n",
       "      <td>주식회사전주원파워</td>\n",
       "      <td>10128</td>\n",
       "      <td>2016</td>\n",
       "      <td>1.0</td>\n",
       "      <td>성숙기</td>\n",
       "    </tr>\n",
       "    <tr>\n",
       "      <th>...</th>\n",
       "      <td>...</td>\n",
       "      <td>...</td>\n",
       "      <td>...</td>\n",
       "      <td>...</td>\n",
       "      <td>...</td>\n",
       "    </tr>\n",
       "    <tr>\n",
       "      <th>25296</th>\n",
       "      <td>(주)대흥엔지니어링</td>\n",
       "      <td>106517</td>\n",
       "      <td>2022</td>\n",
       "      <td>NaN</td>\n",
       "      <td>도입기</td>\n",
       "    </tr>\n",
       "    <tr>\n",
       "      <th>25297</th>\n",
       "      <td>주식회사우먼패키지</td>\n",
       "      <td>106543</td>\n",
       "      <td>2022</td>\n",
       "      <td>NaN</td>\n",
       "      <td>성숙기</td>\n",
       "    </tr>\n",
       "    <tr>\n",
       "      <th>25298</th>\n",
       "      <td>(주)에코매스</td>\n",
       "      <td>106852</td>\n",
       "      <td>2022</td>\n",
       "      <td>NaN</td>\n",
       "      <td>성장기</td>\n",
       "    </tr>\n",
       "    <tr>\n",
       "      <th>25299</th>\n",
       "      <td>(주)톱스톡케미칼</td>\n",
       "      <td>106986</td>\n",
       "      <td>2022</td>\n",
       "      <td>NaN</td>\n",
       "      <td>성숙기</td>\n",
       "    </tr>\n",
       "    <tr>\n",
       "      <th>25300</th>\n",
       "      <td>협성화학섬유(주)</td>\n",
       "      <td>107069</td>\n",
       "      <td>2022</td>\n",
       "      <td>NaN</td>\n",
       "      <td>도입기</td>\n",
       "    </tr>\n",
       "  </tbody>\n",
       "</table>\n",
       "<p>25301 rows × 5 columns</p>\n",
       "</div>"
      ],
      "text/plain": [
       "               회사명   거래소코드  회계년도  부실판단 기업수명주기\n",
       "0      주식회사형지에스콰이아   10032  2014   1.0    성장기\n",
       "1          글로웨이(주)   10037  2014   1.0    쇠퇴기\n",
       "2          청화산업(주)   10042  2015   1.0    성장기\n",
       "3          홍원제지(주)   10062  2014   1.0    도입기\n",
       "4        주식회사전주원파워   10128  2016   1.0    성숙기\n",
       "...            ...     ...   ...   ...    ...\n",
       "25296   (주)대흥엔지니어링  106517  2022   NaN    도입기\n",
       "25297    주식회사우먼패키지  106543  2022   NaN    성숙기\n",
       "25298      (주)에코매스  106852  2022   NaN    성장기\n",
       "25299    (주)톱스톡케미칼  106986  2022   NaN    성숙기\n",
       "25300    협성화학섬유(주)  107069  2022   NaN    도입기\n",
       "\n",
       "[25301 rows x 5 columns]"
      ]
     },
     "execution_count": 22,
     "metadata": {},
     "output_type": "execute_result"
    }
   ],
   "source": [
    "audit_df = pd.merge(audit_bk, audit_lc, how='inner', on=['회사명', '거래소코드', '회계년도'])\n",
    "audit_df"
   ]
  },
  {
   "cell_type": "code",
   "execution_count": 23,
   "metadata": {},
   "outputs": [
    {
     "data": {
      "text/html": [
       "<div>\n",
       "<style scoped>\n",
       "    .dataframe tbody tr th:only-of-type {\n",
       "        vertical-align: middle;\n",
       "    }\n",
       "\n",
       "    .dataframe tbody tr th {\n",
       "        vertical-align: top;\n",
       "    }\n",
       "\n",
       "    .dataframe thead th {\n",
       "        text-align: right;\n",
       "    }\n",
       "</style>\n",
       "<table border=\"1\" class=\"dataframe\">\n",
       "  <thead>\n",
       "    <tr style=\"text-align: right;\">\n",
       "      <th></th>\n",
       "      <th>회사명</th>\n",
       "      <th>거래소코드</th>\n",
       "      <th>회계년도</th>\n",
       "      <th>부실판단</th>\n",
       "      <th>기업수명주기</th>\n",
       "    </tr>\n",
       "  </thead>\n",
       "  <tbody>\n",
       "    <tr>\n",
       "      <th>0</th>\n",
       "      <td>케이알모터스(주)</td>\n",
       "      <td>40</td>\n",
       "      <td>2014</td>\n",
       "      <td>1.0</td>\n",
       "      <td>도입기</td>\n",
       "    </tr>\n",
       "    <tr>\n",
       "      <th>1</th>\n",
       "      <td>(주)천일고속</td>\n",
       "      <td>650</td>\n",
       "      <td>2022</td>\n",
       "      <td>1.0</td>\n",
       "      <td>쇠퇴기</td>\n",
       "    </tr>\n",
       "    <tr>\n",
       "      <th>2</th>\n",
       "      <td>이화산업(주)</td>\n",
       "      <td>760</td>\n",
       "      <td>2019</td>\n",
       "      <td>1.0</td>\n",
       "      <td>성숙기</td>\n",
       "    </tr>\n",
       "    <tr>\n",
       "      <th>3</th>\n",
       "      <td>신라섬유(주)</td>\n",
       "      <td>1000</td>\n",
       "      <td>2015</td>\n",
       "      <td>1.0</td>\n",
       "      <td>도입기</td>\n",
       "    </tr>\n",
       "    <tr>\n",
       "      <th>4</th>\n",
       "      <td>삼성제약(주)</td>\n",
       "      <td>1360</td>\n",
       "      <td>2014</td>\n",
       "      <td>1.0</td>\n",
       "      <td>쇠퇴기</td>\n",
       "    </tr>\n",
       "    <tr>\n",
       "      <th>...</th>\n",
       "      <td>...</td>\n",
       "      <td>...</td>\n",
       "      <td>...</td>\n",
       "      <td>...</td>\n",
       "      <td>...</td>\n",
       "    </tr>\n",
       "    <tr>\n",
       "      <th>884</th>\n",
       "      <td>(주)블리츠웨이</td>\n",
       "      <td>369370</td>\n",
       "      <td>2022</td>\n",
       "      <td>NaN</td>\n",
       "      <td>도입기</td>\n",
       "    </tr>\n",
       "    <tr>\n",
       "      <th>885</th>\n",
       "      <td>차이나크리스탈신소재홀딩스</td>\n",
       "      <td>900250</td>\n",
       "      <td>2022</td>\n",
       "      <td>0.0</td>\n",
       "      <td>성장기</td>\n",
       "    </tr>\n",
       "    <tr>\n",
       "      <th>886</th>\n",
       "      <td>헝셩그룹유한회사</td>\n",
       "      <td>900270</td>\n",
       "      <td>2022</td>\n",
       "      <td>0.0</td>\n",
       "      <td>성장기</td>\n",
       "    </tr>\n",
       "    <tr>\n",
       "      <th>887</th>\n",
       "      <td>오가닉티코스메틱스홀딩스컴퍼니리미티드</td>\n",
       "      <td>900300</td>\n",
       "      <td>2022</td>\n",
       "      <td>0.0</td>\n",
       "      <td>성장기</td>\n",
       "    </tr>\n",
       "    <tr>\n",
       "      <th>888</th>\n",
       "      <td>윙입푸드홀딩스</td>\n",
       "      <td>900340</td>\n",
       "      <td>2022</td>\n",
       "      <td>0.0</td>\n",
       "      <td>성장기</td>\n",
       "    </tr>\n",
       "  </tbody>\n",
       "</table>\n",
       "<p>889 rows × 5 columns</p>\n",
       "</div>"
      ],
      "text/plain": [
       "                     회사명   거래소코드  회계년도  부실판단 기업수명주기\n",
       "0              케이알모터스(주)      40  2014   1.0    도입기\n",
       "1                (주)천일고속     650  2022   1.0    쇠퇴기\n",
       "2                이화산업(주)     760  2019   1.0    성숙기\n",
       "3                신라섬유(주)    1000  2015   1.0    도입기\n",
       "4                삼성제약(주)    1360  2014   1.0    쇠퇴기\n",
       "..                   ...     ...   ...   ...    ...\n",
       "884             (주)블리츠웨이  369370  2022   NaN    도입기\n",
       "885        차이나크리스탈신소재홀딩스  900250  2022   0.0    성장기\n",
       "886             헝셩그룹유한회사  900270  2022   0.0    성장기\n",
       "887  오가닉티코스메틱스홀딩스컴퍼니리미티드  900300  2022   0.0    성장기\n",
       "888              윙입푸드홀딩스  900340  2022   0.0    성장기\n",
       "\n",
       "[889 rows x 5 columns]"
      ]
     },
     "execution_count": 23,
     "metadata": {},
     "output_type": "execute_result"
    }
   ],
   "source": [
    "kskqkn_df = pd.merge(kskqkn_bk, kskqkn_lc, how=\"inner\", on=[\"회사명\", \"거래소코드\", \"회계년도\"])\n",
    "kskqkn_df"
   ]
  },
  {
   "cell_type": "code",
   "execution_count": 24,
   "metadata": {},
   "outputs": [
    {
     "data": {
      "text/plain": [
       "회사명        0\n",
       "거래소코드      0\n",
       "회계년도       0\n",
       "부실판단      22\n",
       "기업수명주기     0\n",
       "dtype: int64"
      ]
     },
     "execution_count": 24,
     "metadata": {},
     "output_type": "execute_result"
    }
   ],
   "source": [
    "kskqkn_df.isna().sum()"
   ]
  },
  {
   "cell_type": "code",
   "execution_count": 25,
   "metadata": {},
   "outputs": [
    {
     "data": {
      "text/plain": [
       "회사명         0\n",
       "거래소코드       0\n",
       "회계년도        0\n",
       "부실판단      345\n",
       "기업수명주기      0\n",
       "dtype: int64"
      ]
     },
     "execution_count": 25,
     "metadata": {},
     "output_type": "execute_result"
    }
   ],
   "source": [
    "audit_df.isna().sum()"
   ]
  },
  {
   "cell_type": "code",
   "execution_count": 26,
   "metadata": {},
   "outputs": [
    {
     "data": {
      "text/plain": [
       "25301"
      ]
     },
     "execution_count": 26,
     "metadata": {},
     "output_type": "execute_result"
    }
   ],
   "source": [
    "len(audit_df)"
   ]
  },
  {
   "cell_type": "code",
   "execution_count": 27,
   "metadata": {},
   "outputs": [
    {
     "data": {
      "text/plain": [
       "1.3764762208745611"
      ]
     },
     "execution_count": 27,
     "metadata": {},
     "output_type": "execute_result"
    }
   ],
   "source": [
    "345/25064 * 100"
   ]
  },
  {
   "cell_type": "code",
   "execution_count": 28,
   "metadata": {},
   "outputs": [
    {
     "data": {
      "text/plain": [
       "988"
      ]
     },
     "execution_count": 28,
     "metadata": {},
     "output_type": "execute_result"
    }
   ],
   "source": [
    "len(kskqkn_bk)"
   ]
  },
  {
   "cell_type": "code",
   "execution_count": 29,
   "metadata": {},
   "outputs": [
    {
     "data": {
      "text/plain": [
       "889"
      ]
     },
     "execution_count": 29,
     "metadata": {},
     "output_type": "execute_result"
    }
   ],
   "source": [
    "len(kskqkn_df)"
   ]
  },
  {
   "cell_type": "code",
   "execution_count": 30,
   "metadata": {},
   "outputs": [],
   "source": [
    "kskqkn_df.to_csv(\"../1.데이터셋/Life_Cycle_Label/상장부실+수명주기.csv\")"
   ]
  },
  {
   "cell_type": "code",
   "execution_count": 31,
   "metadata": {},
   "outputs": [],
   "source": [
    "audit_df.to_csv(\"../1.데이터셋/Life_Cycle_Label/비상장부실+수명주기.csv\")"
   ]
  },
  {
   "cell_type": "code",
   "execution_count": null,
   "metadata": {},
   "outputs": [],
   "source": []
  }
 ],
 "metadata": {
  "kernelspec": {
   "display_name": "Python 3",
   "language": "python",
   "name": "python3"
  },
  "language_info": {
   "codemirror_mode": {
    "name": "ipython",
    "version": 3
   },
   "file_extension": ".py",
   "mimetype": "text/x-python",
   "name": "python",
   "nbconvert_exporter": "python",
   "pygments_lexer": "ipython3",
   "version": "3.11.4"
  }
 },
 "nbformat": 4,
 "nbformat_minor": 2
}
