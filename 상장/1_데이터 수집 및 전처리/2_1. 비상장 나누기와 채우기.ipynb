{
 "cells": [
  {
   "cell_type": "markdown",
   "metadata": {},
   "source": [
    "목적 : 비상장 외감기업 탐색적 데이터 분석 EDA\n",
    "====================="
   ]
  },
  {
   "cell_type": "markdown",
   "metadata": {},
   "source": [
    "목표 : 기업수명주기별, 부실별, 기초통계량, 정규성, Q-Qplot\n",
    "-------------------------    "
   ]
  },
  {
   "cell_type": "markdown",
   "metadata": {},
   "source": [
    "import modules"
   ]
  },
  {
   "cell_type": "code",
   "execution_count": 102,
   "metadata": {},
   "outputs": [],
   "source": [
    "import pandas as pd\n",
    "import numpy as np\n",
    "from collections import Counter\n",
    "\n",
    "%matplotlib inline\n",
    "import matplotlib.pyplot as plt \n",
    "import seaborn as sns\n",
    "from scipy import stats\n",
    "import statsmodels.api as sm\n",
    "\n",
    "import platform\n",
    "if platform.system() == \"Darwin\":           # MAC인 경우\n",
    "    plt.rc('font', family =\"AppleGothic\")\n",
    "else:\n",
    "    plt.rc('font',family='Malgun Gothic')\n",
    "\n",
    "#멧플로립에서 음수를 표시\n",
    "plt.rc('axes',unicode_minus=False)\n",
    "\n",
    "#워닝 메시지\n",
    "import warnings\n",
    "warnings.filterwarnings('ignore')\n",
    "\n",
    "\n",
    "import scipy.stats as stats\n",
    "from scipy.stats import shapiro, pearsonr\n",
    "from itertools import combinations\n",
    "from sklearn.model_selection import train_test_split"
   ]
  },
  {
   "cell_type": "markdown",
   "metadata": {},
   "source": [
    "환경설정"
   ]
  },
  {
   "cell_type": "code",
   "execution_count": 103,
   "metadata": {},
   "outputs": [],
   "source": [
    "# pd.set_option('display.max_rows', None)\n",
    "pd.reset_option('display.max_rows')\n",
    "\n",
    "# pd.set_option('display.max_columns', None)\n",
    "pd.reset_option('display.max_columns')\n",
    "\n",
    "pd.set_option('display.max_seq_items', None)\n",
    "\n",
    "pd.set_option('float_format', '{:.3f}'.format) # 소수점 3개까지 출력"
   ]
  },
  {
   "cell_type": "markdown",
   "metadata": {},
   "source": [
    "load file"
   ]
  },
  {
   "cell_type": "code",
   "execution_count": 104,
   "metadata": {},
   "outputs": [],
   "source": [
    "unlisted = pd.read_csv(\"../data/datasets/비상장수정필요피처.csv\")\n",
    "# 영업년수와 상장년수가 있더라"
   ]
  },
  {
   "cell_type": "code",
   "execution_count": 105,
   "metadata": {},
   "outputs": [
    {
     "data": {
      "text/plain": [
       "Index(['회사명', '거래소코드', '회계년도', 'CASH FLOW 대 부채비율', 'CASH FLOW 대 차입금비율',\n",
       "       'CASH FLOW 대 총자본비율', 'CASH FLOW 대 매출액비율', '유동비율', '당좌비율', '부채비율',\n",
       "       '유동부채비율', '차입금의존도', '순운전자본비율', '현금비율', '유동자산구성비율', '자기자본구성비율',\n",
       "       '자기자본순이익률', '경영자본순이익률', '매출액순이익률', '총자본사업이익률', '총자본영업이익률', '매출액영업이익률',\n",
       "       '금융비용부담률', 'CROE', '총자산증가율', '총자본증가율', '유동자산증가율', '비유동자산증가율', '매출액증가율',\n",
       "       '유형자산증가율', '부가가치(백만원)', '총자본투자효율', '설비투자효율', '부가가치율', '이윤분배율', '자본분배율',\n",
       "       '총자산회전율', '매출채권회전률', '당좌자산회전률', '유형자산회전율', '경영자본회전률', '총자본회전률',\n",
       "       '비유동자산회전률', '유동자산회전률', '영업년수', '쭈피처', '영업레버리지', '재무레버리지', '영업투자현금비율',\n",
       "       '영업재무현금비율', '도입기', '성숙기', '성장기', '쇠퇴기', '부실판단'],\n",
       "      dtype='object')"
      ]
     },
     "execution_count": 105,
     "metadata": {},
     "output_type": "execute_result"
    }
   ],
   "source": [
    "unlisted.columns"
   ]
  },
  {
   "cell_type": "markdown",
   "metadata": {},
   "source": [
    "# train test split"
   ]
  },
  {
   "cell_type": "code",
   "execution_count": 106,
   "metadata": {},
   "outputs": [],
   "source": [
    "X = unlisted.drop('부실판단', axis=1)\n",
    "y = unlisted['부실판단']\n",
    "# 데이터를 학습용과 테스트용으로 나눔\n",
    "unlisted_X_train, unlisted_X_test, unlisted_y_train, unlisted_y_test = train_test_split(X, y, test_size= 1 / (np.exp(1) + 1) , random_state=911, stratify=y)"
   ]
  },
  {
   "cell_type": "code",
   "execution_count": 107,
   "metadata": {},
   "outputs": [],
   "source": [
    "unlisted_X_train['부실판단'] = unlisted_y_train"
   ]
  },
  {
   "cell_type": "code",
   "execution_count": 108,
   "metadata": {},
   "outputs": [
    {
     "data": {
      "text/plain": [
       "20707"
      ]
     },
     "execution_count": 108,
     "metadata": {},
     "output_type": "execute_result"
    }
   ],
   "source": [
    "len(X)"
   ]
  },
  {
   "cell_type": "code",
   "execution_count": 109,
   "metadata": {},
   "outputs": [
    {
     "data": {
      "text/plain": [
       "15138"
      ]
     },
     "execution_count": 109,
     "metadata": {},
     "output_type": "execute_result"
    }
   ],
   "source": [
    "len(unlisted_X_train)"
   ]
  },
  {
   "cell_type": "code",
   "execution_count": 110,
   "metadata": {},
   "outputs": [
    {
     "data": {
      "text/plain": [
       "5569"
      ]
     },
     "execution_count": 110,
     "metadata": {},
     "output_type": "execute_result"
    }
   ],
   "source": [
    "len(unlisted_X_test)"
   ]
  },
  {
   "cell_type": "markdown",
   "metadata": {},
   "source": [
    "# describe"
   ]
  },
  {
   "cell_type": "markdown",
   "metadata": {},
   "source": [
    "all"
   ]
  },
  {
   "cell_type": "code",
   "execution_count": 111,
   "metadata": {},
   "outputs": [
    {
     "data": {
      "text/html": [
       "<div>\n",
       "<style scoped>\n",
       "    .dataframe tbody tr th:only-of-type {\n",
       "        vertical-align: middle;\n",
       "    }\n",
       "\n",
       "    .dataframe tbody tr th {\n",
       "        vertical-align: top;\n",
       "    }\n",
       "\n",
       "    .dataframe thead th {\n",
       "        text-align: right;\n",
       "    }\n",
       "</style>\n",
       "<table border=\"1\" class=\"dataframe\">\n",
       "  <thead>\n",
       "    <tr style=\"text-align: right;\">\n",
       "      <th></th>\n",
       "      <th>회사명</th>\n",
       "      <th>거래소코드</th>\n",
       "      <th>회계년도</th>\n",
       "      <th>CASH FLOW 대 부채비율</th>\n",
       "      <th>CASH FLOW 대 차입금비율</th>\n",
       "      <th>CASH FLOW 대 총자본비율</th>\n",
       "      <th>CASH FLOW 대 매출액비율</th>\n",
       "      <th>유동비율</th>\n",
       "      <th>당좌비율</th>\n",
       "      <th>부채비율</th>\n",
       "      <th>...</th>\n",
       "      <th>쭈피처</th>\n",
       "      <th>영업레버리지</th>\n",
       "      <th>재무레버리지</th>\n",
       "      <th>영업투자현금비율</th>\n",
       "      <th>영업재무현금비율</th>\n",
       "      <th>도입기</th>\n",
       "      <th>성숙기</th>\n",
       "      <th>성장기</th>\n",
       "      <th>쇠퇴기</th>\n",
       "      <th>부실판단</th>\n",
       "    </tr>\n",
       "  </thead>\n",
       "  <tbody>\n",
       "    <tr>\n",
       "      <th>7716</th>\n",
       "      <td>(주)동남코리아</td>\n",
       "      <td>70118</td>\n",
       "      <td>2022</td>\n",
       "      <td>-18.740</td>\n",
       "      <td>-39.580</td>\n",
       "      <td>-3.410</td>\n",
       "      <td>-27.330</td>\n",
       "      <td>26.090</td>\n",
       "      <td>17.940</td>\n",
       "      <td>22.200</td>\n",
       "      <td>...</td>\n",
       "      <td>0.414</td>\n",
       "      <td>-1.063</td>\n",
       "      <td>-0.394</td>\n",
       "      <td>76.854</td>\n",
       "      <td>-1.323</td>\n",
       "      <td>1</td>\n",
       "      <td>0</td>\n",
       "      <td>0</td>\n",
       "      <td>0</td>\n",
       "      <td>0.000</td>\n",
       "    </tr>\n",
       "    <tr>\n",
       "      <th>4739</th>\n",
       "      <td>피에스케이홀딩스(주)</td>\n",
       "      <td>20666</td>\n",
       "      <td>2019</td>\n",
       "      <td>130.010</td>\n",
       "      <td>22131.400</td>\n",
       "      <td>10.600</td>\n",
       "      <td>36.690</td>\n",
       "      <td>1385.060</td>\n",
       "      <td>1230.540</td>\n",
       "      <td>8.880</td>\n",
       "      <td>...</td>\n",
       "      <td>0.289</td>\n",
       "      <td>2.053</td>\n",
       "      <td>0.503</td>\n",
       "      <td>-1.195</td>\n",
       "      <td>-3.927</td>\n",
       "      <td>0</td>\n",
       "      <td>1</td>\n",
       "      <td>0</td>\n",
       "      <td>0</td>\n",
       "      <td>0.000</td>\n",
       "    </tr>\n",
       "    <tr>\n",
       "      <th>12685</th>\n",
       "      <td>금용해양산업주식회사</td>\n",
       "      <td>63939</td>\n",
       "      <td>2022</td>\n",
       "      <td>121.510</td>\n",
       "      <td>368.960</td>\n",
       "      <td>29.460</td>\n",
       "      <td>46.110</td>\n",
       "      <td>159.900</td>\n",
       "      <td>159.900</td>\n",
       "      <td>32.010</td>\n",
       "      <td>...</td>\n",
       "      <td>0.049</td>\n",
       "      <td>1.080</td>\n",
       "      <td>0.999</td>\n",
       "      <td>-2.679</td>\n",
       "      <td>-1.741</td>\n",
       "      <td>0</td>\n",
       "      <td>1</td>\n",
       "      <td>0</td>\n",
       "      <td>0</td>\n",
       "      <td>0.000</td>\n",
       "    </tr>\n",
       "    <tr>\n",
       "      <th>17405</th>\n",
       "      <td>주식회사대일</td>\n",
       "      <td>53349</td>\n",
       "      <td>2014</td>\n",
       "      <td>-2.390</td>\n",
       "      <td>-3.210</td>\n",
       "      <td>-1.850</td>\n",
       "      <td>-2.010</td>\n",
       "      <td>87.410</td>\n",
       "      <td>23.480</td>\n",
       "      <td>341.770</td>\n",
       "      <td>...</td>\n",
       "      <td>0.102</td>\n",
       "      <td>2.030</td>\n",
       "      <td>1.585</td>\n",
       "      <td>0.070</td>\n",
       "      <td>-0.142</td>\n",
       "      <td>1</td>\n",
       "      <td>0</td>\n",
       "      <td>0</td>\n",
       "      <td>0</td>\n",
       "      <td>1.000</td>\n",
       "    </tr>\n",
       "    <tr>\n",
       "      <th>18617</th>\n",
       "      <td>주식회사삼호프레스</td>\n",
       "      <td>83444</td>\n",
       "      <td>2018</td>\n",
       "      <td>-1.480</td>\n",
       "      <td>-2.030</td>\n",
       "      <td>-0.910</td>\n",
       "      <td>-2.540</td>\n",
       "      <td>71.900</td>\n",
       "      <td>59.910</td>\n",
       "      <td>160.760</td>\n",
       "      <td>...</td>\n",
       "      <td>0.237</td>\n",
       "      <td>6.115</td>\n",
       "      <td>0.447</td>\n",
       "      <td>-0.385</td>\n",
       "      <td>0.462</td>\n",
       "      <td>0</td>\n",
       "      <td>0</td>\n",
       "      <td>0</td>\n",
       "      <td>1</td>\n",
       "      <td>0.000</td>\n",
       "    </tr>\n",
       "    <tr>\n",
       "      <th>...</th>\n",
       "      <td>...</td>\n",
       "      <td>...</td>\n",
       "      <td>...</td>\n",
       "      <td>...</td>\n",
       "      <td>...</td>\n",
       "      <td>...</td>\n",
       "      <td>...</td>\n",
       "      <td>...</td>\n",
       "      <td>...</td>\n",
       "      <td>...</td>\n",
       "      <td>...</td>\n",
       "      <td>...</td>\n",
       "      <td>...</td>\n",
       "      <td>...</td>\n",
       "      <td>...</td>\n",
       "      <td>...</td>\n",
       "      <td>...</td>\n",
       "      <td>...</td>\n",
       "      <td>...</td>\n",
       "      <td>...</td>\n",
       "      <td>...</td>\n",
       "    </tr>\n",
       "    <tr>\n",
       "      <th>13013</th>\n",
       "      <td>농업회사법인한만두식품주식회사</td>\n",
       "      <td>82850</td>\n",
       "      <td>2022</td>\n",
       "      <td>6.720</td>\n",
       "      <td>8.850</td>\n",
       "      <td>5.280</td>\n",
       "      <td>5.950</td>\n",
       "      <td>95.860</td>\n",
       "      <td>63.560</td>\n",
       "      <td>367.770</td>\n",
       "      <td>...</td>\n",
       "      <td>0.172</td>\n",
       "      <td>4.615</td>\n",
       "      <td>1.414</td>\n",
       "      <td>-0.155</td>\n",
       "      <td>0.420</td>\n",
       "      <td>0</td>\n",
       "      <td>0</td>\n",
       "      <td>1</td>\n",
       "      <td>0</td>\n",
       "      <td>0.000</td>\n",
       "    </tr>\n",
       "    <tr>\n",
       "      <th>12657</th>\n",
       "      <td>금성냉장주식회사</td>\n",
       "      <td>29681</td>\n",
       "      <td>2014</td>\n",
       "      <td>-0.530</td>\n",
       "      <td>-1.020</td>\n",
       "      <td>-0.440</td>\n",
       "      <td>-0.520</td>\n",
       "      <td>28.600</td>\n",
       "      <td>13.240</td>\n",
       "      <td>484.900</td>\n",
       "      <td>...</td>\n",
       "      <td>0.083</td>\n",
       "      <td>-0.938</td>\n",
       "      <td>0.937</td>\n",
       "      <td>-1.821</td>\n",
       "      <td>-2.265</td>\n",
       "      <td>0</td>\n",
       "      <td>1</td>\n",
       "      <td>0</td>\n",
       "      <td>0</td>\n",
       "      <td>1.000</td>\n",
       "    </tr>\n",
       "    <tr>\n",
       "      <th>11925</th>\n",
       "      <td>(주)노비아레텍</td>\n",
       "      <td>70975</td>\n",
       "      <td>2022</td>\n",
       "      <td>-7.670</td>\n",
       "      <td>-11.400</td>\n",
       "      <td>-5.630</td>\n",
       "      <td>-4.340</td>\n",
       "      <td>100.960</td>\n",
       "      <td>38.140</td>\n",
       "      <td>276.910</td>\n",
       "      <td>...</td>\n",
       "      <td>0.069</td>\n",
       "      <td>7.126</td>\n",
       "      <td>1.497</td>\n",
       "      <td>3.183</td>\n",
       "      <td>-0.746</td>\n",
       "      <td>1</td>\n",
       "      <td>0</td>\n",
       "      <td>0</td>\n",
       "      <td>0</td>\n",
       "      <td>1.000</td>\n",
       "    </tr>\n",
       "    <tr>\n",
       "      <th>10995</th>\n",
       "      <td>새한에프앤비(주)</td>\n",
       "      <td>13761</td>\n",
       "      <td>2014</td>\n",
       "      <td>-9.190</td>\n",
       "      <td>-10.580</td>\n",
       "      <td>-6.360</td>\n",
       "      <td>-17.210</td>\n",
       "      <td>45.060</td>\n",
       "      <td>45.060</td>\n",
       "      <td>224.730</td>\n",
       "      <td>...</td>\n",
       "      <td>1.143</td>\n",
       "      <td>-7.013</td>\n",
       "      <td>1.058</td>\n",
       "      <td>-0.725</td>\n",
       "      <td>2.522</td>\n",
       "      <td>0</td>\n",
       "      <td>0</td>\n",
       "      <td>0</td>\n",
       "      <td>1</td>\n",
       "      <td>1.000</td>\n",
       "    </tr>\n",
       "    <tr>\n",
       "      <th>12115</th>\n",
       "      <td>(주)대림텍스</td>\n",
       "      <td>30610</td>\n",
       "      <td>2015</td>\n",
       "      <td>3.770</td>\n",
       "      <td>5.320</td>\n",
       "      <td>2.720</td>\n",
       "      <td>4.220</td>\n",
       "      <td>75.150</td>\n",
       "      <td>28.180</td>\n",
       "      <td>257.990</td>\n",
       "      <td>...</td>\n",
       "      <td>0.103</td>\n",
       "      <td>6.142</td>\n",
       "      <td>6.372</td>\n",
       "      <td>-0.342</td>\n",
       "      <td>1.970</td>\n",
       "      <td>0</td>\n",
       "      <td>0</td>\n",
       "      <td>1</td>\n",
       "      <td>0</td>\n",
       "      <td>1.000</td>\n",
       "    </tr>\n",
       "  </tbody>\n",
       "</table>\n",
       "<p>15138 rows × 55 columns</p>\n",
       "</div>"
      ],
      "text/plain": [
       "                   회사명  거래소코드  회계년도  CASH FLOW 대 부채비율  CASH FLOW 대 차입금비율  \\\n",
       "7716          (주)동남코리아  70118  2022           -18.740            -39.580   \n",
       "4739       피에스케이홀딩스(주)  20666  2019           130.010          22131.400   \n",
       "12685       금용해양산업주식회사  63939  2022           121.510            368.960   \n",
       "17405           주식회사대일  53349  2014            -2.390             -3.210   \n",
       "18617        주식회사삼호프레스  83444  2018            -1.480             -2.030   \n",
       "...                ...    ...   ...               ...                ...   \n",
       "13013  농업회사법인한만두식품주식회사  82850  2022             6.720              8.850   \n",
       "12657         금성냉장주식회사  29681  2014            -0.530             -1.020   \n",
       "11925         (주)노비아레텍  70975  2022            -7.670            -11.400   \n",
       "10995        새한에프앤비(주)  13761  2014            -9.190            -10.580   \n",
       "12115          (주)대림텍스  30610  2015             3.770              5.320   \n",
       "\n",
       "       CASH FLOW 대 총자본비율  CASH FLOW 대 매출액비율     유동비율     당좌비율    부채비율  ...  \\\n",
       "7716              -3.410            -27.330   26.090   17.940  22.200  ...   \n",
       "4739              10.600             36.690 1385.060 1230.540   8.880  ...   \n",
       "12685             29.460             46.110  159.900  159.900  32.010  ...   \n",
       "17405             -1.850             -2.010   87.410   23.480 341.770  ...   \n",
       "18617             -0.910             -2.540   71.900   59.910 160.760  ...   \n",
       "...                  ...                ...      ...      ...     ...  ...   \n",
       "13013              5.280              5.950   95.860   63.560 367.770  ...   \n",
       "12657             -0.440             -0.520   28.600   13.240 484.900  ...   \n",
       "11925             -5.630             -4.340  100.960   38.140 276.910  ...   \n",
       "10995             -6.360            -17.210   45.060   45.060 224.730  ...   \n",
       "12115              2.720              4.220   75.150   28.180 257.990  ...   \n",
       "\n",
       "        쭈피처  영업레버리지  재무레버리지  영업투자현금비율  영업재무현금비율  도입기  성숙기  성장기  쇠퇴기  부실판단  \n",
       "7716  0.414  -1.063  -0.394    76.854    -1.323    1    0    0    0 0.000  \n",
       "4739  0.289   2.053   0.503    -1.195    -3.927    0    1    0    0 0.000  \n",
       "12685 0.049   1.080   0.999    -2.679    -1.741    0    1    0    0 0.000  \n",
       "17405 0.102   2.030   1.585     0.070    -0.142    1    0    0    0 1.000  \n",
       "18617 0.237   6.115   0.447    -0.385     0.462    0    0    0    1 0.000  \n",
       "...     ...     ...     ...       ...       ...  ...  ...  ...  ...   ...  \n",
       "13013 0.172   4.615   1.414    -0.155     0.420    0    0    1    0 0.000  \n",
       "12657 0.083  -0.938   0.937    -1.821    -2.265    0    1    0    0 1.000  \n",
       "11925 0.069   7.126   1.497     3.183    -0.746    1    0    0    0 1.000  \n",
       "10995 1.143  -7.013   1.058    -0.725     2.522    0    0    0    1 1.000  \n",
       "12115 0.103   6.142   6.372    -0.342     1.970    0    0    1    0 1.000  \n",
       "\n",
       "[15138 rows x 55 columns]"
      ]
     },
     "execution_count": 111,
     "metadata": {},
     "output_type": "execute_result"
    }
   ],
   "source": [
    "unlisted_X_train"
   ]
  },
  {
   "cell_type": "code",
   "execution_count": 112,
   "metadata": {},
   "outputs": [
    {
     "data": {
      "text/html": [
       "<div>\n",
       "<style scoped>\n",
       "    .dataframe tbody tr th:only-of-type {\n",
       "        vertical-align: middle;\n",
       "    }\n",
       "\n",
       "    .dataframe tbody tr th {\n",
       "        vertical-align: top;\n",
       "    }\n",
       "\n",
       "    .dataframe thead th {\n",
       "        text-align: right;\n",
       "    }\n",
       "</style>\n",
       "<table border=\"1\" class=\"dataframe\">\n",
       "  <thead>\n",
       "    <tr style=\"text-align: right;\">\n",
       "      <th></th>\n",
       "      <th>거래소코드</th>\n",
       "      <th>회계년도</th>\n",
       "      <th>CASH FLOW 대 부채비율</th>\n",
       "      <th>CASH FLOW 대 차입금비율</th>\n",
       "      <th>CASH FLOW 대 총자본비율</th>\n",
       "      <th>CASH FLOW 대 매출액비율</th>\n",
       "      <th>유동비율</th>\n",
       "      <th>당좌비율</th>\n",
       "      <th>부채비율</th>\n",
       "      <th>유동부채비율</th>\n",
       "      <th>...</th>\n",
       "      <th>쭈피처</th>\n",
       "      <th>영업레버리지</th>\n",
       "      <th>재무레버리지</th>\n",
       "      <th>영업투자현금비율</th>\n",
       "      <th>영업재무현금비율</th>\n",
       "      <th>도입기</th>\n",
       "      <th>성숙기</th>\n",
       "      <th>성장기</th>\n",
       "      <th>쇠퇴기</th>\n",
       "      <th>부실판단</th>\n",
       "    </tr>\n",
       "  </thead>\n",
       "  <tbody>\n",
       "    <tr>\n",
       "      <th>count</th>\n",
       "      <td>15138.000</td>\n",
       "      <td>15138.000</td>\n",
       "      <td>15138.000</td>\n",
       "      <td>15138.000</td>\n",
       "      <td>15138.000</td>\n",
       "      <td>15138.000</td>\n",
       "      <td>15138.000</td>\n",
       "      <td>15138.000</td>\n",
       "      <td>15138.000</td>\n",
       "      <td>15138.000</td>\n",
       "      <td>...</td>\n",
       "      <td>15125.000</td>\n",
       "      <td>15138.000</td>\n",
       "      <td>15137.000</td>\n",
       "      <td>15138.000</td>\n",
       "      <td>14908.000</td>\n",
       "      <td>15138.000</td>\n",
       "      <td>15138.000</td>\n",
       "      <td>15138.000</td>\n",
       "      <td>15138.000</td>\n",
       "      <td>15138.000</td>\n",
       "    </tr>\n",
       "    <tr>\n",
       "      <th>mean</th>\n",
       "      <td>67773.011</td>\n",
       "      <td>2019.874</td>\n",
       "      <td>19.314</td>\n",
       "      <td>724.234</td>\n",
       "      <td>3.241</td>\n",
       "      <td>-22.741</td>\n",
       "      <td>431.245</td>\n",
       "      <td>358.475</td>\n",
       "      <td>1378.936</td>\n",
       "      <td>983.416</td>\n",
       "      <td>...</td>\n",
       "      <td>0.504</td>\n",
       "      <td>9.524</td>\n",
       "      <td>0.895</td>\n",
       "      <td>117.567</td>\n",
       "      <td>-5.947</td>\n",
       "      <td>0.218</td>\n",
       "      <td>0.368</td>\n",
       "      <td>0.191</td>\n",
       "      <td>0.223</td>\n",
       "      <td>0.361</td>\n",
       "    </tr>\n",
       "    <tr>\n",
       "      <th>std</th>\n",
       "      <td>23619.347</td>\n",
       "      <td>2.797</td>\n",
       "      <td>1261.272</td>\n",
       "      <td>31970.320</td>\n",
       "      <td>37.792</td>\n",
       "      <td>539.239</td>\n",
       "      <td>5347.663</td>\n",
       "      <td>5224.565</td>\n",
       "      <td>35986.322</td>\n",
       "      <td>30885.126</td>\n",
       "      <td>...</td>\n",
       "      <td>2.603</td>\n",
       "      <td>364.613</td>\n",
       "      <td>32.023</td>\n",
       "      <td>30082.690</td>\n",
       "      <td>678.697</td>\n",
       "      <td>0.413</td>\n",
       "      <td>0.482</td>\n",
       "      <td>0.393</td>\n",
       "      <td>0.416</td>\n",
       "      <td>0.480</td>\n",
       "    </tr>\n",
       "    <tr>\n",
       "      <th>min</th>\n",
       "      <td>10037.000</td>\n",
       "      <td>2014.000</td>\n",
       "      <td>-86467.650</td>\n",
       "      <td>-323703.660</td>\n",
       "      <td>-3388.620</td>\n",
       "      <td>-21110.050</td>\n",
       "      <td>0.070</td>\n",
       "      <td>0.070</td>\n",
       "      <td>0.000</td>\n",
       "      <td>0.000</td>\n",
       "      <td>...</td>\n",
       "      <td>0.000</td>\n",
       "      <td>-9823.523</td>\n",
       "      <td>-3383.817</td>\n",
       "      <td>-1368867.400</td>\n",
       "      <td>-35585.135</td>\n",
       "      <td>0.000</td>\n",
       "      <td>0.000</td>\n",
       "      <td>0.000</td>\n",
       "      <td>0.000</td>\n",
       "      <td>0.000</td>\n",
       "    </tr>\n",
       "    <tr>\n",
       "      <th>25%</th>\n",
       "      <td>52329.000</td>\n",
       "      <td>2018.000</td>\n",
       "      <td>-4.480</td>\n",
       "      <td>-5.120</td>\n",
       "      <td>-2.880</td>\n",
       "      <td>-4.890</td>\n",
       "      <td>56.050</td>\n",
       "      <td>31.620</td>\n",
       "      <td>60.845</td>\n",
       "      <td>36.860</td>\n",
       "      <td>...</td>\n",
       "      <td>0.086</td>\n",
       "      <td>-0.142</td>\n",
       "      <td>0.453</td>\n",
       "      <td>-2.527</td>\n",
       "      <td>-1.760</td>\n",
       "      <td>0.000</td>\n",
       "      <td>0.000</td>\n",
       "      <td>0.000</td>\n",
       "      <td>0.000</td>\n",
       "      <td>0.000</td>\n",
       "    </tr>\n",
       "    <tr>\n",
       "      <th>50%</th>\n",
       "      <td>70853.000</td>\n",
       "      <td>2022.000</td>\n",
       "      <td>2.920</td>\n",
       "      <td>1.510</td>\n",
       "      <td>1.860</td>\n",
       "      <td>2.360</td>\n",
       "      <td>108.715</td>\n",
       "      <td>72.700</td>\n",
       "      <td>163.855</td>\n",
       "      <td>102.565</td>\n",
       "      <td>...</td>\n",
       "      <td>0.162</td>\n",
       "      <td>2.091</td>\n",
       "      <td>0.956</td>\n",
       "      <td>-0.802</td>\n",
       "      <td>-0.770</td>\n",
       "      <td>0.000</td>\n",
       "      <td>0.000</td>\n",
       "      <td>0.000</td>\n",
       "      <td>0.000</td>\n",
       "      <td>0.000</td>\n",
       "    </tr>\n",
       "    <tr>\n",
       "      <th>75%</th>\n",
       "      <td>87046.750</td>\n",
       "      <td>2022.000</td>\n",
       "      <td>14.328</td>\n",
       "      <td>17.380</td>\n",
       "      <td>7.387</td>\n",
       "      <td>10.777</td>\n",
       "      <td>197.823</td>\n",
       "      <td>150.323</td>\n",
       "      <td>373.438</td>\n",
       "      <td>239.108</td>\n",
       "      <td>...</td>\n",
       "      <td>0.393</td>\n",
       "      <td>4.266</td>\n",
       "      <td>1.352</td>\n",
       "      <td>-0.063</td>\n",
       "      <td>0.216</td>\n",
       "      <td>0.000</td>\n",
       "      <td>1.000</td>\n",
       "      <td>0.000</td>\n",
       "      <td>0.000</td>\n",
       "      <td>1.000</td>\n",
       "    </tr>\n",
       "    <tr>\n",
       "      <th>max</th>\n",
       "      <td>101635.000</td>\n",
       "      <td>2022.000</td>\n",
       "      <td>113999.840</td>\n",
       "      <td>3194164.340</td>\n",
       "      <td>1274.750</td>\n",
       "      <td>21579.540</td>\n",
       "      <td>447760.110</td>\n",
       "      <td>447760.110</td>\n",
       "      <td>3385006.150</td>\n",
       "      <td>2905990.690</td>\n",
       "      <td>...</td>\n",
       "      <td>183.355</td>\n",
       "      <td>31473.399</td>\n",
       "      <td>743.445</td>\n",
       "      <td>3001862.889</td>\n",
       "      <td>32320.540</td>\n",
       "      <td>1.000</td>\n",
       "      <td>1.000</td>\n",
       "      <td>1.000</td>\n",
       "      <td>1.000</td>\n",
       "      <td>1.000</td>\n",
       "    </tr>\n",
       "  </tbody>\n",
       "</table>\n",
       "<p>8 rows × 54 columns</p>\n",
       "</div>"
      ],
      "text/plain": [
       "           거래소코드      회계년도  CASH FLOW 대 부채비율  CASH FLOW 대 차입금비율  \\\n",
       "count  15138.000 15138.000         15138.000          15138.000   \n",
       "mean   67773.011  2019.874            19.314            724.234   \n",
       "std    23619.347     2.797          1261.272          31970.320   \n",
       "min    10037.000  2014.000        -86467.650        -323703.660   \n",
       "25%    52329.000  2018.000            -4.480             -5.120   \n",
       "50%    70853.000  2022.000             2.920              1.510   \n",
       "75%    87046.750  2022.000            14.328             17.380   \n",
       "max   101635.000  2022.000        113999.840        3194164.340   \n",
       "\n",
       "       CASH FLOW 대 총자본비율  CASH FLOW 대 매출액비율       유동비율       당좌비율        부채비율  \\\n",
       "count          15138.000          15138.000  15138.000  15138.000   15138.000   \n",
       "mean               3.241            -22.741    431.245    358.475    1378.936   \n",
       "std               37.792            539.239   5347.663   5224.565   35986.322   \n",
       "min            -3388.620         -21110.050      0.070      0.070       0.000   \n",
       "25%               -2.880             -4.890     56.050     31.620      60.845   \n",
       "50%                1.860              2.360    108.715     72.700     163.855   \n",
       "75%                7.387             10.777    197.823    150.323     373.438   \n",
       "max             1274.750          21579.540 447760.110 447760.110 3385006.150   \n",
       "\n",
       "           유동부채비율  ...       쭈피처    영업레버리지    재무레버리지     영업투자현금비율   영업재무현금비율  \\\n",
       "count   15138.000  ... 15125.000 15138.000 15137.000    15138.000  14908.000   \n",
       "mean      983.416  ...     0.504     9.524     0.895      117.567     -5.947   \n",
       "std     30885.126  ...     2.603   364.613    32.023    30082.690    678.697   \n",
       "min         0.000  ...     0.000 -9823.523 -3383.817 -1368867.400 -35585.135   \n",
       "25%        36.860  ...     0.086    -0.142     0.453       -2.527     -1.760   \n",
       "50%       102.565  ...     0.162     2.091     0.956       -0.802     -0.770   \n",
       "75%       239.108  ...     0.393     4.266     1.352       -0.063      0.216   \n",
       "max   2905990.690  ...   183.355 31473.399   743.445  3001862.889  32320.540   \n",
       "\n",
       "            도입기       성숙기       성장기       쇠퇴기      부실판단  \n",
       "count 15138.000 15138.000 15138.000 15138.000 15138.000  \n",
       "mean      0.218     0.368     0.191     0.223     0.361  \n",
       "std       0.413     0.482     0.393     0.416     0.480  \n",
       "min       0.000     0.000     0.000     0.000     0.000  \n",
       "25%       0.000     0.000     0.000     0.000     0.000  \n",
       "50%       0.000     0.000     0.000     0.000     0.000  \n",
       "75%       0.000     1.000     0.000     0.000     1.000  \n",
       "max       1.000     1.000     1.000     1.000     1.000  \n",
       "\n",
       "[8 rows x 54 columns]"
      ]
     },
     "execution_count": 112,
     "metadata": {},
     "output_type": "execute_result"
    }
   ],
   "source": [
    "unlisted_X_train.describe()"
   ]
  },
  {
   "cell_type": "code",
   "execution_count": 113,
   "metadata": {},
   "outputs": [
    {
     "name": "stdout",
     "output_type": "stream",
     "text": [
      "<class 'pandas.core.frame.DataFrame'>\n",
      "Index: 15138 entries, 7716 to 12115\n",
      "Data columns (total 55 columns):\n",
      " #   Column             Non-Null Count  Dtype  \n",
      "---  ------             --------------  -----  \n",
      " 0   회사명                15138 non-null  object \n",
      " 1   거래소코드              15138 non-null  int64  \n",
      " 2   회계년도               15138 non-null  int64  \n",
      " 3   CASH FLOW 대 부채비율   15138 non-null  float64\n",
      " 4   CASH FLOW 대 차입금비율  15138 non-null  float64\n",
      " 5   CASH FLOW 대 총자본비율  15138 non-null  float64\n",
      " 6   CASH FLOW 대 매출액비율  15138 non-null  float64\n",
      " 7   유동비율               15138 non-null  float64\n",
      " 8   당좌비율               15138 non-null  float64\n",
      " 9   부채비율               15138 non-null  float64\n",
      " 10  유동부채비율             15138 non-null  float64\n",
      " 11  차입금의존도             15138 non-null  float64\n",
      " 12  순운전자본비율            15138 non-null  float64\n",
      " 13  현금비율               15138 non-null  float64\n",
      " 14  유동자산구성비율           15138 non-null  float64\n",
      " 15  자기자본구성비율           15138 non-null  float64\n",
      " 16  자기자본순이익률           15138 non-null  float64\n",
      " 17  경영자본순이익률           15138 non-null  float64\n",
      " 18  매출액순이익률            15138 non-null  float64\n",
      " 19  총자본사업이익률           15138 non-null  float64\n",
      " 20  총자본영업이익률           15138 non-null  float64\n",
      " 21  매출액영업이익률           15138 non-null  float64\n",
      " 22  금융비용부담률            15138 non-null  float64\n",
      " 23  CROE               15138 non-null  float64\n",
      " 24  총자산증가율             15138 non-null  float64\n",
      " 25  총자본증가율             15138 non-null  float64\n",
      " 26  유동자산증가율            15138 non-null  float64\n",
      " 27  비유동자산증가율           15138 non-null  float64\n",
      " 28  매출액증가율             15138 non-null  float64\n",
      " 29  유형자산증가율            15138 non-null  float64\n",
      " 30  부가가치(백만원)          15138 non-null  float64\n",
      " 31  총자본투자효율            15138 non-null  float64\n",
      " 32  설비투자효율             15138 non-null  float64\n",
      " 33  부가가치율              15138 non-null  float64\n",
      " 34  이윤분배율              15138 non-null  float64\n",
      " 35  자본분배율              15138 non-null  float64\n",
      " 36  총자산회전율             15138 non-null  float64\n",
      " 37  매출채권회전률            15138 non-null  float64\n",
      " 38  당좌자산회전률            15138 non-null  float64\n",
      " 39  유형자산회전율            15138 non-null  float64\n",
      " 40  경영자본회전률            15138 non-null  float64\n",
      " 41  총자본회전률             15138 non-null  float64\n",
      " 42  비유동자산회전률           15138 non-null  float64\n",
      " 43  유동자산회전률            15138 non-null  float64\n",
      " 44  영업년수               15138 non-null  float64\n",
      " 45  쭈피처                15125 non-null  float64\n",
      " 46  영업레버리지             15138 non-null  float64\n",
      " 47  재무레버리지             15137 non-null  float64\n",
      " 48  영업투자현금비율           15138 non-null  float64\n",
      " 49  영업재무현금비율           14908 non-null  float64\n",
      " 50  도입기                15138 non-null  int64  \n",
      " 51  성숙기                15138 non-null  int64  \n",
      " 52  성장기                15138 non-null  int64  \n",
      " 53  쇠퇴기                15138 non-null  int64  \n",
      " 54  부실판단               15138 non-null  float64\n",
      "dtypes: float64(48), int64(6), object(1)\n",
      "memory usage: 6.5+ MB\n"
     ]
    }
   ],
   "source": [
    "unlisted_X_train.info()"
   ]
  },
  {
   "cell_type": "code",
   "execution_count": 114,
   "metadata": {},
   "outputs": [
    {
     "data": {
      "text/plain": [
       "Index(['회사명', '거래소코드', '회계년도', 'CASH FLOW 대 부채비율', 'CASH FLOW 대 차입금비율',\n",
       "       'CASH FLOW 대 총자본비율', 'CASH FLOW 대 매출액비율', '유동비율', '당좌비율', '부채비율',\n",
       "       '유동부채비율', '차입금의존도', '순운전자본비율', '현금비율', '유동자산구성비율', '자기자본구성비율',\n",
       "       '자기자본순이익률', '경영자본순이익률', '매출액순이익률', '총자본사업이익률', '총자본영업이익률', '매출액영업이익률',\n",
       "       '금융비용부담률', 'CROE', '총자산증가율', '총자본증가율', '유동자산증가율', '비유동자산증가율', '매출액증가율',\n",
       "       '유형자산증가율', '부가가치(백만원)', '총자본투자효율', '설비투자효율', '부가가치율', '이윤분배율', '자본분배율',\n",
       "       '총자산회전율', '매출채권회전률', '당좌자산회전률', '유형자산회전율', '경영자본회전률', '총자본회전률',\n",
       "       '비유동자산회전률', '유동자산회전률', '영업년수', '쭈피처', '영업레버리지', '재무레버리지', '영업투자현금비율',\n",
       "       '영업재무현금비율', '도입기', '성숙기', '성장기', '쇠퇴기', '부실판단'],\n",
       "      dtype='object')"
      ]
     },
     "execution_count": 114,
     "metadata": {},
     "output_type": "execute_result"
    }
   ],
   "source": [
    "unlisted_X_train.columns"
   ]
  },
  {
   "cell_type": "code",
   "execution_count": 115,
   "metadata": {},
   "outputs": [
    {
     "data": {
      "text/plain": [
       "영업재무현금비율             230\n",
       "쭈피처                   13\n",
       "재무레버리지                 1\n",
       "회사명                    0\n",
       "경영자본회전률                0\n",
       "부가가치(백만원)              0\n",
       "총자본투자효율                0\n",
       "설비투자효율                 0\n",
       "부가가치율                  0\n",
       "이윤분배율                  0\n",
       "자본분배율                  0\n",
       "총자산회전율                 0\n",
       "매출채권회전률                0\n",
       "당좌자산회전률                0\n",
       "유형자산회전율                0\n",
       "비유동자산회전률               0\n",
       "총자본회전률                 0\n",
       "매출액증가율                 0\n",
       "유동자산회전률                0\n",
       "영업년수                   0\n",
       "영업레버리지                 0\n",
       "영업투자현금비율               0\n",
       "도입기                    0\n",
       "성숙기                    0\n",
       "성장기                    0\n",
       "쇠퇴기                    0\n",
       "유형자산증가율                0\n",
       "비유동자산증가율               0\n",
       "거래소코드                  0\n",
       "현금비율                   0\n",
       "회계년도                   0\n",
       "CASH FLOW 대 부채비율       0\n",
       "CASH FLOW 대 차입금비율      0\n",
       "CASH FLOW 대 총자본비율      0\n",
       "CASH FLOW 대 매출액비율      0\n",
       "유동비율                   0\n",
       "당좌비율                   0\n",
       "부채비율                   0\n",
       "유동부채비율                 0\n",
       "차입금의존도                 0\n",
       "순운전자본비율                0\n",
       "유동자산구성비율               0\n",
       "유동자산증가율                0\n",
       "자기자본구성비율               0\n",
       "자기자본순이익률               0\n",
       "경영자본순이익률               0\n",
       "매출액순이익률                0\n",
       "총자본사업이익률               0\n",
       "총자본영업이익률               0\n",
       "매출액영업이익률               0\n",
       "금융비용부담률                0\n",
       "CROE                   0\n",
       "총자산증가율                 0\n",
       "총자본증가율                 0\n",
       "부실판단                   0\n",
       "dtype: int64"
      ]
     },
     "execution_count": 115,
     "metadata": {},
     "output_type": "execute_result"
    }
   ],
   "source": [
    "unlisted_X_train.isna().sum().sort_values(ascending=False)"
   ]
  },
  {
   "cell_type": "code",
   "execution_count": 116,
   "metadata": {},
   "outputs": [
    {
     "data": {
      "text/plain": [
       "자본분배율               10.556\n",
       "이윤분배율                9.169\n",
       "총자산회전율               8.944\n",
       "총자산증가율               8.938\n",
       "차입금의존도               8.409\n",
       "CASH FLOW 대 차입금비율    8.376\n",
       "매출채권회전률              7.802\n",
       "자기자본순이익률             4.987\n",
       "자기자본구성비율             3.970\n",
       "부채비율                 3.957\n",
       "유동부채비율               3.957\n",
       "유형자산증가율              2.299\n",
       "설비투자효율               1.427\n",
       "유형자산회전율              1.249\n",
       "매출액증가율               0.958\n",
       "현금비율                 0.595\n",
       "금융비용부담률              0.548\n",
       "총자본회전률               0.357\n",
       "비유동자산증가율             0.304\n",
       "경영자본회전률              0.244\n",
       "비유동자산회전률             0.185\n",
       "영업년수                 0.106\n",
       "유동자산회전률              0.092\n",
       "총자본사업이익률             0.059\n",
       "총자본증가율               0.053\n",
       "총자본영업이익률             0.053\n",
       "CASH FLOW 대 총자본비율    0.053\n",
       "매출액영업이익률             0.053\n",
       "CASH FLOW 대 매출액비율    0.053\n",
       "경영자본순이익률             0.046\n",
       "CASH FLOW 대 부채비율     0.033\n",
       "유동자산증가율              0.026\n",
       "매출액순이익률              0.026\n",
       "총자본투자효율              0.026\n",
       "당좌자산회전률              0.013\n",
       "CROE                 0.013\n",
       "부가가치율                0.013\n",
       "순운전자본비율              0.007\n",
       "유동자산구성비율             0.007\n",
       "부가가치(백만원)            0.007\n",
       "영업레버리지               0.000\n",
       "재무레버리지               0.000\n",
       "쭈피처                  0.000\n",
       "영업투자현금비율             0.000\n",
       "회사명                  0.000\n",
       "거래소코드                0.000\n",
       "당좌비율                 0.000\n",
       "유동비율                 0.000\n",
       "회계년도                 0.000\n",
       "영업재무현금비율             0.000\n",
       "dtype: float64"
      ]
     },
     "execution_count": 116,
     "metadata": {},
     "output_type": "execute_result"
    }
   ],
   "source": [
    "unlisted_X_train.drop(['부실판단', '도입기', '성장기', '성숙기', '쇠퇴기'], axis=1).isin([0]).sum().sort_values(ascending=False) / len(unlisted_X_train) * 100"
   ]
  },
  {
   "cell_type": "code",
   "execution_count": 117,
   "metadata": {},
   "outputs": [
    {
     "data": {
      "text/plain": [
       "총자산증가율               1\n",
       "회사명                  0\n",
       "매출액증가율               0\n",
       "부가가치(백만원)            0\n",
       "총자본투자효율              0\n",
       "설비투자효율               0\n",
       "부가가치율                0\n",
       "이윤분배율                0\n",
       "자본분배율                0\n",
       "총자산회전율               0\n",
       "매출채권회전률              0\n",
       "당좌자산회전률              0\n",
       "유형자산회전율              0\n",
       "경영자본회전률              0\n",
       "총자본회전률               0\n",
       "비유동자산회전률             0\n",
       "유동자산회전률              0\n",
       "영업년수                 0\n",
       "쭈피처                  0\n",
       "영업레버리지               0\n",
       "재무레버리지               0\n",
       "영업투자현금비율             0\n",
       "영업재무현금비율             0\n",
       "도입기                  0\n",
       "성숙기                  0\n",
       "성장기                  0\n",
       "쇠퇴기                  0\n",
       "유형자산증가율              0\n",
       "비유동자산증가율             0\n",
       "거래소코드                0\n",
       "유동자산증가율              0\n",
       "회계년도                 0\n",
       "CASH FLOW 대 부채비율     0\n",
       "CASH FLOW 대 차입금비율    0\n",
       "CASH FLOW 대 총자본비율    0\n",
       "CASH FLOW 대 매출액비율    0\n",
       "유동비율                 0\n",
       "당좌비율                 0\n",
       "부채비율                 0\n",
       "유동부채비율               0\n",
       "차입금의존도               0\n",
       "순운전자본비율              0\n",
       "현금비율                 0\n",
       "유동자산구성비율             0\n",
       "자기자본구성비율             0\n",
       "자기자본순이익률             0\n",
       "경영자본순이익률             0\n",
       "매출액순이익률              0\n",
       "총자본사업이익률             0\n",
       "총자본영업이익률             0\n",
       "매출액영업이익률             0\n",
       "금융비용부담률              0\n",
       "CROE                 0\n",
       "총자본증가율               0\n",
       "부실판단                 0\n",
       "dtype: int64"
      ]
     },
     "execution_count": 117,
     "metadata": {},
     "output_type": "execute_result"
    }
   ],
   "source": [
    "unlisted_X_train.isin([np.inf]).sum().sort_values(ascending=False)"
   ]
  },
  {
   "cell_type": "code",
   "execution_count": 118,
   "metadata": {},
   "outputs": [
    {
     "data": {
      "text/plain": [
       "회사명                  0\n",
       "총자본회전률               0\n",
       "부가가치(백만원)            0\n",
       "총자본투자효율              0\n",
       "설비투자효율               0\n",
       "부가가치율                0\n",
       "이윤분배율                0\n",
       "자본분배율                0\n",
       "총자산회전율               0\n",
       "매출채권회전률              0\n",
       "당좌자산회전률              0\n",
       "유형자산회전율              0\n",
       "경영자본회전률              0\n",
       "비유동자산회전률             0\n",
       "매출액증가율               0\n",
       "유동자산회전률              0\n",
       "영업년수                 0\n",
       "쭈피처                  0\n",
       "영업레버리지               0\n",
       "재무레버리지               0\n",
       "영업투자현금비율             0\n",
       "영업재무현금비율             0\n",
       "도입기                  0\n",
       "성숙기                  0\n",
       "성장기                  0\n",
       "쇠퇴기                  0\n",
       "유형자산증가율              0\n",
       "비유동자산증가율             0\n",
       "거래소코드                0\n",
       "현금비율                 0\n",
       "회계년도                 0\n",
       "CASH FLOW 대 부채비율     0\n",
       "CASH FLOW 대 차입금비율    0\n",
       "CASH FLOW 대 총자본비율    0\n",
       "CASH FLOW 대 매출액비율    0\n",
       "유동비율                 0\n",
       "당좌비율                 0\n",
       "부채비율                 0\n",
       "유동부채비율               0\n",
       "차입금의존도               0\n",
       "순운전자본비율              0\n",
       "유동자산구성비율             0\n",
       "유동자산증가율              0\n",
       "자기자본구성비율             0\n",
       "자기자본순이익률             0\n",
       "경영자본순이익률             0\n",
       "매출액순이익률              0\n",
       "총자본사업이익률             0\n",
       "총자본영업이익률             0\n",
       "매출액영업이익률             0\n",
       "금융비용부담률              0\n",
       "CROE                 0\n",
       "총자산증가율               0\n",
       "총자본증가율               0\n",
       "부실판단                 0\n",
       "dtype: int64"
      ]
     },
     "execution_count": 118,
     "metadata": {},
     "output_type": "execute_result"
    }
   ],
   "source": [
    "unlisted_X_train.isin([-np.inf]).sum().sort_values(ascending=False)"
   ]
  },
  {
   "cell_type": "code",
   "execution_count": 119,
   "metadata": {},
   "outputs": [],
   "source": [
    "# inf_col = unlisted_X_train.isin([np.inf]).sum().sort_values(ascending=False).index[0]\n",
    "# max_value = unlisted_X_train[inf_col].replace(np.inf, np.nan).max()\n",
    "# unlisted_X_train[inf_col] = unlisted_X_train[inf_col].replace(np.inf, max_value)"
   ]
  },
  {
   "cell_type": "markdown",
   "metadata": {},
   "source": [
    "# 범주 분할 1현금흐름 / 2안정성 / 2수익성 / 3유동성 / 4성장성 / 5생산성 / 6활동성 / 7시장지표 및 기타"
   ]
  },
  {
   "cell_type": "code",
   "execution_count": 120,
   "metadata": {},
   "outputs": [],
   "source": [
    "# 비상장 all data는 unlisted\n",
    "# 비상장 label들\n",
    "\n",
    "labels = unlisted_X_train[\n",
    "    [\n",
    "        '거래소코드',\n",
    "        '회계년도',\n",
    "        '부실판단',\n",
    "        '도입기',\n",
    "        '성숙기',\n",
    "        '성장기',\n",
    "        '쇠퇴기'\n",
    "    ]\n",
    "]\n",
    "\n",
    "# 비상장 피처\n",
    "features = unlisted_X_train.drop(\n",
    "    labels=[\n",
    "        '회사명',\n",
    "        '거래소코드',\n",
    "        '회계년도',        \n",
    "        '도입기',\n",
    "        '성숙기',\n",
    "        '성장기',\n",
    "        '쇠퇴기',\n",
    "        '부실판단'        \n",
    "    ],\n",
    "    axis=1,    \n",
    ")\n",
    "\n",
    "# 1현금흐름 4개\n",
    "cash_ft1 = unlisted_X_train[\n",
    "    [\n",
    "        'CASH FLOW 대 부채비율',\n",
    "        'CASH FLOW 대 차입금비율',\n",
    "        'CASH FLOW 대 총자본비율',\n",
    "        'CASH FLOW 대 매출액비율',\n",
    "        '부실판단'\n",
    "    ]\n",
    "]\n",
    "\n",
    "# 2안정성 9개\n",
    "stability_ft1 = unlisted_X_train[\n",
    "    [\n",
    "        '유동비율',\n",
    "        '당좌비율',\n",
    "        '부채비율',\n",
    "        '유동부채비율',\n",
    "        '차입금의존도',\n",
    "        '순운전자본비율',\n",
    "        '현금비율',\n",
    "        '유동자산구성비율',\n",
    "        '자기자본구성비율',\n",
    "        '부실판단'\n",
    "    ]\n",
    "]\n",
    "\n",
    "# 3수익성 8개\n",
    "profitability_ft1 = unlisted_X_train[\n",
    "    [\n",
    "        '자기자본순이익률',\n",
    "        '경영자본순이익률',\n",
    "        '매출액순이익률',\n",
    "        '총자본사업이익률',\n",
    "        '총자본영업이익률',\n",
    "        '매출액영업이익률',\n",
    "        '금융비용부담률',\n",
    "        'CROE',\n",
    "        '부실판단'\n",
    "    ]\n",
    "]\n",
    "\n",
    "# 4성장성 6개\n",
    "growth_ft1 = unlisted_X_train[\n",
    "    [\n",
    "        '총자산증가율',\n",
    "        '총자본증가율',\n",
    "        '유동자산증가율',\n",
    "        '비유동자산증가율',\n",
    "        '매출액증가율',\n",
    "        '유형자산증가율',\n",
    "        '부실판단'\n",
    "    ]\n",
    "]\n",
    "\n",
    "# 5생산성 6개\n",
    "productivity_ft1 = unlisted_X_train[\n",
    "    [\n",
    "        '부가가치(백만원)',\n",
    "        '총자본투자효율',\n",
    "        '설비투자효율',\n",
    "        '부가가치율',\n",
    "        '이윤분배율',\n",
    "        '자본분배율',\n",
    "        '부실판단'\n",
    "    ]\n",
    "]\n",
    "\n",
    "# 6활동성 8개\n",
    "activity_ft1 = unlisted_X_train[\n",
    "    [\n",
    "        '총자산회전율',\n",
    "        '매출채권회전률',\n",
    "        '당좌자산회전률',\n",
    "        '유형자산회전율',\n",
    "        '경영자본회전률',\n",
    "        '총자본회전률',\n",
    "        '비유동자산회전률',\n",
    "        '유동자산회전률',\n",
    "        '부실판단'\n",
    "    ]\n",
    "]\n",
    "\n",
    "# 7기타\n",
    "etc_ft1 = unlisted_X_train[\n",
    "    [\n",
    "        '영업년수',\n",
    "        '쭈피처',\n",
    "        '영업레버리지',\n",
    "        '재무레버리지',\n",
    "        '영업투자현금비율',\n",
    "        '영업재무현금비율', \n",
    "        '도입기',\n",
    "        '성숙기',\n",
    "        '성장기',\n",
    "        '쇠퇴기',\n",
    "        '부실판단'\n",
    "    ]\n",
    "]"
   ]
  },
  {
   "cell_type": "code",
   "execution_count": 121,
   "metadata": {},
   "outputs": [
    {
     "data": {
      "text/plain": [
       "Index(['회사명', '거래소코드', '회계년도', 'CASH FLOW 대 부채비율', 'CASH FLOW 대 차입금비율',\n",
       "       'CASH FLOW 대 총자본비율', 'CASH FLOW 대 매출액비율', '유동비율', '당좌비율', '부채비율',\n",
       "       '유동부채비율', '차입금의존도', '순운전자본비율', '현금비율', '유동자산구성비율', '자기자본구성비율',\n",
       "       '자기자본순이익률', '경영자본순이익률', '매출액순이익률', '총자본사업이익률', '총자본영업이익률', '매출액영업이익률',\n",
       "       '금융비용부담률', 'CROE', '총자산증가율', '총자본증가율', '유동자산증가율', '비유동자산증가율', '매출액증가율',\n",
       "       '유형자산증가율', '부가가치(백만원)', '총자본투자효율', '설비투자효율', '부가가치율', '이윤분배율', '자본분배율',\n",
       "       '총자산회전율', '매출채권회전률', '당좌자산회전률', '유형자산회전율', '경영자본회전률', '총자본회전률',\n",
       "       '비유동자산회전률', '유동자산회전률', '영업년수', '쭈피처', '영업레버리지', '재무레버리지', '영업투자현금비율',\n",
       "       '영업재무현금비율', '도입기', '성숙기', '성장기', '쇠퇴기', '부실판단'],\n",
       "      dtype='object')"
      ]
     },
     "execution_count": 121,
     "metadata": {},
     "output_type": "execute_result"
    }
   ],
   "source": [
    "unlisted_X_train.columns"
   ]
  },
  {
   "cell_type": "markdown",
   "metadata": {},
   "source": [
    "1현금흐름 4가지 cash"
   ]
  },
  {
   "cell_type": "code",
   "execution_count": 122,
   "metadata": {},
   "outputs": [
    {
     "data": {
      "text/html": [
       "<div>\n",
       "<style scoped>\n",
       "    .dataframe tbody tr th:only-of-type {\n",
       "        vertical-align: middle;\n",
       "    }\n",
       "\n",
       "    .dataframe tbody tr th {\n",
       "        vertical-align: top;\n",
       "    }\n",
       "\n",
       "    .dataframe thead th {\n",
       "        text-align: right;\n",
       "    }\n",
       "</style>\n",
       "<table border=\"1\" class=\"dataframe\">\n",
       "  <thead>\n",
       "    <tr style=\"text-align: right;\">\n",
       "      <th></th>\n",
       "      <th>CASH FLOW 대 부채비율</th>\n",
       "      <th>CASH FLOW 대 차입금비율</th>\n",
       "      <th>CASH FLOW 대 총자본비율</th>\n",
       "      <th>CASH FLOW 대 매출액비율</th>\n",
       "      <th>부실판단</th>\n",
       "    </tr>\n",
       "  </thead>\n",
       "  <tbody>\n",
       "    <tr>\n",
       "      <th>count</th>\n",
       "      <td>15138.000</td>\n",
       "      <td>15138.000</td>\n",
       "      <td>15138.000</td>\n",
       "      <td>15138.000</td>\n",
       "      <td>15138.000</td>\n",
       "    </tr>\n",
       "    <tr>\n",
       "      <th>mean</th>\n",
       "      <td>19.314</td>\n",
       "      <td>724.234</td>\n",
       "      <td>3.241</td>\n",
       "      <td>-22.741</td>\n",
       "      <td>0.361</td>\n",
       "    </tr>\n",
       "    <tr>\n",
       "      <th>std</th>\n",
       "      <td>1261.272</td>\n",
       "      <td>31970.320</td>\n",
       "      <td>37.792</td>\n",
       "      <td>539.239</td>\n",
       "      <td>0.480</td>\n",
       "    </tr>\n",
       "    <tr>\n",
       "      <th>min</th>\n",
       "      <td>-86467.650</td>\n",
       "      <td>-323703.660</td>\n",
       "      <td>-3388.620</td>\n",
       "      <td>-21110.050</td>\n",
       "      <td>0.000</td>\n",
       "    </tr>\n",
       "    <tr>\n",
       "      <th>25%</th>\n",
       "      <td>-4.480</td>\n",
       "      <td>-5.120</td>\n",
       "      <td>-2.880</td>\n",
       "      <td>-4.890</td>\n",
       "      <td>0.000</td>\n",
       "    </tr>\n",
       "    <tr>\n",
       "      <th>50%</th>\n",
       "      <td>2.920</td>\n",
       "      <td>1.510</td>\n",
       "      <td>1.860</td>\n",
       "      <td>2.360</td>\n",
       "      <td>0.000</td>\n",
       "    </tr>\n",
       "    <tr>\n",
       "      <th>75%</th>\n",
       "      <td>14.328</td>\n",
       "      <td>17.380</td>\n",
       "      <td>7.387</td>\n",
       "      <td>10.777</td>\n",
       "      <td>1.000</td>\n",
       "    </tr>\n",
       "    <tr>\n",
       "      <th>max</th>\n",
       "      <td>113999.840</td>\n",
       "      <td>3194164.340</td>\n",
       "      <td>1274.750</td>\n",
       "      <td>21579.540</td>\n",
       "      <td>1.000</td>\n",
       "    </tr>\n",
       "  </tbody>\n",
       "</table>\n",
       "</div>"
      ],
      "text/plain": [
       "       CASH FLOW 대 부채비율  CASH FLOW 대 차입금비율  CASH FLOW 대 총자본비율  \\\n",
       "count         15138.000          15138.000          15138.000   \n",
       "mean             19.314            724.234              3.241   \n",
       "std            1261.272          31970.320             37.792   \n",
       "min          -86467.650        -323703.660          -3388.620   \n",
       "25%              -4.480             -5.120             -2.880   \n",
       "50%               2.920              1.510              1.860   \n",
       "75%              14.328             17.380              7.387   \n",
       "max          113999.840        3194164.340           1274.750   \n",
       "\n",
       "       CASH FLOW 대 매출액비율      부실판단  \n",
       "count          15138.000 15138.000  \n",
       "mean             -22.741     0.361  \n",
       "std              539.239     0.480  \n",
       "min           -21110.050     0.000  \n",
       "25%               -4.890     0.000  \n",
       "50%                2.360     0.000  \n",
       "75%               10.777     1.000  \n",
       "max            21579.540     1.000  "
      ]
     },
     "execution_count": 122,
     "metadata": {},
     "output_type": "execute_result"
    }
   ],
   "source": [
    "cash_ft1.describe()"
   ]
  },
  {
   "cell_type": "markdown",
   "metadata": {},
   "source": [
    "2안정성 9가지 stability"
   ]
  },
  {
   "cell_type": "code",
   "execution_count": 123,
   "metadata": {},
   "outputs": [
    {
     "data": {
      "text/html": [
       "<div>\n",
       "<style scoped>\n",
       "    .dataframe tbody tr th:only-of-type {\n",
       "        vertical-align: middle;\n",
       "    }\n",
       "\n",
       "    .dataframe tbody tr th {\n",
       "        vertical-align: top;\n",
       "    }\n",
       "\n",
       "    .dataframe thead th {\n",
       "        text-align: right;\n",
       "    }\n",
       "</style>\n",
       "<table border=\"1\" class=\"dataframe\">\n",
       "  <thead>\n",
       "    <tr style=\"text-align: right;\">\n",
       "      <th></th>\n",
       "      <th>유동비율</th>\n",
       "      <th>당좌비율</th>\n",
       "      <th>부채비율</th>\n",
       "      <th>유동부채비율</th>\n",
       "      <th>차입금의존도</th>\n",
       "      <th>순운전자본비율</th>\n",
       "      <th>현금비율</th>\n",
       "      <th>유동자산구성비율</th>\n",
       "      <th>자기자본구성비율</th>\n",
       "      <th>부실판단</th>\n",
       "    </tr>\n",
       "  </thead>\n",
       "  <tbody>\n",
       "    <tr>\n",
       "      <th>count</th>\n",
       "      <td>15138.000</td>\n",
       "      <td>15138.000</td>\n",
       "      <td>15138.000</td>\n",
       "      <td>15138.000</td>\n",
       "      <td>15138.000</td>\n",
       "      <td>15138.000</td>\n",
       "      <td>15138.000</td>\n",
       "      <td>15138.000</td>\n",
       "      <td>15138.000</td>\n",
       "      <td>15138.000</td>\n",
       "    </tr>\n",
       "    <tr>\n",
       "      <th>mean</th>\n",
       "      <td>431.245</td>\n",
       "      <td>358.475</td>\n",
       "      <td>1378.936</td>\n",
       "      <td>983.416</td>\n",
       "      <td>43.176</td>\n",
       "      <td>0.167</td>\n",
       "      <td>98.637</td>\n",
       "      <td>45.603</td>\n",
       "      <td>38.894</td>\n",
       "      <td>0.361</td>\n",
       "    </tr>\n",
       "    <tr>\n",
       "      <th>std</th>\n",
       "      <td>5347.663</td>\n",
       "      <td>5224.565</td>\n",
       "      <td>35986.322</td>\n",
       "      <td>30885.126</td>\n",
       "      <td>211.937</td>\n",
       "      <td>297.974</td>\n",
       "      <td>2442.606</td>\n",
       "      <td>28.781</td>\n",
       "      <td>26.118</td>\n",
       "      <td>0.480</td>\n",
       "    </tr>\n",
       "    <tr>\n",
       "      <th>min</th>\n",
       "      <td>0.070</td>\n",
       "      <td>0.070</td>\n",
       "      <td>0.000</td>\n",
       "      <td>0.000</td>\n",
       "      <td>0.000</td>\n",
       "      <td>-36261.200</td>\n",
       "      <td>-0.200</td>\n",
       "      <td>0.000</td>\n",
       "      <td>0.000</td>\n",
       "      <td>0.000</td>\n",
       "    </tr>\n",
       "    <tr>\n",
       "      <th>25%</th>\n",
       "      <td>56.050</td>\n",
       "      <td>31.620</td>\n",
       "      <td>60.845</td>\n",
       "      <td>36.860</td>\n",
       "      <td>17.360</td>\n",
       "      <td>-19.517</td>\n",
       "      <td>1.590</td>\n",
       "      <td>21.870</td>\n",
       "      <td>18.270</td>\n",
       "      <td>0.000</td>\n",
       "    </tr>\n",
       "    <tr>\n",
       "      <th>50%</th>\n",
       "      <td>108.715</td>\n",
       "      <td>72.700</td>\n",
       "      <td>163.855</td>\n",
       "      <td>102.565</td>\n",
       "      <td>42.040</td>\n",
       "      <td>2.925</td>\n",
       "      <td>8.605</td>\n",
       "      <td>43.180</td>\n",
       "      <td>35.145</td>\n",
       "      <td>0.000</td>\n",
       "    </tr>\n",
       "    <tr>\n",
       "      <th>75%</th>\n",
       "      <td>197.823</td>\n",
       "      <td>150.323</td>\n",
       "      <td>373.438</td>\n",
       "      <td>239.108</td>\n",
       "      <td>61.450</td>\n",
       "      <td>26.938</td>\n",
       "      <td>32.528</td>\n",
       "      <td>67.630</td>\n",
       "      <td>57.267</td>\n",
       "      <td>1.000</td>\n",
       "    </tr>\n",
       "    <tr>\n",
       "      <th>max</th>\n",
       "      <td>447760.110</td>\n",
       "      <td>447760.110</td>\n",
       "      <td>3385006.150</td>\n",
       "      <td>2905990.690</td>\n",
       "      <td>25856.360</td>\n",
       "      <td>99.690</td>\n",
       "      <td>275285.960</td>\n",
       "      <td>100.000</td>\n",
       "      <td>99.980</td>\n",
       "      <td>1.000</td>\n",
       "    </tr>\n",
       "  </tbody>\n",
       "</table>\n",
       "</div>"
      ],
      "text/plain": [
       "            유동비율       당좌비율        부채비율      유동부채비율    차입금의존도    순운전자본비율  \\\n",
       "count  15138.000  15138.000   15138.000   15138.000 15138.000  15138.000   \n",
       "mean     431.245    358.475    1378.936     983.416    43.176      0.167   \n",
       "std     5347.663   5224.565   35986.322   30885.126   211.937    297.974   \n",
       "min        0.070      0.070       0.000       0.000     0.000 -36261.200   \n",
       "25%       56.050     31.620      60.845      36.860    17.360    -19.517   \n",
       "50%      108.715     72.700     163.855     102.565    42.040      2.925   \n",
       "75%      197.823    150.323     373.438     239.108    61.450     26.938   \n",
       "max   447760.110 447760.110 3385006.150 2905990.690 25856.360     99.690   \n",
       "\n",
       "            현금비율  유동자산구성비율  자기자본구성비율      부실판단  \n",
       "count  15138.000 15138.000 15138.000 15138.000  \n",
       "mean      98.637    45.603    38.894     0.361  \n",
       "std     2442.606    28.781    26.118     0.480  \n",
       "min       -0.200     0.000     0.000     0.000  \n",
       "25%        1.590    21.870    18.270     0.000  \n",
       "50%        8.605    43.180    35.145     0.000  \n",
       "75%       32.528    67.630    57.267     1.000  \n",
       "max   275285.960   100.000    99.980     1.000  "
      ]
     },
     "execution_count": 123,
     "metadata": {},
     "output_type": "execute_result"
    }
   ],
   "source": [
    "stability_ft1.describe()"
   ]
  },
  {
   "cell_type": "markdown",
   "metadata": {},
   "source": [
    "3수익성 8가지 profitability"
   ]
  },
  {
   "cell_type": "code",
   "execution_count": 124,
   "metadata": {},
   "outputs": [
    {
     "data": {
      "text/html": [
       "<div>\n",
       "<style scoped>\n",
       "    .dataframe tbody tr th:only-of-type {\n",
       "        vertical-align: middle;\n",
       "    }\n",
       "\n",
       "    .dataframe tbody tr th {\n",
       "        vertical-align: top;\n",
       "    }\n",
       "\n",
       "    .dataframe thead th {\n",
       "        text-align: right;\n",
       "    }\n",
       "</style>\n",
       "<table border=\"1\" class=\"dataframe\">\n",
       "  <thead>\n",
       "    <tr style=\"text-align: right;\">\n",
       "      <th></th>\n",
       "      <th>부가가치(백만원)</th>\n",
       "      <th>총자본투자효율</th>\n",
       "      <th>설비투자효율</th>\n",
       "      <th>부가가치율</th>\n",
       "      <th>이윤분배율</th>\n",
       "      <th>자본분배율</th>\n",
       "      <th>부실판단</th>\n",
       "    </tr>\n",
       "  </thead>\n",
       "  <tbody>\n",
       "    <tr>\n",
       "      <th>count</th>\n",
       "      <td>15138.000</td>\n",
       "      <td>15138.000</td>\n",
       "      <td>15138.000</td>\n",
       "      <td>15138.000</td>\n",
       "      <td>15138.000</td>\n",
       "      <td>15138.000</td>\n",
       "      <td>15138.000</td>\n",
       "    </tr>\n",
       "    <tr>\n",
       "      <th>mean</th>\n",
       "      <td>6674.974</td>\n",
       "      <td>30.528</td>\n",
       "      <td>538176.590</td>\n",
       "      <td>46.170</td>\n",
       "      <td>-95.676</td>\n",
       "      <td>8.411</td>\n",
       "      <td>0.361</td>\n",
       "    </tr>\n",
       "    <tr>\n",
       "      <th>std</th>\n",
       "      <td>352176.022</td>\n",
       "      <td>1669.910</td>\n",
       "      <td>34787344.705</td>\n",
       "      <td>747.415</td>\n",
       "      <td>2660.033</td>\n",
       "      <td>1074.584</td>\n",
       "      <td>0.480</td>\n",
       "    </tr>\n",
       "    <tr>\n",
       "      <th>min</th>\n",
       "      <td>-68167.780</td>\n",
       "      <td>-246.020</td>\n",
       "      <td>-563419210.000</td>\n",
       "      <td>-13763.270</td>\n",
       "      <td>-208392.960</td>\n",
       "      <td>-94627.640</td>\n",
       "      <td>0.000</td>\n",
       "    </tr>\n",
       "    <tr>\n",
       "      <th>25%</th>\n",
       "      <td>937.122</td>\n",
       "      <td>4.870</td>\n",
       "      <td>9.130</td>\n",
       "      <td>7.960</td>\n",
       "      <td>-0.310</td>\n",
       "      <td>22.102</td>\n",
       "      <td>0.000</td>\n",
       "    </tr>\n",
       "    <tr>\n",
       "      <th>50%</th>\n",
       "      <td>2281.575</td>\n",
       "      <td>11.060</td>\n",
       "      <td>28.820</td>\n",
       "      <td>16.220</td>\n",
       "      <td>11.390</td>\n",
       "      <td>55.870</td>\n",
       "      <td>0.000</td>\n",
       "    </tr>\n",
       "    <tr>\n",
       "      <th>75%</th>\n",
       "      <td>4883.170</td>\n",
       "      <td>19.218</td>\n",
       "      <td>97.688</td>\n",
       "      <td>33.188</td>\n",
       "      <td>35.943</td>\n",
       "      <td>74.770</td>\n",
       "      <td>1.000</td>\n",
       "    </tr>\n",
       "    <tr>\n",
       "      <th>max</th>\n",
       "      <td>43327598.520</td>\n",
       "      <td>205392.780</td>\n",
       "      <td>4053778655.000</td>\n",
       "      <td>70947.820</td>\n",
       "      <td>8226.360</td>\n",
       "      <td>126.190</td>\n",
       "      <td>1.000</td>\n",
       "    </tr>\n",
       "  </tbody>\n",
       "</table>\n",
       "</div>"
      ],
      "text/plain": [
       "         부가가치(백만원)    총자본투자효율         설비투자효율      부가가치율       이윤분배율  \\\n",
       "count    15138.000  15138.000      15138.000  15138.000   15138.000   \n",
       "mean      6674.974     30.528     538176.590     46.170     -95.676   \n",
       "std     352176.022   1669.910   34787344.705    747.415    2660.033   \n",
       "min     -68167.780   -246.020 -563419210.000 -13763.270 -208392.960   \n",
       "25%        937.122      4.870          9.130      7.960      -0.310   \n",
       "50%       2281.575     11.060         28.820     16.220      11.390   \n",
       "75%       4883.170     19.218         97.688     33.188      35.943   \n",
       "max   43327598.520 205392.780 4053778655.000  70947.820    8226.360   \n",
       "\n",
       "           자본분배율      부실판단  \n",
       "count  15138.000 15138.000  \n",
       "mean       8.411     0.361  \n",
       "std     1074.584     0.480  \n",
       "min   -94627.640     0.000  \n",
       "25%       22.102     0.000  \n",
       "50%       55.870     0.000  \n",
       "75%       74.770     1.000  \n",
       "max      126.190     1.000  "
      ]
     },
     "execution_count": 124,
     "metadata": {},
     "output_type": "execute_result"
    }
   ],
   "source": [
    "productivity_ft1.describe()"
   ]
  },
  {
   "cell_type": "markdown",
   "metadata": {},
   "source": [
    "4성장성 6개 growth"
   ]
  },
  {
   "cell_type": "code",
   "execution_count": 125,
   "metadata": {},
   "outputs": [
    {
     "data": {
      "text/html": [
       "<div>\n",
       "<style scoped>\n",
       "    .dataframe tbody tr th:only-of-type {\n",
       "        vertical-align: middle;\n",
       "    }\n",
       "\n",
       "    .dataframe tbody tr th {\n",
       "        vertical-align: top;\n",
       "    }\n",
       "\n",
       "    .dataframe thead th {\n",
       "        text-align: right;\n",
       "    }\n",
       "</style>\n",
       "<table border=\"1\" class=\"dataframe\">\n",
       "  <thead>\n",
       "    <tr style=\"text-align: right;\">\n",
       "      <th></th>\n",
       "      <th>총자산증가율</th>\n",
       "      <th>총자본증가율</th>\n",
       "      <th>유동자산증가율</th>\n",
       "      <th>비유동자산증가율</th>\n",
       "      <th>매출액증가율</th>\n",
       "      <th>유형자산증가율</th>\n",
       "      <th>부실판단</th>\n",
       "    </tr>\n",
       "  </thead>\n",
       "  <tbody>\n",
       "    <tr>\n",
       "      <th>count</th>\n",
       "      <td>15138.000</td>\n",
       "      <td>15138.000</td>\n",
       "      <td>15138.000</td>\n",
       "      <td>15138.000</td>\n",
       "      <td>15138.000</td>\n",
       "      <td>15138.000</td>\n",
       "      <td>15138.000</td>\n",
       "    </tr>\n",
       "    <tr>\n",
       "      <th>mean</th>\n",
       "      <td>inf</td>\n",
       "      <td>6.597</td>\n",
       "      <td>216.233</td>\n",
       "      <td>302.142</td>\n",
       "      <td>228.063</td>\n",
       "      <td>192381.296</td>\n",
       "      <td>0.361</td>\n",
       "    </tr>\n",
       "    <tr>\n",
       "      <th>std</th>\n",
       "      <td>NaN</td>\n",
       "      <td>55.243</td>\n",
       "      <td>20598.824</td>\n",
       "      <td>11247.279</td>\n",
       "      <td>9908.536</td>\n",
       "      <td>21029765.042</td>\n",
       "      <td>0.480</td>\n",
       "    </tr>\n",
       "    <tr>\n",
       "      <th>min</th>\n",
       "      <td>-100.000</td>\n",
       "      <td>-99.890</td>\n",
       "      <td>-99.900</td>\n",
       "      <td>-100.000</td>\n",
       "      <td>-99.910</td>\n",
       "      <td>-100.000</td>\n",
       "      <td>0.000</td>\n",
       "    </tr>\n",
       "    <tr>\n",
       "      <th>25%</th>\n",
       "      <td>-4.447</td>\n",
       "      <td>-5.480</td>\n",
       "      <td>-14.060</td>\n",
       "      <td>-5.207</td>\n",
       "      <td>-12.510</td>\n",
       "      <td>-5.630</td>\n",
       "      <td>0.000</td>\n",
       "    </tr>\n",
       "    <tr>\n",
       "      <th>50%</th>\n",
       "      <td>0.523</td>\n",
       "      <td>1.820</td>\n",
       "      <td>3.990</td>\n",
       "      <td>-0.110</td>\n",
       "      <td>3.610</td>\n",
       "      <td>-1.040</td>\n",
       "      <td>0.000</td>\n",
       "    </tr>\n",
       "    <tr>\n",
       "      <th>75%</th>\n",
       "      <td>11.191</td>\n",
       "      <td>12.805</td>\n",
       "      <td>25.038</td>\n",
       "      <td>12.480</td>\n",
       "      <td>21.797</td>\n",
       "      <td>8.002</td>\n",
       "      <td>1.000</td>\n",
       "    </tr>\n",
       "    <tr>\n",
       "      <th>max</th>\n",
       "      <td>inf</td>\n",
       "      <td>5081.220</td>\n",
       "      <td>2531488.340</td>\n",
       "      <td>1154781.210</td>\n",
       "      <td>900275.000</td>\n",
       "      <td>2580453089.000</td>\n",
       "      <td>1.000</td>\n",
       "    </tr>\n",
       "  </tbody>\n",
       "</table>\n",
       "</div>"
      ],
      "text/plain": [
       "         총자산증가율    총자본증가율     유동자산증가율    비유동자산증가율     매출액증가율        유형자산증가율  \\\n",
       "count 15138.000 15138.000   15138.000   15138.000  15138.000      15138.000   \n",
       "mean        inf     6.597     216.233     302.142    228.063     192381.296   \n",
       "std         NaN    55.243   20598.824   11247.279   9908.536   21029765.042   \n",
       "min    -100.000   -99.890     -99.900    -100.000    -99.910       -100.000   \n",
       "25%      -4.447    -5.480     -14.060      -5.207    -12.510         -5.630   \n",
       "50%       0.523     1.820       3.990      -0.110      3.610         -1.040   \n",
       "75%      11.191    12.805      25.038      12.480     21.797          8.002   \n",
       "max         inf  5081.220 2531488.340 1154781.210 900275.000 2580453089.000   \n",
       "\n",
       "           부실판단  \n",
       "count 15138.000  \n",
       "mean      0.361  \n",
       "std       0.480  \n",
       "min       0.000  \n",
       "25%       0.000  \n",
       "50%       0.000  \n",
       "75%       1.000  \n",
       "max       1.000  "
      ]
     },
     "execution_count": 125,
     "metadata": {},
     "output_type": "execute_result"
    }
   ],
   "source": [
    "growth_ft1.describe()"
   ]
  },
  {
   "cell_type": "markdown",
   "metadata": {},
   "source": [
    "5생산성 6가지 productivity"
   ]
  },
  {
   "cell_type": "code",
   "execution_count": 126,
   "metadata": {},
   "outputs": [
    {
     "data": {
      "text/html": [
       "<div>\n",
       "<style scoped>\n",
       "    .dataframe tbody tr th:only-of-type {\n",
       "        vertical-align: middle;\n",
       "    }\n",
       "\n",
       "    .dataframe tbody tr th {\n",
       "        vertical-align: top;\n",
       "    }\n",
       "\n",
       "    .dataframe thead th {\n",
       "        text-align: right;\n",
       "    }\n",
       "</style>\n",
       "<table border=\"1\" class=\"dataframe\">\n",
       "  <thead>\n",
       "    <tr style=\"text-align: right;\">\n",
       "      <th></th>\n",
       "      <th>부가가치(백만원)</th>\n",
       "      <th>총자본투자효율</th>\n",
       "      <th>설비투자효율</th>\n",
       "      <th>부가가치율</th>\n",
       "      <th>이윤분배율</th>\n",
       "      <th>자본분배율</th>\n",
       "      <th>부실판단</th>\n",
       "    </tr>\n",
       "  </thead>\n",
       "  <tbody>\n",
       "    <tr>\n",
       "      <th>count</th>\n",
       "      <td>15138.000</td>\n",
       "      <td>15138.000</td>\n",
       "      <td>15138.000</td>\n",
       "      <td>15138.000</td>\n",
       "      <td>15138.000</td>\n",
       "      <td>15138.000</td>\n",
       "      <td>15138.000</td>\n",
       "    </tr>\n",
       "    <tr>\n",
       "      <th>mean</th>\n",
       "      <td>6674.974</td>\n",
       "      <td>30.528</td>\n",
       "      <td>538176.590</td>\n",
       "      <td>46.170</td>\n",
       "      <td>-95.676</td>\n",
       "      <td>8.411</td>\n",
       "      <td>0.361</td>\n",
       "    </tr>\n",
       "    <tr>\n",
       "      <th>std</th>\n",
       "      <td>352176.022</td>\n",
       "      <td>1669.910</td>\n",
       "      <td>34787344.705</td>\n",
       "      <td>747.415</td>\n",
       "      <td>2660.033</td>\n",
       "      <td>1074.584</td>\n",
       "      <td>0.480</td>\n",
       "    </tr>\n",
       "    <tr>\n",
       "      <th>min</th>\n",
       "      <td>-68167.780</td>\n",
       "      <td>-246.020</td>\n",
       "      <td>-563419210.000</td>\n",
       "      <td>-13763.270</td>\n",
       "      <td>-208392.960</td>\n",
       "      <td>-94627.640</td>\n",
       "      <td>0.000</td>\n",
       "    </tr>\n",
       "    <tr>\n",
       "      <th>25%</th>\n",
       "      <td>937.122</td>\n",
       "      <td>4.870</td>\n",
       "      <td>9.130</td>\n",
       "      <td>7.960</td>\n",
       "      <td>-0.310</td>\n",
       "      <td>22.102</td>\n",
       "      <td>0.000</td>\n",
       "    </tr>\n",
       "    <tr>\n",
       "      <th>50%</th>\n",
       "      <td>2281.575</td>\n",
       "      <td>11.060</td>\n",
       "      <td>28.820</td>\n",
       "      <td>16.220</td>\n",
       "      <td>11.390</td>\n",
       "      <td>55.870</td>\n",
       "      <td>0.000</td>\n",
       "    </tr>\n",
       "    <tr>\n",
       "      <th>75%</th>\n",
       "      <td>4883.170</td>\n",
       "      <td>19.218</td>\n",
       "      <td>97.688</td>\n",
       "      <td>33.188</td>\n",
       "      <td>35.943</td>\n",
       "      <td>74.770</td>\n",
       "      <td>1.000</td>\n",
       "    </tr>\n",
       "    <tr>\n",
       "      <th>max</th>\n",
       "      <td>43327598.520</td>\n",
       "      <td>205392.780</td>\n",
       "      <td>4053778655.000</td>\n",
       "      <td>70947.820</td>\n",
       "      <td>8226.360</td>\n",
       "      <td>126.190</td>\n",
       "      <td>1.000</td>\n",
       "    </tr>\n",
       "  </tbody>\n",
       "</table>\n",
       "</div>"
      ],
      "text/plain": [
       "         부가가치(백만원)    총자본투자효율         설비투자효율      부가가치율       이윤분배율  \\\n",
       "count    15138.000  15138.000      15138.000  15138.000   15138.000   \n",
       "mean      6674.974     30.528     538176.590     46.170     -95.676   \n",
       "std     352176.022   1669.910   34787344.705    747.415    2660.033   \n",
       "min     -68167.780   -246.020 -563419210.000 -13763.270 -208392.960   \n",
       "25%        937.122      4.870          9.130      7.960      -0.310   \n",
       "50%       2281.575     11.060         28.820     16.220      11.390   \n",
       "75%       4883.170     19.218         97.688     33.188      35.943   \n",
       "max   43327598.520 205392.780 4053778655.000  70947.820    8226.360   \n",
       "\n",
       "           자본분배율      부실판단  \n",
       "count  15138.000 15138.000  \n",
       "mean       8.411     0.361  \n",
       "std     1074.584     0.480  \n",
       "min   -94627.640     0.000  \n",
       "25%       22.102     0.000  \n",
       "50%       55.870     0.000  \n",
       "75%       74.770     1.000  \n",
       "max      126.190     1.000  "
      ]
     },
     "execution_count": 126,
     "metadata": {},
     "output_type": "execute_result"
    }
   ],
   "source": [
    "productivity_ft1.describe()"
   ]
  },
  {
   "cell_type": "markdown",
   "metadata": {},
   "source": [
    "6활동성 8가지 activity"
   ]
  },
  {
   "cell_type": "code",
   "execution_count": 127,
   "metadata": {},
   "outputs": [
    {
     "data": {
      "text/html": [
       "<div>\n",
       "<style scoped>\n",
       "    .dataframe tbody tr th:only-of-type {\n",
       "        vertical-align: middle;\n",
       "    }\n",
       "\n",
       "    .dataframe tbody tr th {\n",
       "        vertical-align: top;\n",
       "    }\n",
       "\n",
       "    .dataframe thead th {\n",
       "        text-align: right;\n",
       "    }\n",
       "</style>\n",
       "<table border=\"1\" class=\"dataframe\">\n",
       "  <thead>\n",
       "    <tr style=\"text-align: right;\">\n",
       "      <th></th>\n",
       "      <th>총자산회전율</th>\n",
       "      <th>매출채권회전률</th>\n",
       "      <th>당좌자산회전률</th>\n",
       "      <th>유형자산회전율</th>\n",
       "      <th>경영자본회전률</th>\n",
       "      <th>총자본회전률</th>\n",
       "      <th>비유동자산회전률</th>\n",
       "      <th>유동자산회전률</th>\n",
       "      <th>부실판단</th>\n",
       "    </tr>\n",
       "  </thead>\n",
       "  <tbody>\n",
       "    <tr>\n",
       "      <th>count</th>\n",
       "      <td>15138.000</td>\n",
       "      <td>15138.000</td>\n",
       "      <td>15138.000</td>\n",
       "      <td>15138.000</td>\n",
       "      <td>15138.000</td>\n",
       "      <td>15138.000</td>\n",
       "      <td>15138.000</td>\n",
       "      <td>15138.000</td>\n",
       "      <td>15138.000</td>\n",
       "    </tr>\n",
       "    <tr>\n",
       "      <th>mean</th>\n",
       "      <td>0.938</td>\n",
       "      <td>700.636</td>\n",
       "      <td>4.246</td>\n",
       "      <td>7686.666</td>\n",
       "      <td>1.119</td>\n",
       "      <td>0.996</td>\n",
       "      <td>22.988</td>\n",
       "      <td>2.830</td>\n",
       "      <td>0.361</td>\n",
       "    </tr>\n",
       "    <tr>\n",
       "      <th>std</th>\n",
       "      <td>1.663</td>\n",
       "      <td>46090.572</td>\n",
       "      <td>7.518</td>\n",
       "      <td>263256.703</td>\n",
       "      <td>1.590</td>\n",
       "      <td>1.404</td>\n",
       "      <td>375.217</td>\n",
       "      <td>5.156</td>\n",
       "      <td>0.480</td>\n",
       "    </tr>\n",
       "    <tr>\n",
       "      <th>min</th>\n",
       "      <td>0.000</td>\n",
       "      <td>0.000</td>\n",
       "      <td>0.000</td>\n",
       "      <td>0.000</td>\n",
       "      <td>0.000</td>\n",
       "      <td>0.000</td>\n",
       "      <td>0.000</td>\n",
       "      <td>0.000</td>\n",
       "      <td>0.000</td>\n",
       "    </tr>\n",
       "    <tr>\n",
       "      <th>25%</th>\n",
       "      <td>0.162</td>\n",
       "      <td>3.990</td>\n",
       "      <td>1.460</td>\n",
       "      <td>0.650</td>\n",
       "      <td>0.340</td>\n",
       "      <td>0.280</td>\n",
       "      <td>0.490</td>\n",
       "      <td>1.060</td>\n",
       "      <td>0.000</td>\n",
       "    </tr>\n",
       "    <tr>\n",
       "      <th>50%</th>\n",
       "      <td>0.652</td>\n",
       "      <td>7.150</td>\n",
       "      <td>2.880</td>\n",
       "      <td>2.060</td>\n",
       "      <td>0.820</td>\n",
       "      <td>0.730</td>\n",
       "      <td>1.460</td>\n",
       "      <td>1.990</td>\n",
       "      <td>0.000</td>\n",
       "    </tr>\n",
       "    <tr>\n",
       "      <th>75%</th>\n",
       "      <td>1.231</td>\n",
       "      <td>13.370</td>\n",
       "      <td>4.940</td>\n",
       "      <td>7.050</td>\n",
       "      <td>1.430</td>\n",
       "      <td>1.300</td>\n",
       "      <td>3.757</td>\n",
       "      <td>3.340</td>\n",
       "      <td>1.000</td>\n",
       "    </tr>\n",
       "    <tr>\n",
       "      <th>max</th>\n",
       "      <td>100.540</td>\n",
       "      <td>5386048.240</td>\n",
       "      <td>344.060</td>\n",
       "      <td>19823298.290</td>\n",
       "      <td>106.800</td>\n",
       "      <td>92.050</td>\n",
       "      <td>32610.280</td>\n",
       "      <td>344.060</td>\n",
       "      <td>1.000</td>\n",
       "    </tr>\n",
       "  </tbody>\n",
       "</table>\n",
       "</div>"
      ],
      "text/plain": [
       "         총자산회전율     매출채권회전률   당좌자산회전률      유형자산회전율   경영자본회전률    총자본회전률  \\\n",
       "count 15138.000   15138.000 15138.000    15138.000 15138.000 15138.000   \n",
       "mean      0.938     700.636     4.246     7686.666     1.119     0.996   \n",
       "std       1.663   46090.572     7.518   263256.703     1.590     1.404   \n",
       "min       0.000       0.000     0.000        0.000     0.000     0.000   \n",
       "25%       0.162       3.990     1.460        0.650     0.340     0.280   \n",
       "50%       0.652       7.150     2.880        2.060     0.820     0.730   \n",
       "75%       1.231      13.370     4.940        7.050     1.430     1.300   \n",
       "max     100.540 5386048.240   344.060 19823298.290   106.800    92.050   \n",
       "\n",
       "       비유동자산회전률   유동자산회전률      부실판단  \n",
       "count 15138.000 15138.000 15138.000  \n",
       "mean     22.988     2.830     0.361  \n",
       "std     375.217     5.156     0.480  \n",
       "min       0.000     0.000     0.000  \n",
       "25%       0.490     1.060     0.000  \n",
       "50%       1.460     1.990     0.000  \n",
       "75%       3.757     3.340     1.000  \n",
       "max   32610.280   344.060     1.000  "
      ]
     },
     "execution_count": 127,
     "metadata": {},
     "output_type": "execute_result"
    }
   ],
   "source": [
    "activity_ft1.describe()"
   ]
  },
  {
   "cell_type": "markdown",
   "metadata": {},
   "source": [
    "7기타 etc"
   ]
  },
  {
   "cell_type": "code",
   "execution_count": 128,
   "metadata": {},
   "outputs": [
    {
     "data": {
      "text/html": [
       "<div>\n",
       "<style scoped>\n",
       "    .dataframe tbody tr th:only-of-type {\n",
       "        vertical-align: middle;\n",
       "    }\n",
       "\n",
       "    .dataframe tbody tr th {\n",
       "        vertical-align: top;\n",
       "    }\n",
       "\n",
       "    .dataframe thead th {\n",
       "        text-align: right;\n",
       "    }\n",
       "</style>\n",
       "<table border=\"1\" class=\"dataframe\">\n",
       "  <thead>\n",
       "    <tr style=\"text-align: right;\">\n",
       "      <th></th>\n",
       "      <th>영업년수</th>\n",
       "      <th>쭈피처</th>\n",
       "      <th>영업레버리지</th>\n",
       "      <th>재무레버리지</th>\n",
       "      <th>영업투자현금비율</th>\n",
       "      <th>영업재무현금비율</th>\n",
       "      <th>도입기</th>\n",
       "      <th>성숙기</th>\n",
       "      <th>성장기</th>\n",
       "      <th>쇠퇴기</th>\n",
       "      <th>부실판단</th>\n",
       "    </tr>\n",
       "  </thead>\n",
       "  <tbody>\n",
       "    <tr>\n",
       "      <th>count</th>\n",
       "      <td>15138.000</td>\n",
       "      <td>15125.000</td>\n",
       "      <td>15138.000</td>\n",
       "      <td>15137.000</td>\n",
       "      <td>15138.000</td>\n",
       "      <td>14908.000</td>\n",
       "      <td>15138.000</td>\n",
       "      <td>15138.000</td>\n",
       "      <td>15138.000</td>\n",
       "      <td>15138.000</td>\n",
       "      <td>15138.000</td>\n",
       "    </tr>\n",
       "    <tr>\n",
       "      <th>mean</th>\n",
       "      <td>21.322</td>\n",
       "      <td>0.504</td>\n",
       "      <td>9.524</td>\n",
       "      <td>0.895</td>\n",
       "      <td>117.567</td>\n",
       "      <td>-5.947</td>\n",
       "      <td>0.218</td>\n",
       "      <td>0.368</td>\n",
       "      <td>0.191</td>\n",
       "      <td>0.223</td>\n",
       "      <td>0.361</td>\n",
       "    </tr>\n",
       "    <tr>\n",
       "      <th>std</th>\n",
       "      <td>11.151</td>\n",
       "      <td>2.603</td>\n",
       "      <td>364.613</td>\n",
       "      <td>32.023</td>\n",
       "      <td>30082.690</td>\n",
       "      <td>678.697</td>\n",
       "      <td>0.413</td>\n",
       "      <td>0.482</td>\n",
       "      <td>0.393</td>\n",
       "      <td>0.416</td>\n",
       "      <td>0.480</td>\n",
       "    </tr>\n",
       "    <tr>\n",
       "      <th>min</th>\n",
       "      <td>0.000</td>\n",
       "      <td>0.000</td>\n",
       "      <td>-9823.523</td>\n",
       "      <td>-3383.817</td>\n",
       "      <td>-1368867.400</td>\n",
       "      <td>-35585.135</td>\n",
       "      <td>0.000</td>\n",
       "      <td>0.000</td>\n",
       "      <td>0.000</td>\n",
       "      <td>0.000</td>\n",
       "      <td>0.000</td>\n",
       "    </tr>\n",
       "    <tr>\n",
       "      <th>25%</th>\n",
       "      <td>13.000</td>\n",
       "      <td>0.086</td>\n",
       "      <td>-0.142</td>\n",
       "      <td>0.453</td>\n",
       "      <td>-2.527</td>\n",
       "      <td>-1.760</td>\n",
       "      <td>0.000</td>\n",
       "      <td>0.000</td>\n",
       "      <td>0.000</td>\n",
       "      <td>0.000</td>\n",
       "      <td>0.000</td>\n",
       "    </tr>\n",
       "    <tr>\n",
       "      <th>50%</th>\n",
       "      <td>20.000</td>\n",
       "      <td>0.162</td>\n",
       "      <td>2.091</td>\n",
       "      <td>0.956</td>\n",
       "      <td>-0.802</td>\n",
       "      <td>-0.770</td>\n",
       "      <td>0.000</td>\n",
       "      <td>0.000</td>\n",
       "      <td>0.000</td>\n",
       "      <td>0.000</td>\n",
       "      <td>0.000</td>\n",
       "    </tr>\n",
       "    <tr>\n",
       "      <th>75%</th>\n",
       "      <td>27.000</td>\n",
       "      <td>0.393</td>\n",
       "      <td>4.266</td>\n",
       "      <td>1.352</td>\n",
       "      <td>-0.063</td>\n",
       "      <td>0.216</td>\n",
       "      <td>0.000</td>\n",
       "      <td>1.000</td>\n",
       "      <td>0.000</td>\n",
       "      <td>0.000</td>\n",
       "      <td>1.000</td>\n",
       "    </tr>\n",
       "    <tr>\n",
       "      <th>max</th>\n",
       "      <td>110.000</td>\n",
       "      <td>183.355</td>\n",
       "      <td>31473.399</td>\n",
       "      <td>743.445</td>\n",
       "      <td>3001862.889</td>\n",
       "      <td>32320.540</td>\n",
       "      <td>1.000</td>\n",
       "      <td>1.000</td>\n",
       "      <td>1.000</td>\n",
       "      <td>1.000</td>\n",
       "      <td>1.000</td>\n",
       "    </tr>\n",
       "  </tbody>\n",
       "</table>\n",
       "</div>"
      ],
      "text/plain": [
       "           영업년수       쭈피처    영업레버리지    재무레버리지     영업투자현금비율   영업재무현금비율  \\\n",
       "count 15138.000 15125.000 15138.000 15137.000    15138.000  14908.000   \n",
       "mean     21.322     0.504     9.524     0.895      117.567     -5.947   \n",
       "std      11.151     2.603   364.613    32.023    30082.690    678.697   \n",
       "min       0.000     0.000 -9823.523 -3383.817 -1368867.400 -35585.135   \n",
       "25%      13.000     0.086    -0.142     0.453       -2.527     -1.760   \n",
       "50%      20.000     0.162     2.091     0.956       -0.802     -0.770   \n",
       "75%      27.000     0.393     4.266     1.352       -0.063      0.216   \n",
       "max     110.000   183.355 31473.399   743.445  3001862.889  32320.540   \n",
       "\n",
       "            도입기       성숙기       성장기       쇠퇴기      부실판단  \n",
       "count 15138.000 15138.000 15138.000 15138.000 15138.000  \n",
       "mean      0.218     0.368     0.191     0.223     0.361  \n",
       "std       0.413     0.482     0.393     0.416     0.480  \n",
       "min       0.000     0.000     0.000     0.000     0.000  \n",
       "25%       0.000     0.000     0.000     0.000     0.000  \n",
       "50%       0.000     0.000     0.000     0.000     0.000  \n",
       "75%       0.000     1.000     0.000     0.000     1.000  \n",
       "max       1.000     1.000     1.000     1.000     1.000  "
      ]
     },
     "execution_count": 128,
     "metadata": {},
     "output_type": "execute_result"
    }
   ],
   "source": [
    "etc_ft1.describe()"
   ]
  },
  {
   "cell_type": "markdown",
   "metadata": {},
   "source": [
    "# 도입정상"
   ]
  },
  {
   "cell_type": "code",
   "execution_count": 129,
   "metadata": {},
   "outputs": [],
   "source": [
    "도입정상 = unlisted_X_train[(unlisted_X_train['도입기'] == 1) & (unlisted_X_train['부실판단'] == 0)]"
   ]
  },
  {
   "cell_type": "markdown",
   "metadata": {},
   "source": [
    "도입정상 결측치확인"
   ]
  },
  {
   "cell_type": "code",
   "execution_count": 130,
   "metadata": {},
   "outputs": [
    {
     "data": {
      "text/plain": [
       "회사명                  0\n",
       "총자본회전률               0\n",
       "부가가치(백만원)            0\n",
       "총자본투자효율              0\n",
       "설비투자효율               0\n",
       "부가가치율                0\n",
       "이윤분배율                0\n",
       "자본분배율                0\n",
       "총자산회전율               0\n",
       "매출채권회전률              0\n",
       "당좌자산회전률              0\n",
       "유형자산회전율              0\n",
       "경영자본회전률              0\n",
       "비유동자산회전률             0\n",
       "매출액증가율               0\n",
       "유동자산회전률              0\n",
       "영업년수                 0\n",
       "쭈피처                  0\n",
       "영업레버리지               0\n",
       "재무레버리지               0\n",
       "영업투자현금비율             0\n",
       "영업재무현금비율             0\n",
       "도입기                  0\n",
       "성숙기                  0\n",
       "성장기                  0\n",
       "쇠퇴기                  0\n",
       "유형자산증가율              0\n",
       "비유동자산증가율             0\n",
       "거래소코드                0\n",
       "현금비율                 0\n",
       "회계년도                 0\n",
       "CASH FLOW 대 부채비율     0\n",
       "CASH FLOW 대 차입금비율    0\n",
       "CASH FLOW 대 총자본비율    0\n",
       "CASH FLOW 대 매출액비율    0\n",
       "유동비율                 0\n",
       "당좌비율                 0\n",
       "부채비율                 0\n",
       "유동부채비율               0\n",
       "차입금의존도               0\n",
       "순운전자본비율              0\n",
       "유동자산구성비율             0\n",
       "유동자산증가율              0\n",
       "자기자본구성비율             0\n",
       "자기자본순이익률             0\n",
       "경영자본순이익률             0\n",
       "매출액순이익률              0\n",
       "총자본사업이익률             0\n",
       "총자본영업이익률             0\n",
       "매출액영업이익률             0\n",
       "금융비용부담률              0\n",
       "CROE                 0\n",
       "총자산증가율               0\n",
       "총자본증가율               0\n",
       "부실판단                 0\n",
       "dtype: int64"
      ]
     },
     "execution_count": 130,
     "metadata": {},
     "output_type": "execute_result"
    }
   ],
   "source": [
    "도입정상.isna().sum().sort_values(ascending=False)"
   ]
  },
  {
   "cell_type": "markdown",
   "metadata": {},
   "source": [
    "# 도입부실"
   ]
  },
  {
   "cell_type": "code",
   "execution_count": 131,
   "metadata": {},
   "outputs": [],
   "source": [
    "도입부실 = unlisted_X_train[(unlisted_X_train['도입기'] == 1) & (unlisted_X_train['부실판단'] == 1)]"
   ]
  },
  {
   "cell_type": "markdown",
   "metadata": {},
   "source": [
    "도입부실 결측치확인"
   ]
  },
  {
   "cell_type": "code",
   "execution_count": 132,
   "metadata": {},
   "outputs": [
    {
     "data": {
      "text/plain": [
       "쭈피처                  1\n",
       "회사명                  0\n",
       "총자본회전률               0\n",
       "부가가치(백만원)            0\n",
       "총자본투자효율              0\n",
       "설비투자효율               0\n",
       "부가가치율                0\n",
       "이윤분배율                0\n",
       "자본분배율                0\n",
       "총자산회전율               0\n",
       "매출채권회전률              0\n",
       "당좌자산회전률              0\n",
       "유형자산회전율              0\n",
       "경영자본회전률              0\n",
       "비유동자산회전률             0\n",
       "매출액증가율               0\n",
       "유동자산회전률              0\n",
       "영업년수                 0\n",
       "영업레버리지               0\n",
       "재무레버리지               0\n",
       "영업투자현금비율             0\n",
       "영업재무현금비율             0\n",
       "도입기                  0\n",
       "성숙기                  0\n",
       "성장기                  0\n",
       "쇠퇴기                  0\n",
       "유형자산증가율              0\n",
       "비유동자산증가율             0\n",
       "거래소코드                0\n",
       "현금비율                 0\n",
       "회계년도                 0\n",
       "CASH FLOW 대 부채비율     0\n",
       "CASH FLOW 대 차입금비율    0\n",
       "CASH FLOW 대 총자본비율    0\n",
       "CASH FLOW 대 매출액비율    0\n",
       "유동비율                 0\n",
       "당좌비율                 0\n",
       "부채비율                 0\n",
       "유동부채비율               0\n",
       "차입금의존도               0\n",
       "순운전자본비율              0\n",
       "유동자산구성비율             0\n",
       "유동자산증가율              0\n",
       "자기자본구성비율             0\n",
       "자기자본순이익률             0\n",
       "경영자본순이익률             0\n",
       "매출액순이익률              0\n",
       "총자본사업이익률             0\n",
       "총자본영업이익률             0\n",
       "매출액영업이익률             0\n",
       "금융비용부담률              0\n",
       "CROE                 0\n",
       "총자산증가율               0\n",
       "총자본증가율               0\n",
       "부실판단                 0\n",
       "dtype: int64"
      ]
     },
     "execution_count": 132,
     "metadata": {},
     "output_type": "execute_result"
    }
   ],
   "source": [
    "도입부실.isna().sum().sort_values(ascending=False)"
   ]
  },
  {
   "cell_type": "markdown",
   "metadata": {},
   "source": [
    "정규성 확인"
   ]
  },
  {
   "cell_type": "code",
   "execution_count": 133,
   "metadata": {},
   "outputs": [],
   "source": [
    "na_col = 도입부실.isna().sum().sort_values(ascending=False).index[0]"
   ]
  },
  {
   "cell_type": "code",
   "execution_count": 134,
   "metadata": {},
   "outputs": [],
   "source": [
    "# 테스트를 위한 샘플 데이터 생성\n",
    "data = 도입부실[na_col].dropna()"
   ]
  },
  {
   "cell_type": "code",
   "execution_count": 135,
   "metadata": {},
   "outputs": [
    {
     "name": "stdout",
     "output_type": "stream",
     "text": [
      "검정 통계량: 0.11454951763153076, p-value: 0.0\n",
      "데이터는 정규 분포를 따르지 않습니다 (귀무가설을 기각)\n"
     ]
    }
   ],
   "source": [
    "from scipy.stats import shapiro\n",
    "\n",
    "# 샤피로-윌크 검정 수행\n",
    "statistic, p_value = shapiro(data)\n",
    "\n",
    "# 검정 통계량과 p-value 출력\n",
    "print(f\"검정 통계량: {statistic}, p-value: {p_value}\")\n",
    "\n",
    "# p-value를 기준으로 귀무가설을 기각 여부 판단\n",
    "alpha = 0.05\n",
    "if p_value > alpha:\n",
    "    print(\"데이터는 정규 분포를 따릅니다 (귀무가설을 기각하지 않음)\")\n",
    "else:\n",
    "    print(\"데이터는 정규 분포를 따르지 않습니다 (귀무가설을 기각)\")\n"
   ]
  },
  {
   "cell_type": "code",
   "execution_count": 136,
   "metadata": {},
   "outputs": [
    {
     "name": "stdout",
     "output_type": "stream",
     "text": [
      "검정 통계량: 577.9172232548453\n",
      "유의수준 15.0%: 임계값 = 0.575\n",
      "유의수준 10.0%: 임계값 = 0.655\n",
      "유의수준 5.0%: 임계값 = 0.785\n",
      "유의수준 2.5%: 임계값 = 0.916\n",
      "유의수준 1.0%: 임계값 = 1.09\n",
      "데이터는 정규 분포를 따르지 않습니다.\n"
     ]
    }
   ],
   "source": [
    "from scipy.stats import anderson\n",
    "\n",
    "# 안더슨-달링 검정 수행\n",
    "result = anderson(data)\n",
    "\n",
    "# 검정 통계량과 임계값 출력\n",
    "print(f\"검정 통계량: {result.statistic}\")\n",
    "\n",
    "# 임계값과 유의수준에 따른 결과 출력\n",
    "for i in range(len(result.critical_values)):\n",
    "    sl, cv = result.significance_level[i], result.critical_values[i]\n",
    "    print(f\"유의수준 {sl}%: 임계값 = {cv}\")\n",
    "\n",
    "# 검정 통계량이 임계값보다 작으면 정규 분포를 따른다고 판단\n",
    "if result.statistic < result.critical_values[2]:\n",
    "    print(\"데이터는 정규 분포를 따릅니다.\")\n",
    "else:\n",
    "    print(\"데이터는 정규 분포를 따르지 않습니다.\")\n"
   ]
  },
  {
   "cell_type": "code",
   "execution_count": 137,
   "metadata": {},
   "outputs": [
    {
     "name": "stdout",
     "output_type": "stream",
     "text": [
      "검정 통계량: 0.5023366544630479, p-value: 0.0\n",
      "데이터는 정규 분포를 따르지 않습니다 (귀무가설을 기각)\n"
     ]
    }
   ],
   "source": [
    "from scipy.stats import kstest, norm\n",
    "\n",
    "# Kolmogorov-Smirnov 검정 수행\n",
    "statistic, p_value = kstest(data, 'norm')\n",
    "\n",
    "# 검정 통계량과 p-value 출력\n",
    "print(f\"검정 통계량: {statistic}, p-value: {p_value}\")\n",
    "\n",
    "# p-value를 기준으로 귀무가설을 기각 여부 판단\n",
    "alpha = 0.05\n",
    "if p_value > alpha:\n",
    "    print(\"데이터는 정규 분포를 따릅니다 (귀무가설을 기각하지 않음)\")\n",
    "else:\n",
    "    print(\"데이터는 정규 분포를 따르지 않습니다 (귀무가설을 기각)\")\n"
   ]
  },
  {
   "cell_type": "markdown",
   "metadata": {},
   "source": [
    "fillna median"
   ]
  },
  {
   "cell_type": "code",
   "execution_count": 138,
   "metadata": {},
   "outputs": [],
   "source": [
    "도입부실[na_col].fillna(data.median(), inplace=True)"
   ]
  },
  {
   "cell_type": "markdown",
   "metadata": {},
   "source": [
    "# 성장정상"
   ]
  },
  {
   "cell_type": "code",
   "execution_count": 139,
   "metadata": {},
   "outputs": [],
   "source": [
    "성장정상 = unlisted_X_train[(unlisted_X_train['성장기'] == 1) & (unlisted_X_train['부실판단'] == 0)]"
   ]
  },
  {
   "cell_type": "markdown",
   "metadata": {},
   "source": [
    "결측치확인"
   ]
  },
  {
   "cell_type": "code",
   "execution_count": 140,
   "metadata": {},
   "outputs": [
    {
     "data": {
      "text/plain": [
       "쭈피처                  1\n",
       "회사명                  0\n",
       "총자본회전률               0\n",
       "부가가치(백만원)            0\n",
       "총자본투자효율              0\n",
       "설비투자효율               0\n",
       "부가가치율                0\n",
       "이윤분배율                0\n",
       "자본분배율                0\n",
       "총자산회전율               0\n",
       "매출채권회전률              0\n",
       "당좌자산회전률              0\n",
       "유형자산회전율              0\n",
       "경영자본회전률              0\n",
       "비유동자산회전률             0\n",
       "매출액증가율               0\n",
       "유동자산회전률              0\n",
       "영업년수                 0\n",
       "영업레버리지               0\n",
       "재무레버리지               0\n",
       "영업투자현금비율             0\n",
       "영업재무현금비율             0\n",
       "도입기                  0\n",
       "성숙기                  0\n",
       "성장기                  0\n",
       "쇠퇴기                  0\n",
       "유형자산증가율              0\n",
       "비유동자산증가율             0\n",
       "거래소코드                0\n",
       "현금비율                 0\n",
       "회계년도                 0\n",
       "CASH FLOW 대 부채비율     0\n",
       "CASH FLOW 대 차입금비율    0\n",
       "CASH FLOW 대 총자본비율    0\n",
       "CASH FLOW 대 매출액비율    0\n",
       "유동비율                 0\n",
       "당좌비율                 0\n",
       "부채비율                 0\n",
       "유동부채비율               0\n",
       "차입금의존도               0\n",
       "순운전자본비율              0\n",
       "유동자산구성비율             0\n",
       "유동자산증가율              0\n",
       "자기자본구성비율             0\n",
       "자기자본순이익률             0\n",
       "경영자본순이익률             0\n",
       "매출액순이익률              0\n",
       "총자본사업이익률             0\n",
       "총자본영업이익률             0\n",
       "매출액영업이익률             0\n",
       "금융비용부담률              0\n",
       "CROE                 0\n",
       "총자산증가율               0\n",
       "총자본증가율               0\n",
       "부실판단                 0\n",
       "dtype: int64"
      ]
     },
     "execution_count": 140,
     "metadata": {},
     "output_type": "execute_result"
    }
   ],
   "source": [
    "성장정상.isna().sum().sort_values(ascending=False)"
   ]
  },
  {
   "cell_type": "markdown",
   "metadata": {},
   "source": [
    "정규성 확인"
   ]
  },
  {
   "cell_type": "code",
   "execution_count": 141,
   "metadata": {},
   "outputs": [],
   "source": [
    "na_col = 성장정상.isna().sum().sort_values(ascending=False).index[0]\n",
    "# max_value = unlisted_X_train[inf_col].replace(np.inf, np.nan).max()\n",
    "# unlisted_X_train[inf_col] = unlisted_X_train[inf_col].replace(np.inf, max_value)"
   ]
  },
  {
   "cell_type": "code",
   "execution_count": 142,
   "metadata": {},
   "outputs": [],
   "source": [
    "data = 성장정상[na_col].dropna()"
   ]
  },
  {
   "cell_type": "code",
   "execution_count": 143,
   "metadata": {},
   "outputs": [
    {
     "data": {
      "text/plain": [
       "0"
      ]
     },
     "execution_count": 143,
     "metadata": {},
     "output_type": "execute_result"
    }
   ],
   "source": [
    "data.isna().sum()"
   ]
  },
  {
   "cell_type": "code",
   "execution_count": 144,
   "metadata": {},
   "outputs": [
    {
     "name": "stdout",
     "output_type": "stream",
     "text": [
      "검정 통계량: 0.47999364137649536, p-value: 0.0\n",
      "데이터는 정규 분포를 따르지 않습니다 (귀무가설을 기각)\n"
     ]
    }
   ],
   "source": [
    "from scipy.stats import shapiro\n",
    "\n",
    "# 샤피로-윌크 검정 수행\n",
    "statistic, p_value = shapiro(data)\n",
    "\n",
    "# 검정 통계량과 p-value 출력\n",
    "print(f\"검정 통계량: {statistic}, p-value: {p_value}\")\n",
    "\n",
    "# p-value를 기준으로 귀무가설을 기각 여부 판단\n",
    "alpha = 0.05\n",
    "if p_value > alpha:\n",
    "    print(\"데이터는 정규 분포를 따릅니다 (귀무가설을 기각하지 않음)\")\n",
    "else:\n",
    "    print(\"데이터는 정규 분포를 따르지 않습니다 (귀무가설을 기각)\")\n"
   ]
  },
  {
   "cell_type": "code",
   "execution_count": 145,
   "metadata": {},
   "outputs": [
    {
     "name": "stdout",
     "output_type": "stream",
     "text": [
      "검정 통계량: 259.37435566781005\n",
      "유의수준 15.0%: 임계값 = 0.575\n",
      "유의수준 10.0%: 임계값 = 0.655\n",
      "유의수준 5.0%: 임계값 = 0.786\n",
      "유의수준 2.5%: 임계값 = 0.916\n",
      "유의수준 1.0%: 임계값 = 1.09\n",
      "데이터는 정규 분포를 따르지 않습니다.\n"
     ]
    }
   ],
   "source": [
    "from scipy.stats import anderson\n",
    "\n",
    "# 안더슨-달링 검정 수행\n",
    "result = anderson(data)\n",
    "\n",
    "# 검정 통계량과 임계값 출력\n",
    "print(f\"검정 통계량: {result.statistic}\")\n",
    "\n",
    "# 임계값과 유의수준에 따른 결과 출력\n",
    "for i in range(len(result.critical_values)):\n",
    "    sl, cv = result.significance_level[i], result.critical_values[i]\n",
    "    print(f\"유의수준 {sl}%: 임계값 = {cv}\")\n",
    "\n",
    "# 검정 통계량이 임계값보다 작으면 정규 분포를 따른다고 판단\n",
    "if result.statistic < result.critical_values[2]:\n",
    "    print(\"데이터는 정규 분포를 따릅니다.\")\n",
    "else:\n",
    "    print(\"데이터는 정규 분포를 따르지 않습니다.\")\n"
   ]
  },
  {
   "cell_type": "code",
   "execution_count": 146,
   "metadata": {},
   "outputs": [
    {
     "name": "stdout",
     "output_type": "stream",
     "text": [
      "검정 통계량: 0.5031569240307271, p-value: 0.0\n",
      "데이터는 정규 분포를 따르지 않습니다 (귀무가설을 기각)\n"
     ]
    }
   ],
   "source": [
    "from scipy.stats import kstest, norm\n",
    "\n",
    "\n",
    "# Kolmogorov-Smirnov 검정 수행\n",
    "statistic, p_value = kstest(data, 'norm')\n",
    "\n",
    "# 검정 통계량과 p-value 출력\n",
    "print(f\"검정 통계량: {statistic}, p-value: {p_value}\")\n",
    "\n",
    "# p-value를 기준으로 귀무가설을 기각 여부 판단\n",
    "alpha = 0.05\n",
    "if p_value > alpha:\n",
    "    print(\"데이터는 정규 분포를 따릅니다 (귀무가설을 기각하지 않음)\")\n",
    "else:\n",
    "    print(\"데이터는 정규 분포를 따르지 않습니다 (귀무가설을 기각)\")"
   ]
  },
  {
   "cell_type": "markdown",
   "metadata": {},
   "source": [
    "fillna median"
   ]
  },
  {
   "cell_type": "code",
   "execution_count": 147,
   "metadata": {},
   "outputs": [],
   "source": [
    "성장정상[na_col].fillna(data.median(), inplace=True)"
   ]
  },
  {
   "cell_type": "markdown",
   "metadata": {},
   "source": [
    "# 성장부실"
   ]
  },
  {
   "cell_type": "code",
   "execution_count": 148,
   "metadata": {},
   "outputs": [],
   "source": [
    "성장부실 = unlisted_X_train[(unlisted_X_train['성장기'] == 1) & (unlisted_X_train['부실판단'] == 1)]"
   ]
  },
  {
   "cell_type": "markdown",
   "metadata": {},
   "source": [
    "결측치 확인"
   ]
  },
  {
   "cell_type": "code",
   "execution_count": 149,
   "metadata": {},
   "outputs": [
    {
     "data": {
      "text/plain": [
       "회사명                  0\n",
       "총자본회전률               0\n",
       "부가가치(백만원)            0\n",
       "총자본투자효율              0\n",
       "설비투자효율               0\n",
       "부가가치율                0\n",
       "이윤분배율                0\n",
       "자본분배율                0\n",
       "총자산회전율               0\n",
       "매출채권회전률              0\n",
       "당좌자산회전률              0\n",
       "유형자산회전율              0\n",
       "경영자본회전률              0\n",
       "비유동자산회전률             0\n",
       "매출액증가율               0\n",
       "유동자산회전률              0\n",
       "영업년수                 0\n",
       "쭈피처                  0\n",
       "영업레버리지               0\n",
       "재무레버리지               0\n",
       "영업투자현금비율             0\n",
       "영업재무현금비율             0\n",
       "도입기                  0\n",
       "성숙기                  0\n",
       "성장기                  0\n",
       "쇠퇴기                  0\n",
       "유형자산증가율              0\n",
       "비유동자산증가율             0\n",
       "거래소코드                0\n",
       "현금비율                 0\n",
       "회계년도                 0\n",
       "CASH FLOW 대 부채비율     0\n",
       "CASH FLOW 대 차입금비율    0\n",
       "CASH FLOW 대 총자본비율    0\n",
       "CASH FLOW 대 매출액비율    0\n",
       "유동비율                 0\n",
       "당좌비율                 0\n",
       "부채비율                 0\n",
       "유동부채비율               0\n",
       "차입금의존도               0\n",
       "순운전자본비율              0\n",
       "유동자산구성비율             0\n",
       "유동자산증가율              0\n",
       "자기자본구성비율             0\n",
       "자기자본순이익률             0\n",
       "경영자본순이익률             0\n",
       "매출액순이익률              0\n",
       "총자본사업이익률             0\n",
       "총자본영업이익률             0\n",
       "매출액영업이익률             0\n",
       "금융비용부담률              0\n",
       "CROE                 0\n",
       "총자산증가율               0\n",
       "총자본증가율               0\n",
       "부실판단                 0\n",
       "dtype: int64"
      ]
     },
     "execution_count": 149,
     "metadata": {},
     "output_type": "execute_result"
    }
   ],
   "source": [
    "성장부실.isna().sum().sort_values(ascending=False)"
   ]
  },
  {
   "cell_type": "markdown",
   "metadata": {},
   "source": [
    "inf 확인"
   ]
  },
  {
   "cell_type": "code",
   "execution_count": 150,
   "metadata": {},
   "outputs": [
    {
     "data": {
      "text/plain": [
       "총자산증가율               1\n",
       "회사명                  0\n",
       "매출액증가율               0\n",
       "부가가치(백만원)            0\n",
       "총자본투자효율              0\n",
       "설비투자효율               0\n",
       "부가가치율                0\n",
       "이윤분배율                0\n",
       "자본분배율                0\n",
       "총자산회전율               0\n",
       "매출채권회전률              0\n",
       "당좌자산회전률              0\n",
       "유형자산회전율              0\n",
       "경영자본회전률              0\n",
       "총자본회전률               0\n",
       "비유동자산회전률             0\n",
       "유동자산회전률              0\n",
       "영업년수                 0\n",
       "쭈피처                  0\n",
       "영업레버리지               0\n",
       "재무레버리지               0\n",
       "영업투자현금비율             0\n",
       "영업재무현금비율             0\n",
       "도입기                  0\n",
       "성숙기                  0\n",
       "성장기                  0\n",
       "쇠퇴기                  0\n",
       "유형자산증가율              0\n",
       "비유동자산증가율             0\n",
       "거래소코드                0\n",
       "유동자산증가율              0\n",
       "회계년도                 0\n",
       "CASH FLOW 대 부채비율     0\n",
       "CASH FLOW 대 차입금비율    0\n",
       "CASH FLOW 대 총자본비율    0\n",
       "CASH FLOW 대 매출액비율    0\n",
       "유동비율                 0\n",
       "당좌비율                 0\n",
       "부채비율                 0\n",
       "유동부채비율               0\n",
       "차입금의존도               0\n",
       "순운전자본비율              0\n",
       "현금비율                 0\n",
       "유동자산구성비율             0\n",
       "자기자본구성비율             0\n",
       "자기자본순이익률             0\n",
       "경영자본순이익률             0\n",
       "매출액순이익률              0\n",
       "총자본사업이익률             0\n",
       "총자본영업이익률             0\n",
       "매출액영업이익률             0\n",
       "금융비용부담률              0\n",
       "CROE                 0\n",
       "총자본증가율               0\n",
       "부실판단                 0\n",
       "dtype: int64"
      ]
     },
     "execution_count": 150,
     "metadata": {},
     "output_type": "execute_result"
    }
   ],
   "source": [
    "성장부실.isin([np.inf]).sum().sort_values(ascending=False)"
   ]
  },
  {
   "cell_type": "code",
   "execution_count": 151,
   "metadata": {},
   "outputs": [],
   "source": [
    "inf_col = 성장부실.isin([np.inf]).sum().sort_values(ascending=False).index[0]\n",
    "max_value = 성장부실[inf_col].replace(np.inf, np.nan).max()\n",
    "성장부실[inf_col] = 성장부실[inf_col].replace(np.inf, max_value)"
   ]
  },
  {
   "cell_type": "code",
   "execution_count": 152,
   "metadata": {},
   "outputs": [
    {
     "data": {
      "text/plain": [
       "회사명                  0\n",
       "총자본회전률               0\n",
       "부가가치(백만원)            0\n",
       "총자본투자효율              0\n",
       "설비투자효율               0\n",
       "부가가치율                0\n",
       "이윤분배율                0\n",
       "자본분배율                0\n",
       "총자산회전율               0\n",
       "매출채권회전률              0\n",
       "당좌자산회전률              0\n",
       "유형자산회전율              0\n",
       "경영자본회전률              0\n",
       "비유동자산회전률             0\n",
       "매출액증가율               0\n",
       "유동자산회전률              0\n",
       "영업년수                 0\n",
       "쭈피처                  0\n",
       "영업레버리지               0\n",
       "재무레버리지               0\n",
       "영업투자현금비율             0\n",
       "영업재무현금비율             0\n",
       "도입기                  0\n",
       "성숙기                  0\n",
       "성장기                  0\n",
       "쇠퇴기                  0\n",
       "유형자산증가율              0\n",
       "비유동자산증가율             0\n",
       "거래소코드                0\n",
       "현금비율                 0\n",
       "회계년도                 0\n",
       "CASH FLOW 대 부채비율     0\n",
       "CASH FLOW 대 차입금비율    0\n",
       "CASH FLOW 대 총자본비율    0\n",
       "CASH FLOW 대 매출액비율    0\n",
       "유동비율                 0\n",
       "당좌비율                 0\n",
       "부채비율                 0\n",
       "유동부채비율               0\n",
       "차입금의존도               0\n",
       "순운전자본비율              0\n",
       "유동자산구성비율             0\n",
       "유동자산증가율              0\n",
       "자기자본구성비율             0\n",
       "자기자본순이익률             0\n",
       "경영자본순이익률             0\n",
       "매출액순이익률              0\n",
       "총자본사업이익률             0\n",
       "총자본영업이익률             0\n",
       "매출액영업이익률             0\n",
       "금융비용부담률              0\n",
       "CROE                 0\n",
       "총자산증가율               0\n",
       "총자본증가율               0\n",
       "부실판단                 0\n",
       "dtype: int64"
      ]
     },
     "execution_count": 152,
     "metadata": {},
     "output_type": "execute_result"
    }
   ],
   "source": [
    "성장부실.isin([np.inf]).sum().sort_values(ascending=False)"
   ]
  },
  {
   "cell_type": "markdown",
   "metadata": {},
   "source": [
    "# 성숙정상"
   ]
  },
  {
   "cell_type": "code",
   "execution_count": 153,
   "metadata": {},
   "outputs": [],
   "source": [
    "성숙정상 = unlisted_X_train[(unlisted_X_train['성숙기'] == 1) & (unlisted_X_train['부실판단'] == 0)]"
   ]
  },
  {
   "cell_type": "markdown",
   "metadata": {},
   "source": [
    "성숙정상 결측치 확인"
   ]
  },
  {
   "cell_type": "code",
   "execution_count": 154,
   "metadata": {},
   "outputs": [
    {
     "data": {
      "text/plain": [
       "쭈피처                  3\n",
       "회사명                  0\n",
       "총자본회전률               0\n",
       "부가가치(백만원)            0\n",
       "총자본투자효율              0\n",
       "설비투자효율               0\n",
       "부가가치율                0\n",
       "이윤분배율                0\n",
       "자본분배율                0\n",
       "총자산회전율               0\n",
       "매출채권회전률              0\n",
       "당좌자산회전률              0\n",
       "유형자산회전율              0\n",
       "경영자본회전률              0\n",
       "비유동자산회전률             0\n",
       "매출액증가율               0\n",
       "유동자산회전률              0\n",
       "영업년수                 0\n",
       "영업레버리지               0\n",
       "재무레버리지               0\n",
       "영업투자현금비율             0\n",
       "영업재무현금비율             0\n",
       "도입기                  0\n",
       "성숙기                  0\n",
       "성장기                  0\n",
       "쇠퇴기                  0\n",
       "유형자산증가율              0\n",
       "비유동자산증가율             0\n",
       "거래소코드                0\n",
       "현금비율                 0\n",
       "회계년도                 0\n",
       "CASH FLOW 대 부채비율     0\n",
       "CASH FLOW 대 차입금비율    0\n",
       "CASH FLOW 대 총자본비율    0\n",
       "CASH FLOW 대 매출액비율    0\n",
       "유동비율                 0\n",
       "당좌비율                 0\n",
       "부채비율                 0\n",
       "유동부채비율               0\n",
       "차입금의존도               0\n",
       "순운전자본비율              0\n",
       "유동자산구성비율             0\n",
       "유동자산증가율              0\n",
       "자기자본구성비율             0\n",
       "자기자본순이익률             0\n",
       "경영자본순이익률             0\n",
       "매출액순이익률              0\n",
       "총자본사업이익률             0\n",
       "총자본영업이익률             0\n",
       "매출액영업이익률             0\n",
       "금융비용부담률              0\n",
       "CROE                 0\n",
       "총자산증가율               0\n",
       "총자본증가율               0\n",
       "부실판단                 0\n",
       "dtype: int64"
      ]
     },
     "execution_count": 154,
     "metadata": {},
     "output_type": "execute_result"
    }
   ],
   "source": [
    "성숙정상.isna().sum().sort_values(ascending=False)"
   ]
  },
  {
   "cell_type": "markdown",
   "metadata": {},
   "source": [
    "정규성 확인"
   ]
  },
  {
   "cell_type": "code",
   "execution_count": 155,
   "metadata": {},
   "outputs": [],
   "source": [
    "na_col = 성숙정상.isna().sum().sort_values(ascending=False).index[0]"
   ]
  },
  {
   "cell_type": "code",
   "execution_count": 156,
   "metadata": {},
   "outputs": [
    {
     "data": {
      "text/plain": [
       "4660"
      ]
     },
     "execution_count": 156,
     "metadata": {},
     "output_type": "execute_result"
    }
   ],
   "source": [
    "len(성숙정상)"
   ]
  },
  {
   "cell_type": "code",
   "execution_count": 157,
   "metadata": {},
   "outputs": [],
   "source": [
    "# 테스트를 위한 샘플 데이터 생성\n",
    "data = 성숙정상[na_col].dropna()"
   ]
  },
  {
   "cell_type": "code",
   "execution_count": 158,
   "metadata": {},
   "outputs": [
    {
     "name": "stdout",
     "output_type": "stream",
     "text": [
      "검정 통계량: 0.21134382486343384, p-value: 0.0\n",
      "데이터는 정규 분포를 따르지 않습니다 (귀무가설을 기각)\n"
     ]
    }
   ],
   "source": [
    "from scipy.stats import shapiro\n",
    "\n",
    "# 샤피로-윌크 검정 수행\n",
    "statistic, p_value = shapiro(data)\n",
    "\n",
    "# 검정 통계량과 p-value 출력\n",
    "print(f\"검정 통계량: {statistic}, p-value: {p_value}\")\n",
    "\n",
    "# p-value를 기준으로 귀무가설을 기각 여부 판단\n",
    "alpha = 0.05\n",
    "if p_value > alpha:\n",
    "    print(\"데이터는 정규 분포를 따릅니다 (귀무가설을 기각하지 않음)\")\n",
    "else:\n",
    "    print(\"데이터는 정규 분포를 따르지 않습니다 (귀무가설을 기각)\")"
   ]
  },
  {
   "cell_type": "code",
   "execution_count": 159,
   "metadata": {},
   "outputs": [
    {
     "name": "stdout",
     "output_type": "stream",
     "text": [
      "검정 통계량: 823.7957742834269\n",
      "유의수준 15.0%: 임계값 = 0.576\n",
      "유의수준 10.0%: 임계값 = 0.655\n",
      "유의수준 5.0%: 임계값 = 0.786\n",
      "유의수준 2.5%: 임계값 = 0.917\n",
      "유의수준 1.0%: 임계값 = 1.091\n",
      "데이터는 정규 분포를 따르지 않습니다.\n"
     ]
    }
   ],
   "source": [
    "from scipy.stats import anderson\n",
    "\n",
    "# 안더슨-달링 검정 수행\n",
    "result = anderson(data)\n",
    "\n",
    "# 검정 통계량과 임계값 출력\n",
    "print(f\"검정 통계량: {result.statistic}\")\n",
    "\n",
    "# 임계값과 유의수준에 따른 결과 출력\n",
    "for i in range(len(result.critical_values)):\n",
    "    sl, cv = result.significance_level[i], result.critical_values[i]\n",
    "    print(f\"유의수준 {sl}%: 임계값 = {cv}\")\n",
    "\n",
    "# 검정 통계량이 임계값보다 작으면 정규 분포를 따른다고 판단\n",
    "if result.statistic < result.critical_values[2]:\n",
    "    print(\"데이터는 정규 분포를 따릅니다.\")\n",
    "else:\n",
    "    print(\"데이터는 정규 분포를 따르지 않습니다.\")"
   ]
  },
  {
   "cell_type": "code",
   "execution_count": 160,
   "metadata": {},
   "outputs": [
    {
     "name": "stdout",
     "output_type": "stream",
     "text": [
      "검정 통계량: 0.5011189771803239, p-value: 0.0\n",
      "데이터는 정규 분포를 따르지 않습니다 (귀무가설을 기각)\n"
     ]
    }
   ],
   "source": [
    "from scipy.stats import kstest, norm\n",
    "\n",
    "# Kolmogorov-Smirnov 검정 수행\n",
    "statistic, p_value = kstest(data, 'norm')\n",
    "\n",
    "# 검정 통계량과 p-value 출력\n",
    "print(f\"검정 통계량: {statistic}, p-value: {p_value}\")\n",
    "\n",
    "# p-value를 기준으로 귀무가설을 기각 여부 판단\n",
    "alpha = 0.05\n",
    "if p_value > alpha:\n",
    "    print(\"데이터는 정규 분포를 따릅니다 (귀무가설을 기각하지 않음)\")\n",
    "else:\n",
    "    print(\"데이터는 정규 분포를 따르지 않습니다 (귀무가설을 기각)\")"
   ]
  },
  {
   "cell_type": "markdown",
   "metadata": {},
   "source": [
    "fillna median"
   ]
  },
  {
   "cell_type": "code",
   "execution_count": 161,
   "metadata": {},
   "outputs": [],
   "source": [
    "성숙정상.fillna(data.median(), inplace=True)"
   ]
  },
  {
   "cell_type": "markdown",
   "metadata": {},
   "source": [
    "# 성숙부실"
   ]
  },
  {
   "cell_type": "code",
   "execution_count": 162,
   "metadata": {},
   "outputs": [],
   "source": [
    "성숙부실 = unlisted_X_train[(unlisted_X_train['성숙기'] == 1) & (unlisted_X_train['부실판단'] == 1)]"
   ]
  },
  {
   "cell_type": "markdown",
   "metadata": {},
   "source": [
    "성숙부실 결측치 확인"
   ]
  },
  {
   "cell_type": "code",
   "execution_count": 163,
   "metadata": {},
   "outputs": [
    {
     "data": {
      "text/plain": [
       "쭈피처                  6\n",
       "재무레버리지               1\n",
       "회사명                  0\n",
       "경영자본회전률              0\n",
       "부가가치(백만원)            0\n",
       "총자본투자효율              0\n",
       "설비투자효율               0\n",
       "부가가치율                0\n",
       "이윤분배율                0\n",
       "자본분배율                0\n",
       "총자산회전율               0\n",
       "매출채권회전률              0\n",
       "당좌자산회전률              0\n",
       "유형자산회전율              0\n",
       "비유동자산회전률             0\n",
       "총자본회전률               0\n",
       "매출액증가율               0\n",
       "유동자산회전률              0\n",
       "영업년수                 0\n",
       "영업레버리지               0\n",
       "영업투자현금비율             0\n",
       "영업재무현금비율             0\n",
       "도입기                  0\n",
       "성숙기                  0\n",
       "성장기                  0\n",
       "쇠퇴기                  0\n",
       "유형자산증가율              0\n",
       "비유동자산증가율             0\n",
       "거래소코드                0\n",
       "현금비율                 0\n",
       "회계년도                 0\n",
       "CASH FLOW 대 부채비율     0\n",
       "CASH FLOW 대 차입금비율    0\n",
       "CASH FLOW 대 총자본비율    0\n",
       "CASH FLOW 대 매출액비율    0\n",
       "유동비율                 0\n",
       "당좌비율                 0\n",
       "부채비율                 0\n",
       "유동부채비율               0\n",
       "차입금의존도               0\n",
       "순운전자본비율              0\n",
       "유동자산구성비율             0\n",
       "유동자산증가율              0\n",
       "자기자본구성비율             0\n",
       "자기자본순이익률             0\n",
       "경영자본순이익률             0\n",
       "매출액순이익률              0\n",
       "총자본사업이익률             0\n",
       "총자본영업이익률             0\n",
       "매출액영업이익률             0\n",
       "금융비용부담률              0\n",
       "CROE                 0\n",
       "총자산증가율               0\n",
       "총자본증가율               0\n",
       "부실판단                 0\n",
       "dtype: int64"
      ]
     },
     "execution_count": 163,
     "metadata": {},
     "output_type": "execute_result"
    }
   ],
   "source": [
    "성숙부실.isna().sum().sort_values(ascending=False)"
   ]
  },
  {
   "cell_type": "markdown",
   "metadata": {},
   "source": [
    "정규성 확인"
   ]
  },
  {
   "cell_type": "code",
   "execution_count": 164,
   "metadata": {},
   "outputs": [],
   "source": [
    "na_col0 = 성숙부실.isna().sum().sort_values(ascending=False).index[0]\n",
    "na_col1 = 성숙부실.isna().sum().sort_values(ascending=False).index[1]\n",
    "# 테스트를 위한 샘플 데이터 생성\n",
    "data0 = 성숙부실[na_col0].dropna()\n",
    "data1 = 성숙부실[na_col1].dropna()"
   ]
  },
  {
   "cell_type": "code",
   "execution_count": 165,
   "metadata": {},
   "outputs": [
    {
     "name": "stdout",
     "output_type": "stream",
     "text": [
      "검정 통계량: 0.2980051636695862, p-value: 0.0\n",
      "데이터는 정규 분포를 따르지 않습니다 (귀무가설을 기각)\n"
     ]
    }
   ],
   "source": [
    "from scipy.stats import shapiro\n",
    "\n",
    "# 샤피로-윌크 검정 수행\n",
    "statistic, p_value = shapiro(data0)\n",
    "\n",
    "# 검정 통계량과 p-value 출력\n",
    "print(f\"검정 통계량: {statistic}, p-value: {p_value}\")\n",
    "\n",
    "# p-value를 기준으로 귀무가설을 기각 여부 판단\n",
    "alpha = 0.05\n",
    "if p_value > alpha:\n",
    "    print(\"데이터는 정규 분포를 따릅니다 (귀무가설을 기각하지 않음)\")\n",
    "else:\n",
    "    print(\"데이터는 정규 분포를 따르지 않습니다 (귀무가설을 기각)\")"
   ]
  },
  {
   "cell_type": "code",
   "execution_count": 166,
   "metadata": {},
   "outputs": [
    {
     "name": "stdout",
     "output_type": "stream",
     "text": [
      "검정 통계량: 0.3310622572898865, p-value: 0.0\n",
      "데이터는 정규 분포를 따르지 않습니다 (귀무가설을 기각)\n"
     ]
    }
   ],
   "source": [
    "from scipy.stats import shapiro\n",
    "\n",
    "# 샤피로-윌크 검정 수행\n",
    "statistic, p_value = shapiro(data1)\n",
    "\n",
    "# 검정 통계량과 p-value 출력\n",
    "print(f\"검정 통계량: {statistic}, p-value: {p_value}\")\n",
    "\n",
    "# p-value를 기준으로 귀무가설을 기각 여부 판단\n",
    "alpha = 0.05\n",
    "if p_value > alpha:\n",
    "    print(\"데이터는 정규 분포를 따릅니다 (귀무가설을 기각하지 않음)\")\n",
    "else:\n",
    "    print(\"데이터는 정규 분포를 따르지 않습니다 (귀무가설을 기각)\")"
   ]
  },
  {
   "cell_type": "code",
   "execution_count": 167,
   "metadata": {},
   "outputs": [
    {
     "name": "stdout",
     "output_type": "stream",
     "text": [
      "검정 통계량: 137.06956458237323\n",
      "유의수준 15.0%: 임계값 = 0.573\n",
      "유의수준 10.0%: 임계값 = 0.653\n",
      "유의수준 5.0%: 임계값 = 0.784\n",
      "유의수준 2.5%: 임계값 = 0.914\n",
      "유의수준 1.0%: 임계값 = 1.087\n",
      "데이터는 정규 분포를 따르지 않습니다.\n"
     ]
    }
   ],
   "source": [
    "from scipy.stats import anderson\n",
    "\n",
    "# 안더슨-달링 검정 수행\n",
    "result = anderson(data0)\n",
    "\n",
    "# 검정 통계량과 임계값 출력\n",
    "print(f\"검정 통계량: {result.statistic}\")\n",
    "\n",
    "# 임계값과 유의수준에 따른 결과 출력\n",
    "for i in range(len(result.critical_values)):\n",
    "    sl, cv = result.significance_level[i], result.critical_values[i]\n",
    "    print(f\"유의수준 {sl}%: 임계값 = {cv}\")\n",
    "\n",
    "# 검정 통계량이 임계값보다 작으면 정규 분포를 따른다고 판단\n",
    "if result.statistic < result.critical_values[2]:\n",
    "    print(\"데이터는 정규 분포를 따릅니다.\")\n",
    "else:\n",
    "    print(\"데이터는 정규 분포를 따르지 않습니다.\")"
   ]
  },
  {
   "cell_type": "code",
   "execution_count": 168,
   "metadata": {},
   "outputs": [
    {
     "name": "stdout",
     "output_type": "stream",
     "text": [
      "검정 통계량: 185.93136271858157\n",
      "유의수준 15.0%: 임계값 = 0.573\n",
      "유의수준 10.0%: 임계값 = 0.653\n",
      "유의수준 5.0%: 임계값 = 0.784\n",
      "유의수준 2.5%: 임계값 = 0.914\n",
      "유의수준 1.0%: 임계값 = 1.087\n",
      "데이터는 정규 분포를 따르지 않습니다.\n"
     ]
    }
   ],
   "source": [
    "from scipy.stats import anderson\n",
    "\n",
    "# 안더슨-달링 검정 수행\n",
    "result = anderson(data1)\n",
    "\n",
    "# 검정 통계량과 임계값 출력\n",
    "print(f\"검정 통계량: {result.statistic}\")\n",
    "\n",
    "# 임계값과 유의수준에 따른 결과 출력\n",
    "for i in range(len(result.critical_values)):\n",
    "    sl, cv = result.significance_level[i], result.critical_values[i]\n",
    "    print(f\"유의수준 {sl}%: 임계값 = {cv}\")\n",
    "\n",
    "# 검정 통계량이 임계값보다 작으면 정규 분포를 따른다고 판단\n",
    "if result.statistic < result.critical_values[2]:\n",
    "    print(\"데이터는 정규 분포를 따릅니다.\")\n",
    "else:\n",
    "    print(\"데이터는 정규 분포를 따르지 않습니다.\")"
   ]
  },
  {
   "cell_type": "code",
   "execution_count": 169,
   "metadata": {},
   "outputs": [
    {
     "name": "stdout",
     "output_type": "stream",
     "text": [
      "검정 통계량: 0.500046345399094, p-value: 5.198997032739048e-210\n",
      "데이터는 정규 분포를 따르지 않습니다 (귀무가설을 기각)\n"
     ]
    }
   ],
   "source": [
    "from scipy.stats import kstest, norm\n",
    "\n",
    "# Kolmogorov-Smirnov 검정 수행\n",
    "statistic, p_value = kstest(data0, 'norm')\n",
    "\n",
    "# 검정 통계량과 p-value 출력\n",
    "print(f\"검정 통계량: {statistic}, p-value: {p_value}\")\n",
    "\n",
    "# p-value를 기준으로 귀무가설을 기각 여부 판단\n",
    "alpha = 0.05\n",
    "if p_value > alpha:\n",
    "    print(\"데이터는 정규 분포를 따릅니다 (귀무가설을 기각하지 않음)\")\n",
    "else:\n",
    "    print(\"데이터는 정규 분포를 따르지 않습니다 (귀무가설을 기각)\")"
   ]
  },
  {
   "cell_type": "code",
   "execution_count": 170,
   "metadata": {},
   "outputs": [
    {
     "name": "stdout",
     "output_type": "stream",
     "text": [
      "검정 통계량: 0.14866872064673958, p-value: 4.8506857072186544e-18\n",
      "데이터는 정규 분포를 따르지 않습니다 (귀무가설을 기각)\n"
     ]
    }
   ],
   "source": [
    "from scipy.stats import kstest, norm\n",
    "\n",
    "# Kolmogorov-Smirnov 검정 수행\n",
    "statistic, p_value = kstest(data1, 'norm')\n",
    "\n",
    "# 검정 통계량과 p-value 출력\n",
    "print(f\"검정 통계량: {statistic}, p-value: {p_value}\")\n",
    "\n",
    "# p-value를 기준으로 귀무가설을 기각 여부 판단\n",
    "alpha = 0.05\n",
    "if p_value > alpha:\n",
    "    print(\"데이터는 정규 분포를 따릅니다 (귀무가설을 기각하지 않음)\")\n",
    "else:\n",
    "    print(\"데이터는 정규 분포를 따르지 않습니다 (귀무가설을 기각)\")"
   ]
  },
  {
   "cell_type": "markdown",
   "metadata": {},
   "source": [
    "fillna median"
   ]
  },
  {
   "cell_type": "code",
   "execution_count": 171,
   "metadata": {},
   "outputs": [],
   "source": [
    "성숙부실[na_col0].fillna(data0.median(), inplace=True)"
   ]
  },
  {
   "cell_type": "code",
   "execution_count": 172,
   "metadata": {},
   "outputs": [],
   "source": [
    "성숙부실[na_col1].fillna(data1.median(), inplace=True)"
   ]
  },
  {
   "cell_type": "markdown",
   "metadata": {},
   "source": [
    "# 쇠퇴정상"
   ]
  },
  {
   "cell_type": "code",
   "execution_count": 173,
   "metadata": {},
   "outputs": [],
   "source": [
    "쇠퇴정상 = unlisted_X_train[(unlisted_X_train['쇠퇴기'] == 1) & (unlisted_X_train['부실판단'] == 0)]"
   ]
  },
  {
   "cell_type": "markdown",
   "metadata": {},
   "source": [
    "결측치 확인"
   ]
  },
  {
   "cell_type": "code",
   "execution_count": 174,
   "metadata": {},
   "outputs": [
    {
     "data": {
      "text/plain": [
       "영업재무현금비율             124\n",
       "쭈피처                    1\n",
       "회사명                    0\n",
       "경영자본회전률                0\n",
       "부가가치(백만원)              0\n",
       "총자본투자효율                0\n",
       "설비투자효율                 0\n",
       "부가가치율                  0\n",
       "이윤분배율                  0\n",
       "자본분배율                  0\n",
       "총자산회전율                 0\n",
       "매출채권회전률                0\n",
       "당좌자산회전률                0\n",
       "유형자산회전율                0\n",
       "비유동자산회전률               0\n",
       "총자본회전률                 0\n",
       "매출액증가율                 0\n",
       "유동자산회전률                0\n",
       "영업년수                   0\n",
       "영업레버리지                 0\n",
       "재무레버리지                 0\n",
       "영업투자현금비율               0\n",
       "도입기                    0\n",
       "성숙기                    0\n",
       "성장기                    0\n",
       "쇠퇴기                    0\n",
       "유형자산증가율                0\n",
       "비유동자산증가율               0\n",
       "거래소코드                  0\n",
       "현금비율                   0\n",
       "회계년도                   0\n",
       "CASH FLOW 대 부채비율       0\n",
       "CASH FLOW 대 차입금비율      0\n",
       "CASH FLOW 대 총자본비율      0\n",
       "CASH FLOW 대 매출액비율      0\n",
       "유동비율                   0\n",
       "당좌비율                   0\n",
       "부채비율                   0\n",
       "유동부채비율                 0\n",
       "차입금의존도                 0\n",
       "순운전자본비율                0\n",
       "유동자산구성비율               0\n",
       "유동자산증가율                0\n",
       "자기자본구성비율               0\n",
       "자기자본순이익률               0\n",
       "경영자본순이익률               0\n",
       "매출액순이익률                0\n",
       "총자본사업이익률               0\n",
       "총자본영업이익률               0\n",
       "매출액영업이익률               0\n",
       "금융비용부담률                0\n",
       "CROE                   0\n",
       "총자산증가율                 0\n",
       "총자본증가율                 0\n",
       "부실판단                   0\n",
       "dtype: int64"
      ]
     },
     "execution_count": 174,
     "metadata": {},
     "output_type": "execute_result"
    }
   ],
   "source": [
    "쇠퇴정상.isna().sum().sort_values(ascending=False)"
   ]
  },
  {
   "cell_type": "markdown",
   "metadata": {},
   "source": [
    "정규성 확인"
   ]
  },
  {
   "cell_type": "code",
   "execution_count": 175,
   "metadata": {},
   "outputs": [],
   "source": [
    "na_col0 = 쇠퇴정상.isna().sum().sort_values(ascending=False).index[0]\n",
    "na_col1 = 쇠퇴정상.isna().sum().sort_values(ascending=False).index[1]\n",
    "# 테스트를 위한 샘플 데이터 생성\n",
    "data0 = 쇠퇴정상[na_col0].dropna()\n",
    "data1 = 쇠퇴정상[na_col1].dropna()"
   ]
  },
  {
   "cell_type": "code",
   "execution_count": 176,
   "metadata": {},
   "outputs": [
    {
     "name": "stdout",
     "output_type": "stream",
     "text": [
      "검정 통계량: 0.01838862895965576, p-value: 0.0\n",
      "데이터는 정규 분포를 따르지 않습니다 (귀무가설을 기각)\n"
     ]
    }
   ],
   "source": [
    "from scipy.stats import shapiro\n",
    "\n",
    "# 샤피로-윌크 검정 수행\n",
    "statistic, p_value = shapiro(data0)\n",
    "\n",
    "# 검정 통계량과 p-value 출력\n",
    "print(f\"검정 통계량: {statistic}, p-value: {p_value}\")\n",
    "\n",
    "# p-value를 기준으로 귀무가설을 기각 여부 판단\n",
    "alpha = 0.05\n",
    "if p_value > alpha:\n",
    "    print(\"데이터는 정규 분포를 따릅니다 (귀무가설을 기각하지 않음)\")\n",
    "else:\n",
    "    print(\"데이터는 정규 분포를 따르지 않습니다 (귀무가설을 기각)\")"
   ]
  },
  {
   "cell_type": "code",
   "execution_count": 177,
   "metadata": {},
   "outputs": [
    {
     "name": "stdout",
     "output_type": "stream",
     "text": [
      "검정 통계량: 0.14899367094039917, p-value: 0.0\n",
      "데이터는 정규 분포를 따르지 않습니다 (귀무가설을 기각)\n"
     ]
    }
   ],
   "source": [
    "from scipy.stats import shapiro\n",
    "\n",
    "# 샤피로-윌크 검정 수행\n",
    "statistic, p_value = shapiro(data1)\n",
    "\n",
    "# 검정 통계량과 p-value 출력\n",
    "print(f\"검정 통계량: {statistic}, p-value: {p_value}\")\n",
    "\n",
    "# p-value를 기준으로 귀무가설을 기각 여부 판단\n",
    "alpha = 0.05\n",
    "if p_value > alpha:\n",
    "    print(\"데이터는 정규 분포를 따릅니다 (귀무가설을 기각하지 않음)\")\n",
    "else:\n",
    "    print(\"데이터는 정규 분포를 따르지 않습니다 (귀무가설을 기각)\")"
   ]
  },
  {
   "cell_type": "code",
   "execution_count": 178,
   "metadata": {},
   "outputs": [
    {
     "name": "stdout",
     "output_type": "stream",
     "text": [
      "검정 통계량: 503.70699486728176\n",
      "유의수준 15.0%: 임계값 = 0.574\n",
      "유의수준 10.0%: 임계값 = 0.654\n",
      "유의수준 5.0%: 임계값 = 0.785\n",
      "유의수준 2.5%: 임계값 = 0.915\n",
      "유의수준 1.0%: 임계값 = 1.089\n",
      "데이터는 정규 분포를 따르지 않습니다.\n"
     ]
    }
   ],
   "source": [
    "from scipy.stats import anderson\n",
    "\n",
    "# 안더슨-달링 검정 수행\n",
    "result = anderson(data0)\n",
    "\n",
    "# 검정 통계량과 임계값 출력\n",
    "print(f\"검정 통계량: {result.statistic}\")\n",
    "\n",
    "# 임계값과 유의수준에 따른 결과 출력\n",
    "for i in range(len(result.critical_values)):\n",
    "    sl, cv = result.significance_level[i], result.critical_values[i]\n",
    "    print(f\"유의수준 {sl}%: 임계값 = {cv}\")\n",
    "\n",
    "# 검정 통계량이 임계값보다 작으면 정규 분포를 따른다고 판단\n",
    "if result.statistic < result.critical_values[2]:\n",
    "    print(\"데이터는 정규 분포를 따릅니다.\")\n",
    "else:\n",
    "    print(\"데이터는 정규 분포를 따르지 않습니다.\")"
   ]
  },
  {
   "cell_type": "code",
   "execution_count": 179,
   "metadata": {},
   "outputs": [
    {
     "name": "stdout",
     "output_type": "stream",
     "text": [
      "검정 통계량: 376.5399996455867\n",
      "유의수준 15.0%: 임계값 = 0.574\n",
      "유의수준 10.0%: 임계값 = 0.654\n",
      "유의수준 5.0%: 임계값 = 0.785\n",
      "유의수준 2.5%: 임계값 = 0.916\n",
      "유의수준 1.0%: 임계값 = 1.089\n",
      "데이터는 정규 분포를 따르지 않습니다.\n"
     ]
    }
   ],
   "source": [
    "from scipy.stats import anderson\n",
    "\n",
    "# 안더슨-달링 검정 수행\n",
    "result = anderson(data1)\n",
    "\n",
    "# 검정 통계량과 임계값 출력\n",
    "print(f\"검정 통계량: {result.statistic}\")\n",
    "\n",
    "# 임계값과 유의수준에 따른 결과 출력\n",
    "for i in range(len(result.critical_values)):\n",
    "    sl, cv = result.significance_level[i], result.critical_values[i]\n",
    "    print(f\"유의수준 {sl}%: 임계값 = {cv}\")\n",
    "\n",
    "# 검정 통계량이 임계값보다 작으면 정규 분포를 따른다고 판단\n",
    "if result.statistic < result.critical_values[2]:\n",
    "    print(\"데이터는 정규 분포를 따릅니다.\")\n",
    "else:\n",
    "    print(\"데이터는 정규 분포를 따르지 않습니다.\")"
   ]
  },
  {
   "cell_type": "code",
   "execution_count": 180,
   "metadata": {},
   "outputs": [
    {
     "name": "stdout",
     "output_type": "stream",
     "text": [
      "검정 통계량: 0.1679789483977252, p-value: 6.862637710098656e-34\n",
      "데이터는 정규 분포를 따르지 않습니다 (귀무가설을 기각)\n"
     ]
    }
   ],
   "source": [
    "from scipy.stats import kstest, norm\n",
    "\n",
    "# Kolmogorov-Smirnov 검정 수행\n",
    "statistic, p_value = kstest(data0, 'norm')\n",
    "\n",
    "# 검정 통계량과 p-value 출력\n",
    "print(f\"검정 통계량: {statistic}, p-value: {p_value}\")\n",
    "\n",
    "# p-value를 기준으로 귀무가설을 기각 여부 판단\n",
    "alpha = 0.05\n",
    "if p_value > alpha:\n",
    "    print(\"데이터는 정규 분포를 따릅니다 (귀무가설을 기각하지 않음)\")\n",
    "else:\n",
    "    print(\"데이터는 정규 분포를 따르지 않습니다 (귀무가설을 기각)\")"
   ]
  },
  {
   "cell_type": "code",
   "execution_count": 181,
   "metadata": {},
   "outputs": [
    {
     "name": "stdout",
     "output_type": "stream",
     "text": [
      "검정 통계량: 0.501925515916277, p-value: 0.0\n",
      "데이터는 정규 분포를 따르지 않습니다 (귀무가설을 기각)\n"
     ]
    }
   ],
   "source": [
    "from scipy.stats import kstest, norm\n",
    "\n",
    "# Kolmogorov-Smirnov 검정 수행\n",
    "statistic, p_value = kstest(data1, 'norm')\n",
    "\n",
    "# 검정 통계량과 p-value 출력\n",
    "print(f\"검정 통계량: {statistic}, p-value: {p_value}\")\n",
    "\n",
    "# p-value를 기준으로 귀무가설을 기각 여부 판단\n",
    "alpha = 0.05\n",
    "if p_value > alpha:\n",
    "    print(\"데이터는 정규 분포를 따릅니다 (귀무가설을 기각하지 않음)\")\n",
    "else:\n",
    "    print(\"데이터는 정규 분포를 따르지 않습니다 (귀무가설을 기각)\")"
   ]
  },
  {
   "cell_type": "markdown",
   "metadata": {},
   "source": [
    "쇠퇴정상 fillna median"
   ]
  },
  {
   "cell_type": "code",
   "execution_count": 182,
   "metadata": {},
   "outputs": [],
   "source": [
    "쇠퇴정상[na_col0].fillna(data0.median(), inplace=True)"
   ]
  },
  {
   "cell_type": "code",
   "execution_count": 183,
   "metadata": {},
   "outputs": [],
   "source": [
    "쇠퇴정상[na_col1].fillna(data1.median(), inplace=True)"
   ]
  },
  {
   "cell_type": "markdown",
   "metadata": {},
   "source": [
    "# 쇠퇴부실"
   ]
  },
  {
   "cell_type": "code",
   "execution_count": 184,
   "metadata": {},
   "outputs": [],
   "source": [
    "쇠퇴부실 = unlisted_X_train[(unlisted_X_train['쇠퇴기'] == 1) & (unlisted_X_train['부실판단'] == 1)]"
   ]
  },
  {
   "cell_type": "markdown",
   "metadata": {},
   "source": [
    "결측치 확인"
   ]
  },
  {
   "cell_type": "code",
   "execution_count": 185,
   "metadata": {},
   "outputs": [
    {
     "data": {
      "text/plain": [
       "영업재무현금비율             106\n",
       "쭈피처                    1\n",
       "회사명                    0\n",
       "경영자본회전률                0\n",
       "부가가치(백만원)              0\n",
       "총자본투자효율                0\n",
       "설비투자효율                 0\n",
       "부가가치율                  0\n",
       "이윤분배율                  0\n",
       "자본분배율                  0\n",
       "총자산회전율                 0\n",
       "매출채권회전률                0\n",
       "당좌자산회전률                0\n",
       "유형자산회전율                0\n",
       "비유동자산회전률               0\n",
       "총자본회전률                 0\n",
       "매출액증가율                 0\n",
       "유동자산회전률                0\n",
       "영업년수                   0\n",
       "영업레버리지                 0\n",
       "재무레버리지                 0\n",
       "영업투자현금비율               0\n",
       "도입기                    0\n",
       "성숙기                    0\n",
       "성장기                    0\n",
       "쇠퇴기                    0\n",
       "유형자산증가율                0\n",
       "비유동자산증가율               0\n",
       "거래소코드                  0\n",
       "현금비율                   0\n",
       "회계년도                   0\n",
       "CASH FLOW 대 부채비율       0\n",
       "CASH FLOW 대 차입금비율      0\n",
       "CASH FLOW 대 총자본비율      0\n",
       "CASH FLOW 대 매출액비율      0\n",
       "유동비율                   0\n",
       "당좌비율                   0\n",
       "부채비율                   0\n",
       "유동부채비율                 0\n",
       "차입금의존도                 0\n",
       "순운전자본비율                0\n",
       "유동자산구성비율               0\n",
       "유동자산증가율                0\n",
       "자기자본구성비율               0\n",
       "자기자본순이익률               0\n",
       "경영자본순이익률               0\n",
       "매출액순이익률                0\n",
       "총자본사업이익률               0\n",
       "총자본영업이익률               0\n",
       "매출액영업이익률               0\n",
       "금융비용부담률                0\n",
       "CROE                   0\n",
       "총자산증가율                 0\n",
       "총자본증가율                 0\n",
       "부실판단                   0\n",
       "dtype: int64"
      ]
     },
     "execution_count": 185,
     "metadata": {},
     "output_type": "execute_result"
    }
   ],
   "source": [
    "쇠퇴부실.isna().sum().sort_values(ascending=False)"
   ]
  },
  {
   "cell_type": "markdown",
   "metadata": {},
   "source": [
    "정규성 확인"
   ]
  },
  {
   "cell_type": "code",
   "execution_count": 186,
   "metadata": {},
   "outputs": [],
   "source": [
    "na_col0 = 쇠퇴부실.isna().sum().sort_values(ascending=False).index[0]\n",
    "na_col1 = 쇠퇴부실.isna().sum().sort_values(ascending=False).index[1]\n",
    "# 테스트를 위한 샘플 데이터 생성\n",
    "data0 = 쇠퇴부실[na_col0].dropna()\n",
    "data1 = 쇠퇴부실[na_col1].dropna()"
   ]
  },
  {
   "cell_type": "code",
   "execution_count": 187,
   "metadata": {},
   "outputs": [
    {
     "name": "stdout",
     "output_type": "stream",
     "text": [
      "검정 통계량: 0.01935398578643799, p-value: 0.0\n",
      "데이터는 정규 분포를 따르지 않습니다 (귀무가설을 기각)\n"
     ]
    }
   ],
   "source": [
    "from scipy.stats import shapiro\n",
    "\n",
    "# 샤피로-윌크 검정 수행\n",
    "statistic, p_value = shapiro(data0)\n",
    "\n",
    "# 검정 통계량과 p-value 출력\n",
    "print(f\"검정 통계량: {statistic}, p-value: {p_value}\")\n",
    "\n",
    "# p-value를 기준으로 귀무가설을 기각 여부 판단\n",
    "alpha = 0.05\n",
    "if p_value > alpha:\n",
    "    print(\"데이터는 정규 분포를 따릅니다 (귀무가설을 기각하지 않음)\")\n",
    "else:\n",
    "    print(\"데이터는 정규 분포를 따르지 않습니다 (귀무가설을 기각)\")"
   ]
  },
  {
   "cell_type": "code",
   "execution_count": 188,
   "metadata": {},
   "outputs": [
    {
     "name": "stdout",
     "output_type": "stream",
     "text": [
      "검정 통계량: 0.26387739181518555, p-value: 0.0\n",
      "데이터는 정규 분포를 따르지 않습니다 (귀무가설을 기각)\n"
     ]
    }
   ],
   "source": [
    "from scipy.stats import shapiro\n",
    "\n",
    "# 샤피로-윌크 검정 수행\n",
    "statistic, p_value = shapiro(data1)\n",
    "\n",
    "# 검정 통계량과 p-value 출력\n",
    "print(f\"검정 통계량: {statistic}, p-value: {p_value}\")\n",
    "\n",
    "# p-value를 기준으로 귀무가설을 기각 여부 판단\n",
    "alpha = 0.05\n",
    "if p_value > alpha:\n",
    "    print(\"데이터는 정규 분포를 따릅니다 (귀무가설을 기각하지 않음)\")\n",
    "else:\n",
    "    print(\"데이터는 정규 분포를 따르지 않습니다 (귀무가설을 기각)\")"
   ]
  },
  {
   "cell_type": "code",
   "execution_count": 189,
   "metadata": {},
   "outputs": [
    {
     "name": "stdout",
     "output_type": "stream",
     "text": [
      "검정 통계량: 666.3560402047547\n",
      "유의수준 15.0%: 임계값 = 0.575\n",
      "유의수준 10.0%: 임계값 = 0.655\n",
      "유의수준 5.0%: 임계값 = 0.785\n",
      "유의수준 2.5%: 임계값 = 0.916\n",
      "유의수준 1.0%: 임계값 = 1.09\n",
      "데이터는 정규 분포를 따르지 않습니다.\n"
     ]
    }
   ],
   "source": [
    "from scipy.stats import anderson\n",
    "\n",
    "# 안더슨-달링 검정 수행\n",
    "result = anderson(data0)\n",
    "\n",
    "# 검정 통계량과 임계값 출력\n",
    "print(f\"검정 통계량: {result.statistic}\")\n",
    "\n",
    "# 임계값과 유의수준에 따른 결과 출력\n",
    "for i in range(len(result.critical_values)):\n",
    "    sl, cv = result.significance_level[i], result.critical_values[i]\n",
    "    print(f\"유의수준 {sl}%: 임계값 = {cv}\")\n",
    "\n",
    "# 검정 통계량이 임계값보다 작으면 정규 분포를 따른다고 판단\n",
    "if result.statistic < result.critical_values[2]:\n",
    "    print(\"데이터는 정규 분포를 따릅니다.\")\n",
    "else:\n",
    "    print(\"데이터는 정규 분포를 따르지 않습니다.\")"
   ]
  },
  {
   "cell_type": "code",
   "execution_count": 190,
   "metadata": {},
   "outputs": [
    {
     "name": "stdout",
     "output_type": "stream",
     "text": [
      "검정 통계량: 433.5936057408753\n",
      "유의수준 15.0%: 임계값 = 0.575\n",
      "유의수준 10.0%: 임계값 = 0.655\n",
      "유의수준 5.0%: 임계값 = 0.785\n",
      "유의수준 2.5%: 임계값 = 0.916\n",
      "유의수준 1.0%: 임계값 = 1.09\n",
      "데이터는 정규 분포를 따르지 않습니다.\n"
     ]
    }
   ],
   "source": [
    "from scipy.stats import anderson\n",
    "\n",
    "# 안더슨-달링 검정 수행\n",
    "result = anderson(data1)\n",
    "\n",
    "# 검정 통계량과 임계값 출력\n",
    "print(f\"검정 통계량: {result.statistic}\")\n",
    "\n",
    "# 임계값과 유의수준에 따른 결과 출력\n",
    "for i in range(len(result.critical_values)):\n",
    "    sl, cv = result.significance_level[i], result.critical_values[i]\n",
    "    print(f\"유의수준 {sl}%: 임계값 = {cv}\")\n",
    "\n",
    "# 검정 통계량이 임계값보다 작으면 정규 분포를 따른다고 판단\n",
    "if result.statistic < result.critical_values[2]:\n",
    "    print(\"데이터는 정규 분포를 따릅니다.\")\n",
    "else:\n",
    "    print(\"데이터는 정규 분포를 따르지 않습니다.\")"
   ]
  },
  {
   "cell_type": "code",
   "execution_count": 191,
   "metadata": {},
   "outputs": [
    {
     "name": "stdout",
     "output_type": "stream",
     "text": [
      "검정 통계량: 0.19980988647451559, p-value: 4.839024161896977e-63\n",
      "데이터는 정규 분포를 따르지 않습니다 (귀무가설을 기각)\n"
     ]
    }
   ],
   "source": [
    "from scipy.stats import kstest, norm\n",
    "\n",
    "# Kolmogorov-Smirnov 검정 수행\n",
    "statistic, p_value = kstest(data0, 'norm')\n",
    "\n",
    "# 검정 통계량과 p-value 출력\n",
    "print(f\"검정 통계량: {statistic}, p-value: {p_value}\")\n",
    "\n",
    "# p-value를 기준으로 귀무가설을 기각 여부 판단\n",
    "alpha = 0.05\n",
    "if p_value > alpha:\n",
    "    print(\"데이터는 정규 분포를 따릅니다 (귀무가설을 기각하지 않음)\")\n",
    "else:\n",
    "    print(\"데이터는 정규 분포를 따르지 않습니다 (귀무가설을 기각)\")"
   ]
  },
  {
   "cell_type": "code",
   "execution_count": 192,
   "metadata": {},
   "outputs": [
    {
     "name": "stdout",
     "output_type": "stream",
     "text": [
      "검정 통계량: 0.5031702699278638, p-value: 0.0\n",
      "데이터는 정규 분포를 따르지 않습니다 (귀무가설을 기각)\n"
     ]
    }
   ],
   "source": [
    "from scipy.stats import kstest, norm\n",
    "\n",
    "# Kolmogorov-Smirnov 검정 수행\n",
    "statistic, p_value = kstest(data1, 'norm')\n",
    "\n",
    "# 검정 통계량과 p-value 출력\n",
    "print(f\"검정 통계량: {statistic}, p-value: {p_value}\")\n",
    "\n",
    "# p-value를 기준으로 귀무가설을 기각 여부 판단\n",
    "alpha = 0.05\n",
    "if p_value > alpha:\n",
    "    print(\"데이터는 정규 분포를 따릅니다 (귀무가설을 기각하지 않음)\")\n",
    "else:\n",
    "    print(\"데이터는 정규 분포를 따르지 않습니다 (귀무가설을 기각)\")"
   ]
  },
  {
   "cell_type": "markdown",
   "metadata": {},
   "source": [
    "median"
   ]
  },
  {
   "cell_type": "code",
   "execution_count": 193,
   "metadata": {},
   "outputs": [],
   "source": [
    "쇠퇴부실[na_col0].fillna(data0.median(), inplace=True)"
   ]
  },
  {
   "cell_type": "code",
   "execution_count": 194,
   "metadata": {},
   "outputs": [],
   "source": [
    "쇠퇴부실[na_col1].fillna(data1.median(), inplace=True)"
   ]
  },
  {
   "cell_type": "markdown",
   "metadata": {},
   "source": [
    "# to_csv"
   ]
  },
  {
   "cell_type": "markdown",
   "metadata": {},
   "source": [
    "train set concat"
   ]
  },
  {
   "cell_type": "code",
   "execution_count": 195,
   "metadata": {},
   "outputs": [],
   "source": [
    "filled_train_data = pd.concat([도입부실, 도입정상, 성장부실, 성장정상, 성숙부실, 성숙정상, 쇠퇴부실, 쇠퇴정상], axis=0, ignore_index=True)"
   ]
  },
  {
   "cell_type": "code",
   "execution_count": 196,
   "metadata": {},
   "outputs": [
    {
     "data": {
      "text/plain": [
       "Index(['회사명', '거래소코드', '회계년도', 'CASH FLOW 대 부채비율', 'CASH FLOW 대 차입금비율',\n",
       "       'CASH FLOW 대 총자본비율', 'CASH FLOW 대 매출액비율', '유동비율', '당좌비율', '부채비율',\n",
       "       '유동부채비율', '차입금의존도', '순운전자본비율', '현금비율', '유동자산구성비율', '자기자본구성비율',\n",
       "       '자기자본순이익률', '경영자본순이익률', '매출액순이익률', '총자본사업이익률', '총자본영업이익률', '매출액영업이익률',\n",
       "       '금융비용부담률', 'CROE', '총자산증가율', '총자본증가율', '유동자산증가율', '비유동자산증가율', '매출액증가율',\n",
       "       '유형자산증가율', '부가가치(백만원)', '총자본투자효율', '설비투자효율', '부가가치율', '이윤분배율', '자본분배율',\n",
       "       '총자산회전율', '매출채권회전률', '당좌자산회전률', '유형자산회전율', '경영자본회전률', '총자본회전률',\n",
       "       '비유동자산회전률', '유동자산회전률', '영업년수', '쭈피처', '영업레버리지', '재무레버리지', '영업투자현금비율',\n",
       "       '영업재무현금비율', '도입기', '성숙기', '성장기', '쇠퇴기', '부실판단'],\n",
       "      dtype='object')"
      ]
     },
     "execution_count": 196,
     "metadata": {},
     "output_type": "execute_result"
    }
   ],
   "source": [
    "filled_train_data.columns"
   ]
  },
  {
   "cell_type": "code",
   "execution_count": 197,
   "metadata": {},
   "outputs": [
    {
     "data": {
      "text/plain": [
       "15138"
      ]
     },
     "execution_count": 197,
     "metadata": {},
     "output_type": "execute_result"
    }
   ],
   "source": [
    "len(filled_train_data)"
   ]
  },
  {
   "cell_type": "code",
   "execution_count": 198,
   "metadata": {},
   "outputs": [],
   "source": [
    "filled_train_data.to_csv('../data/datasets/unlisted_filled_train_data.csv', index=False)"
   ]
  },
  {
   "cell_type": "markdown",
   "metadata": {},
   "source": [
    "test set"
   ]
  },
  {
   "cell_type": "code",
   "execution_count": 199,
   "metadata": {},
   "outputs": [
    {
     "data": {
      "text/plain": [
       "19945   0.000\n",
       "6034    1.000\n",
       "12336   0.000\n",
       "19337   0.000\n",
       "3974    0.000\n",
       "         ... \n",
       "20311   1.000\n",
       "9086    0.000\n",
       "9694    0.000\n",
       "10691   1.000\n",
       "13411   1.000\n",
       "Name: 부실판단, Length: 5569, dtype: float64"
      ]
     },
     "execution_count": 199,
     "metadata": {},
     "output_type": "execute_result"
    }
   ],
   "source": [
    "unlisted_X_test['부실판단'] = unlisted_y_test\n",
    "unlisted_X_test['부실판단']"
   ]
  },
  {
   "cell_type": "code",
   "execution_count": 200,
   "metadata": {},
   "outputs": [],
   "source": [
    "unlisted_X_test.to_csv('../data/datasets/unlisted_test_data.csv', index=False)"
   ]
  },
  {
   "cell_type": "code",
   "execution_count": 201,
   "metadata": {},
   "outputs": [
    {
     "data": {
      "text/html": [
       "<div>\n",
       "<style scoped>\n",
       "    .dataframe tbody tr th:only-of-type {\n",
       "        vertical-align: middle;\n",
       "    }\n",
       "\n",
       "    .dataframe tbody tr th {\n",
       "        vertical-align: top;\n",
       "    }\n",
       "\n",
       "    .dataframe thead th {\n",
       "        text-align: right;\n",
       "    }\n",
       "</style>\n",
       "<table border=\"1\" class=\"dataframe\">\n",
       "  <thead>\n",
       "    <tr style=\"text-align: right;\">\n",
       "      <th></th>\n",
       "      <th>회사명</th>\n",
       "      <th>거래소코드</th>\n",
       "      <th>회계년도</th>\n",
       "      <th>CASH FLOW 대 부채비율</th>\n",
       "      <th>CASH FLOW 대 차입금비율</th>\n",
       "      <th>CASH FLOW 대 총자본비율</th>\n",
       "      <th>CASH FLOW 대 매출액비율</th>\n",
       "      <th>유동비율</th>\n",
       "      <th>당좌비율</th>\n",
       "      <th>부채비율</th>\n",
       "      <th>...</th>\n",
       "      <th>쭈피처</th>\n",
       "      <th>영업레버리지</th>\n",
       "      <th>재무레버리지</th>\n",
       "      <th>영업투자현금비율</th>\n",
       "      <th>영업재무현금비율</th>\n",
       "      <th>도입기</th>\n",
       "      <th>성숙기</th>\n",
       "      <th>성장기</th>\n",
       "      <th>쇠퇴기</th>\n",
       "      <th>부실판단</th>\n",
       "    </tr>\n",
       "  </thead>\n",
       "  <tbody>\n",
       "    <tr>\n",
       "      <th>19945</th>\n",
       "      <td>인지솔라주식회사</td>\n",
       "      <td>87600</td>\n",
       "      <td>2019</td>\n",
       "      <td>15.910</td>\n",
       "      <td>16.110</td>\n",
       "      <td>10.380</td>\n",
       "      <td>69.180</td>\n",
       "      <td>20.290</td>\n",
       "      <td>7.920</td>\n",
       "      <td>187.760</td>\n",
       "      <td>...</td>\n",
       "      <td>0.161</td>\n",
       "      <td>1.871</td>\n",
       "      <td>12.022</td>\n",
       "      <td>-0.793</td>\n",
       "      <td>2.408</td>\n",
       "      <td>0</td>\n",
       "      <td>0</td>\n",
       "      <td>1</td>\n",
       "      <td>0</td>\n",
       "      <td>0.000</td>\n",
       "    </tr>\n",
       "    <tr>\n",
       "      <th>6034</th>\n",
       "      <td>(주)케이엔에프인터내셔날</td>\n",
       "      <td>72390</td>\n",
       "      <td>2020</td>\n",
       "      <td>-23.920</td>\n",
       "      <td>-46.320</td>\n",
       "      <td>-21.590</td>\n",
       "      <td>-12.250</td>\n",
       "      <td>105.430</td>\n",
       "      <td>75.350</td>\n",
       "      <td>926.090</td>\n",
       "      <td>...</td>\n",
       "      <td>0.412</td>\n",
       "      <td>-1.397</td>\n",
       "      <td>0.972</td>\n",
       "      <td>-0.777</td>\n",
       "      <td>3.136</td>\n",
       "      <td>0</td>\n",
       "      <td>0</td>\n",
       "      <td>0</td>\n",
       "      <td>1</td>\n",
       "      <td>1.000</td>\n",
       "    </tr>\n",
       "    <tr>\n",
       "      <th>12336</th>\n",
       "      <td>경동산업주식회사</td>\n",
       "      <td>10708</td>\n",
       "      <td>2022</td>\n",
       "      <td>6.820</td>\n",
       "      <td>14.720</td>\n",
       "      <td>2.680</td>\n",
       "      <td>1.690</td>\n",
       "      <td>250.570</td>\n",
       "      <td>104.230</td>\n",
       "      <td>64.650</td>\n",
       "      <td>...</td>\n",
       "      <td>0.129</td>\n",
       "      <td>2.443</td>\n",
       "      <td>2.030</td>\n",
       "      <td>-0.880</td>\n",
       "      <td>5.588</td>\n",
       "      <td>0</td>\n",
       "      <td>0</td>\n",
       "      <td>1</td>\n",
       "      <td>0</td>\n",
       "      <td>0.000</td>\n",
       "    </tr>\n",
       "    <tr>\n",
       "      <th>19337</th>\n",
       "      <td>(주)장충동왕족발</td>\n",
       "      <td>53614</td>\n",
       "      <td>2022</td>\n",
       "      <td>7.550</td>\n",
       "      <td>10.030</td>\n",
       "      <td>4.640</td>\n",
       "      <td>5.440</td>\n",
       "      <td>64.220</td>\n",
       "      <td>45.060</td>\n",
       "      <td>159.340</td>\n",
       "      <td>...</td>\n",
       "      <td>0.346</td>\n",
       "      <td>11.815</td>\n",
       "      <td>2.035</td>\n",
       "      <td>-1.601</td>\n",
       "      <td>3.127</td>\n",
       "      <td>0</td>\n",
       "      <td>0</td>\n",
       "      <td>1</td>\n",
       "      <td>0</td>\n",
       "      <td>0.000</td>\n",
       "    </tr>\n",
       "    <tr>\n",
       "      <th>3974</th>\n",
       "      <td>(주)한강티에스</td>\n",
       "      <td>94815</td>\n",
       "      <td>2022</td>\n",
       "      <td>-8.520</td>\n",
       "      <td>0.000</td>\n",
       "      <td>-6.450</td>\n",
       "      <td>-1.240</td>\n",
       "      <td>171.520</td>\n",
       "      <td>171.520</td>\n",
       "      <td>312.100</td>\n",
       "      <td>...</td>\n",
       "      <td>1.009</td>\n",
       "      <td>-116.667</td>\n",
       "      <td>2.217</td>\n",
       "      <td>-1.019</td>\n",
       "      <td>46.686</td>\n",
       "      <td>0</td>\n",
       "      <td>0</td>\n",
       "      <td>0</td>\n",
       "      <td>1</td>\n",
       "      <td>0.000</td>\n",
       "    </tr>\n",
       "    <tr>\n",
       "      <th>...</th>\n",
       "      <td>...</td>\n",
       "      <td>...</td>\n",
       "      <td>...</td>\n",
       "      <td>...</td>\n",
       "      <td>...</td>\n",
       "      <td>...</td>\n",
       "      <td>...</td>\n",
       "      <td>...</td>\n",
       "      <td>...</td>\n",
       "      <td>...</td>\n",
       "      <td>...</td>\n",
       "      <td>...</td>\n",
       "      <td>...</td>\n",
       "      <td>...</td>\n",
       "      <td>...</td>\n",
       "      <td>...</td>\n",
       "      <td>...</td>\n",
       "      <td>...</td>\n",
       "      <td>...</td>\n",
       "      <td>...</td>\n",
       "      <td>...</td>\n",
       "    </tr>\n",
       "    <tr>\n",
       "      <th>20311</th>\n",
       "      <td>조일산업(주)</td>\n",
       "      <td>70253</td>\n",
       "      <td>2019</td>\n",
       "      <td>-11.470</td>\n",
       "      <td>-16.560</td>\n",
       "      <td>-7.770</td>\n",
       "      <td>-10.310</td>\n",
       "      <td>83.470</td>\n",
       "      <td>82.450</td>\n",
       "      <td>210.020</td>\n",
       "      <td>...</td>\n",
       "      <td>0.120</td>\n",
       "      <td>-86.965</td>\n",
       "      <td>-0.062</td>\n",
       "      <td>-4.403</td>\n",
       "      <td>-1.000</td>\n",
       "      <td>0</td>\n",
       "      <td>0</td>\n",
       "      <td>0</td>\n",
       "      <td>1</td>\n",
       "      <td>1.000</td>\n",
       "    </tr>\n",
       "    <tr>\n",
       "      <th>9086</th>\n",
       "      <td>디앤에이중공업(주)</td>\n",
       "      <td>56937</td>\n",
       "      <td>2022</td>\n",
       "      <td>64.790</td>\n",
       "      <td>0.000</td>\n",
       "      <td>14.160</td>\n",
       "      <td>11.660</td>\n",
       "      <td>376.750</td>\n",
       "      <td>293.070</td>\n",
       "      <td>27.960</td>\n",
       "      <td>...</td>\n",
       "      <td>0.140</td>\n",
       "      <td>1.755</td>\n",
       "      <td>0.906</td>\n",
       "      <td>-16.095</td>\n",
       "      <td>-1.849</td>\n",
       "      <td>0</td>\n",
       "      <td>1</td>\n",
       "      <td>0</td>\n",
       "      <td>0</td>\n",
       "      <td>0.000</td>\n",
       "    </tr>\n",
       "    <tr>\n",
       "      <th>9694</th>\n",
       "      <td>(주)분더바움</td>\n",
       "      <td>81601</td>\n",
       "      <td>2020</td>\n",
       "      <td>910.550</td>\n",
       "      <td>9831.840</td>\n",
       "      <td>304.530</td>\n",
       "      <td>55.910</td>\n",
       "      <td>268.100</td>\n",
       "      <td>240.150</td>\n",
       "      <td>50.250</td>\n",
       "      <td>...</td>\n",
       "      <td>0.326</td>\n",
       "      <td>5.194</td>\n",
       "      <td>1.226</td>\n",
       "      <td>-7.998</td>\n",
       "      <td>-1.144</td>\n",
       "      <td>0</td>\n",
       "      <td>1</td>\n",
       "      <td>0</td>\n",
       "      <td>0</td>\n",
       "      <td>0.000</td>\n",
       "    </tr>\n",
       "    <tr>\n",
       "      <th>10691</th>\n",
       "      <td>빅스포주식회사</td>\n",
       "      <td>50162</td>\n",
       "      <td>2022</td>\n",
       "      <td>-3.970</td>\n",
       "      <td>-4.310</td>\n",
       "      <td>-2.550</td>\n",
       "      <td>-9.910</td>\n",
       "      <td>29.760</td>\n",
       "      <td>26.890</td>\n",
       "      <td>178.580</td>\n",
       "      <td>...</td>\n",
       "      <td>0.426</td>\n",
       "      <td>-1.137</td>\n",
       "      <td>0.781</td>\n",
       "      <td>-0.933</td>\n",
       "      <td>0.971</td>\n",
       "      <td>0</td>\n",
       "      <td>0</td>\n",
       "      <td>0</td>\n",
       "      <td>1</td>\n",
       "      <td>1.000</td>\n",
       "    </tr>\n",
       "    <tr>\n",
       "      <th>13411</th>\n",
       "      <td>(주)세화씨엔씨</td>\n",
       "      <td>77146</td>\n",
       "      <td>2017</td>\n",
       "      <td>0.700</td>\n",
       "      <td>0.820</td>\n",
       "      <td>0.600</td>\n",
       "      <td>0.460</td>\n",
       "      <td>22.070</td>\n",
       "      <td>11.380</td>\n",
       "      <td>647.140</td>\n",
       "      <td>...</td>\n",
       "      <td>0.057</td>\n",
       "      <td>-0.455</td>\n",
       "      <td>0.634</td>\n",
       "      <td>936.011</td>\n",
       "      <td>-3.044</td>\n",
       "      <td>1</td>\n",
       "      <td>0</td>\n",
       "      <td>0</td>\n",
       "      <td>0</td>\n",
       "      <td>1.000</td>\n",
       "    </tr>\n",
       "  </tbody>\n",
       "</table>\n",
       "<p>5569 rows × 55 columns</p>\n",
       "</div>"
      ],
      "text/plain": [
       "                 회사명  거래소코드  회계년도  CASH FLOW 대 부채비율  CASH FLOW 대 차입금비율  \\\n",
       "19945       인지솔라주식회사  87600  2019            15.910             16.110   \n",
       "6034   (주)케이엔에프인터내셔날  72390  2020           -23.920            -46.320   \n",
       "12336       경동산업주식회사  10708  2022             6.820             14.720   \n",
       "19337      (주)장충동왕족발  53614  2022             7.550             10.030   \n",
       "3974        (주)한강티에스  94815  2022            -8.520              0.000   \n",
       "...              ...    ...   ...               ...                ...   \n",
       "20311        조일산업(주)  70253  2019           -11.470            -16.560   \n",
       "9086      디앤에이중공업(주)  56937  2022            64.790              0.000   \n",
       "9694         (주)분더바움  81601  2020           910.550           9831.840   \n",
       "10691        빅스포주식회사  50162  2022            -3.970             -4.310   \n",
       "13411       (주)세화씨엔씨  77146  2017             0.700              0.820   \n",
       "\n",
       "       CASH FLOW 대 총자본비율  CASH FLOW 대 매출액비율    유동비율    당좌비율    부채비율  ...  \\\n",
       "19945             10.380             69.180  20.290   7.920 187.760  ...   \n",
       "6034             -21.590            -12.250 105.430  75.350 926.090  ...   \n",
       "12336              2.680              1.690 250.570 104.230  64.650  ...   \n",
       "19337              4.640              5.440  64.220  45.060 159.340  ...   \n",
       "3974              -6.450             -1.240 171.520 171.520 312.100  ...   \n",
       "...                  ...                ...     ...     ...     ...  ...   \n",
       "20311             -7.770            -10.310  83.470  82.450 210.020  ...   \n",
       "9086              14.160             11.660 376.750 293.070  27.960  ...   \n",
       "9694             304.530             55.910 268.100 240.150  50.250  ...   \n",
       "10691             -2.550             -9.910  29.760  26.890 178.580  ...   \n",
       "13411              0.600              0.460  22.070  11.380 647.140  ...   \n",
       "\n",
       "        쭈피처   영업레버리지  재무레버리지  영업투자현금비율  영업재무현금비율  도입기  성숙기  성장기  쇠퇴기  부실판단  \n",
       "19945 0.161    1.871  12.022    -0.793     2.408    0    0    1    0 0.000  \n",
       "6034  0.412   -1.397   0.972    -0.777     3.136    0    0    0    1 1.000  \n",
       "12336 0.129    2.443   2.030    -0.880     5.588    0    0    1    0 0.000  \n",
       "19337 0.346   11.815   2.035    -1.601     3.127    0    0    1    0 0.000  \n",
       "3974  1.009 -116.667   2.217    -1.019    46.686    0    0    0    1 0.000  \n",
       "...     ...      ...     ...       ...       ...  ...  ...  ...  ...   ...  \n",
       "20311 0.120  -86.965  -0.062    -4.403    -1.000    0    0    0    1 1.000  \n",
       "9086  0.140    1.755   0.906   -16.095    -1.849    0    1    0    0 0.000  \n",
       "9694  0.326    5.194   1.226    -7.998    -1.144    0    1    0    0 0.000  \n",
       "10691 0.426   -1.137   0.781    -0.933     0.971    0    0    0    1 1.000  \n",
       "13411 0.057   -0.455   0.634   936.011    -3.044    1    0    0    0 1.000  \n",
       "\n",
       "[5569 rows x 55 columns]"
      ]
     },
     "execution_count": 201,
     "metadata": {},
     "output_type": "execute_result"
    }
   ],
   "source": [
    "unlisted_X_test"
   ]
  }
 ],
 "metadata": {
  "kernelspec": {
   "display_name": "Python 3",
   "language": "python",
   "name": "python3"
  },
  "language_info": {
   "codemirror_mode": {
    "name": "ipython",
    "version": 3
   },
   "file_extension": ".py",
   "mimetype": "text/x-python",
   "name": "python",
   "nbconvert_exporter": "python",
   "pygments_lexer": "ipython3",
   "version": "3.11.3"
  }
 },
 "nbformat": 4,
 "nbformat_minor": 2
}
