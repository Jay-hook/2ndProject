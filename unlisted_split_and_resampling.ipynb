{
 "cells": [
  {
   "cell_type": "markdown",
   "metadata": {},
   "source": [
    "목적 : unlisted data split & Resampling\n",
    "==============\n",
    "목표 : 쌍대표본방식으로 Undersampling\n",
    "-----------------\n",
    "각 수명주기별 부실기업 표본수와 정상기업 표본수를 일치하도록 임의로 추출한다."
   ]
  },
  {
   "cell_type": "markdown",
   "metadata": {},
   "source": [
    "import modules"
   ]
  },
  {
   "cell_type": "code",
   "execution_count": 2,
   "metadata": {},
   "outputs": [],
   "source": [
    "import pandas as pd\n",
    "import numpy as np\n",
    "#워닝 메시지\n",
    "import warnings\n",
    "warnings.filterwarnings('ignore')"
   ]
  },
  {
   "cell_type": "markdown",
   "metadata": {},
   "source": [
    "load files"
   ]
  },
  {
   "cell_type": "code",
   "execution_count": 3,
   "metadata": {},
   "outputs": [],
   "source": [
    "unlisted = pd.read_csv(\"./비상장후보피처.csv\")"
   ]
  },
  {
   "cell_type": "markdown",
   "metadata": {},
   "source": [
    "# 데이터 확인"
   ]
  },
  {
   "cell_type": "code",
   "execution_count": 4,
   "metadata": {},
   "outputs": [
    {
     "data": {
      "text/plain": [
       "Index(['회사명', '거래소코드', '회계년도', 'CASH FLOW 대 부채비율', 'CASH FLOW 대 차입금비율',\n",
       "       'CASH FLOW 대 총자본비율', 'CASH FLOW 대 매출액비율', '유동비율', '당좌비율', '부채비율',\n",
       "       '유동부채비율', '차입금의존도', '순운전자본비율', '현금비율', '유동자산구성비율', '자기자본구성비율',\n",
       "       '자기자본순이익률', '경영자본순이익률', '매출액순이익률', '총자본사업이익률', '총자본영업이익률', '매출액영업이익률',\n",
       "       '금융비용부담률', 'CROE', '총자산증가율', '총자본증가율', '유동자산증가율', '비유동자산증가율', '매출액증가율',\n",
       "       '유형자산증가율', '부가가치(백만원)', '총자본투자효율', '설비투자효율', '부가가치율', '이윤분배율', '자본분배율',\n",
       "       '총자산회전율', '매출채권회전률', '당좌자산회전률', '유형자산회전율', '경영자본회전률', '총자본회전률',\n",
       "       '비유동자산회전률', '유동자산회전률', '영업년수', '부실판단', '도입기', '성숙기', '성장기', '쇠퇴기'],\n",
       "      dtype='object')"
      ]
     },
     "execution_count": 4,
     "metadata": {},
     "output_type": "execute_result"
    }
   ],
   "source": [
    "unlisted.columns"
   ]
  },
  {
   "cell_type": "code",
   "execution_count": 5,
   "metadata": {},
   "outputs": [
    {
     "data": {
      "text/plain": [
       "부실판단\n",
       "0.0    13225\n",
       "1.0     7482\n",
       "Name: count, dtype: int64"
      ]
     },
     "execution_count": 5,
     "metadata": {},
     "output_type": "execute_result"
    }
   ],
   "source": [
    "unlisted['부실판단'].value_counts()"
   ]
  },
  {
   "cell_type": "code",
   "execution_count": 6,
   "metadata": {},
   "outputs": [
    {
     "data": {
      "text/plain": [
       "도입기  부실판단\n",
       "0    0.0     11410\n",
       "     1.0      4747\n",
       "1    1.0      2735\n",
       "     0.0      1815\n",
       "Name: count, dtype: int64"
      ]
     },
     "execution_count": 6,
     "metadata": {},
     "output_type": "execute_result"
    }
   ],
   "source": [
    "unlisted[['도입기', '부실판단']].value_counts()"
   ]
  },
  {
   "cell_type": "code",
   "execution_count": 7,
   "metadata": {},
   "outputs": [
    {
     "data": {
      "text/plain": [
       "성장기  부실판단\n",
       "0    0.0     10131\n",
       "     1.0      6590\n",
       "1    0.0      3094\n",
       "     1.0       892\n",
       "Name: count, dtype: int64"
      ]
     },
     "execution_count": 7,
     "metadata": {},
     "output_type": "execute_result"
    }
   ],
   "source": [
    "unlisted[['성장기', '부실판단']].value_counts()"
   ]
  },
  {
   "cell_type": "code",
   "execution_count": 8,
   "metadata": {},
   "outputs": [
    {
     "data": {
      "text/plain": [
       "성숙기  부실판단\n",
       "0    0.0     6941\n",
       "1    0.0     6284\n",
       "0    1.0     6229\n",
       "1    1.0     1253\n",
       "Name: count, dtype: int64"
      ]
     },
     "execution_count": 8,
     "metadata": {},
     "output_type": "execute_result"
    }
   ],
   "source": [
    "unlisted[['성숙기', '부실판단']].value_counts()"
   ]
  },
  {
   "cell_type": "code",
   "execution_count": 9,
   "metadata": {},
   "outputs": [
    {
     "data": {
      "text/plain": [
       "쇠퇴기  부실판단\n",
       "0    0.0     11193\n",
       "     1.0      4880\n",
       "1    1.0      2602\n",
       "     0.0      2032\n",
       "Name: count, dtype: int64"
      ]
     },
     "execution_count": 9,
     "metadata": {},
     "output_type": "execute_result"
    }
   ],
   "source": [
    "unlisted[['쇠퇴기', '부실판단']].value_counts()"
   ]
  },
  {
   "cell_type": "markdown",
   "metadata": {},
   "source": [
    "# train_test_split"
   ]
  },
  {
   "cell_type": "code",
   "execution_count": 10,
   "metadata": {},
   "outputs": [
    {
     "data": {
      "text/html": [
       "<div>\n",
       "<style scoped>\n",
       "    .dataframe tbody tr th:only-of-type {\n",
       "        vertical-align: middle;\n",
       "    }\n",
       "\n",
       "    .dataframe tbody tr th {\n",
       "        vertical-align: top;\n",
       "    }\n",
       "\n",
       "    .dataframe thead th {\n",
       "        text-align: right;\n",
       "    }\n",
       "</style>\n",
       "<table border=\"1\" class=\"dataframe\">\n",
       "  <thead>\n",
       "    <tr style=\"text-align: right;\">\n",
       "      <th></th>\n",
       "      <th>회사명</th>\n",
       "      <th>거래소코드</th>\n",
       "      <th>회계년도</th>\n",
       "      <th>CASH FLOW 대 부채비율</th>\n",
       "      <th>CASH FLOW 대 차입금비율</th>\n",
       "      <th>CASH FLOW 대 총자본비율</th>\n",
       "      <th>CASH FLOW 대 매출액비율</th>\n",
       "      <th>유동비율</th>\n",
       "      <th>당좌비율</th>\n",
       "      <th>부채비율</th>\n",
       "      <th>...</th>\n",
       "      <th>경영자본회전률</th>\n",
       "      <th>총자본회전률</th>\n",
       "      <th>비유동자산회전률</th>\n",
       "      <th>유동자산회전률</th>\n",
       "      <th>영업년수</th>\n",
       "      <th>부실판단</th>\n",
       "      <th>도입기</th>\n",
       "      <th>성숙기</th>\n",
       "      <th>성장기</th>\n",
       "      <th>쇠퇴기</th>\n",
       "    </tr>\n",
       "  </thead>\n",
       "  <tbody>\n",
       "    <tr>\n",
       "      <th>0</th>\n",
       "      <td>주식회사성환</td>\n",
       "      <td>81567</td>\n",
       "      <td>2019</td>\n",
       "      <td>7.09</td>\n",
       "      <td>17.07</td>\n",
       "      <td>0.56</td>\n",
       "      <td>13.70</td>\n",
       "      <td>30.42</td>\n",
       "      <td>30.42</td>\n",
       "      <td>8.61</td>\n",
       "      <td>...</td>\n",
       "      <td>0.04</td>\n",
       "      <td>0.04</td>\n",
       "      <td>0.04</td>\n",
       "      <td>4.05</td>\n",
       "      <td>8.0</td>\n",
       "      <td>0.0</td>\n",
       "      <td>0</td>\n",
       "      <td>1</td>\n",
       "      <td>0</td>\n",
       "      <td>0</td>\n",
       "    </tr>\n",
       "    <tr>\n",
       "      <th>1</th>\n",
       "      <td>주식회사성후</td>\n",
       "      <td>86355</td>\n",
       "      <td>2022</td>\n",
       "      <td>8.06</td>\n",
       "      <td>22.99</td>\n",
       "      <td>5.92</td>\n",
       "      <td>80.12</td>\n",
       "      <td>211.53</td>\n",
       "      <td>211.53</td>\n",
       "      <td>276.77</td>\n",
       "      <td>...</td>\n",
       "      <td>0.08</td>\n",
       "      <td>0.08</td>\n",
       "      <td>0.09</td>\n",
       "      <td>2.34</td>\n",
       "      <td>7.0</td>\n",
       "      <td>0.0</td>\n",
       "      <td>0</td>\n",
       "      <td>0</td>\n",
       "      <td>1</td>\n",
       "      <td>0</td>\n",
       "    </tr>\n",
       "    <tr>\n",
       "      <th>2</th>\n",
       "      <td>주식회사성훈</td>\n",
       "      <td>94984</td>\n",
       "      <td>2021</td>\n",
       "      <td>-0.66</td>\n",
       "      <td>-0.69</td>\n",
       "      <td>-0.68</td>\n",
       "      <td>-13.77</td>\n",
       "      <td>9.30</td>\n",
       "      <td>9.23</td>\n",
       "      <td>0.00</td>\n",
       "      <td>...</td>\n",
       "      <td>0.05</td>\n",
       "      <td>0.05</td>\n",
       "      <td>0.05</td>\n",
       "      <td>1.25</td>\n",
       "      <td>5.0</td>\n",
       "      <td>1.0</td>\n",
       "      <td>1</td>\n",
       "      <td>0</td>\n",
       "      <td>0</td>\n",
       "      <td>0</td>\n",
       "    </tr>\n",
       "    <tr>\n",
       "      <th>3</th>\n",
       "      <td>주식회사성훈철강</td>\n",
       "      <td>56923</td>\n",
       "      <td>2022</td>\n",
       "      <td>23.22</td>\n",
       "      <td>30.13</td>\n",
       "      <td>7.23</td>\n",
       "      <td>12.35</td>\n",
       "      <td>65.24</td>\n",
       "      <td>50.34</td>\n",
       "      <td>45.27</td>\n",
       "      <td>...</td>\n",
       "      <td>1.14</td>\n",
       "      <td>0.61</td>\n",
       "      <td>0.73</td>\n",
       "      <td>3.57</td>\n",
       "      <td>29.0</td>\n",
       "      <td>0.0</td>\n",
       "      <td>0</td>\n",
       "      <td>1</td>\n",
       "      <td>0</td>\n",
       "      <td>0</td>\n",
       "    </tr>\n",
       "    <tr>\n",
       "      <th>4</th>\n",
       "      <td>주식회사성희</td>\n",
       "      <td>63893</td>\n",
       "      <td>2021</td>\n",
       "      <td>-11.77</td>\n",
       "      <td>-12.62</td>\n",
       "      <td>-8.05</td>\n",
       "      <td>-1202.08</td>\n",
       "      <td>141.01</td>\n",
       "      <td>3.01</td>\n",
       "      <td>216.01</td>\n",
       "      <td>...</td>\n",
       "      <td>0.01</td>\n",
       "      <td>0.01</td>\n",
       "      <td>0.08</td>\n",
       "      <td>0.01</td>\n",
       "      <td>20.0</td>\n",
       "      <td>1.0</td>\n",
       "      <td>0</td>\n",
       "      <td>0</td>\n",
       "      <td>0</td>\n",
       "      <td>1</td>\n",
       "    </tr>\n",
       "    <tr>\n",
       "      <th>...</th>\n",
       "      <td>...</td>\n",
       "      <td>...</td>\n",
       "      <td>...</td>\n",
       "      <td>...</td>\n",
       "      <td>...</td>\n",
       "      <td>...</td>\n",
       "      <td>...</td>\n",
       "      <td>...</td>\n",
       "      <td>...</td>\n",
       "      <td>...</td>\n",
       "      <td>...</td>\n",
       "      <td>...</td>\n",
       "      <td>...</td>\n",
       "      <td>...</td>\n",
       "      <td>...</td>\n",
       "      <td>...</td>\n",
       "      <td>...</td>\n",
       "      <td>...</td>\n",
       "      <td>...</td>\n",
       "      <td>...</td>\n",
       "      <td>...</td>\n",
       "    </tr>\n",
       "    <tr>\n",
       "      <th>20702</th>\n",
       "      <td>주식회사나노브릭</td>\n",
       "      <td>77738</td>\n",
       "      <td>2017</td>\n",
       "      <td>-14.23</td>\n",
       "      <td>-27.59</td>\n",
       "      <td>-13.90</td>\n",
       "      <td>-41.83</td>\n",
       "      <td>20.67</td>\n",
       "      <td>9.69</td>\n",
       "      <td>4278.15</td>\n",
       "      <td>...</td>\n",
       "      <td>0.31</td>\n",
       "      <td>0.29</td>\n",
       "      <td>0.33</td>\n",
       "      <td>2.08</td>\n",
       "      <td>17.0</td>\n",
       "      <td>1.0</td>\n",
       "      <td>0</td>\n",
       "      <td>0</td>\n",
       "      <td>0</td>\n",
       "      <td>1</td>\n",
       "    </tr>\n",
       "    <tr>\n",
       "      <th>20703</th>\n",
       "      <td>주식회사나노아</td>\n",
       "      <td>67623</td>\n",
       "      <td>2017</td>\n",
       "      <td>-153.85</td>\n",
       "      <td>0.00</td>\n",
       "      <td>-49.38</td>\n",
       "      <td>-934.36</td>\n",
       "      <td>313.18</td>\n",
       "      <td>313.18</td>\n",
       "      <td>47.27</td>\n",
       "      <td>...</td>\n",
       "      <td>0.02</td>\n",
       "      <td>0.02</td>\n",
       "      <td>0.02</td>\n",
       "      <td>0.10</td>\n",
       "      <td>14.0</td>\n",
       "      <td>0.0</td>\n",
       "      <td>0</td>\n",
       "      <td>0</td>\n",
       "      <td>0</td>\n",
       "      <td>1</td>\n",
       "    </tr>\n",
       "    <tr>\n",
       "      <th>20704</th>\n",
       "      <td>주식회사나노앤텍</td>\n",
       "      <td>72817</td>\n",
       "      <td>2022</td>\n",
       "      <td>0.76</td>\n",
       "      <td>0.85</td>\n",
       "      <td>0.57</td>\n",
       "      <td>1.40</td>\n",
       "      <td>63.52</td>\n",
       "      <td>34.19</td>\n",
       "      <td>304.84</td>\n",
       "      <td>...</td>\n",
       "      <td>0.52</td>\n",
       "      <td>0.50</td>\n",
       "      <td>0.63</td>\n",
       "      <td>2.46</td>\n",
       "      <td>19.0</td>\n",
       "      <td>0.0</td>\n",
       "      <td>0</td>\n",
       "      <td>0</td>\n",
       "      <td>1</td>\n",
       "      <td>0</td>\n",
       "    </tr>\n",
       "    <tr>\n",
       "      <th>20705</th>\n",
       "      <td>주식회사나노코</td>\n",
       "      <td>56825</td>\n",
       "      <td>2022</td>\n",
       "      <td>28.06</td>\n",
       "      <td>38.70</td>\n",
       "      <td>11.23</td>\n",
       "      <td>11.22</td>\n",
       "      <td>261.67</td>\n",
       "      <td>184.98</td>\n",
       "      <td>66.72</td>\n",
       "      <td>...</td>\n",
       "      <td>1.12</td>\n",
       "      <td>1.01</td>\n",
       "      <td>2.48</td>\n",
       "      <td>1.70</td>\n",
       "      <td>24.0</td>\n",
       "      <td>0.0</td>\n",
       "      <td>0</td>\n",
       "      <td>1</td>\n",
       "      <td>0</td>\n",
       "      <td>0</td>\n",
       "    </tr>\n",
       "    <tr>\n",
       "      <th>20706</th>\n",
       "      <td>주식회사나노팜</td>\n",
       "      <td>29937</td>\n",
       "      <td>2019</td>\n",
       "      <td>29.25</td>\n",
       "      <td>0.00</td>\n",
       "      <td>6.52</td>\n",
       "      <td>10.65</td>\n",
       "      <td>763.56</td>\n",
       "      <td>526.40</td>\n",
       "      <td>28.67</td>\n",
       "      <td>...</td>\n",
       "      <td>0.65</td>\n",
       "      <td>0.63</td>\n",
       "      <td>1.80</td>\n",
       "      <td>0.96</td>\n",
       "      <td>26.0</td>\n",
       "      <td>0.0</td>\n",
       "      <td>0</td>\n",
       "      <td>1</td>\n",
       "      <td>0</td>\n",
       "      <td>0</td>\n",
       "    </tr>\n",
       "  </tbody>\n",
       "</table>\n",
       "<p>20707 rows × 50 columns</p>\n",
       "</div>"
      ],
      "text/plain": [
       "            회사명  거래소코드  회계년도  CASH FLOW 대 부채비율  CASH FLOW 대 차입금비율  \\\n",
       "0        주식회사성환  81567  2019              7.09              17.07   \n",
       "1        주식회사성후  86355  2022              8.06              22.99   \n",
       "2        주식회사성훈  94984  2021             -0.66              -0.69   \n",
       "3      주식회사성훈철강  56923  2022             23.22              30.13   \n",
       "4        주식회사성희  63893  2021            -11.77             -12.62   \n",
       "...         ...    ...   ...               ...                ...   \n",
       "20702  주식회사나노브릭  77738  2017            -14.23             -27.59   \n",
       "20703   주식회사나노아  67623  2017           -153.85               0.00   \n",
       "20704  주식회사나노앤텍  72817  2022              0.76               0.85   \n",
       "20705   주식회사나노코  56825  2022             28.06              38.70   \n",
       "20706   주식회사나노팜  29937  2019             29.25               0.00   \n",
       "\n",
       "       CASH FLOW 대 총자본비율  CASH FLOW 대 매출액비율    유동비율    당좌비율     부채비율  ...  \\\n",
       "0                   0.56              13.70   30.42   30.42     8.61  ...   \n",
       "1                   5.92              80.12  211.53  211.53   276.77  ...   \n",
       "2                  -0.68             -13.77    9.30    9.23     0.00  ...   \n",
       "3                   7.23              12.35   65.24   50.34    45.27  ...   \n",
       "4                  -8.05           -1202.08  141.01    3.01   216.01  ...   \n",
       "...                  ...                ...     ...     ...      ...  ...   \n",
       "20702             -13.90             -41.83   20.67    9.69  4278.15  ...   \n",
       "20703             -49.38            -934.36  313.18  313.18    47.27  ...   \n",
       "20704               0.57               1.40   63.52   34.19   304.84  ...   \n",
       "20705              11.23              11.22  261.67  184.98    66.72  ...   \n",
       "20706               6.52              10.65  763.56  526.40    28.67  ...   \n",
       "\n",
       "       경영자본회전률  총자본회전률  비유동자산회전률  유동자산회전률  영업년수  부실판단  도입기  성숙기  성장기  쇠퇴기  \n",
       "0         0.04    0.04      0.04     4.05   8.0   0.0    0    1    0    0  \n",
       "1         0.08    0.08      0.09     2.34   7.0   0.0    0    0    1    0  \n",
       "2         0.05    0.05      0.05     1.25   5.0   1.0    1    0    0    0  \n",
       "3         1.14    0.61      0.73     3.57  29.0   0.0    0    1    0    0  \n",
       "4         0.01    0.01      0.08     0.01  20.0   1.0    0    0    0    1  \n",
       "...        ...     ...       ...      ...   ...   ...  ...  ...  ...  ...  \n",
       "20702     0.31    0.29      0.33     2.08  17.0   1.0    0    0    0    1  \n",
       "20703     0.02    0.02      0.02     0.10  14.0   0.0    0    0    0    1  \n",
       "20704     0.52    0.50      0.63     2.46  19.0   0.0    0    0    1    0  \n",
       "20705     1.12    1.01      2.48     1.70  24.0   0.0    0    1    0    0  \n",
       "20706     0.65    0.63      1.80     0.96  26.0   0.0    0    1    0    0  \n",
       "\n",
       "[20707 rows x 50 columns]"
      ]
     },
     "execution_count": 10,
     "metadata": {},
     "output_type": "execute_result"
    }
   ],
   "source": [
    "unlisted"
   ]
  },
  {
   "cell_type": "code",
   "execution_count": 11,
   "metadata": {},
   "outputs": [],
   "source": [
    "import pandas as pd\n",
    "from sklearn.model_selection import train_test_split\n",
    "\n",
    "# 예제 데이터프레임 생성\n",
    "# data = {'feature1': range(10), 'feature2': range(10), 'label': range(10)}\n",
    "# df = pd.DataFrame(data)\n",
    "\n",
    "# # 특성과 레이블을 나눔\n",
    "# X = df[['feature1', 'feature2']]\n",
    "# y = df['label']\n",
    "\n",
    "X = unlisted.drop('부실판단', axis=1)\n",
    "y = unlisted['부실판단']\n",
    "# 데이터를 학습용과 테스트용으로 나눔\n",
    "X_train, X_test, y_train, y_test = train_test_split(X, y, test_size=(np.exp(1) / 10), random_state=119, stratify=y)"
   ]
  },
  {
   "cell_type": "code",
   "execution_count": 12,
   "metadata": {},
   "outputs": [
    {
     "data": {
      "text/plain": [
       "15078"
      ]
     },
     "execution_count": 12,
     "metadata": {},
     "output_type": "execute_result"
    }
   ],
   "source": [
    "len(y_train)"
   ]
  },
  {
   "cell_type": "code",
   "execution_count": 13,
   "metadata": {},
   "outputs": [
    {
     "data": {
      "text/plain": [
       "5629"
      ]
     },
     "execution_count": 13,
     "metadata": {},
     "output_type": "execute_result"
    }
   ],
   "source": [
    "len(y_test)"
   ]
  },
  {
   "cell_type": "code",
   "execution_count": 14,
   "metadata": {},
   "outputs": [
    {
     "data": {
      "text/plain": [
       "도입기\n",
       "0    11797\n",
       "1     3281\n",
       "Name: count, dtype: int64"
      ]
     },
     "execution_count": 14,
     "metadata": {},
     "output_type": "execute_result"
    }
   ],
   "source": [
    "X_train['도입기'].value_counts()"
   ]
  },
  {
   "cell_type": "code",
   "execution_count": 15,
   "metadata": {},
   "outputs": [
    {
     "data": {
      "text/plain": [
       "성장기\n",
       "0    12196\n",
       "1     2882\n",
       "Name: count, dtype: int64"
      ]
     },
     "execution_count": 15,
     "metadata": {},
     "output_type": "execute_result"
    }
   ],
   "source": [
    "X_train['성장기'].value_counts()"
   ]
  },
  {
   "cell_type": "code",
   "execution_count": 16,
   "metadata": {},
   "outputs": [
    {
     "data": {
      "text/plain": [
       "성숙기\n",
       "0    9536\n",
       "1    5542\n",
       "Name: count, dtype: int64"
      ]
     },
     "execution_count": 16,
     "metadata": {},
     "output_type": "execute_result"
    }
   ],
   "source": [
    "X_train['성숙기'].value_counts()"
   ]
  },
  {
   "cell_type": "code",
   "execution_count": 17,
   "metadata": {},
   "outputs": [
    {
     "data": {
      "text/plain": [
       "쇠퇴기\n",
       "0    11705\n",
       "1     3373\n",
       "Name: count, dtype: int64"
      ]
     },
     "execution_count": 17,
     "metadata": {},
     "output_type": "execute_result"
    }
   ],
   "source": [
    "X_train['쇠퇴기'].value_counts()"
   ]
  },
  {
   "cell_type": "code",
   "execution_count": 18,
   "metadata": {},
   "outputs": [],
   "source": [
    "X_train['부실판단'] = y_train"
   ]
  },
  {
   "cell_type": "code",
   "execution_count": 19,
   "metadata": {},
   "outputs": [
    {
     "data": {
      "text/plain": [
       "2144     0.0\n",
       "20333    0.0\n",
       "5666     0.0\n",
       "15544    1.0\n",
       "11401    0.0\n",
       "        ... \n",
       "1343     0.0\n",
       "6068     1.0\n",
       "10342    1.0\n",
       "19465    0.0\n",
       "18927    0.0\n",
       "Name: 부실판단, Length: 15078, dtype: float64"
      ]
     },
     "execution_count": 19,
     "metadata": {},
     "output_type": "execute_result"
    }
   ],
   "source": [
    "y_train"
   ]
  },
  {
   "cell_type": "code",
   "execution_count": 20,
   "metadata": {},
   "outputs": [
    {
     "data": {
      "text/plain": [
       "2144     0.0\n",
       "20333    0.0\n",
       "5666     0.0\n",
       "15544    1.0\n",
       "11401    0.0\n",
       "        ... \n",
       "1343     0.0\n",
       "6068     1.0\n",
       "10342    1.0\n",
       "19465    0.0\n",
       "18927    0.0\n",
       "Name: 부실판단, Length: 15078, dtype: float64"
      ]
     },
     "execution_count": 20,
     "metadata": {},
     "output_type": "execute_result"
    }
   ],
   "source": [
    "y_train"
   ]
  },
  {
   "cell_type": "code",
   "execution_count": 21,
   "metadata": {},
   "outputs": [
    {
     "data": {
      "text/html": [
       "<div>\n",
       "<style scoped>\n",
       "    .dataframe tbody tr th:only-of-type {\n",
       "        vertical-align: middle;\n",
       "    }\n",
       "\n",
       "    .dataframe tbody tr th {\n",
       "        vertical-align: top;\n",
       "    }\n",
       "\n",
       "    .dataframe thead th {\n",
       "        text-align: right;\n",
       "    }\n",
       "</style>\n",
       "<table border=\"1\" class=\"dataframe\">\n",
       "  <thead>\n",
       "    <tr style=\"text-align: right;\">\n",
       "      <th></th>\n",
       "      <th>회사명</th>\n",
       "      <th>거래소코드</th>\n",
       "      <th>회계년도</th>\n",
       "      <th>CASH FLOW 대 부채비율</th>\n",
       "      <th>CASH FLOW 대 차입금비율</th>\n",
       "      <th>CASH FLOW 대 총자본비율</th>\n",
       "      <th>CASH FLOW 대 매출액비율</th>\n",
       "      <th>유동비율</th>\n",
       "      <th>당좌비율</th>\n",
       "      <th>부채비율</th>\n",
       "      <th>...</th>\n",
       "      <th>경영자본회전률</th>\n",
       "      <th>총자본회전률</th>\n",
       "      <th>비유동자산회전률</th>\n",
       "      <th>유동자산회전률</th>\n",
       "      <th>영업년수</th>\n",
       "      <th>도입기</th>\n",
       "      <th>성숙기</th>\n",
       "      <th>성장기</th>\n",
       "      <th>쇠퇴기</th>\n",
       "      <th>부실판단</th>\n",
       "    </tr>\n",
       "  </thead>\n",
       "  <tbody>\n",
       "    <tr>\n",
       "      <th>2144</th>\n",
       "      <td>주식회사제이에스케이</td>\n",
       "      <td>74269</td>\n",
       "      <td>2022</td>\n",
       "      <td>4.91</td>\n",
       "      <td>6.47</td>\n",
       "      <td>3.13</td>\n",
       "      <td>4.43</td>\n",
       "      <td>129.34</td>\n",
       "      <td>97.70</td>\n",
       "      <td>175.91</td>\n",
       "      <td>...</td>\n",
       "      <td>0.79</td>\n",
       "      <td>0.74</td>\n",
       "      <td>1.15</td>\n",
       "      <td>2.07</td>\n",
       "      <td>22.0</td>\n",
       "      <td>0</td>\n",
       "      <td>0</td>\n",
       "      <td>1</td>\n",
       "      <td>0</td>\n",
       "      <td>0.0</td>\n",
       "    </tr>\n",
       "    <tr>\n",
       "      <th>20333</th>\n",
       "      <td>주)에스엠케이인터내셔날</td>\n",
       "      <td>44046</td>\n",
       "      <td>2022</td>\n",
       "      <td>15.93</td>\n",
       "      <td>21.61</td>\n",
       "      <td>5.77</td>\n",
       "      <td>6.63</td>\n",
       "      <td>158.48</td>\n",
       "      <td>136.81</td>\n",
       "      <td>56.84</td>\n",
       "      <td>...</td>\n",
       "      <td>1.18</td>\n",
       "      <td>0.92</td>\n",
       "      <td>2.13</td>\n",
       "      <td>1.61</td>\n",
       "      <td>28.0</td>\n",
       "      <td>1</td>\n",
       "      <td>0</td>\n",
       "      <td>0</td>\n",
       "      <td>0</td>\n",
       "      <td>0.0</td>\n",
       "    </tr>\n",
       "    <tr>\n",
       "      <th>5666</th>\n",
       "      <td>(주)지인터내셔날</td>\n",
       "      <td>86519</td>\n",
       "      <td>2022</td>\n",
       "      <td>152.92</td>\n",
       "      <td>0.00</td>\n",
       "      <td>19.91</td>\n",
       "      <td>17.99</td>\n",
       "      <td>735.78</td>\n",
       "      <td>545.18</td>\n",
       "      <td>14.97</td>\n",
       "      <td>...</td>\n",
       "      <td>1.28</td>\n",
       "      <td>1.27</td>\n",
       "      <td>27.68</td>\n",
       "      <td>1.33</td>\n",
       "      <td>12.0</td>\n",
       "      <td>0</td>\n",
       "      <td>1</td>\n",
       "      <td>0</td>\n",
       "      <td>0</td>\n",
       "      <td>0.0</td>\n",
       "    </tr>\n",
       "    <tr>\n",
       "      <th>15544</th>\n",
       "      <td>(주)엔젤이앤씨</td>\n",
       "      <td>41780</td>\n",
       "      <td>2014</td>\n",
       "      <td>-4.75</td>\n",
       "      <td>-6.61</td>\n",
       "      <td>-1.92</td>\n",
       "      <td>-210.87</td>\n",
       "      <td>14.62</td>\n",
       "      <td>14.62</td>\n",
       "      <td>68.01</td>\n",
       "      <td>...</td>\n",
       "      <td>0.02</td>\n",
       "      <td>0.01</td>\n",
       "      <td>0.01</td>\n",
       "      <td>0.30</td>\n",
       "      <td>46.0</td>\n",
       "      <td>0</td>\n",
       "      <td>0</td>\n",
       "      <td>0</td>\n",
       "      <td>1</td>\n",
       "      <td>1.0</td>\n",
       "    </tr>\n",
       "    <tr>\n",
       "      <th>11401</th>\n",
       "      <td>(주)거봉</td>\n",
       "      <td>61799</td>\n",
       "      <td>2022</td>\n",
       "      <td>3.31</td>\n",
       "      <td>3.78</td>\n",
       "      <td>2.43</td>\n",
       "      <td>8.97</td>\n",
       "      <td>36.36</td>\n",
       "      <td>32.47</td>\n",
       "      <td>274.45</td>\n",
       "      <td>...</td>\n",
       "      <td>0.31</td>\n",
       "      <td>0.28</td>\n",
       "      <td>0.36</td>\n",
       "      <td>1.14</td>\n",
       "      <td>23.0</td>\n",
       "      <td>0</td>\n",
       "      <td>0</td>\n",
       "      <td>1</td>\n",
       "      <td>0</td>\n",
       "      <td>0.0</td>\n",
       "    </tr>\n",
       "    <tr>\n",
       "      <th>...</th>\n",
       "      <td>...</td>\n",
       "      <td>...</td>\n",
       "      <td>...</td>\n",
       "      <td>...</td>\n",
       "      <td>...</td>\n",
       "      <td>...</td>\n",
       "      <td>...</td>\n",
       "      <td>...</td>\n",
       "      <td>...</td>\n",
       "      <td>...</td>\n",
       "      <td>...</td>\n",
       "      <td>...</td>\n",
       "      <td>...</td>\n",
       "      <td>...</td>\n",
       "      <td>...</td>\n",
       "      <td>...</td>\n",
       "      <td>...</td>\n",
       "      <td>...</td>\n",
       "      <td>...</td>\n",
       "      <td>...</td>\n",
       "      <td>...</td>\n",
       "    </tr>\n",
       "    <tr>\n",
       "      <th>1343</th>\n",
       "      <td>주식회사오투</td>\n",
       "      <td>98975</td>\n",
       "      <td>2022</td>\n",
       "      <td>2.23</td>\n",
       "      <td>2.61</td>\n",
       "      <td>1.75</td>\n",
       "      <td>20.92</td>\n",
       "      <td>0.38</td>\n",
       "      <td>0.38</td>\n",
       "      <td>373.07</td>\n",
       "      <td>...</td>\n",
       "      <td>0.08</td>\n",
       "      <td>0.08</td>\n",
       "      <td>0.08</td>\n",
       "      <td>37.17</td>\n",
       "      <td>14.0</td>\n",
       "      <td>0</td>\n",
       "      <td>1</td>\n",
       "      <td>0</td>\n",
       "      <td>0</td>\n",
       "      <td>0.0</td>\n",
       "    </tr>\n",
       "    <tr>\n",
       "      <th>6068</th>\n",
       "      <td>(주)케이티앤씨</td>\n",
       "      <td>19246</td>\n",
       "      <td>2015</td>\n",
       "      <td>-4.73</td>\n",
       "      <td>-6.55</td>\n",
       "      <td>-3.20</td>\n",
       "      <td>-10.38</td>\n",
       "      <td>62.13</td>\n",
       "      <td>44.23</td>\n",
       "      <td>208.08</td>\n",
       "      <td>...</td>\n",
       "      <td>0.37</td>\n",
       "      <td>0.33</td>\n",
       "      <td>0.57</td>\n",
       "      <td>0.78</td>\n",
       "      <td>27.0</td>\n",
       "      <td>1</td>\n",
       "      <td>0</td>\n",
       "      <td>0</td>\n",
       "      <td>0</td>\n",
       "      <td>1.0</td>\n",
       "    </tr>\n",
       "    <tr>\n",
       "      <th>10342</th>\n",
       "      <td>미래문화산업(주)</td>\n",
       "      <td>95391</td>\n",
       "      <td>2021</td>\n",
       "      <td>-0.36</td>\n",
       "      <td>-0.36</td>\n",
       "      <td>-0.36</td>\n",
       "      <td>-27.04</td>\n",
       "      <td>2.26</td>\n",
       "      <td>2.26</td>\n",
       "      <td>18254.67</td>\n",
       "      <td>...</td>\n",
       "      <td>0.02</td>\n",
       "      <td>0.01</td>\n",
       "      <td>0.01</td>\n",
       "      <td>0.45</td>\n",
       "      <td>5.0</td>\n",
       "      <td>1</td>\n",
       "      <td>0</td>\n",
       "      <td>0</td>\n",
       "      <td>0</td>\n",
       "      <td>1.0</td>\n",
       "    </tr>\n",
       "    <tr>\n",
       "      <th>19465</th>\n",
       "      <td>(주)제이앤와이스타일</td>\n",
       "      <td>91318</td>\n",
       "      <td>2022</td>\n",
       "      <td>24.43</td>\n",
       "      <td>29.98</td>\n",
       "      <td>6.79</td>\n",
       "      <td>8.21</td>\n",
       "      <td>98.08</td>\n",
       "      <td>75.69</td>\n",
       "      <td>38.48</td>\n",
       "      <td>...</td>\n",
       "      <td>0.88</td>\n",
       "      <td>0.85</td>\n",
       "      <td>1.12</td>\n",
       "      <td>3.53</td>\n",
       "      <td>13.0</td>\n",
       "      <td>0</td>\n",
       "      <td>0</td>\n",
       "      <td>1</td>\n",
       "      <td>0</td>\n",
       "      <td>0.0</td>\n",
       "    </tr>\n",
       "    <tr>\n",
       "      <th>18927</th>\n",
       "      <td>(주)유앤아이디벨롭먼트</td>\n",
       "      <td>86514</td>\n",
       "      <td>2020</td>\n",
       "      <td>-1737.64</td>\n",
       "      <td>0.00</td>\n",
       "      <td>-17.10</td>\n",
       "      <td>-135.08</td>\n",
       "      <td>13213.26</td>\n",
       "      <td>13213.26</td>\n",
       "      <td>0.99</td>\n",
       "      <td>...</td>\n",
       "      <td>0.12</td>\n",
       "      <td>0.11</td>\n",
       "      <td>1.01</td>\n",
       "      <td>0.13</td>\n",
       "      <td>19.0</td>\n",
       "      <td>0</td>\n",
       "      <td>0</td>\n",
       "      <td>0</td>\n",
       "      <td>1</td>\n",
       "      <td>0.0</td>\n",
       "    </tr>\n",
       "  </tbody>\n",
       "</table>\n",
       "<p>15078 rows × 50 columns</p>\n",
       "</div>"
      ],
      "text/plain": [
       "                회사명  거래소코드  회계년도  CASH FLOW 대 부채비율  CASH FLOW 대 차입금비율  \\\n",
       "2144     주식회사제이에스케이  74269  2022              4.91               6.47   \n",
       "20333  주)에스엠케이인터내셔날  44046  2022             15.93              21.61   \n",
       "5666      (주)지인터내셔날  86519  2022            152.92               0.00   \n",
       "15544      (주)엔젤이앤씨  41780  2014             -4.75              -6.61   \n",
       "11401         (주)거봉  61799  2022              3.31               3.78   \n",
       "...             ...    ...   ...               ...                ...   \n",
       "1343         주식회사오투  98975  2022              2.23               2.61   \n",
       "6068       (주)케이티앤씨  19246  2015             -4.73              -6.55   \n",
       "10342     미래문화산업(주)  95391  2021             -0.36              -0.36   \n",
       "19465   (주)제이앤와이스타일  91318  2022             24.43              29.98   \n",
       "18927  (주)유앤아이디벨롭먼트  86514  2020          -1737.64               0.00   \n",
       "\n",
       "       CASH FLOW 대 총자본비율  CASH FLOW 대 매출액비율      유동비율      당좌비율      부채비율  \\\n",
       "2144                3.13               4.43    129.34     97.70    175.91   \n",
       "20333               5.77               6.63    158.48    136.81     56.84   \n",
       "5666               19.91              17.99    735.78    545.18     14.97   \n",
       "15544              -1.92            -210.87     14.62     14.62     68.01   \n",
       "11401               2.43               8.97     36.36     32.47    274.45   \n",
       "...                  ...                ...       ...       ...       ...   \n",
       "1343                1.75              20.92      0.38      0.38    373.07   \n",
       "6068               -3.20             -10.38     62.13     44.23    208.08   \n",
       "10342              -0.36             -27.04      2.26      2.26  18254.67   \n",
       "19465               6.79               8.21     98.08     75.69     38.48   \n",
       "18927             -17.10            -135.08  13213.26  13213.26      0.99   \n",
       "\n",
       "       ...  경영자본회전률  총자본회전률  비유동자산회전률  유동자산회전률  영업년수  도입기  성숙기  성장기  쇠퇴기  부실판단  \n",
       "2144   ...     0.79    0.74      1.15     2.07  22.0    0    0    1    0   0.0  \n",
       "20333  ...     1.18    0.92      2.13     1.61  28.0    1    0    0    0   0.0  \n",
       "5666   ...     1.28    1.27     27.68     1.33  12.0    0    1    0    0   0.0  \n",
       "15544  ...     0.02    0.01      0.01     0.30  46.0    0    0    0    1   1.0  \n",
       "11401  ...     0.31    0.28      0.36     1.14  23.0    0    0    1    0   0.0  \n",
       "...    ...      ...     ...       ...      ...   ...  ...  ...  ...  ...   ...  \n",
       "1343   ...     0.08    0.08      0.08    37.17  14.0    0    1    0    0   0.0  \n",
       "6068   ...     0.37    0.33      0.57     0.78  27.0    1    0    0    0   1.0  \n",
       "10342  ...     0.02    0.01      0.01     0.45   5.0    1    0    0    0   1.0  \n",
       "19465  ...     0.88    0.85      1.12     3.53  13.0    0    0    1    0   0.0  \n",
       "18927  ...     0.12    0.11      1.01     0.13  19.0    0    0    0    1   0.0  \n",
       "\n",
       "[15078 rows x 50 columns]"
      ]
     },
     "execution_count": 21,
     "metadata": {},
     "output_type": "execute_result"
    }
   ],
   "source": [
    "X_train"
   ]
  },
  {
   "cell_type": "markdown",
   "metadata": {},
   "source": [
    "# Undersampling 표본추출"
   ]
  },
  {
   "cell_type": "code",
   "execution_count": 22,
   "metadata": {},
   "outputs": [],
   "source": [
    "import pandas as pd\n",
    "from imblearn.under_sampling import RandomUnderSampler\n",
    "# 쌍대표본 방식의 언더샘플링 수행\n",
    "sampler = RandomUnderSampler(sampling_strategy='auto', random_state=42)\n",
    "\n",
    "# feature와 label을 하나의 csv 파일로 만들예정"
   ]
  },
  {
   "cell_type": "markdown",
   "metadata": {},
   "source": [
    "도입기 intro"
   ]
  },
  {
   "cell_type": "code",
   "execution_count": 23,
   "metadata": {},
   "outputs": [],
   "source": [
    "intro_X_train = X_train.loc[X_train['도입기'] == 1]\n",
    "intro_y_train = X_train.loc[X_train['도입기'] == 1]['부실판단']\n",
    "intro_X_resampled_train, intro_y_resampled_train = sampler.fit_resample(intro_X_train, intro_y_train)"
   ]
  },
  {
   "cell_type": "code",
   "execution_count": 24,
   "metadata": {},
   "outputs": [
    {
     "data": {
      "text/plain": [
       "도입기  부실판단\n",
       "1    0.0     1298\n",
       "     1.0     1298\n",
       "Name: count, dtype: int64"
      ]
     },
     "execution_count": 24,
     "metadata": {},
     "output_type": "execute_result"
    }
   ],
   "source": [
    "intro_X_resampled_train[['도입기', '부실판단']].value_counts()"
   ]
  },
  {
   "cell_type": "markdown",
   "metadata": {},
   "source": [
    "성장기 growth"
   ]
  },
  {
   "cell_type": "code",
   "execution_count": 25,
   "metadata": {},
   "outputs": [],
   "source": [
    "growth_X_train = X_train.loc[X_train['성장기'] == 1]\n",
    "growth_y_train = X_train.loc[X_train['성장기'] == 1]['부실판단']\n",
    "growth_X_resampled_train, growth_y_resampled_train = sampler.fit_resample(growth_X_train, growth_y_train)"
   ]
  },
  {
   "cell_type": "code",
   "execution_count": 26,
   "metadata": {},
   "outputs": [
    {
     "data": {
      "text/plain": [
       "성장기  부실판단\n",
       "1    0.0     634\n",
       "     1.0     634\n",
       "Name: count, dtype: int64"
      ]
     },
     "execution_count": 26,
     "metadata": {},
     "output_type": "execute_result"
    }
   ],
   "source": [
    "growth_X_resampled_train[['성장기', '부실판단']].value_counts()"
   ]
  },
  {
   "cell_type": "markdown",
   "metadata": {},
   "source": [
    "성숙기 maturity"
   ]
  },
  {
   "cell_type": "code",
   "execution_count": 27,
   "metadata": {},
   "outputs": [],
   "source": [
    "maturity_X_train = X_train.loc[X_train['성숙기'] == 1]\n",
    "maturity_y_train = X_train.loc[X_train['성숙기'] == 1]['부실판단']\n",
    "maturity_X_resampled_train, maturity_y_resampled_train = sampler.fit_resample(maturity_X_train, maturity_y_train)"
   ]
  },
  {
   "cell_type": "code",
   "execution_count": 28,
   "metadata": {},
   "outputs": [
    {
     "data": {
      "text/plain": [
       "성숙기  부실판단\n",
       "1    0.0     932\n",
       "     1.0     932\n",
       "Name: count, dtype: int64"
      ]
     },
     "execution_count": 28,
     "metadata": {},
     "output_type": "execute_result"
    }
   ],
   "source": [
    "maturity_X_resampled_train[['성숙기', '부실판단']].value_counts()"
   ]
  },
  {
   "cell_type": "markdown",
   "metadata": {},
   "source": [
    "쇠퇴기 decline"
   ]
  },
  {
   "cell_type": "code",
   "execution_count": 29,
   "metadata": {},
   "outputs": [],
   "source": [
    "decline_X_train = X_train.loc[X_train['쇠퇴기'] == 1]\n",
    "decline_y_train = X_train.loc[X_train['쇠퇴기'] == 1]['부실판단']\n",
    "decline_X_resampled_train, decline_y_resampled_train = sampler.fit_resample(decline_X_train, decline_y_train)"
   ]
  },
  {
   "cell_type": "code",
   "execution_count": 30,
   "metadata": {},
   "outputs": [
    {
     "data": {
      "text/plain": [
       "쇠퇴기  부실판단\n",
       "1    0.0     1474\n",
       "     1.0     1474\n",
       "Name: count, dtype: int64"
      ]
     },
     "execution_count": 30,
     "metadata": {},
     "output_type": "execute_result"
    }
   ],
   "source": [
    "decline_X_resampled_train[['쇠퇴기', '부실판단']].value_counts()"
   ]
  },
  {
   "cell_type": "markdown",
   "metadata": {},
   "source": [
    "# make csv file"
   ]
  },
  {
   "cell_type": "markdown",
   "metadata": {},
   "source": [
    "concat"
   ]
  },
  {
   "cell_type": "code",
   "execution_count": 31,
   "metadata": {},
   "outputs": [],
   "source": [
    "train_data = pd.concat([intro_X_resampled_train, growth_X_resampled_train, maturity_X_resampled_train, decline_X_resampled_train], axis=0, ignore_index=True)"
   ]
  },
  {
   "cell_type": "code",
   "execution_count": 32,
   "metadata": {},
   "outputs": [
    {
     "data": {
      "text/plain": [
       "쇠퇴기  부실판단\n",
       "0    0.0     2864\n",
       "     1.0     2864\n",
       "1    0.0     1474\n",
       "     1.0     1474\n",
       "Name: count, dtype: int64"
      ]
     },
     "execution_count": 32,
     "metadata": {},
     "output_type": "execute_result"
    }
   ],
   "source": [
    "train_data[['쇠퇴기', '부실판단']].value_counts()"
   ]
  },
  {
   "cell_type": "code",
   "execution_count": 33,
   "metadata": {},
   "outputs": [],
   "source": [
    "X_test['부실판단'] = y_test"
   ]
  },
  {
   "cell_type": "markdown",
   "metadata": {},
   "source": [
    "to_csv"
   ]
  },
  {
   "cell_type": "code",
   "execution_count": 34,
   "metadata": {},
   "outputs": [],
   "source": [
    "train_data.to_csv(\"./unlisted_resampled_train_data.csv\", index=False)"
   ]
  },
  {
   "cell_type": "code",
   "execution_count": 35,
   "metadata": {},
   "outputs": [],
   "source": [
    "X_test.to_csv(\"./unlisted_test_data.csv\", index=False)"
   ]
  }
 ],
 "metadata": {
  "kernelspec": {
   "display_name": "Python 3",
   "language": "python",
   "name": "python3"
  },
  "language_info": {
   "codemirror_mode": {
    "name": "ipython",
    "version": 3
   },
   "file_extension": ".py",
   "mimetype": "text/x-python",
   "name": "python",
   "nbconvert_exporter": "python",
   "pygments_lexer": "ipython3",
   "version": "3.11.5"
  }
 },
 "nbformat": 4,
 "nbformat_minor": 2
}
